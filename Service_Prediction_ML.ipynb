{
  "nbformat": 4,
  "nbformat_minor": 0,
  "metadata": {
    "colab": {
      "name": "2017131219_윤정인_프로젝트.ipynb",
      "provenance": [],
      "collapsed_sections": [
        "R6VT6beNKJuK",
        "vJjyRWE4Ci89",
        "z2hSUNpY1EsT",
        "faULo3sH2eKw",
        "MpcKgF8aM7L0",
        "1DOFzZlxOfac",
        "FwqotcuOmpaJ",
        "HK3laYwbmvmA",
        "6daKwe6S9bMK",
        "v2lPfQZE-lsr",
        "dhBE98mxEbmS",
        "gWOVUc4lFsnK",
        "lHBj2sq0nuR5"
      ]
    },
    "kernelspec": {
      "name": "python3",
      "display_name": "Python 3"
    },
    "language_info": {
      "name": "python"
    },
    "accelerator": "TPU"
  },
  "cells": [
    {
      "cell_type": "markdown",
      "source": [
        "#**기계학습 기말 프로젝트** \n",
        "2017131219 윤정인"
      ],
      "metadata": {
        "id": "hI77IESWCnFs"
      }
    },
    {
      "cell_type": "markdown",
      "source": [
        "# 1. 실험 내용에 대한 전체 요약"
      ],
      "metadata": {
        "id": "J-Jn8OPBCybu"
      }
    },
    {
      "cell_type": "markdown",
      "source": [
        "고객 서비스 해지 여부를 예측하는 것으로, 각 고객별 다양한 특성들을 기반으로 binary classifcation을 진행하였다. 데이터 전처리는 Label Encoding, normalization, 결측값 대체, 불필요한 feature 제거 등으로 이루어졌다. 데이터의 선형성 여부를 비교하기 위해 Logistic Regression, MLP, RandomForest의 세 모델을 사용하였다. 실험은 feature selection을 하지 않은 상태와 featue selection을 모델 기반 특성 선택과, 반복적 특성 선택 두가지 방식을 진행한 후에 GidSerachCV를 이용해 최적화 모델을 생성하여 진행하였다. 이 데이터는 class가 imbalanced 되어있기 때문에 성능을 accuracy만으로 판단하기 힘들어 confusion matrix, f1_score, ROC, AUC 등을 활용하여 성능 비교 분석을 진행하였다.\n",
        "\n",
        "\n",
        "실험 분석 결과, 세가지 실험(no feature selection, model based feature selection, iterative feature selection)에서 Logistic Regression이 평균적으로 가장 높은 성능을 보여주었다. 그리고 RandomForest 모델의 경우는 model based feature selection 이후 상대적으로 큰 성능 향상을 보여주었다. 그리고 feature의 수를 19개에서 15개, 10개로 줄여가며 진행했을 때, 10개로 줄였을 때 나머지 두 모델과는 달리 MLP는 AUC 측면에서의 성능 향상을 보여주었다. "
      ],
      "metadata": {
        "id": "vhAyhTSsP_DH"
      }
    },
    {
      "cell_type": "markdown",
      "source": [
        "# 2. 선정한 데이터에 대한 설명 및 데이터 url"
      ],
      "metadata": {
        "id": "QchqYSd9C5jd"
      }
    },
    {
      "cell_type": "code",
      "source": [
        "import matplotlib.pyplot as plt\n",
        "import seaborn as sns\n",
        "import numpy as np\n",
        "import pandas as pd\n",
        "from sklearn.metrics import accuracy_score, recall_score, precision_score, f1_score\n",
        "from sklearn.model_selection import GridSearchCV, KFold\n",
        "from sklearn.linear_model import LogisticRegression\n",
        "from sklearn.neural_network import MLPClassifier\n",
        "from sklearn.ensemble import RandomForestClassifier\n",
        "from sklearn.metrics import confusion_matrix, plot_confusion_matrix, roc_curve, roc_auc_score, auc"
      ],
      "metadata": {
        "id": "jT8NVPEvBq0j"
      },
      "execution_count": null,
      "outputs": []
    },
    {
      "cell_type": "code",
      "execution_count": null,
      "metadata": {
        "id": "0gLbcZrFBh5p"
      },
      "outputs": [],
      "source": [
        "data_url='https://raw.githubusercontent.com/wjddls0828/yjiproject/master/Telco-Customer-Churn.csv'\n",
        "df=pd.read_csv(data_url)"
      ]
    },
    {
      "cell_type": "code",
      "source": [
        "df.head()"
      ],
      "metadata": {
        "id": "nYdF3l8IV-BX",
        "colab": {
          "base_uri": "https://localhost:8080/",
          "height": 357
        },
        "outputId": "b9a3d888-1106-4726-8016-2f628e013e2b"
      },
      "execution_count": null,
      "outputs": [
        {
          "output_type": "execute_result",
          "data": {
            "text/html": [
              "\n",
              "  <div id=\"df-8f9bb1bd-6127-448b-9aee-3a820efeeb4c\">\n",
              "    <div class=\"colab-df-container\">\n",
              "      <div>\n",
              "<style scoped>\n",
              "    .dataframe tbody tr th:only-of-type {\n",
              "        vertical-align: middle;\n",
              "    }\n",
              "\n",
              "    .dataframe tbody tr th {\n",
              "        vertical-align: top;\n",
              "    }\n",
              "\n",
              "    .dataframe thead th {\n",
              "        text-align: right;\n",
              "    }\n",
              "</style>\n",
              "<table border=\"1\" class=\"dataframe\">\n",
              "  <thead>\n",
              "    <tr style=\"text-align: right;\">\n",
              "      <th></th>\n",
              "      <th>customerID</th>\n",
              "      <th>gender</th>\n",
              "      <th>SeniorCitizen</th>\n",
              "      <th>Partner</th>\n",
              "      <th>Dependents</th>\n",
              "      <th>tenure</th>\n",
              "      <th>PhoneService</th>\n",
              "      <th>MultipleLines</th>\n",
              "      <th>InternetService</th>\n",
              "      <th>OnlineSecurity</th>\n",
              "      <th>OnlineBackup</th>\n",
              "      <th>DeviceProtection</th>\n",
              "      <th>TechSupport</th>\n",
              "      <th>StreamingTV</th>\n",
              "      <th>StreamingMovies</th>\n",
              "      <th>Contract</th>\n",
              "      <th>PaperlessBilling</th>\n",
              "      <th>PaymentMethod</th>\n",
              "      <th>MonthlyCharges</th>\n",
              "      <th>TotalCharges</th>\n",
              "      <th>Churn</th>\n",
              "    </tr>\n",
              "  </thead>\n",
              "  <tbody>\n",
              "    <tr>\n",
              "      <th>0</th>\n",
              "      <td>7590-VHVEG</td>\n",
              "      <td>Female</td>\n",
              "      <td>0</td>\n",
              "      <td>Yes</td>\n",
              "      <td>No</td>\n",
              "      <td>1</td>\n",
              "      <td>No</td>\n",
              "      <td>No phone service</td>\n",
              "      <td>DSL</td>\n",
              "      <td>No</td>\n",
              "      <td>Yes</td>\n",
              "      <td>No</td>\n",
              "      <td>No</td>\n",
              "      <td>No</td>\n",
              "      <td>No</td>\n",
              "      <td>Month-to-month</td>\n",
              "      <td>Yes</td>\n",
              "      <td>Electronic check</td>\n",
              "      <td>29.85</td>\n",
              "      <td>29.85</td>\n",
              "      <td>No</td>\n",
              "    </tr>\n",
              "    <tr>\n",
              "      <th>1</th>\n",
              "      <td>5575-GNVDE</td>\n",
              "      <td>Male</td>\n",
              "      <td>0</td>\n",
              "      <td>No</td>\n",
              "      <td>No</td>\n",
              "      <td>34</td>\n",
              "      <td>Yes</td>\n",
              "      <td>No</td>\n",
              "      <td>DSL</td>\n",
              "      <td>Yes</td>\n",
              "      <td>No</td>\n",
              "      <td>Yes</td>\n",
              "      <td>No</td>\n",
              "      <td>No</td>\n",
              "      <td>No</td>\n",
              "      <td>One year</td>\n",
              "      <td>No</td>\n",
              "      <td>Mailed check</td>\n",
              "      <td>56.95</td>\n",
              "      <td>1889.5</td>\n",
              "      <td>No</td>\n",
              "    </tr>\n",
              "    <tr>\n",
              "      <th>2</th>\n",
              "      <td>3668-QPYBK</td>\n",
              "      <td>Male</td>\n",
              "      <td>0</td>\n",
              "      <td>No</td>\n",
              "      <td>No</td>\n",
              "      <td>2</td>\n",
              "      <td>Yes</td>\n",
              "      <td>No</td>\n",
              "      <td>DSL</td>\n",
              "      <td>Yes</td>\n",
              "      <td>Yes</td>\n",
              "      <td>No</td>\n",
              "      <td>No</td>\n",
              "      <td>No</td>\n",
              "      <td>No</td>\n",
              "      <td>Month-to-month</td>\n",
              "      <td>Yes</td>\n",
              "      <td>Mailed check</td>\n",
              "      <td>53.85</td>\n",
              "      <td>108.15</td>\n",
              "      <td>Yes</td>\n",
              "    </tr>\n",
              "    <tr>\n",
              "      <th>3</th>\n",
              "      <td>7795-CFOCW</td>\n",
              "      <td>Male</td>\n",
              "      <td>0</td>\n",
              "      <td>No</td>\n",
              "      <td>No</td>\n",
              "      <td>45</td>\n",
              "      <td>No</td>\n",
              "      <td>No phone service</td>\n",
              "      <td>DSL</td>\n",
              "      <td>Yes</td>\n",
              "      <td>No</td>\n",
              "      <td>Yes</td>\n",
              "      <td>Yes</td>\n",
              "      <td>No</td>\n",
              "      <td>No</td>\n",
              "      <td>One year</td>\n",
              "      <td>No</td>\n",
              "      <td>Bank transfer (automatic)</td>\n",
              "      <td>42.30</td>\n",
              "      <td>1840.75</td>\n",
              "      <td>No</td>\n",
              "    </tr>\n",
              "    <tr>\n",
              "      <th>4</th>\n",
              "      <td>9237-HQITU</td>\n",
              "      <td>Female</td>\n",
              "      <td>0</td>\n",
              "      <td>No</td>\n",
              "      <td>No</td>\n",
              "      <td>2</td>\n",
              "      <td>Yes</td>\n",
              "      <td>No</td>\n",
              "      <td>Fiber optic</td>\n",
              "      <td>No</td>\n",
              "      <td>No</td>\n",
              "      <td>No</td>\n",
              "      <td>No</td>\n",
              "      <td>No</td>\n",
              "      <td>No</td>\n",
              "      <td>Month-to-month</td>\n",
              "      <td>Yes</td>\n",
              "      <td>Electronic check</td>\n",
              "      <td>70.70</td>\n",
              "      <td>151.65</td>\n",
              "      <td>Yes</td>\n",
              "    </tr>\n",
              "  </tbody>\n",
              "</table>\n",
              "</div>\n",
              "      <button class=\"colab-df-convert\" onclick=\"convertToInteractive('df-8f9bb1bd-6127-448b-9aee-3a820efeeb4c')\"\n",
              "              title=\"Convert this dataframe to an interactive table.\"\n",
              "              style=\"display:none;\">\n",
              "        \n",
              "  <svg xmlns=\"http://www.w3.org/2000/svg\" height=\"24px\"viewBox=\"0 0 24 24\"\n",
              "       width=\"24px\">\n",
              "    <path d=\"M0 0h24v24H0V0z\" fill=\"none\"/>\n",
              "    <path d=\"M18.56 5.44l.94 2.06.94-2.06 2.06-.94-2.06-.94-.94-2.06-.94 2.06-2.06.94zm-11 1L8.5 8.5l.94-2.06 2.06-.94-2.06-.94L8.5 2.5l-.94 2.06-2.06.94zm10 10l.94 2.06.94-2.06 2.06-.94-2.06-.94-.94-2.06-.94 2.06-2.06.94z\"/><path d=\"M17.41 7.96l-1.37-1.37c-.4-.4-.92-.59-1.43-.59-.52 0-1.04.2-1.43.59L10.3 9.45l-7.72 7.72c-.78.78-.78 2.05 0 2.83L4 21.41c.39.39.9.59 1.41.59.51 0 1.02-.2 1.41-.59l7.78-7.78 2.81-2.81c.8-.78.8-2.07 0-2.86zM5.41 20L4 18.59l7.72-7.72 1.47 1.35L5.41 20z\"/>\n",
              "  </svg>\n",
              "      </button>\n",
              "      \n",
              "  <style>\n",
              "    .colab-df-container {\n",
              "      display:flex;\n",
              "      flex-wrap:wrap;\n",
              "      gap: 12px;\n",
              "    }\n",
              "\n",
              "    .colab-df-convert {\n",
              "      background-color: #E8F0FE;\n",
              "      border: none;\n",
              "      border-radius: 50%;\n",
              "      cursor: pointer;\n",
              "      display: none;\n",
              "      fill: #1967D2;\n",
              "      height: 32px;\n",
              "      padding: 0 0 0 0;\n",
              "      width: 32px;\n",
              "    }\n",
              "\n",
              "    .colab-df-convert:hover {\n",
              "      background-color: #E2EBFA;\n",
              "      box-shadow: 0px 1px 2px rgba(60, 64, 67, 0.3), 0px 1px 3px 1px rgba(60, 64, 67, 0.15);\n",
              "      fill: #174EA6;\n",
              "    }\n",
              "\n",
              "    [theme=dark] .colab-df-convert {\n",
              "      background-color: #3B4455;\n",
              "      fill: #D2E3FC;\n",
              "    }\n",
              "\n",
              "    [theme=dark] .colab-df-convert:hover {\n",
              "      background-color: #434B5C;\n",
              "      box-shadow: 0px 1px 3px 1px rgba(0, 0, 0, 0.15);\n",
              "      filter: drop-shadow(0px 1px 2px rgba(0, 0, 0, 0.3));\n",
              "      fill: #FFFFFF;\n",
              "    }\n",
              "  </style>\n",
              "\n",
              "      <script>\n",
              "        const buttonEl =\n",
              "          document.querySelector('#df-8f9bb1bd-6127-448b-9aee-3a820efeeb4c button.colab-df-convert');\n",
              "        buttonEl.style.display =\n",
              "          google.colab.kernel.accessAllowed ? 'block' : 'none';\n",
              "\n",
              "        async function convertToInteractive(key) {\n",
              "          const element = document.querySelector('#df-8f9bb1bd-6127-448b-9aee-3a820efeeb4c');\n",
              "          const dataTable =\n",
              "            await google.colab.kernel.invokeFunction('convertToInteractive',\n",
              "                                                     [key], {});\n",
              "          if (!dataTable) return;\n",
              "\n",
              "          const docLinkHtml = 'Like what you see? Visit the ' +\n",
              "            '<a target=\"_blank\" href=https://colab.research.google.com/notebooks/data_table.ipynb>data table notebook</a>'\n",
              "            + ' to learn more about interactive tables.';\n",
              "          element.innerHTML = '';\n",
              "          dataTable['output_type'] = 'display_data';\n",
              "          await google.colab.output.renderOutput(dataTable, element);\n",
              "          const docLink = document.createElement('div');\n",
              "          docLink.innerHTML = docLinkHtml;\n",
              "          element.appendChild(docLink);\n",
              "        }\n",
              "      </script>\n",
              "    </div>\n",
              "  </div>\n",
              "  "
            ],
            "text/plain": [
              "   customerID  gender  SeniorCitizen  ... MonthlyCharges TotalCharges  Churn\n",
              "0  7590-VHVEG  Female              0  ...          29.85        29.85     No\n",
              "1  5575-GNVDE    Male              0  ...          56.95       1889.5     No\n",
              "2  3668-QPYBK    Male              0  ...          53.85       108.15    Yes\n",
              "3  7795-CFOCW    Male              0  ...          42.30      1840.75     No\n",
              "4  9237-HQITU  Female              0  ...          70.70       151.65    Yes\n",
              "\n",
              "[5 rows x 21 columns]"
            ]
          },
          "metadata": {},
          "execution_count": 3
        }
      ]
    },
    {
      "cell_type": "markdown",
      "source": [
        "\n",
        "**1. 선정한 데이터 url:** \n",
        "https://www.kaggle.com/blastchar/telco-customer-churn\n",
        "<br><br>\n",
        "**2. 데이터 설명**<br>\n",
        "  'telco-customer-churn'은 고객들의 특성별 가입 고객 해지 여부를 나타내는 데이터이다. 20개의 feature와 7043개의 instance로 구성되어 있다. 'Churn' 컬럼이 고객의 서비스 해지 여부를 나타내는 클래스로 yes, no의 binary classification을 진행할 수 있는 데이터이다. 주의해야 할 점은 이 데이터는 target class인 Churn 여부가 no의 instance는 5174개, yes는 1869개이므로 성능을 확인할 때 단순 accuracy로 확인하지 않고, f1score, confusion matrix 분석 등의 다양한 방식을 진행해야 한다. \n",
        "<br><br>\n",
        "\n",
        "**3. 데이터 column 설명**\n",
        "  * 'customerID': 고객 ID\n",
        "    * male: 50%<br>female: 50%\n",
        "  * 'gender': 고객 성별\n",
        "  * 'SeniorCitizen': senior citizen 여부\n",
        "  * 'Partner': partner 존재 여부\n",
        "  * 'Dependents': dependents 존재 여부\n",
        "  * 'tenure': 회사에 머문 개월\n",
        "  * 'PhoneService': phone servive 받는지 여부\n",
        "  * 'MultipleLines': multiple line 소유 여부\n",
        "    * values: (Yes, No, No phone service)\n",
        "    * no: 48%<br>yes: 42%<br>other: 10%\n",
        "  * 'InternetService': 고객의 인터넷 서비스 제공자\n",
        "    * values: (DSL, Fiber optic, No)\n",
        "    * Fiber optic: 44%<br>DSL: 34%<br>other: 22%\n",
        "  * 'OnlineSecurity': 고객이 online security를 가지고 있는지 여부\n",
        "    * values:(Yes, No, No internet service)\n",
        "    * No: 50%<br>Yes: 29%<br>Other: 22%\n",
        "  * 'OnlineBackup': 고객의 online backup 소유 여부\n",
        "    * values: (Yes, No, No internet service)\n",
        "    * No: 44%<br>Yes: 34% <br>Other: 22%\n",
        "  * 'DeviceProtection': 고객의 device protection 소유 여부\n",
        "    * values: (Yes, No, No internet service)\n",
        "    * No: 44%<br>Yes: 34% <br>Other: 22%\n",
        "  * 'TechSupport': tech support 소유 여부\n",
        "    * values: (Yes, No, No internet service)\n",
        "    * No: 49%<br>Yes: 29%<br>Other: 22%\n",
        "  * 'StreamingTV': TV 스트리밍여부\n",
        "    * values: (Yes, No, No internet service)\n",
        "    * No: 40% <br> Yes: 38% <br>other: 22%\n",
        "  * 'StreamingMovies': 영화 스트리밍 여부\n",
        "    * values:  (Yes, No, No internet service)\n",
        "    * No: 40%<br> Yes: 39%<br>Other: 22%\n",
        "  * 'Contract': 고객의 계약 기간\n",
        "    * values: (Month-to-month, One year, Two year)\n",
        "    * Month-to-month: 55% <br>Two year: 24% <br>Other: 21%\n",
        "  * 'PaperlessBilling':고객의 paperless billing 소유 여부\n",
        "    * values: (Yes, No)\n",
        "  * 'PaymentMethod': 고객의 지불 수단\n",
        "    * values: (Electronic check, Mailed check, Bank transfer (automatic), Credit card (automatic))\n",
        "    * Electronic check: 34% <br> Mailed check: 23%\n",
        "  * 'MonthlyCharges': 고객에게 월별로 청구되는 금액\n",
        "  * 'TotalCharges': 고객에게 청구되는 총 금액\n",
        "\n",
        "\n"
      ],
      "metadata": {
        "id": "DH45LrAhDSvX"
      }
    },
    {
      "cell_type": "code",
      "source": [
        "df.columns"
      ],
      "metadata": {
        "id": "xXfEJWsvWSoe",
        "colab": {
          "base_uri": "https://localhost:8080/"
        },
        "outputId": "6f937439-845b-47cb-d251-db6cba32604c"
      },
      "execution_count": null,
      "outputs": [
        {
          "output_type": "execute_result",
          "data": {
            "text/plain": [
              "Index(['customerID', 'gender', 'SeniorCitizen', 'Partner', 'Dependents',\n",
              "       'tenure', 'PhoneService', 'MultipleLines', 'InternetService',\n",
              "       'OnlineSecurity', 'OnlineBackup', 'DeviceProtection', 'TechSupport',\n",
              "       'StreamingTV', 'StreamingMovies', 'Contract', 'PaperlessBilling',\n",
              "       'PaymentMethod', 'MonthlyCharges', 'TotalCharges', 'Churn'],\n",
              "      dtype='object')"
            ]
          },
          "metadata": {},
          "execution_count": 4
        }
      ]
    },
    {
      "cell_type": "markdown",
      "source": [
        "# 3. 실험 진행\n"
      ],
      "metadata": {
        "id": "UwO1bOVOEBNM"
      }
    },
    {
      "cell_type": "markdown",
      "source": [
        "##3-1) 데이터 전처리"
      ],
      "metadata": {
        "id": "1QHpWM4vFEKh"
      }
    },
    {
      "cell_type": "markdown",
      "source": [
        "\n",
        "\n",
        "1. object type인 feature들을 LabelEncoder를 사용해서 정수형으로 인코딩을 \n",
        "해주었다. 그리고 TotalCharges의 경우 이미 데이터가 실수값이 들어가있음에도 dtype이 object이므로 해당 컬럼은 float형으로 따로 변환을 진행하였다.\n",
        "\n",
        "\n",
        "2. Totalchages 컬럼에는 결측값이 존재하였는데, 이를 해당 컬럼의 평균값으로 대체하는 처리를 진행하였다.\n",
        "\n",
        "3. tenure,MonthlyCharges\tTotalCharges의 feature의 경우는 모두 numeric 값인데 값의 범위가 차이가 있기에 StandardScaler를 활용해서 normalization을 시켜주었다.\n",
        "\n",
        "4. customerID feature는 개별 고객을 식별할 수 있는 Identification number이기 때문에 ID code problem을 야기하여 overfitting을 유발할 수 있는 feature임으로 X data로부터 제거하였다.\n",
        "\n"
      ],
      "metadata": {
        "id": "mQzMvRcOcEmW"
      }
    },
    {
      "cell_type": "code",
      "source": [
        "df.dtypes"
      ],
      "metadata": {
        "id": "RPm72k7vbAPt",
        "colab": {
          "base_uri": "https://localhost:8080/"
        },
        "outputId": "550cb43e-b625-4f7d-a8a7-831c200276ae"
      },
      "execution_count": null,
      "outputs": [
        {
          "output_type": "execute_result",
          "data": {
            "text/plain": [
              "customerID           object\n",
              "gender               object\n",
              "SeniorCitizen         int64\n",
              "Partner              object\n",
              "Dependents           object\n",
              "tenure                int64\n",
              "PhoneService         object\n",
              "MultipleLines        object\n",
              "InternetService      object\n",
              "OnlineSecurity       object\n",
              "OnlineBackup         object\n",
              "DeviceProtection     object\n",
              "TechSupport          object\n",
              "StreamingTV          object\n",
              "StreamingMovies      object\n",
              "Contract             object\n",
              "PaperlessBilling     object\n",
              "PaymentMethod        object\n",
              "MonthlyCharges      float64\n",
              "TotalCharges         object\n",
              "Churn                object\n",
              "dtype: object"
            ]
          },
          "metadata": {},
          "execution_count": 5
        }
      ]
    },
    {
      "cell_type": "code",
      "source": [
        "# object type인 feature를 정수형으로 인코딩\n",
        "from sklearn.preprocessing import LabelEncoder\n",
        "le = LabelEncoder()\n",
        "list1=['customerID', 'gender', 'Partner', 'Dependents','PhoneService', 'MultipleLines', 'InternetService','OnlineSecurity', 'OnlineBackup', 'DeviceProtection', 'TechSupport',\n",
        "       'StreamingTV', 'StreamingMovies', 'Contract', 'PaperlessBilling','PaymentMethod','Churn']\n",
        "for x in list1:\n",
        "  df.loc[:,x]=le.fit_transform(df.loc[:,x])"
      ],
      "metadata": {
        "id": "M47S7dnvWLID"
      },
      "execution_count": null,
      "outputs": []
    },
    {
      "cell_type": "code",
      "source": [
        "# object type인 columns을 float로 타입 변경\n",
        "df['TotalCharges'] = pd.to_numeric(df['TotalCharges'],errors = 'coerce')"
      ],
      "metadata": {
        "id": "ihIZvxZmb64X"
      },
      "execution_count": null,
      "outputs": []
    },
    {
      "cell_type": "code",
      "source": [
        "df.dtypes"
      ],
      "metadata": {
        "id": "hZZ0liO1dpWD",
        "colab": {
          "base_uri": "https://localhost:8080/"
        },
        "outputId": "b2be47a0-36c1-4483-8f60-9d5bf95b428c"
      },
      "execution_count": null,
      "outputs": [
        {
          "output_type": "execute_result",
          "data": {
            "text/plain": [
              "customerID            int64\n",
              "gender                int64\n",
              "SeniorCitizen         int64\n",
              "Partner               int64\n",
              "Dependents            int64\n",
              "tenure                int64\n",
              "PhoneService          int64\n",
              "MultipleLines         int64\n",
              "InternetService       int64\n",
              "OnlineSecurity        int64\n",
              "OnlineBackup          int64\n",
              "DeviceProtection      int64\n",
              "TechSupport           int64\n",
              "StreamingTV           int64\n",
              "StreamingMovies       int64\n",
              "Contract              int64\n",
              "PaperlessBilling      int64\n",
              "PaymentMethod         int64\n",
              "MonthlyCharges      float64\n",
              "TotalCharges        float64\n",
              "Churn                 int64\n",
              "dtype: object"
            ]
          },
          "metadata": {},
          "execution_count": 8
        }
      ]
    },
    {
      "cell_type": "code",
      "source": [
        "# TotalCharges에 결측값 존재 확인\n",
        "df.isnull().sum()"
      ],
      "metadata": {
        "id": "F_2QpPa8cqJa",
        "colab": {
          "base_uri": "https://localhost:8080/"
        },
        "outputId": "51e55c3e-562e-47f0-882b-ffeb7554f881"
      },
      "execution_count": null,
      "outputs": [
        {
          "output_type": "execute_result",
          "data": {
            "text/plain": [
              "customerID           0\n",
              "gender               0\n",
              "SeniorCitizen        0\n",
              "Partner              0\n",
              "Dependents           0\n",
              "tenure               0\n",
              "PhoneService         0\n",
              "MultipleLines        0\n",
              "InternetService      0\n",
              "OnlineSecurity       0\n",
              "OnlineBackup         0\n",
              "DeviceProtection     0\n",
              "TechSupport          0\n",
              "StreamingTV          0\n",
              "StreamingMovies      0\n",
              "Contract             0\n",
              "PaperlessBilling     0\n",
              "PaymentMethod        0\n",
              "MonthlyCharges       0\n",
              "TotalCharges        11\n",
              "Churn                0\n",
              "dtype: int64"
            ]
          },
          "metadata": {},
          "execution_count": 9
        }
      ]
    },
    {
      "cell_type": "code",
      "source": [
        "# 결측치를 그 column의 평균으로 대체\n",
        "df.fillna(df.mean(),inplace=True)"
      ],
      "metadata": {
        "id": "QrddeNdfdKxa"
      },
      "execution_count": null,
      "outputs": []
    },
    {
      "cell_type": "code",
      "source": [
        "# 결측치 제거됨 확인\n",
        "df.isnull().sum()"
      ],
      "metadata": {
        "id": "Rq2cJBwJdZmy",
        "colab": {
          "base_uri": "https://localhost:8080/"
        },
        "outputId": "77be22ac-076b-4e7e-fbfb-72b469e7ab4d"
      },
      "execution_count": null,
      "outputs": [
        {
          "output_type": "execute_result",
          "data": {
            "text/plain": [
              "customerID          0\n",
              "gender              0\n",
              "SeniorCitizen       0\n",
              "Partner             0\n",
              "Dependents          0\n",
              "tenure              0\n",
              "PhoneService        0\n",
              "MultipleLines       0\n",
              "InternetService     0\n",
              "OnlineSecurity      0\n",
              "OnlineBackup        0\n",
              "DeviceProtection    0\n",
              "TechSupport         0\n",
              "StreamingTV         0\n",
              "StreamingMovies     0\n",
              "Contract            0\n",
              "PaperlessBilling    0\n",
              "PaymentMethod       0\n",
              "MonthlyCharges      0\n",
              "TotalCharges        0\n",
              "Churn               0\n",
              "dtype: int64"
            ]
          },
          "metadata": {},
          "execution_count": 11
        }
      ]
    },
    {
      "cell_type": "code",
      "source": [
        "# tenure,MonthlyCharges\tTotalCharges는 범위가 다른 continuous값이므로 스케일 조정(normalization)\n",
        "df[['tenure','MonthlyCharges','TotalCharges']].describe()"
      ],
      "metadata": {
        "id": "feeit2zofEqo",
        "colab": {
          "base_uri": "https://localhost:8080/",
          "height": 300
        },
        "outputId": "18f29fd8-962b-4999-9656-9ee08d2d2ece"
      },
      "execution_count": null,
      "outputs": [
        {
          "output_type": "execute_result",
          "data": {
            "text/html": [
              "\n",
              "  <div id=\"df-9295d933-d6d9-4dc9-a387-3fda7f8e25e2\">\n",
              "    <div class=\"colab-df-container\">\n",
              "      <div>\n",
              "<style scoped>\n",
              "    .dataframe tbody tr th:only-of-type {\n",
              "        vertical-align: middle;\n",
              "    }\n",
              "\n",
              "    .dataframe tbody tr th {\n",
              "        vertical-align: top;\n",
              "    }\n",
              "\n",
              "    .dataframe thead th {\n",
              "        text-align: right;\n",
              "    }\n",
              "</style>\n",
              "<table border=\"1\" class=\"dataframe\">\n",
              "  <thead>\n",
              "    <tr style=\"text-align: right;\">\n",
              "      <th></th>\n",
              "      <th>tenure</th>\n",
              "      <th>MonthlyCharges</th>\n",
              "      <th>TotalCharges</th>\n",
              "    </tr>\n",
              "  </thead>\n",
              "  <tbody>\n",
              "    <tr>\n",
              "      <th>count</th>\n",
              "      <td>7043.000000</td>\n",
              "      <td>7043.000000</td>\n",
              "      <td>7043.000000</td>\n",
              "    </tr>\n",
              "    <tr>\n",
              "      <th>mean</th>\n",
              "      <td>32.371149</td>\n",
              "      <td>64.761692</td>\n",
              "      <td>2283.300441</td>\n",
              "    </tr>\n",
              "    <tr>\n",
              "      <th>std</th>\n",
              "      <td>24.559481</td>\n",
              "      <td>30.090047</td>\n",
              "      <td>2265.000258</td>\n",
              "    </tr>\n",
              "    <tr>\n",
              "      <th>min</th>\n",
              "      <td>0.000000</td>\n",
              "      <td>18.250000</td>\n",
              "      <td>18.800000</td>\n",
              "    </tr>\n",
              "    <tr>\n",
              "      <th>25%</th>\n",
              "      <td>9.000000</td>\n",
              "      <td>35.500000</td>\n",
              "      <td>402.225000</td>\n",
              "    </tr>\n",
              "    <tr>\n",
              "      <th>50%</th>\n",
              "      <td>29.000000</td>\n",
              "      <td>70.350000</td>\n",
              "      <td>1400.550000</td>\n",
              "    </tr>\n",
              "    <tr>\n",
              "      <th>75%</th>\n",
              "      <td>55.000000</td>\n",
              "      <td>89.850000</td>\n",
              "      <td>3786.600000</td>\n",
              "    </tr>\n",
              "    <tr>\n",
              "      <th>max</th>\n",
              "      <td>72.000000</td>\n",
              "      <td>118.750000</td>\n",
              "      <td>8684.800000</td>\n",
              "    </tr>\n",
              "  </tbody>\n",
              "</table>\n",
              "</div>\n",
              "      <button class=\"colab-df-convert\" onclick=\"convertToInteractive('df-9295d933-d6d9-4dc9-a387-3fda7f8e25e2')\"\n",
              "              title=\"Convert this dataframe to an interactive table.\"\n",
              "              style=\"display:none;\">\n",
              "        \n",
              "  <svg xmlns=\"http://www.w3.org/2000/svg\" height=\"24px\"viewBox=\"0 0 24 24\"\n",
              "       width=\"24px\">\n",
              "    <path d=\"M0 0h24v24H0V0z\" fill=\"none\"/>\n",
              "    <path d=\"M18.56 5.44l.94 2.06.94-2.06 2.06-.94-2.06-.94-.94-2.06-.94 2.06-2.06.94zm-11 1L8.5 8.5l.94-2.06 2.06-.94-2.06-.94L8.5 2.5l-.94 2.06-2.06.94zm10 10l.94 2.06.94-2.06 2.06-.94-2.06-.94-.94-2.06-.94 2.06-2.06.94z\"/><path d=\"M17.41 7.96l-1.37-1.37c-.4-.4-.92-.59-1.43-.59-.52 0-1.04.2-1.43.59L10.3 9.45l-7.72 7.72c-.78.78-.78 2.05 0 2.83L4 21.41c.39.39.9.59 1.41.59.51 0 1.02-.2 1.41-.59l7.78-7.78 2.81-2.81c.8-.78.8-2.07 0-2.86zM5.41 20L4 18.59l7.72-7.72 1.47 1.35L5.41 20z\"/>\n",
              "  </svg>\n",
              "      </button>\n",
              "      \n",
              "  <style>\n",
              "    .colab-df-container {\n",
              "      display:flex;\n",
              "      flex-wrap:wrap;\n",
              "      gap: 12px;\n",
              "    }\n",
              "\n",
              "    .colab-df-convert {\n",
              "      background-color: #E8F0FE;\n",
              "      border: none;\n",
              "      border-radius: 50%;\n",
              "      cursor: pointer;\n",
              "      display: none;\n",
              "      fill: #1967D2;\n",
              "      height: 32px;\n",
              "      padding: 0 0 0 0;\n",
              "      width: 32px;\n",
              "    }\n",
              "\n",
              "    .colab-df-convert:hover {\n",
              "      background-color: #E2EBFA;\n",
              "      box-shadow: 0px 1px 2px rgba(60, 64, 67, 0.3), 0px 1px 3px 1px rgba(60, 64, 67, 0.15);\n",
              "      fill: #174EA6;\n",
              "    }\n",
              "\n",
              "    [theme=dark] .colab-df-convert {\n",
              "      background-color: #3B4455;\n",
              "      fill: #D2E3FC;\n",
              "    }\n",
              "\n",
              "    [theme=dark] .colab-df-convert:hover {\n",
              "      background-color: #434B5C;\n",
              "      box-shadow: 0px 1px 3px 1px rgba(0, 0, 0, 0.15);\n",
              "      filter: drop-shadow(0px 1px 2px rgba(0, 0, 0, 0.3));\n",
              "      fill: #FFFFFF;\n",
              "    }\n",
              "  </style>\n",
              "\n",
              "      <script>\n",
              "        const buttonEl =\n",
              "          document.querySelector('#df-9295d933-d6d9-4dc9-a387-3fda7f8e25e2 button.colab-df-convert');\n",
              "        buttonEl.style.display =\n",
              "          google.colab.kernel.accessAllowed ? 'block' : 'none';\n",
              "\n",
              "        async function convertToInteractive(key) {\n",
              "          const element = document.querySelector('#df-9295d933-d6d9-4dc9-a387-3fda7f8e25e2');\n",
              "          const dataTable =\n",
              "            await google.colab.kernel.invokeFunction('convertToInteractive',\n",
              "                                                     [key], {});\n",
              "          if (!dataTable) return;\n",
              "\n",
              "          const docLinkHtml = 'Like what you see? Visit the ' +\n",
              "            '<a target=\"_blank\" href=https://colab.research.google.com/notebooks/data_table.ipynb>data table notebook</a>'\n",
              "            + ' to learn more about interactive tables.';\n",
              "          element.innerHTML = '';\n",
              "          dataTable['output_type'] = 'display_data';\n",
              "          await google.colab.output.renderOutput(dataTable, element);\n",
              "          const docLink = document.createElement('div');\n",
              "          docLink.innerHTML = docLinkHtml;\n",
              "          element.appendChild(docLink);\n",
              "        }\n",
              "      </script>\n",
              "    </div>\n",
              "  </div>\n",
              "  "
            ],
            "text/plain": [
              "            tenure  MonthlyCharges  TotalCharges\n",
              "count  7043.000000     7043.000000   7043.000000\n",
              "mean     32.371149       64.761692   2283.300441\n",
              "std      24.559481       30.090047   2265.000258\n",
              "min       0.000000       18.250000     18.800000\n",
              "25%       9.000000       35.500000    402.225000\n",
              "50%      29.000000       70.350000   1400.550000\n",
              "75%      55.000000       89.850000   3786.600000\n",
              "max      72.000000      118.750000   8684.800000"
            ]
          },
          "metadata": {},
          "execution_count": 12
        }
      ]
    },
    {
      "cell_type": "code",
      "source": [
        "df_pre_norm=df[['tenure','MonthlyCharges','TotalCharges']]"
      ],
      "metadata": {
        "id": "jKDza6uLfxM0"
      },
      "execution_count": null,
      "outputs": []
    },
    {
      "cell_type": "code",
      "source": [
        "df_pre_norm.describe()"
      ],
      "metadata": {
        "id": "8GpUZdNPi3yv",
        "colab": {
          "base_uri": "https://localhost:8080/",
          "height": 300
        },
        "outputId": "8e6907ef-1583-41d1-fb09-1fc8388cd9bd"
      },
      "execution_count": null,
      "outputs": [
        {
          "output_type": "execute_result",
          "data": {
            "text/html": [
              "\n",
              "  <div id=\"df-ba1f9c20-749b-450b-b0d5-afb412e93287\">\n",
              "    <div class=\"colab-df-container\">\n",
              "      <div>\n",
              "<style scoped>\n",
              "    .dataframe tbody tr th:only-of-type {\n",
              "        vertical-align: middle;\n",
              "    }\n",
              "\n",
              "    .dataframe tbody tr th {\n",
              "        vertical-align: top;\n",
              "    }\n",
              "\n",
              "    .dataframe thead th {\n",
              "        text-align: right;\n",
              "    }\n",
              "</style>\n",
              "<table border=\"1\" class=\"dataframe\">\n",
              "  <thead>\n",
              "    <tr style=\"text-align: right;\">\n",
              "      <th></th>\n",
              "      <th>tenure</th>\n",
              "      <th>MonthlyCharges</th>\n",
              "      <th>TotalCharges</th>\n",
              "    </tr>\n",
              "  </thead>\n",
              "  <tbody>\n",
              "    <tr>\n",
              "      <th>count</th>\n",
              "      <td>7043.000000</td>\n",
              "      <td>7043.000000</td>\n",
              "      <td>7043.000000</td>\n",
              "    </tr>\n",
              "    <tr>\n",
              "      <th>mean</th>\n",
              "      <td>32.371149</td>\n",
              "      <td>64.761692</td>\n",
              "      <td>2283.300441</td>\n",
              "    </tr>\n",
              "    <tr>\n",
              "      <th>std</th>\n",
              "      <td>24.559481</td>\n",
              "      <td>30.090047</td>\n",
              "      <td>2265.000258</td>\n",
              "    </tr>\n",
              "    <tr>\n",
              "      <th>min</th>\n",
              "      <td>0.000000</td>\n",
              "      <td>18.250000</td>\n",
              "      <td>18.800000</td>\n",
              "    </tr>\n",
              "    <tr>\n",
              "      <th>25%</th>\n",
              "      <td>9.000000</td>\n",
              "      <td>35.500000</td>\n",
              "      <td>402.225000</td>\n",
              "    </tr>\n",
              "    <tr>\n",
              "      <th>50%</th>\n",
              "      <td>29.000000</td>\n",
              "      <td>70.350000</td>\n",
              "      <td>1400.550000</td>\n",
              "    </tr>\n",
              "    <tr>\n",
              "      <th>75%</th>\n",
              "      <td>55.000000</td>\n",
              "      <td>89.850000</td>\n",
              "      <td>3786.600000</td>\n",
              "    </tr>\n",
              "    <tr>\n",
              "      <th>max</th>\n",
              "      <td>72.000000</td>\n",
              "      <td>118.750000</td>\n",
              "      <td>8684.800000</td>\n",
              "    </tr>\n",
              "  </tbody>\n",
              "</table>\n",
              "</div>\n",
              "      <button class=\"colab-df-convert\" onclick=\"convertToInteractive('df-ba1f9c20-749b-450b-b0d5-afb412e93287')\"\n",
              "              title=\"Convert this dataframe to an interactive table.\"\n",
              "              style=\"display:none;\">\n",
              "        \n",
              "  <svg xmlns=\"http://www.w3.org/2000/svg\" height=\"24px\"viewBox=\"0 0 24 24\"\n",
              "       width=\"24px\">\n",
              "    <path d=\"M0 0h24v24H0V0z\" fill=\"none\"/>\n",
              "    <path d=\"M18.56 5.44l.94 2.06.94-2.06 2.06-.94-2.06-.94-.94-2.06-.94 2.06-2.06.94zm-11 1L8.5 8.5l.94-2.06 2.06-.94-2.06-.94L8.5 2.5l-.94 2.06-2.06.94zm10 10l.94 2.06.94-2.06 2.06-.94-2.06-.94-.94-2.06-.94 2.06-2.06.94z\"/><path d=\"M17.41 7.96l-1.37-1.37c-.4-.4-.92-.59-1.43-.59-.52 0-1.04.2-1.43.59L10.3 9.45l-7.72 7.72c-.78.78-.78 2.05 0 2.83L4 21.41c.39.39.9.59 1.41.59.51 0 1.02-.2 1.41-.59l7.78-7.78 2.81-2.81c.8-.78.8-2.07 0-2.86zM5.41 20L4 18.59l7.72-7.72 1.47 1.35L5.41 20z\"/>\n",
              "  </svg>\n",
              "      </button>\n",
              "      \n",
              "  <style>\n",
              "    .colab-df-container {\n",
              "      display:flex;\n",
              "      flex-wrap:wrap;\n",
              "      gap: 12px;\n",
              "    }\n",
              "\n",
              "    .colab-df-convert {\n",
              "      background-color: #E8F0FE;\n",
              "      border: none;\n",
              "      border-radius: 50%;\n",
              "      cursor: pointer;\n",
              "      display: none;\n",
              "      fill: #1967D2;\n",
              "      height: 32px;\n",
              "      padding: 0 0 0 0;\n",
              "      width: 32px;\n",
              "    }\n",
              "\n",
              "    .colab-df-convert:hover {\n",
              "      background-color: #E2EBFA;\n",
              "      box-shadow: 0px 1px 2px rgba(60, 64, 67, 0.3), 0px 1px 3px 1px rgba(60, 64, 67, 0.15);\n",
              "      fill: #174EA6;\n",
              "    }\n",
              "\n",
              "    [theme=dark] .colab-df-convert {\n",
              "      background-color: #3B4455;\n",
              "      fill: #D2E3FC;\n",
              "    }\n",
              "\n",
              "    [theme=dark] .colab-df-convert:hover {\n",
              "      background-color: #434B5C;\n",
              "      box-shadow: 0px 1px 3px 1px rgba(0, 0, 0, 0.15);\n",
              "      filter: drop-shadow(0px 1px 2px rgba(0, 0, 0, 0.3));\n",
              "      fill: #FFFFFF;\n",
              "    }\n",
              "  </style>\n",
              "\n",
              "      <script>\n",
              "        const buttonEl =\n",
              "          document.querySelector('#df-ba1f9c20-749b-450b-b0d5-afb412e93287 button.colab-df-convert');\n",
              "        buttonEl.style.display =\n",
              "          google.colab.kernel.accessAllowed ? 'block' : 'none';\n",
              "\n",
              "        async function convertToInteractive(key) {\n",
              "          const element = document.querySelector('#df-ba1f9c20-749b-450b-b0d5-afb412e93287');\n",
              "          const dataTable =\n",
              "            await google.colab.kernel.invokeFunction('convertToInteractive',\n",
              "                                                     [key], {});\n",
              "          if (!dataTable) return;\n",
              "\n",
              "          const docLinkHtml = 'Like what you see? Visit the ' +\n",
              "            '<a target=\"_blank\" href=https://colab.research.google.com/notebooks/data_table.ipynb>data table notebook</a>'\n",
              "            + ' to learn more about interactive tables.';\n",
              "          element.innerHTML = '';\n",
              "          dataTable['output_type'] = 'display_data';\n",
              "          await google.colab.output.renderOutput(dataTable, element);\n",
              "          const docLink = document.createElement('div');\n",
              "          docLink.innerHTML = docLinkHtml;\n",
              "          element.appendChild(docLink);\n",
              "        }\n",
              "      </script>\n",
              "    </div>\n",
              "  </div>\n",
              "  "
            ],
            "text/plain": [
              "            tenure  MonthlyCharges  TotalCharges\n",
              "count  7043.000000     7043.000000   7043.000000\n",
              "mean     32.371149       64.761692   2283.300441\n",
              "std      24.559481       30.090047   2265.000258\n",
              "min       0.000000       18.250000     18.800000\n",
              "25%       9.000000       35.500000    402.225000\n",
              "50%      29.000000       70.350000   1400.550000\n",
              "75%      55.000000       89.850000   3786.600000\n",
              "max      72.000000      118.750000   8684.800000"
            ]
          },
          "metadata": {},
          "execution_count": 14
        }
      ]
    },
    {
      "cell_type": "code",
      "source": [
        "df.drop(['tenure','MonthlyCharges','TotalCharges'], axis=1, inplace=True)"
      ],
      "metadata": {
        "id": "zU-84y3diKrv"
      },
      "execution_count": null,
      "outputs": []
    },
    {
      "cell_type": "code",
      "source": [
        "from sklearn.preprocessing import StandardScaler\n",
        "scaler = StandardScaler()\n",
        "result= scaler.fit_transform(df_pre_norm)\n",
        "df_norm=pd.DataFrame(data=result, columns=df_pre_norm.columns)"
      ],
      "metadata": {
        "id": "mMqRWv9JilJ_"
      },
      "execution_count": null,
      "outputs": []
    },
    {
      "cell_type": "code",
      "source": [
        "df_norm.describe()"
      ],
      "metadata": {
        "id": "mDjfH01Fi8r4",
        "colab": {
          "base_uri": "https://localhost:8080/",
          "height": 300
        },
        "outputId": "6e22d820-1505-4c7f-f649-9d7b112e880f"
      },
      "execution_count": null,
      "outputs": [
        {
          "output_type": "execute_result",
          "data": {
            "text/html": [
              "\n",
              "  <div id=\"df-31325ab5-dae8-4069-9dac-1348d4314c6b\">\n",
              "    <div class=\"colab-df-container\">\n",
              "      <div>\n",
              "<style scoped>\n",
              "    .dataframe tbody tr th:only-of-type {\n",
              "        vertical-align: middle;\n",
              "    }\n",
              "\n",
              "    .dataframe tbody tr th {\n",
              "        vertical-align: top;\n",
              "    }\n",
              "\n",
              "    .dataframe thead th {\n",
              "        text-align: right;\n",
              "    }\n",
              "</style>\n",
              "<table border=\"1\" class=\"dataframe\">\n",
              "  <thead>\n",
              "    <tr style=\"text-align: right;\">\n",
              "      <th></th>\n",
              "      <th>tenure</th>\n",
              "      <th>MonthlyCharges</th>\n",
              "      <th>TotalCharges</th>\n",
              "    </tr>\n",
              "  </thead>\n",
              "  <tbody>\n",
              "    <tr>\n",
              "      <th>count</th>\n",
              "      <td>7.043000e+03</td>\n",
              "      <td>7.043000e+03</td>\n",
              "      <td>7.043000e+03</td>\n",
              "    </tr>\n",
              "    <tr>\n",
              "      <th>mean</th>\n",
              "      <td>5.945991e-17</td>\n",
              "      <td>-8.291599e-17</td>\n",
              "      <td>7.358400e-17</td>\n",
              "    </tr>\n",
              "    <tr>\n",
              "      <th>std</th>\n",
              "      <td>1.000071e+00</td>\n",
              "      <td>1.000071e+00</td>\n",
              "      <td>1.000071e+00</td>\n",
              "    </tr>\n",
              "    <tr>\n",
              "      <th>min</th>\n",
              "      <td>-1.318165e+00</td>\n",
              "      <td>-1.545860e+00</td>\n",
              "      <td>-9.998503e-01</td>\n",
              "    </tr>\n",
              "    <tr>\n",
              "      <th>25%</th>\n",
              "      <td>-9.516817e-01</td>\n",
              "      <td>-9.725399e-01</td>\n",
              "      <td>-8.305558e-01</td>\n",
              "    </tr>\n",
              "    <tr>\n",
              "      <th>50%</th>\n",
              "      <td>-1.372744e-01</td>\n",
              "      <td>1.857327e-01</td>\n",
              "      <td>-3.897629e-01</td>\n",
              "    </tr>\n",
              "    <tr>\n",
              "      <th>75%</th>\n",
              "      <td>9.214551e-01</td>\n",
              "      <td>8.338335e-01</td>\n",
              "      <td>6.637555e-01</td>\n",
              "    </tr>\n",
              "    <tr>\n",
              "      <th>max</th>\n",
              "      <td>1.613701e+00</td>\n",
              "      <td>1.794352e+00</td>\n",
              "      <td>2.826469e+00</td>\n",
              "    </tr>\n",
              "  </tbody>\n",
              "</table>\n",
              "</div>\n",
              "      <button class=\"colab-df-convert\" onclick=\"convertToInteractive('df-31325ab5-dae8-4069-9dac-1348d4314c6b')\"\n",
              "              title=\"Convert this dataframe to an interactive table.\"\n",
              "              style=\"display:none;\">\n",
              "        \n",
              "  <svg xmlns=\"http://www.w3.org/2000/svg\" height=\"24px\"viewBox=\"0 0 24 24\"\n",
              "       width=\"24px\">\n",
              "    <path d=\"M0 0h24v24H0V0z\" fill=\"none\"/>\n",
              "    <path d=\"M18.56 5.44l.94 2.06.94-2.06 2.06-.94-2.06-.94-.94-2.06-.94 2.06-2.06.94zm-11 1L8.5 8.5l.94-2.06 2.06-.94-2.06-.94L8.5 2.5l-.94 2.06-2.06.94zm10 10l.94 2.06.94-2.06 2.06-.94-2.06-.94-.94-2.06-.94 2.06-2.06.94z\"/><path d=\"M17.41 7.96l-1.37-1.37c-.4-.4-.92-.59-1.43-.59-.52 0-1.04.2-1.43.59L10.3 9.45l-7.72 7.72c-.78.78-.78 2.05 0 2.83L4 21.41c.39.39.9.59 1.41.59.51 0 1.02-.2 1.41-.59l7.78-7.78 2.81-2.81c.8-.78.8-2.07 0-2.86zM5.41 20L4 18.59l7.72-7.72 1.47 1.35L5.41 20z\"/>\n",
              "  </svg>\n",
              "      </button>\n",
              "      \n",
              "  <style>\n",
              "    .colab-df-container {\n",
              "      display:flex;\n",
              "      flex-wrap:wrap;\n",
              "      gap: 12px;\n",
              "    }\n",
              "\n",
              "    .colab-df-convert {\n",
              "      background-color: #E8F0FE;\n",
              "      border: none;\n",
              "      border-radius: 50%;\n",
              "      cursor: pointer;\n",
              "      display: none;\n",
              "      fill: #1967D2;\n",
              "      height: 32px;\n",
              "      padding: 0 0 0 0;\n",
              "      width: 32px;\n",
              "    }\n",
              "\n",
              "    .colab-df-convert:hover {\n",
              "      background-color: #E2EBFA;\n",
              "      box-shadow: 0px 1px 2px rgba(60, 64, 67, 0.3), 0px 1px 3px 1px rgba(60, 64, 67, 0.15);\n",
              "      fill: #174EA6;\n",
              "    }\n",
              "\n",
              "    [theme=dark] .colab-df-convert {\n",
              "      background-color: #3B4455;\n",
              "      fill: #D2E3FC;\n",
              "    }\n",
              "\n",
              "    [theme=dark] .colab-df-convert:hover {\n",
              "      background-color: #434B5C;\n",
              "      box-shadow: 0px 1px 3px 1px rgba(0, 0, 0, 0.15);\n",
              "      filter: drop-shadow(0px 1px 2px rgba(0, 0, 0, 0.3));\n",
              "      fill: #FFFFFF;\n",
              "    }\n",
              "  </style>\n",
              "\n",
              "      <script>\n",
              "        const buttonEl =\n",
              "          document.querySelector('#df-31325ab5-dae8-4069-9dac-1348d4314c6b button.colab-df-convert');\n",
              "        buttonEl.style.display =\n",
              "          google.colab.kernel.accessAllowed ? 'block' : 'none';\n",
              "\n",
              "        async function convertToInteractive(key) {\n",
              "          const element = document.querySelector('#df-31325ab5-dae8-4069-9dac-1348d4314c6b');\n",
              "          const dataTable =\n",
              "            await google.colab.kernel.invokeFunction('convertToInteractive',\n",
              "                                                     [key], {});\n",
              "          if (!dataTable) return;\n",
              "\n",
              "          const docLinkHtml = 'Like what you see? Visit the ' +\n",
              "            '<a target=\"_blank\" href=https://colab.research.google.com/notebooks/data_table.ipynb>data table notebook</a>'\n",
              "            + ' to learn more about interactive tables.';\n",
              "          element.innerHTML = '';\n",
              "          dataTable['output_type'] = 'display_data';\n",
              "          await google.colab.output.renderOutput(dataTable, element);\n",
              "          const docLink = document.createElement('div');\n",
              "          docLink.innerHTML = docLinkHtml;\n",
              "          element.appendChild(docLink);\n",
              "        }\n",
              "      </script>\n",
              "    </div>\n",
              "  </div>\n",
              "  "
            ],
            "text/plain": [
              "             tenure  MonthlyCharges  TotalCharges\n",
              "count  7.043000e+03    7.043000e+03  7.043000e+03\n",
              "mean   5.945991e-17   -8.291599e-17  7.358400e-17\n",
              "std    1.000071e+00    1.000071e+00  1.000071e+00\n",
              "min   -1.318165e+00   -1.545860e+00 -9.998503e-01\n",
              "25%   -9.516817e-01   -9.725399e-01 -8.305558e-01\n",
              "50%   -1.372744e-01    1.857327e-01 -3.897629e-01\n",
              "75%    9.214551e-01    8.338335e-01  6.637555e-01\n",
              "max    1.613701e+00    1.794352e+00  2.826469e+00"
            ]
          },
          "metadata": {},
          "execution_count": 17
        }
      ]
    },
    {
      "cell_type": "code",
      "source": [
        "pro_df = pd.concat([df,df_norm],axis=1)"
      ],
      "metadata": {
        "id": "OOUO7pA4jtKG"
      },
      "execution_count": null,
      "outputs": []
    },
    {
      "cell_type": "code",
      "source": [
        "pro_df.columns"
      ],
      "metadata": {
        "id": "OpugUOJUj8bz",
        "colab": {
          "base_uri": "https://localhost:8080/"
        },
        "outputId": "914c75d0-b6fb-4f16-f970-93c6b809f9d3"
      },
      "execution_count": null,
      "outputs": [
        {
          "output_type": "execute_result",
          "data": {
            "text/plain": [
              "Index(['customerID', 'gender', 'SeniorCitizen', 'Partner', 'Dependents',\n",
              "       'PhoneService', 'MultipleLines', 'InternetService', 'OnlineSecurity',\n",
              "       'OnlineBackup', 'DeviceProtection', 'TechSupport', 'StreamingTV',\n",
              "       'StreamingMovies', 'Contract', 'PaperlessBilling', 'PaymentMethod',\n",
              "       'Churn', 'tenure', 'MonthlyCharges', 'TotalCharges'],\n",
              "      dtype='object')"
            ]
          },
          "metadata": {},
          "execution_count": 19
        }
      ]
    },
    {
      "cell_type": "code",
      "source": [
        "#customerID는 unique ID code이므로 부적절한 feature이다. 따라서 제거한다.\n",
        "pro_df.drop(['customerID'], axis=1, inplace=True)"
      ],
      "metadata": {
        "id": "vkY8jP1ekCf8"
      },
      "execution_count": null,
      "outputs": []
    },
    {
      "cell_type": "code",
      "source": [
        "pro_df"
      ],
      "metadata": {
        "id": "SSb7nbDw4pKW",
        "colab": {
          "base_uri": "https://localhost:8080/",
          "height": 487
        },
        "outputId": "a1889aa8-5123-4683-bebc-1511726904be"
      },
      "execution_count": null,
      "outputs": [
        {
          "output_type": "execute_result",
          "data": {
            "text/html": [
              "\n",
              "  <div id=\"df-5afaa520-eaac-401a-9bd7-af12116774f2\">\n",
              "    <div class=\"colab-df-container\">\n",
              "      <div>\n",
              "<style scoped>\n",
              "    .dataframe tbody tr th:only-of-type {\n",
              "        vertical-align: middle;\n",
              "    }\n",
              "\n",
              "    .dataframe tbody tr th {\n",
              "        vertical-align: top;\n",
              "    }\n",
              "\n",
              "    .dataframe thead th {\n",
              "        text-align: right;\n",
              "    }\n",
              "</style>\n",
              "<table border=\"1\" class=\"dataframe\">\n",
              "  <thead>\n",
              "    <tr style=\"text-align: right;\">\n",
              "      <th></th>\n",
              "      <th>gender</th>\n",
              "      <th>SeniorCitizen</th>\n",
              "      <th>Partner</th>\n",
              "      <th>Dependents</th>\n",
              "      <th>PhoneService</th>\n",
              "      <th>MultipleLines</th>\n",
              "      <th>InternetService</th>\n",
              "      <th>OnlineSecurity</th>\n",
              "      <th>OnlineBackup</th>\n",
              "      <th>DeviceProtection</th>\n",
              "      <th>TechSupport</th>\n",
              "      <th>StreamingTV</th>\n",
              "      <th>StreamingMovies</th>\n",
              "      <th>Contract</th>\n",
              "      <th>PaperlessBilling</th>\n",
              "      <th>PaymentMethod</th>\n",
              "      <th>Churn</th>\n",
              "      <th>tenure</th>\n",
              "      <th>MonthlyCharges</th>\n",
              "      <th>TotalCharges</th>\n",
              "    </tr>\n",
              "  </thead>\n",
              "  <tbody>\n",
              "    <tr>\n",
              "      <th>0</th>\n",
              "      <td>0</td>\n",
              "      <td>0</td>\n",
              "      <td>1</td>\n",
              "      <td>0</td>\n",
              "      <td>0</td>\n",
              "      <td>1</td>\n",
              "      <td>0</td>\n",
              "      <td>0</td>\n",
              "      <td>2</td>\n",
              "      <td>0</td>\n",
              "      <td>0</td>\n",
              "      <td>0</td>\n",
              "      <td>0</td>\n",
              "      <td>0</td>\n",
              "      <td>1</td>\n",
              "      <td>2</td>\n",
              "      <td>0</td>\n",
              "      <td>-1.277445</td>\n",
              "      <td>-1.160323</td>\n",
              "      <td>-0.994971</td>\n",
              "    </tr>\n",
              "    <tr>\n",
              "      <th>1</th>\n",
              "      <td>1</td>\n",
              "      <td>0</td>\n",
              "      <td>0</td>\n",
              "      <td>0</td>\n",
              "      <td>1</td>\n",
              "      <td>0</td>\n",
              "      <td>0</td>\n",
              "      <td>2</td>\n",
              "      <td>0</td>\n",
              "      <td>2</td>\n",
              "      <td>0</td>\n",
              "      <td>0</td>\n",
              "      <td>0</td>\n",
              "      <td>1</td>\n",
              "      <td>0</td>\n",
              "      <td>3</td>\n",
              "      <td>0</td>\n",
              "      <td>0.066327</td>\n",
              "      <td>-0.259629</td>\n",
              "      <td>-0.173876</td>\n",
              "    </tr>\n",
              "    <tr>\n",
              "      <th>2</th>\n",
              "      <td>1</td>\n",
              "      <td>0</td>\n",
              "      <td>0</td>\n",
              "      <td>0</td>\n",
              "      <td>1</td>\n",
              "      <td>0</td>\n",
              "      <td>0</td>\n",
              "      <td>2</td>\n",
              "      <td>2</td>\n",
              "      <td>0</td>\n",
              "      <td>0</td>\n",
              "      <td>0</td>\n",
              "      <td>0</td>\n",
              "      <td>0</td>\n",
              "      <td>1</td>\n",
              "      <td>3</td>\n",
              "      <td>1</td>\n",
              "      <td>-1.236724</td>\n",
              "      <td>-0.362660</td>\n",
              "      <td>-0.960399</td>\n",
              "    </tr>\n",
              "    <tr>\n",
              "      <th>3</th>\n",
              "      <td>1</td>\n",
              "      <td>0</td>\n",
              "      <td>0</td>\n",
              "      <td>0</td>\n",
              "      <td>0</td>\n",
              "      <td>1</td>\n",
              "      <td>0</td>\n",
              "      <td>2</td>\n",
              "      <td>0</td>\n",
              "      <td>2</td>\n",
              "      <td>2</td>\n",
              "      <td>0</td>\n",
              "      <td>0</td>\n",
              "      <td>1</td>\n",
              "      <td>0</td>\n",
              "      <td>0</td>\n",
              "      <td>0</td>\n",
              "      <td>0.514251</td>\n",
              "      <td>-0.746535</td>\n",
              "      <td>-0.195400</td>\n",
              "    </tr>\n",
              "    <tr>\n",
              "      <th>4</th>\n",
              "      <td>0</td>\n",
              "      <td>0</td>\n",
              "      <td>0</td>\n",
              "      <td>0</td>\n",
              "      <td>1</td>\n",
              "      <td>0</td>\n",
              "      <td>1</td>\n",
              "      <td>0</td>\n",
              "      <td>0</td>\n",
              "      <td>0</td>\n",
              "      <td>0</td>\n",
              "      <td>0</td>\n",
              "      <td>0</td>\n",
              "      <td>0</td>\n",
              "      <td>1</td>\n",
              "      <td>2</td>\n",
              "      <td>1</td>\n",
              "      <td>-1.236724</td>\n",
              "      <td>0.197365</td>\n",
              "      <td>-0.941193</td>\n",
              "    </tr>\n",
              "    <tr>\n",
              "      <th>...</th>\n",
              "      <td>...</td>\n",
              "      <td>...</td>\n",
              "      <td>...</td>\n",
              "      <td>...</td>\n",
              "      <td>...</td>\n",
              "      <td>...</td>\n",
              "      <td>...</td>\n",
              "      <td>...</td>\n",
              "      <td>...</td>\n",
              "      <td>...</td>\n",
              "      <td>...</td>\n",
              "      <td>...</td>\n",
              "      <td>...</td>\n",
              "      <td>...</td>\n",
              "      <td>...</td>\n",
              "      <td>...</td>\n",
              "      <td>...</td>\n",
              "      <td>...</td>\n",
              "      <td>...</td>\n",
              "      <td>...</td>\n",
              "    </tr>\n",
              "    <tr>\n",
              "      <th>7038</th>\n",
              "      <td>1</td>\n",
              "      <td>0</td>\n",
              "      <td>1</td>\n",
              "      <td>1</td>\n",
              "      <td>1</td>\n",
              "      <td>2</td>\n",
              "      <td>0</td>\n",
              "      <td>2</td>\n",
              "      <td>0</td>\n",
              "      <td>2</td>\n",
              "      <td>2</td>\n",
              "      <td>2</td>\n",
              "      <td>2</td>\n",
              "      <td>1</td>\n",
              "      <td>1</td>\n",
              "      <td>3</td>\n",
              "      <td>0</td>\n",
              "      <td>-0.340876</td>\n",
              "      <td>0.665992</td>\n",
              "      <td>-0.129281</td>\n",
              "    </tr>\n",
              "    <tr>\n",
              "      <th>7039</th>\n",
              "      <td>0</td>\n",
              "      <td>0</td>\n",
              "      <td>1</td>\n",
              "      <td>1</td>\n",
              "      <td>1</td>\n",
              "      <td>2</td>\n",
              "      <td>1</td>\n",
              "      <td>0</td>\n",
              "      <td>2</td>\n",
              "      <td>2</td>\n",
              "      <td>0</td>\n",
              "      <td>2</td>\n",
              "      <td>2</td>\n",
              "      <td>1</td>\n",
              "      <td>1</td>\n",
              "      <td>1</td>\n",
              "      <td>0</td>\n",
              "      <td>1.613701</td>\n",
              "      <td>1.277533</td>\n",
              "      <td>2.242808</td>\n",
              "    </tr>\n",
              "    <tr>\n",
              "      <th>7040</th>\n",
              "      <td>0</td>\n",
              "      <td>0</td>\n",
              "      <td>1</td>\n",
              "      <td>1</td>\n",
              "      <td>0</td>\n",
              "      <td>1</td>\n",
              "      <td>0</td>\n",
              "      <td>2</td>\n",
              "      <td>0</td>\n",
              "      <td>0</td>\n",
              "      <td>0</td>\n",
              "      <td>0</td>\n",
              "      <td>0</td>\n",
              "      <td>0</td>\n",
              "      <td>1</td>\n",
              "      <td>2</td>\n",
              "      <td>0</td>\n",
              "      <td>-0.870241</td>\n",
              "      <td>-1.168632</td>\n",
              "      <td>-0.855182</td>\n",
              "    </tr>\n",
              "    <tr>\n",
              "      <th>7041</th>\n",
              "      <td>1</td>\n",
              "      <td>1</td>\n",
              "      <td>1</td>\n",
              "      <td>0</td>\n",
              "      <td>1</td>\n",
              "      <td>2</td>\n",
              "      <td>1</td>\n",
              "      <td>0</td>\n",
              "      <td>0</td>\n",
              "      <td>0</td>\n",
              "      <td>0</td>\n",
              "      <td>0</td>\n",
              "      <td>0</td>\n",
              "      <td>0</td>\n",
              "      <td>1</td>\n",
              "      <td>3</td>\n",
              "      <td>1</td>\n",
              "      <td>-1.155283</td>\n",
              "      <td>0.320338</td>\n",
              "      <td>-0.872777</td>\n",
              "    </tr>\n",
              "    <tr>\n",
              "      <th>7042</th>\n",
              "      <td>1</td>\n",
              "      <td>0</td>\n",
              "      <td>0</td>\n",
              "      <td>0</td>\n",
              "      <td>1</td>\n",
              "      <td>0</td>\n",
              "      <td>1</td>\n",
              "      <td>2</td>\n",
              "      <td>0</td>\n",
              "      <td>2</td>\n",
              "      <td>2</td>\n",
              "      <td>2</td>\n",
              "      <td>2</td>\n",
              "      <td>2</td>\n",
              "      <td>1</td>\n",
              "      <td>0</td>\n",
              "      <td>0</td>\n",
              "      <td>1.369379</td>\n",
              "      <td>1.358961</td>\n",
              "      <td>2.013917</td>\n",
              "    </tr>\n",
              "  </tbody>\n",
              "</table>\n",
              "<p>7043 rows × 20 columns</p>\n",
              "</div>\n",
              "      <button class=\"colab-df-convert\" onclick=\"convertToInteractive('df-5afaa520-eaac-401a-9bd7-af12116774f2')\"\n",
              "              title=\"Convert this dataframe to an interactive table.\"\n",
              "              style=\"display:none;\">\n",
              "        \n",
              "  <svg xmlns=\"http://www.w3.org/2000/svg\" height=\"24px\"viewBox=\"0 0 24 24\"\n",
              "       width=\"24px\">\n",
              "    <path d=\"M0 0h24v24H0V0z\" fill=\"none\"/>\n",
              "    <path d=\"M18.56 5.44l.94 2.06.94-2.06 2.06-.94-2.06-.94-.94-2.06-.94 2.06-2.06.94zm-11 1L8.5 8.5l.94-2.06 2.06-.94-2.06-.94L8.5 2.5l-.94 2.06-2.06.94zm10 10l.94 2.06.94-2.06 2.06-.94-2.06-.94-.94-2.06-.94 2.06-2.06.94z\"/><path d=\"M17.41 7.96l-1.37-1.37c-.4-.4-.92-.59-1.43-.59-.52 0-1.04.2-1.43.59L10.3 9.45l-7.72 7.72c-.78.78-.78 2.05 0 2.83L4 21.41c.39.39.9.59 1.41.59.51 0 1.02-.2 1.41-.59l7.78-7.78 2.81-2.81c.8-.78.8-2.07 0-2.86zM5.41 20L4 18.59l7.72-7.72 1.47 1.35L5.41 20z\"/>\n",
              "  </svg>\n",
              "      </button>\n",
              "      \n",
              "  <style>\n",
              "    .colab-df-container {\n",
              "      display:flex;\n",
              "      flex-wrap:wrap;\n",
              "      gap: 12px;\n",
              "    }\n",
              "\n",
              "    .colab-df-convert {\n",
              "      background-color: #E8F0FE;\n",
              "      border: none;\n",
              "      border-radius: 50%;\n",
              "      cursor: pointer;\n",
              "      display: none;\n",
              "      fill: #1967D2;\n",
              "      height: 32px;\n",
              "      padding: 0 0 0 0;\n",
              "      width: 32px;\n",
              "    }\n",
              "\n",
              "    .colab-df-convert:hover {\n",
              "      background-color: #E2EBFA;\n",
              "      box-shadow: 0px 1px 2px rgba(60, 64, 67, 0.3), 0px 1px 3px 1px rgba(60, 64, 67, 0.15);\n",
              "      fill: #174EA6;\n",
              "    }\n",
              "\n",
              "    [theme=dark] .colab-df-convert {\n",
              "      background-color: #3B4455;\n",
              "      fill: #D2E3FC;\n",
              "    }\n",
              "\n",
              "    [theme=dark] .colab-df-convert:hover {\n",
              "      background-color: #434B5C;\n",
              "      box-shadow: 0px 1px 3px 1px rgba(0, 0, 0, 0.15);\n",
              "      filter: drop-shadow(0px 1px 2px rgba(0, 0, 0, 0.3));\n",
              "      fill: #FFFFFF;\n",
              "    }\n",
              "  </style>\n",
              "\n",
              "      <script>\n",
              "        const buttonEl =\n",
              "          document.querySelector('#df-5afaa520-eaac-401a-9bd7-af12116774f2 button.colab-df-convert');\n",
              "        buttonEl.style.display =\n",
              "          google.colab.kernel.accessAllowed ? 'block' : 'none';\n",
              "\n",
              "        async function convertToInteractive(key) {\n",
              "          const element = document.querySelector('#df-5afaa520-eaac-401a-9bd7-af12116774f2');\n",
              "          const dataTable =\n",
              "            await google.colab.kernel.invokeFunction('convertToInteractive',\n",
              "                                                     [key], {});\n",
              "          if (!dataTable) return;\n",
              "\n",
              "          const docLinkHtml = 'Like what you see? Visit the ' +\n",
              "            '<a target=\"_blank\" href=https://colab.research.google.com/notebooks/data_table.ipynb>data table notebook</a>'\n",
              "            + ' to learn more about interactive tables.';\n",
              "          element.innerHTML = '';\n",
              "          dataTable['output_type'] = 'display_data';\n",
              "          await google.colab.output.renderOutput(dataTable, element);\n",
              "          const docLink = document.createElement('div');\n",
              "          docLink.innerHTML = docLinkHtml;\n",
              "          element.appendChild(docLink);\n",
              "        }\n",
              "      </script>\n",
              "    </div>\n",
              "  </div>\n",
              "  "
            ],
            "text/plain": [
              "      gender  SeniorCitizen  Partner  ...    tenure  MonthlyCharges  TotalCharges\n",
              "0          0              0        1  ... -1.277445       -1.160323     -0.994971\n",
              "1          1              0        0  ...  0.066327       -0.259629     -0.173876\n",
              "2          1              0        0  ... -1.236724       -0.362660     -0.960399\n",
              "3          1              0        0  ...  0.514251       -0.746535     -0.195400\n",
              "4          0              0        0  ... -1.236724        0.197365     -0.941193\n",
              "...      ...            ...      ...  ...       ...             ...           ...\n",
              "7038       1              0        1  ... -0.340876        0.665992     -0.129281\n",
              "7039       0              0        1  ...  1.613701        1.277533      2.242808\n",
              "7040       0              0        1  ... -0.870241       -1.168632     -0.855182\n",
              "7041       1              1        1  ... -1.155283        0.320338     -0.872777\n",
              "7042       1              0        0  ...  1.369379        1.358961      2.013917\n",
              "\n",
              "[7043 rows x 20 columns]"
            ]
          },
          "metadata": {},
          "execution_count": 21
        }
      ]
    },
    {
      "cell_type": "markdown",
      "source": [
        "### 훈련, 테스트 데이터 분리"
      ],
      "metadata": {
        "id": "aSrLhhmI48Lx"
      }
    },
    {
      "cell_type": "markdown",
      "source": [
        "'Churn' column이 예측하고자 하는 target class이므로 이를 y data로 나머지 feature들을 x data로 분리한다. X data에는 총 19개의 feature가 존재하고, 총 7043개의 instance가 존재한다.\n",
        "\n",
        "train set과 test set으로 split을 진행한다. x_train data에는 4930개의 instance가 있고, x_test에는 2113개의 instance가 존재한다."
      ],
      "metadata": {
        "id": "YaSj5Qdxdz7o"
      }
    },
    {
      "cell_type": "code",
      "source": [
        "y = pro_df[['Churn']].to_numpy().ravel()\n",
        "x = pro_df.drop(columns=['Churn'])\n",
        "# churn: 0=no, 1=yes"
      ],
      "metadata": {
        "id": "n8OKlri_5I_P"
      },
      "execution_count": null,
      "outputs": []
    },
    {
      "cell_type": "code",
      "source": [
        "x.shape"
      ],
      "metadata": {
        "id": "j1LwRm2heQ-b",
        "colab": {
          "base_uri": "https://localhost:8080/"
        },
        "outputId": "8758a400-014d-4a00-f0e5-881b7d7d011b"
      },
      "execution_count": null,
      "outputs": [
        {
          "output_type": "execute_result",
          "data": {
            "text/plain": [
              "(7043, 19)"
            ]
          },
          "metadata": {},
          "execution_count": 23
        }
      ]
    },
    {
      "cell_type": "code",
      "source": [
        "pro_df['Churn'].value_counts()"
      ],
      "metadata": {
        "id": "uId32Un25qHJ",
        "colab": {
          "base_uri": "https://localhost:8080/"
        },
        "outputId": "15751282-09a9-47b1-d3f2-2b4fadf9d695"
      },
      "execution_count": null,
      "outputs": [
        {
          "output_type": "execute_result",
          "data": {
            "text/plain": [
              "0    5174\n",
              "1    1869\n",
              "Name: Churn, dtype: int64"
            ]
          },
          "metadata": {},
          "execution_count": 24
        }
      ]
    },
    {
      "cell_type": "markdown",
      "source": [
        "--> Dataset이 imbalanced 되어있으므로 단순한 accuracy가 아니라 F-measure로 정확도를 판별해야한다."
      ],
      "metadata": {
        "id": "Hudnm9CUD4C2"
      }
    },
    {
      "cell_type": "code",
      "source": [
        "from sklearn.model_selection import train_test_split \n",
        "x_train, x_test, y_train, y_test = train_test_split(x, y, test_size=.3)"
      ],
      "metadata": {
        "id": "TrhhDx8w57kG"
      },
      "execution_count": null,
      "outputs": []
    },
    {
      "cell_type": "code",
      "source": [
        "x_train.shape"
      ],
      "metadata": {
        "id": "ucUxeNpT6BqC",
        "colab": {
          "base_uri": "https://localhost:8080/"
        },
        "outputId": "0d97af1c-ad32-487b-ce5e-216dcb795d93"
      },
      "execution_count": null,
      "outputs": [
        {
          "output_type": "execute_result",
          "data": {
            "text/plain": [
              "(4930, 19)"
            ]
          },
          "metadata": {},
          "execution_count": 26
        }
      ]
    },
    {
      "cell_type": "code",
      "source": [
        "x_test.shape"
      ],
      "metadata": {
        "id": "TiJL-U4n6Dsu",
        "colab": {
          "base_uri": "https://localhost:8080/"
        },
        "outputId": "423cd857-75e8-410b-e9ed-5892a3b92431"
      },
      "execution_count": null,
      "outputs": [
        {
          "output_type": "execute_result",
          "data": {
            "text/plain": [
              "(2113, 19)"
            ]
          },
          "metadata": {},
          "execution_count": 27
        }
      ]
    },
    {
      "cell_type": "markdown",
      "source": [
        "## 3-2) Feature selection 없이 진행"
      ],
      "metadata": {
        "id": "tFHt0myVB-Ip"
      }
    },
    {
      "cell_type": "markdown",
      "source": [
        "### 3-2.1) Logistic Regression"
      ],
      "metadata": {
        "id": "3sPmmI-jDgZz"
      }
    },
    {
      "cell_type": "markdown",
      "source": [
        "모델 선정 이유: 해당 데이터가 feature space에서 선형의 모양을 갖는지 확인하기 위해서 선택하였다. 이를 이후 MLP와 RandomForest와 비교하여 선형 혹은 비선형의 적합성을 판별할 것이다."
      ],
      "metadata": {
        "id": "0Z-17JrOEbWv"
      }
    },
    {
      "cell_type": "markdown",
      "source": [
        "#### Default 모델 확인"
      ],
      "metadata": {
        "id": "VlH48NITEv64"
      }
    },
    {
      "cell_type": "code",
      "source": [
        "model = LogisticRegression()\n",
        "model.fit(x_train, y_train)\n",
        "print(model.score(x_test, y_test))"
      ],
      "metadata": {
        "id": "HCTuV1-tDfxO",
        "colab": {
          "base_uri": "https://localhost:8080/"
        },
        "outputId": "7f206502-fb33-48dd-dbb9-72cdd0fbe76c"
      },
      "execution_count": null,
      "outputs": [
        {
          "output_type": "stream",
          "name": "stdout",
          "text": [
            "0.8021769995267393\n"
          ]
        }
      ]
    },
    {
      "cell_type": "markdown",
      "source": [
        "#### Grid Search CV를 통해 hyperparameter tuning"
      ],
      "metadata": {
        "id": "hgFOKgOBE0bv"
      }
    },
    {
      "cell_type": "markdown",
      "source": [
        "10 fold로 설정한 후 GridSearch로 cross validation을 진행하였다. 그 결과 highest score를 가진 estimator의 parameter는 C=10, penalty='l1', solver='liblinear'이었고, 이것의 cross validation score의 평균은 0.8024340770791074이었다.default model보다 약간 향상된 모습을 보인다. 그러나 이것은 cross validation의 성능이므로 구체적인 성능비교는 이후 test set으로 진행할 것이다."
      ],
      "metadata": {
        "id": "eVEDILLBiCAp"
      }
    },
    {
      "cell_type": "code",
      "source": [
        "log_model_before = LogisticRegression()\n",
        "params_log_grid = [    \n",
        "    {'penalty' : ['l1', 'l2', 'elasticnet', 'none'],\n",
        "    'C' : [0.00001, 0.0001, 0.001, 0.01, 0.1, 1, 10, 100, 1000],\n",
        "    'solver' : ['lbfgs','newton-cg','liblinear','sag','saga'],\n",
        "    'max_iter' : [100, 500, 1000, 2500, 5000]\n",
        "    }\n",
        "]\n",
        "cv_grid=KFold(n_splits=10)\n",
        "clf_before = GridSearchCV(log_model_before, param_grid = params_log_grid, cv = cv_grid, verbose=1)\n",
        "best_clf_before = clf_before.fit(x_train,y_train)"
      ],
      "metadata": {
        "id": "bDWMGarkE8ut"
      },
      "execution_count": null,
      "outputs": []
    },
    {
      "cell_type": "code",
      "source": [
        "print(\"highest score를 가진 estimator: \",best_clf_before.best_estimator_)\n",
        "print(\"Mean cross-validated score of the best_estimator:\",best_clf_before.best_score_)\n",
        "print(\"cross validation split 개수:\",best_clf_before.n_splits_)"
      ],
      "metadata": {
        "id": "ajMK1xR4FQFb",
        "colab": {
          "base_uri": "https://localhost:8080/"
        },
        "outputId": "e201ccbd-1cd1-42e3-a465-28c43c73d9e3"
      },
      "execution_count": null,
      "outputs": [
        {
          "output_type": "stream",
          "name": "stdout",
          "text": [
            "highest score를 가진 estimator:  LogisticRegression(C=10, penalty='l1', solver='liblinear')\n",
            "Mean cross-validated score of the best_estimator: 0.8024340770791074\n",
            "cross validation split 개수: 10\n"
          ]
        }
      ]
    },
    {
      "cell_type": "markdown",
      "source": [
        "#### Optimized model 생성"
      ],
      "metadata": {
        "id": "257B-36SJAuJ"
      }
    },
    {
      "cell_type": "markdown",
      "source": [
        "GridSearch cross validation을 통해 선정한 best parameter를 통해 최적의 모델을 생성하고 훈련을 진행하였다.test set을 이용해서 성능을 다양한 평가지표를 통해 확인해보았다. default model의 accuracy가 0.8021769995267393이었고, 최적화한 모델의 accuracy는 0.8021769995267393로 동일한 값이 나왔다. \n",
        "\n",
        "accuracy는 약 80.21%로 꽤 높은 값을 보이지만 imbalanced data로 인해 f1_score를 살펴보면 accuracy보다 많이 차이가 나게 낮은 59.73%인 것을 확인할 수 있다. 그리고 recall에 비해 precision이 더 높은 것을 보았을 때, 모델이 가입 해지를 예측한 고객들 중 실제 가입 해지를 할 확률은 높다고 판단할 수 있지만, 이 모델 자체가 찾은 정답값의 비율이 전체 가입 해지 고객들 중에서는 높지 않은 것으로 해석할 수 있다. "
      ],
      "metadata": {
        "id": "tQZJkuP0iU5_"
      }
    },
    {
      "cell_type": "code",
      "source": [
        "op_log_model_before = LogisticRegression(C=10, penalty='l1', solver='liblinear')\n",
        "op_log_model_before.fit(x_train,y_train)\n",
        "y_pred_log_before=op_log_model_before.predict(x_test)\n",
        "y_prob_log_before=op_log_model_before.predict_proba(x_test)[:,1]"
      ],
      "metadata": {
        "id": "eAX2h3JOJD95"
      },
      "execution_count": null,
      "outputs": []
    },
    {
      "cell_type": "code",
      "source": [
        "print(\"Logistic Regression accuracy:\",op_log_model_before.score(x_test,y_test))\n",
        "print(\"Logistic Regression f1_score:\",f1_score(y_test,y_pred_log_before))\n",
        "print(\"recall\",recall_score(y_test, y_pred_log_before))\n",
        "print(\"precision\",precision_score(y_test, y_pred_log_before))"
      ],
      "metadata": {
        "id": "zxl_AY41JkkL",
        "colab": {
          "base_uri": "https://localhost:8080/"
        },
        "outputId": "291dbdd6-97c7-4bb7-9190-5e289db540b8"
      },
      "execution_count": null,
      "outputs": [
        {
          "output_type": "stream",
          "name": "stdout",
          "text": [
            "Logistic Regression accuracy: 0.8021769995267393\n",
            "Logistic Regression f1_score: 0.5973025048169558\n",
            "recall 0.5626134301270418\n",
            "precision 0.6365503080082136\n"
          ]
        }
      ]
    },
    {
      "cell_type": "markdown",
      "source": [
        "### 3-2.2) MLP"
      ],
      "metadata": {
        "id": "BxYM0OkODl4i"
      }
    },
    {
      "cell_type": "markdown",
      "source": [
        "모델 선정 이유: Logistic Regression에서 좋은 성능이 나오지 않았다. 따라서 이 데이터는 선형의 성질보다 비선형일 가능성이 높기 때문에 비선형의 모델이 MLP를 선정하였다."
      ],
      "metadata": {
        "id": "Pym98fiXVw8M"
      }
    },
    {
      "cell_type": "markdown",
      "source": [
        "#### default model 확인"
      ],
      "metadata": {
        "id": "JmW7FkeUJ4Kw"
      }
    },
    {
      "cell_type": "code",
      "source": [
        "mlp_before = MLPClassifier()\n",
        "mlp_before.fit(x_train,y_train)\n",
        "print(mlp_before.score(x_test,y_test))"
      ],
      "metadata": {
        "id": "y3eZWUQ6J2Sf",
        "colab": {
          "base_uri": "https://localhost:8080/"
        },
        "outputId": "86c7660f-864e-4508-bbd5-a65669ed0259"
      },
      "execution_count": null,
      "outputs": [
        {
          "output_type": "stream",
          "name": "stdout",
          "text": [
            "0.7785139611926172\n"
          ]
        },
        {
          "output_type": "stream",
          "name": "stderr",
          "text": [
            "/usr/local/lib/python3.7/dist-packages/sklearn/neural_network/_multilayer_perceptron.py:696: ConvergenceWarning: Stochastic Optimizer: Maximum iterations (200) reached and the optimization hasn't converged yet.\n",
            "  ConvergenceWarning,\n"
          ]
        }
      ]
    },
    {
      "cell_type": "markdown",
      "source": [
        "#### GridSearchCV로 hyperparameter tuning"
      ],
      "metadata": {
        "id": "R6VT6beNKJuK"
      }
    },
    {
      "cell_type": "markdown",
      "source": [
        "10 fold를 통해 GridSearch cross validation을 통해 best hyperparameter를 찾은 결과 hidden_layer_sizes=(150,), learning_rate_init=0.0001의 결과가 나왔고, 이때의 cross validated score의 평균은 0.8020283975659229이었다. 이는 default model의 성능보다 향상된 모습을 보인다. 추후 test set 비교로 더욱 정확한 성능 비교를 해볼 것이다."
      ],
      "metadata": {
        "id": "KcK-kgwUpARX"
      }
    },
    {
      "cell_type": "code",
      "source": [
        "mlp_model_before = MLPClassifier()\n",
        "params_mlp_grid = {\n",
        "             'hidden_layer_sizes': [(70,),(100,),(150,)],\n",
        "              'activation': ['tanh', 'relu'],\n",
        "              'learning_rate_init': [0.0001,0.001]}\n",
        "              \n",
        "cv_grid_2=KFold(n_splits=10)\n",
        "mlp_clf_bf = GridSearchCV(mlp_model_before, param_grid = params_mlp_grid, cv = cv_grid_2, verbose=1, n_jobs = -1)\n",
        "best_mlp_clf_bf = mlp_clf_bf.fit(x_train,y_train)"
      ],
      "metadata": {
        "id": "c_bBwGIeKPEA",
        "colab": {
          "base_uri": "https://localhost:8080/"
        },
        "outputId": "6838f137-1605-4e43-babc-23d6507d1951"
      },
      "execution_count": null,
      "outputs": [
        {
          "output_type": "stream",
          "name": "stdout",
          "text": [
            "Fitting 10 folds for each of 12 candidates, totalling 120 fits\n"
          ]
        },
        {
          "output_type": "stream",
          "name": "stderr",
          "text": [
            "/usr/local/lib/python3.7/dist-packages/sklearn/neural_network/_multilayer_perceptron.py:696: ConvergenceWarning: Stochastic Optimizer: Maximum iterations (200) reached and the optimization hasn't converged yet.\n",
            "  ConvergenceWarning,\n"
          ]
        }
      ]
    },
    {
      "cell_type": "code",
      "source": [
        "print('highest score를 가진 estimator:',best_mlp_clf_bf.best_estimator_)\n",
        "print('Mean cross-validated score of the best_estimator',best_mlp_clf_bf.best_score_)\n",
        "print('cross validation split 개수',best_mlp_clf_bf.n_splits_)"
      ],
      "metadata": {
        "id": "0P-7HbcjKeYH",
        "colab": {
          "base_uri": "https://localhost:8080/"
        },
        "outputId": "b327aedc-5ee0-4ce7-b73d-e0f877991a05"
      },
      "execution_count": null,
      "outputs": [
        {
          "output_type": "stream",
          "name": "stdout",
          "text": [
            "highest score를 가진 estimator: MLPClassifier(hidden_layer_sizes=(150,), learning_rate_init=0.0001)\n",
            "Mean cross-validated score of the best_estimator 0.8020283975659229\n",
            "cross validation split 개수 10\n"
          ]
        }
      ]
    },
    {
      "cell_type": "markdown",
      "source": [
        "#### Optimized model 생성"
      ],
      "metadata": {
        "id": "giqLNE-8LUWI"
      }
    },
    {
      "cell_type": "markdown",
      "source": [
        "GridSearch cross validation을 통해 찾아낸 best parameter로 최적화된 모델을 생성하였다. 우선 accuracy가 default model의 경우 약 77.85%였지만 최적화 후 약 80.59%로 증가하였다. default model와 최적화 모델은 hidden layer size의 차이만이 존재한다. 따라서 hidden layer size증가로 정확도가 향상된 것으로 볼 수 있다. 그러나 불균형한 dataset에 의해서 f1_score은 그것보다낮은 59.64%가 나왔다. 그리고 recall보다 precision이 높게 나왔는데, 이를 통해 해당 모델이 찾은 가입 해지 고객 중 실제 가입 해지 고객의 비율은 상대적으로 높지만, 해당 모델이 전체 가입 해지 고객 중 실제 가입 해지 고객을 찾는 성능은 좋지 않다고 판단할 수 있다. \n"
      ],
      "metadata": {
        "id": "0Rd8eEIppTvS"
      }
    },
    {
      "cell_type": "code",
      "source": [
        "op_mlp_bf=MLPClassifier(hidden_layer_sizes=(150,), learning_rate_init=0.0001)\n",
        "op_mlp_bf.fit(x_train,y_train)\n",
        "y_pred_mlp_bf=op_mlp_bf.predict(x_test)\n",
        "y_prob_mlp_bf = op_mlp_bf.predict_proba(x_test)[:, 1]"
      ],
      "metadata": {
        "id": "BG1EZyvFLWx5",
        "colab": {
          "base_uri": "https://localhost:8080/"
        },
        "outputId": "57312933-7c27-4578-eb17-f7c04f9795b4"
      },
      "execution_count": null,
      "outputs": [
        {
          "output_type": "stream",
          "name": "stderr",
          "text": [
            "/usr/local/lib/python3.7/dist-packages/sklearn/neural_network/_multilayer_perceptron.py:696: ConvergenceWarning: Stochastic Optimizer: Maximum iterations (200) reached and the optimization hasn't converged yet.\n",
            "  ConvergenceWarning,\n"
          ]
        }
      ]
    },
    {
      "cell_type": "code",
      "source": [
        "print(\"MLP accuracy:\",op_mlp_bf.score(x_test,y_test))\n",
        "print(\"MLP f1_score:\",f1_score(y_test,y_pred_mlp_bf))\n",
        "print(\"recall\",recall_score(y_test, y_pred_mlp_bf))\n",
        "print(\"precision\",precision_score(y_test, y_pred_mlp_bf))"
      ],
      "metadata": {
        "id": "Be0bb_04LZ99",
        "colab": {
          "base_uri": "https://localhost:8080/"
        },
        "outputId": "047030df-e32d-47fa-b42d-2dd801464a6c"
      },
      "execution_count": null,
      "outputs": [
        {
          "output_type": "stream",
          "name": "stdout",
          "text": [
            "MLP accuracy: 0.8059630856601988\n",
            "MLP f1_score: 0.5964566929133858\n",
            "recall 0.5499092558983666\n",
            "precision 0.6516129032258065\n"
          ]
        }
      ]
    },
    {
      "cell_type": "markdown",
      "source": [
        "###3-2.3) RandomForest"
      ],
      "metadata": {
        "id": "2jx9J9KdDoQo"
      }
    },
    {
      "cell_type": "markdown",
      "source": [
        "모델 선정 이유: logistic regression과 MLP에서 아주 좋은 성능을 이끌어내지 못했다. 따라서 비선형을 표현할 수 있는 앙상블 모델을 선정했다. 앙상블 모델을 통해 voting을 통한 결과 예측으로 좀 더 일반화된 좋은 성능을 기대해보고자 선택하였다."
      ],
      "metadata": {
        "id": "KFerUSEQs0Ko"
      }
    },
    {
      "cell_type": "markdown",
      "source": [
        "#### default model 확인"
      ],
      "metadata": {
        "id": "9_TzvQ9OOK1c"
      }
    },
    {
      "cell_type": "code",
      "source": [
        "rf_bf= RandomForestClassifier()\n",
        "rf_bf.fit(x_train, y_train)\n",
        "rf_bf.score(x_test,y_test)"
      ],
      "metadata": {
        "id": "43a-64KtOKgc",
        "colab": {
          "base_uri": "https://localhost:8080/"
        },
        "outputId": "894a0465-3a0e-488d-a013-83e4585ef034"
      },
      "execution_count": null,
      "outputs": [
        {
          "output_type": "execute_result",
          "data": {
            "text/plain": [
              "0.7936583057264552"
            ]
          },
          "metadata": {},
          "execution_count": 37
        }
      ]
    },
    {
      "cell_type": "markdown",
      "source": [
        "#### GridSearchCV로 hyperparameter tuning"
      ],
      "metadata": {
        "id": "ZehYuiXdOahI"
      }
    },
    {
      "cell_type": "markdown",
      "source": [
        "10 fold을 활용하여 GridSearchCV로 hyperparameter tuning을 한 결과 best parameter는 max_depth=12, min_samples_leaf=18, min_samples_split=3, n_estimators=10이고 그에 따른 cross validated score의 평균은 0.0.8006085192697769이었다. 이는 default model의 score에 비해 향상된 모습을 보인다. 더욱 정확한 모델의 성능 차이는 이후 test set을 통한 비교로 진행할 것이다."
      ],
      "metadata": {
        "id": "Nk_VBiTE1_dO"
      }
    },
    {
      "cell_type": "code",
      "source": [
        "params_rf= { 'n_estimators' : [10, 50,100],\n",
        "           'max_depth' : [6, 8, 10, 12,20],\n",
        "           'min_samples_leaf' : [3, 5, 8, 12, 18, 20],\n",
        "           'min_samples_split' : [3, 5, 8, 16, 20]\n",
        "            }\n",
        "cv_grid_3=KFold(n_splits=10)\n",
        "rf_clf_bf = RandomForestClassifier()\n",
        "rf_clf_cv_bf = GridSearchCV(rf_clf_bf, param_grid = params_rf, cv = cv_grid_3, n_jobs = -1, verbose=1)\n",
        "best_rf_bf=rf_clf_cv_bf.fit(x_train, y_train)"
      ],
      "metadata": {
        "id": "bJwtI2U5Od1N",
        "colab": {
          "base_uri": "https://localhost:8080/"
        },
        "outputId": "fd80654c-6148-49c9-e405-afd0a17354af"
      },
      "execution_count": null,
      "outputs": [
        {
          "output_type": "stream",
          "name": "stdout",
          "text": [
            "Fitting 10 folds for each of 450 candidates, totalling 4500 fits\n"
          ]
        }
      ]
    },
    {
      "cell_type": "code",
      "source": [
        "print('highest score를 가진 estimator:',best_rf_bf.best_estimator_)\n",
        "print('Mean cross-validated score of the best_estimator',best_rf_bf.best_score_)\n",
        "print('cross validation split 개수',best_rf_bf.n_splits_)"
      ],
      "metadata": {
        "id": "Q62-aMBNOrKl",
        "colab": {
          "base_uri": "https://localhost:8080/"
        },
        "outputId": "ed7009cc-3e60-4c09-a266-b8fa359d9ddc"
      },
      "execution_count": null,
      "outputs": [
        {
          "output_type": "stream",
          "name": "stdout",
          "text": [
            "highest score를 가진 estimator: RandomForestClassifier(max_depth=12, min_samples_leaf=18, min_samples_split=3,\n",
            "                       n_estimators=10)\n",
            "Mean cross-validated score of the best_estimator 0.8006085192697769\n",
            "cross validation split 개수 10\n"
          ]
        }
      ]
    },
    {
      "cell_type": "markdown",
      "source": [
        "#### optimized model 생성"
      ],
      "metadata": {
        "id": "9-BNe5zHZrSw"
      }
    },
    {
      "cell_type": "markdown",
      "source": [
        "GridSearchCV를 통해 구한 best parameter를 이용하여 최적화된 모델을 생성하였다. default model의 경우 79.36%의 accuracy를 보였지만, 최적화 이후에는 80.26%로 성능이 향상했다. max_depth를 default model은 None이었는데 12로 제한하고, min_samples_leaf와 min_samples_split을 default 값보다 증가시킴으로써 overfitting을 방지하는 효과 때문에 성능이 향상된 것으로 판단된다. 또한 estimator의 개수도 default는 100개인데, 10으로 제한하였다. 이는 100개까지의 많은 모델의 voting이 필요하지 않았음을 의미하는 것으로 판단된다. \n",
        "\n",
        "그리고 이 경우 역시 불균형한 dataset 때문에 f1 score가 accuracy에 비해 많이 낮은 것을 확인할 수 잇다. 그리고 recall의 경우는 약 49.36%로 굉장히 낮은데, precision은 66.34%로 상대적으로 높은 결과를 보였다. 즉, 모델의 가입 해지 예측 결과 중의 실제 가입 해지 고객의 비율이 전체 가입 해지 고객 중 모델이 맞춘 가입 해지 고객의 비율보다 높다는 것이다."
      ],
      "metadata": {
        "id": "1mQQ1WSb2djU"
      }
    },
    {
      "cell_type": "code",
      "source": [
        "op_rf_bf=RandomForestClassifier(max_depth=12, #default=None\n",
        "                                min_samples_leaf=18, #default=1\n",
        "                                min_samples_split=3, #default=2\n",
        "                                n_estimators=10) #default=100\n",
        "\n",
        "op_rf_bf.fit(x_train,y_train)\n",
        "y_pred_rf_bf=op_rf_bf.predict(x_test)\n",
        "y_prob_rf_bf = op_rf_bf.predict_proba(x_test)[:, 1]"
      ],
      "metadata": {
        "id": "RIJTfVL5ZuC6"
      },
      "execution_count": null,
      "outputs": []
    },
    {
      "cell_type": "code",
      "source": [
        "print(\"랜덤포레스트 accuracy:\",op_rf_bf.score(x_test,y_test))\n",
        "print(\"랜덤포레스트 f1_score:\",f1_score(y_test,y_pred_rf_bf))\n",
        "print(\"recall\",recall_score(y_test, y_pred_rf_bf))\n",
        "print(\"precision\",precision_score(y_test, y_pred_rf_bf))"
      ],
      "metadata": {
        "id": "Ovo01yC4ZxE6",
        "colab": {
          "base_uri": "https://localhost:8080/"
        },
        "outputId": "ff6b8d20-e519-48d3-d980-42e11a662893"
      },
      "execution_count": null,
      "outputs": [
        {
          "output_type": "stream",
          "name": "stdout",
          "text": [
            "랜덤포레스트 accuracy: 0.8026502602934217\n",
            "랜덤포레스트 f1_score: 0.5660770031217482\n",
            "recall 0.49364791288566245\n",
            "precision 0.6634146341463415\n"
          ]
        }
      ]
    },
    {
      "cell_type": "markdown",
      "source": [
        "### Confusion Matrix"
      ],
      "metadata": {
        "id": "YuaYaGofaLLE"
      }
    },
    {
      "cell_type": "markdown",
      "source": [
        "\n",
        "\n",
        "*   Churn no=0\n",
        "*   Churn yes=1\n",
        "\n",
        "logistic regression, mlp, randomforest 모두에서 dataset이 no의 instance가 yes의 비해 많은 불균형 상태를 보이기 때문에 confusion matrix에서 좌상단(즉 맞춘 negative(0))의 값이 0.66~0.67로 큰 비율을 보이는 것을 확인할 수 있다. 데이터의 불균형으로 negative(0)를 positive(1)보다 잘 찾는 방향으로 모델이 훈련된 것을 해석해볼 수 있다.\n",
        "\n"
      ],
      "metadata": {
        "id": "PapmymVN8jIa"
      }
    },
    {
      "cell_type": "code",
      "source": [
        "def plot_cm(labels, predictions):\n",
        "  cm = confusion_matrix(labels, predictions)\n",
        "  plt.figure(figsize=(5,5))\n",
        "  sns.heatmap(cm, annot=True, fmt=\"d\")\n",
        "  plt.title('Confusion matrix')\n",
        "  plt.ylabel('Actual label')\n",
        "  plt.xlabel('Predicted label')"
      ],
      "metadata": {
        "id": "4n8G4vgv-pLe"
      },
      "execution_count": null,
      "outputs": []
    },
    {
      "cell_type": "code",
      "source": [
        "#logistic regression \n",
        "confusion_matrix(y_test, y_pred_log_before)\n",
        "plot_confusion_matrix(op_log_model_before, x_test, y_test, normalize='all')\n",
        "plot_cm(y_test, y_pred_log_before)"
      ],
      "metadata": {
        "id": "mGRX3_3YaXsP",
        "colab": {
          "base_uri": "https://localhost:8080/",
          "height": 668
        },
        "outputId": "b554cd32-0474-4fd1-b7bb-1be84c62f90a"
      },
      "execution_count": null,
      "outputs": [
        {
          "output_type": "stream",
          "name": "stderr",
          "text": [
            "/usr/local/lib/python3.7/dist-packages/sklearn/utils/deprecation.py:87: FutureWarning: Function plot_confusion_matrix is deprecated; Function `plot_confusion_matrix` is deprecated in 1.0 and will be removed in 1.2. Use one of the class methods: ConfusionMatrixDisplay.from_predictions or ConfusionMatrixDisplay.from_estimator.\n",
            "  warnings.warn(msg, category=FutureWarning)\n"
          ]
        },
        {
          "output_type": "display_data",
          "data": {
            "image/png": "[encoded data removed]",
            "text/plain": [
              "<Figure size 432x288 with 2 Axes>"
            ]
          },
          "metadata": {
            "needs_background": "light"
          }
        },
        {
          "output_type": "display_data",
          "data": {
            "image/png": "[encoded data removed]",
            "text/plain": [
              "<Figure size 360x360 with 2 Axes>"
            ]
          },
          "metadata": {
            "needs_background": "light"
          }
        }
      ]
    },
    {
      "cell_type": "code",
      "source": [
        "# mlp \n",
        "confusion_matrix(y_test, y_pred_mlp_bf)\n",
        "plot_confusion_matrix(op_mlp_bf, x_test, y_test, normalize='all')\n",
        "plot_cm(y_test, y_pred_mlp_bf)"
      ],
      "metadata": {
        "id": "F9jMfiIyaZGW",
        "colab": {
          "base_uri": "https://localhost:8080/",
          "height": 668
        },
        "outputId": "4233d7d2-a3a1-459e-8987-62ad7bbfb523"
      },
      "execution_count": null,
      "outputs": [
        {
          "output_type": "stream",
          "name": "stderr",
          "text": [
            "/usr/local/lib/python3.7/dist-packages/sklearn/utils/deprecation.py:87: FutureWarning: Function plot_confusion_matrix is deprecated; Function `plot_confusion_matrix` is deprecated in 1.0 and will be removed in 1.2. Use one of the class methods: ConfusionMatrixDisplay.from_predictions or ConfusionMatrixDisplay.from_estimator.\n",
            "  warnings.warn(msg, category=FutureWarning)\n"
          ]
        },
        {
          "output_type": "display_data",
          "data": {
            "image/png": "[encoded data removed]",
            "text/plain": [
              "<Figure size 432x288 with 2 Axes>"
            ]
          },
          "metadata": {
            "needs_background": "light"
          }
        },
        {
          "output_type": "display_data",
          "data": {
            "image/png": "[encoded data removed]",
            "text/plain": [
              "<Figure size 360x360 with 2 Axes>"
            ]
          },
          "metadata": {
            "needs_background": "light"
          }
        }
      ]
    },
    {
      "cell_type": "code",
      "source": [
        "# RandomForest\n",
        "confusion_matrix(y_test, y_pred_rf_bf)\n",
        "plot_confusion_matrix(op_rf_bf, x_test, y_test, normalize='all')\n",
        "plot_cm(y_test, y_pred_rf_bf)"
      ],
      "metadata": {
        "id": "dIFCvajjaan_",
        "colab": {
          "base_uri": "https://localhost:8080/",
          "height": 668
        },
        "outputId": "758d6352-1a5f-4884-a195-7825b20c7ba8"
      },
      "execution_count": null,
      "outputs": [
        {
          "output_type": "stream",
          "name": "stderr",
          "text": [
            "/usr/local/lib/python3.7/dist-packages/sklearn/utils/deprecation.py:87: FutureWarning: Function plot_confusion_matrix is deprecated; Function `plot_confusion_matrix` is deprecated in 1.0 and will be removed in 1.2. Use one of the class methods: ConfusionMatrixDisplay.from_predictions or ConfusionMatrixDisplay.from_estimator.\n",
            "  warnings.warn(msg, category=FutureWarning)\n"
          ]
        },
        {
          "output_type": "display_data",
          "data": {
            "image/png": "[encoded data removed]",
            "text/plain": [
              "<Figure size 432x288 with 2 Axes>"
            ]
          },
          "metadata": {
            "needs_background": "light"
          }
        },
        {
          "output_type": "display_data",
          "data": {
            "image/png": "[encoded data removed]",
            "text/plain": [
              "<Figure size 360x360 with 2 Axes>"
            ]
          },
          "metadata": {
            "needs_background": "light"
          }
        }
      ]
    },
    {
      "cell_type": "markdown",
      "source": [
        "### 세 모델 비교"
      ],
      "metadata": {
        "id": "I8sOy09FaR6t"
      }
    },
    {
      "cell_type": "markdown",
      "source": [
        "비선형 모델(MLP,RandomForest)와 선형의 모델(Logistic Regression)이 다양한 measure의 결과값이 비슷한 것을 보아 이 data는 linear의 특성을 갖는 것으로 유추해볼 수 있다. \n",
        "\n",
        "랜덤 포레스트는 매우 차원이 높은 데이터에는 잘 동작하지 않는 한계가 있어 AUC 와 f1에서의 성능이 세 모델 중 가장 좋지 않게 나왔다. RandomForest는 feature selection을 통해 feature space를 단순화 시킨 후에 성능 향상을 기대해볼 수 있을 것이다."
      ],
      "metadata": {
        "id": "Cnw8dsiHKza_"
      }
    },
    {
      "cell_type": "markdown",
      "source": [
        "#### ROC, AUC"
      ],
      "metadata": {
        "id": "O72VSNDSKJ__"
      }
    },
    {
      "cell_type": "markdown",
      "source": [
        "feature selection 이전의 ROC 커브를 통한 AUC score를 비교해보면, 세 모델이 유사한 값을 가지지만, 그중에서도 Logistic Regression이 가장 좋은 성능을, RandomForest가 가장 좋지 않은 성능을 보인다. "
      ],
      "metadata": {
        "id": "yFg2z2fEJOMV"
      }
    },
    {
      "cell_type": "code",
      "source": [
        "plt.figure(figsize=(6,6))\n",
        "\n",
        "lr_fp,lr_tp,mlp_ =roc_curve(y_test, y_prob_log_before)\n",
        "mlp_fp,mlp_tp,mlp_ =roc_curve(y_test, y_prob_mlp_bf)\n",
        "rf_fp,rf_tp,rf_ =roc_curve(y_test, y_prob_rf_bf)\n",
        " \n",
        "plt.step(lr_fp, lr_tp, color='blue', lw=2)\n",
        "plt.step(mlp_fp, mlp_tp, color='red', lw=2)\n",
        "plt.step(rf_fp, rf_tp, color='green', lw=2)\n",
        "\n",
        "plt.legend(['LogisticRegression','MLP','RandomForest'])\n",
        "plt.show()\n",
        "\n",
        "print(\"logistic regression AUC score\",roc_auc_score(y_test, y_prob_log_before))\n",
        "print(\"MLP AUC score\",roc_auc_score(y_test, y_prob_mlp_bf))\n",
        "print(\"RandomForest AUC score\",roc_auc_score(y_test, y_prob_rf_bf))"
      ],
      "metadata": {
        "id": "5y_LtUOmC-Fc",
        "colab": {
          "base_uri": "https://localhost:8080/",
          "height": 428
        },
        "outputId": "61dc1f3b-afac-4ae4-ea84-d068a51f5430"
      },
      "execution_count": null,
      "outputs": [
        {
          "output_type": "display_data",
          "data": {
            "image/png": "[encoded data removed]",
            "text/plain": [
              "<Figure size 432x432 with 1 Axes>"
            ]
          },
          "metadata": {
            "needs_background": "light"
          }
        },
        {
          "output_type": "stream",
          "name": "stdout",
          "text": [
            "logistic regression AUC score 0.8448566336145898\n",
            "MLP AUC score 0.8438876120939464\n",
            "RandomForest AUC score 0.8391557893807325\n"
          ]
        }
      ]
    },
    {
      "cell_type": "markdown",
      "source": [
        "#### accuracy, f1_score"
      ],
      "metadata": {
        "id": "aUjcudqCJmev"
      }
    },
    {
      "cell_type": "markdown",
      "source": [
        "imbalanced data이므로 f1 score를 중점적으로 세 모델을 비교해보면 랜덤포레스트 모델이 성능이 가장 좋지 않게 나오고, 선형모델인 Logistic Regression과 비선형 모델인 MLP는 f1_score가 비슷하게 나왔다. "
      ],
      "metadata": {
        "id": "NuTsv8raKhFW"
      }
    },
    {
      "cell_type": "code",
      "source": [
        "print(\"Logistic Regression accuracy:\",op_log_model_before.score(x_test,y_test))\n",
        "print(\"Logistic Regression f1_score:\",f1_score(y_test,y_pred_log_before))\n",
        "print('\\n')\n",
        "print(\"MLP accuracy:\",op_mlp_bf.score(x_test,y_test))\n",
        "print(\"MLP f1_score:\",f1_score(y_test,y_pred_mlp_bf))\n",
        "print('\\n')\n",
        "print(\"랜덤포레스트 accuracy:\",op_rf_bf.score(x_test,y_test))\n",
        "print(\"랜덤포레스트 f1_score:\",f1_score(y_test,y_pred_rf_bf))"
      ],
      "metadata": {
        "id": "hTQyvUHKJoqK",
        "colab": {
          "base_uri": "https://localhost:8080/"
        },
        "outputId": "e575f167-e693-4654-ee9e-4ccf1bff39df"
      },
      "execution_count": null,
      "outputs": [
        {
          "output_type": "stream",
          "name": "stdout",
          "text": [
            "Logistic Regression accuracy: 0.8021769995267393\n",
            "Logistic Regression f1_score: 0.5973025048169558\n",
            "\n",
            "\n",
            "MLP accuracy: 0.8059630856601988\n",
            "MLP f1_score: 0.5964566929133858\n",
            "\n",
            "\n",
            "랜덤포레스트 accuracy: 0.8026502602934217\n",
            "랜덤포레스트 f1_score: 0.5660770031217482\n"
          ]
        }
      ]
    },
    {
      "cell_type": "markdown",
      "source": [
        "## 3-3) Feature selection 진행"
      ],
      "metadata": {
        "id": "sX3Er_4U8lVC"
      }
    },
    {
      "cell_type": "markdown",
      "source": [
        "### feature selection: 모델 기반 특성 선택"
      ],
      "metadata": {
        "id": "vJjyRWE4Ci89"
      }
    },
    {
      "cell_type": "markdown",
      "source": [
        "모델 기반 특성 선택으로 중요한 특성들을 선택한다. SelectFromModel을 사용하였다.이 때 threshold는 median으로 했을 때 default model logistic  regression에서의 정확도가 feature selection 이전보다 낮아지는 것을 확인한 후 0.7로 조정하였다.<br>\n",
        "feature selection 후 x data: x_train_selected, x_test_selected"
      ],
      "metadata": {
        "id": "ZxCKyT4h8zQB"
      }
    },
    {
      "cell_type": "markdown",
      "source": [
        "제거된 feature: Dependents, PhoneService, StreamingTV, StreamingMovies"
      ],
      "metadata": {
        "id": "XpFDBl0fqx5v"
      }
    },
    {
      "cell_type": "code",
      "source": [
        "from sklearn.feature_selection import SelectFromModel\n",
        "from sklearn.ensemble import RandomForestClassifier\n",
        "\n",
        "select = SelectFromModel(RandomForestClassifier(n_estimators=100, random_state=42), threshold='0.7*median')\n",
        "\n",
        "select.fit(x_train, y_train)\n",
        "x_train_selected = select.transform(x_train)\n",
        "print(\"x_train.shape:\", x_train.shape)\n",
        "print(\"x_train_selected.shape:\", x_train_selected.shape)"
      ],
      "metadata": {
        "id": "AAe8FCez8qFg",
        "colab": {
          "base_uri": "https://localhost:8080/"
        },
        "outputId": "20527937-bc19-4c94-dc4c-1784032c3532"
      },
      "execution_count": null,
      "outputs": [
        {
          "output_type": "stream",
          "name": "stdout",
          "text": [
            "x_train.shape: (4930, 19)\n",
            "x_train_selected.shape: (4930, 15)\n"
          ]
        }
      ]
    },
    {
      "cell_type": "code",
      "source": [
        "mask = select.get_support()\n",
        "plt.matshow(mask.reshape(1, -1), cmap='gray_r')\n",
        "plt.xlabel(\"featue number\")"
      ],
      "metadata": {
        "id": "qmgElCft9Di1",
        "colab": {
          "base_uri": "https://localhost:8080/",
          "height": 126
        },
        "outputId": "24020320-b993-45fc-e0dc-23065bb10af8"
      },
      "execution_count": null,
      "outputs": [
        {
          "output_type": "execute_result",
          "data": {
            "text/plain": [
              "Text(0.5, 0, 'featue number')"
            ]
          },
          "metadata": {},
          "execution_count": 53
        },
        {
          "output_type": "display_data",
          "data": {
            "image/png": "[encoded data removed]",
            "text/plain": [
              "<Figure size 1152x144 with 1 Axes>"
            ]
          },
          "metadata": {
            "needs_background": "light"
          }
        }
      ]
    },
    {
      "cell_type": "code",
      "source": [
        "x_train.columns"
      ],
      "metadata": {
        "id": "qnRtVbFPqtzM",
        "colab": {
          "base_uri": "https://localhost:8080/"
        },
        "outputId": "275cf87c-af7e-4573-abe7-fec31d6745ae"
      },
      "execution_count": null,
      "outputs": [
        {
          "output_type": "execute_result",
          "data": {
            "text/plain": [
              "Index(['gender', 'SeniorCitizen', 'Partner', 'Dependents', 'PhoneService',\n",
              "       'MultipleLines', 'InternetService', 'OnlineSecurity', 'OnlineBackup',\n",
              "       'DeviceProtection', 'TechSupport', 'StreamingTV', 'StreamingMovies',\n",
              "       'Contract', 'PaperlessBilling', 'PaymentMethod', 'tenure',\n",
              "       'MonthlyCharges', 'TotalCharges'],\n",
              "      dtype='object')"
            ]
          },
          "metadata": {},
          "execution_count": 54
        }
      ]
    },
    {
      "cell_type": "code",
      "source": [
        "mask"
      ],
      "metadata": {
        "id": "KuTSNo3eqp4a",
        "colab": {
          "base_uri": "https://localhost:8080/"
        },
        "outputId": "78bd66c4-e2a0-4bc2-ed9e-ed8da9f36d3b"
      },
      "execution_count": null,
      "outputs": [
        {
          "output_type": "execute_result",
          "data": {
            "text/plain": [
              "array([ True,  True,  True, False, False,  True,  True,  True,  True,\n",
              "        True,  True, False, False,  True,  True,  True,  True,  True,\n",
              "        True])"
            ]
          },
          "metadata": {},
          "execution_count": 55
        }
      ]
    },
    {
      "cell_type": "code",
      "source": [
        "x_test_selected = select.transform(x_test)"
      ],
      "metadata": {
        "id": "CGmAo16a9PR7"
      },
      "execution_count": null,
      "outputs": []
    },
    {
      "cell_type": "markdown",
      "source": [
        "### 3-3.1) LogisticRegression"
      ],
      "metadata": {
        "id": "GKtgLeRlEGJ4"
      }
    },
    {
      "cell_type": "markdown",
      "source": [
        "#### Grid Search CV를 통해 hyperparameter tuning"
      ],
      "metadata": {
        "id": "onwoGBzaEZdV"
      }
    },
    {
      "cell_type": "code",
      "source": [
        "log_model = LogisticRegression()"
      ],
      "metadata": {
        "id": "hM3grlH3FTa-"
      },
      "execution_count": null,
      "outputs": []
    },
    {
      "cell_type": "code",
      "source": [
        "params_log_grid = [    \n",
        "    {'penalty' : ['l1', 'l2', 'elasticnet', 'none'],\n",
        "    'C' : [0.00001, 0.0001, 0.001, 0.01, 0.1, 1, 10, 100, 1000],\n",
        "    'solver' : ['lbfgs','newton-cg','liblinear','sag','saga'],\n",
        "    'max_iter' : [100, 500, 1000, 2500, 5000]\n",
        "    }\n",
        "]\n",
        "cv_grid=KFold(n_splits=10)"
      ],
      "metadata": {
        "id": "bdFkEgveFEON"
      },
      "execution_count": null,
      "outputs": []
    },
    {
      "cell_type": "code",
      "source": [
        "clf = GridSearchCV(log_model, param_grid = params_log_grid, cv = cv_grid, verbose=1)"
      ],
      "metadata": {
        "id": "zH4EsglfFGDY"
      },
      "execution_count": null,
      "outputs": []
    },
    {
      "cell_type": "code",
      "source": [
        "best_clf = clf.fit(x_train_selected,y_train)"
      ],
      "metadata": {
        "id": "sBDFl4oRFG10"
      },
      "execution_count": null,
      "outputs": []
    },
    {
      "cell_type": "code",
      "source": [
        "# highest score를 가진 estimator \n",
        "best_clf.best_estimator_"
      ],
      "metadata": {
        "id": "vz2qwYspFItO",
        "colab": {
          "base_uri": "https://localhost:8080/"
        },
        "outputId": "3e78968e-89d9-4ea6-a23f-8a8164d1babd"
      },
      "execution_count": null,
      "outputs": [
        {
          "output_type": "execute_result",
          "data": {
            "text/plain": [
              "LogisticRegression(C=1e-05, penalty='none', solver='sag')"
            ]
          },
          "metadata": {},
          "execution_count": 62
        }
      ]
    },
    {
      "cell_type": "code",
      "source": [
        "# Mean cross-validated score of the best_estimator\n",
        "best_clf.best_score_"
      ],
      "metadata": {
        "id": "3zROweeNJSIc",
        "colab": {
          "base_uri": "https://localhost:8080/"
        },
        "outputId": "e83df0c6-73bf-46ff-c364-060d18c67743"
      },
      "execution_count": null,
      "outputs": [
        {
          "output_type": "execute_result",
          "data": {
            "text/plain": [
              "0.8006085192697767"
            ]
          },
          "metadata": {},
          "execution_count": 63
        }
      ]
    },
    {
      "cell_type": "code",
      "source": [
        "#cross validation split 개수\n",
        "best_clf.n_splits_"
      ],
      "metadata": {
        "id": "EuB4NBfOJl3S",
        "colab": {
          "base_uri": "https://localhost:8080/"
        },
        "outputId": "18fe267b-8464-4fbb-fe69-21b6cfbd456c"
      },
      "execution_count": null,
      "outputs": [
        {
          "output_type": "execute_result",
          "data": {
            "text/plain": [
              "10"
            ]
          },
          "metadata": {},
          "execution_count": 64
        }
      ]
    },
    {
      "cell_type": "markdown",
      "source": [
        "#### Optimized Model 생성"
      ],
      "metadata": {
        "id": "4TIa6Kj1If9l"
      }
    },
    {
      "cell_type": "markdown",
      "source": [
        "이 경우도 역시accuracy는 높게 나오지만, 데이터가 불균형하기 때문에 f1_score이 그에 비에 낮은 것을 확인할 수 있다.\n",
        "\n",
        "\n",
        "feature selection을 하지 않고 gridsearch cv로 optimized 모델을 생성했던 것과 비교해보면 아주 작은 차이로 성능이 증가한 것을 확인할 수 있다. accuracy는 0.8021769995267393에서0.8050165641268339로 증가하였고, f1 score는 0.5973025048169558에서 0.59765625로 증가하였다. 또한 recall은 0.5626134301270418에서 0.5553539019963702로 감소하였고, precision은  0.6365503080082136에서 0.6469344608879493로 약간 증가하였다. \n",
        "\n",
        "즉, f1 측면에서 본다면 feature selection을 통해 약간의 성능 향상이 이루어졌다고 할 수 있다. 그러나 뒤에 AUC 분석을 보면, feature selection 전보다 성능이 낮아지는 결과를 확인할 수 있는데, f1 score보다 더욱 큰 폭으로 성능이 향상된다. 따라서 이 둘을 종합해보았을 때, feature selection을 통해 relevant한 feature가 제거되어 모델의 성능이 떨어진 것이라고 할 수 있다."
      ],
      "metadata": {
        "id": "6Sd81jN7m8NK"
      }
    },
    {
      "cell_type": "code",
      "source": [
        "op_log_model = LogisticRegression(C=1e-05, penalty='none', solver='sag')"
      ],
      "metadata": {
        "id": "fV73vBDpIm6f"
      },
      "execution_count": null,
      "outputs": []
    },
    {
      "cell_type": "code",
      "source": [
        "op_log_model.fit(x_train_selected,y_train)"
      ],
      "metadata": {
        "id": "ZgBZDPhjKulP",
        "colab": {
          "base_uri": "https://localhost:8080/"
        },
        "outputId": "ca718d26-4bb3-445c-f2f1-feafa3ffdf6e"
      },
      "execution_count": null,
      "outputs": [
        {
          "output_type": "stream",
          "name": "stderr",
          "text": [
            "/usr/local/lib/python3.7/dist-packages/sklearn/linear_model/_logistic.py:1484: UserWarning: Setting penalty='none' will ignore the C and l1_ratio parameters\n",
            "  \"Setting penalty='none' will ignore the C and l1_ratio parameters\"\n"
          ]
        },
        {
          "output_type": "execute_result",
          "data": {
            "text/plain": [
              "LogisticRegression(C=1e-05, penalty='none', solver='sag')"
            ]
          },
          "metadata": {},
          "execution_count": 111
        }
      ]
    },
    {
      "cell_type": "code",
      "source": [
        "y_pred=op_log_model.predict(x_test_selected)"
      ],
      "metadata": {
        "id": "TwcgNG4TOrjJ"
      },
      "execution_count": null,
      "outputs": []
    },
    {
      "cell_type": "code",
      "source": [
        "y_prob_log = op_log_model.predict_proba(x_test_selected)[:, 1]"
      ],
      "metadata": {
        "id": "SbfZvfsi201z"
      },
      "execution_count": null,
      "outputs": []
    },
    {
      "cell_type": "code",
      "source": [
        "print(\"accuracy:\",op_log_model.score(x_test_selected,y_test))\n",
        "print(\"f1_score:\",f1_score(y_test,y_pred))\n",
        "print(\"recall\",recall_score(y_test, y_pred))\n",
        "print(\"precision\",precision_score(y_test, y_pred))"
      ],
      "metadata": {
        "id": "7jYs0ON_LvDw",
        "colab": {
          "base_uri": "https://localhost:8080/"
        },
        "outputId": "397c54a6-805b-4f5e-8fa5-f92c204fef4a"
      },
      "execution_count": null,
      "outputs": [
        {
          "output_type": "stream",
          "name": "stdout",
          "text": [
            "accuracy: 0.8050165641268339\n",
            "f1_score: 0.59765625\n",
            "recall 0.5553539019963702\n",
            "precision 0.6469344608879493\n"
          ]
        }
      ]
    },
    {
      "cell_type": "markdown",
      "source": [
        "### 3-3.2) MLP"
      ],
      "metadata": {
        "id": "s6KdYj7d6vKQ"
      }
    },
    {
      "cell_type": "markdown",
      "source": [
        "#### GridSearchCV로 Hyperparameter tuning"
      ],
      "metadata": {
        "id": "stNj8xrYYlSH"
      }
    },
    {
      "cell_type": "code",
      "source": [
        "mlp_model = MLPClassifier()"
      ],
      "metadata": {
        "id": "Rae3eQFIYhpA"
      },
      "execution_count": null,
      "outputs": []
    },
    {
      "cell_type": "code",
      "source": [
        "params_mlp_grid = {\n",
        "              'hidden_layer_sizes': [(70,),(100,),(150,)],\n",
        "              'activation': ['tanh', 'relu'],\n",
        "              'learning_rate_init': [0.0001,0.001]}\n",
        "cv_grid_2=KFold(n_splits=10)"
      ],
      "metadata": {
        "id": "sNqgfvMaY5nP"
      },
      "execution_count": null,
      "outputs": []
    },
    {
      "cell_type": "code",
      "source": [
        "mlp_clf = GridSearchCV(mlp_model, param_grid = params_mlp_grid, cv = cv_grid_2, verbose=1, n_jobs = -1)"
      ],
      "metadata": {
        "id": "kLWXmpWQbvWK"
      },
      "execution_count": null,
      "outputs": []
    },
    {
      "cell_type": "code",
      "source": [
        "best_mlp_clf = mlp_clf.fit(x_train_selected,y_train)"
      ],
      "metadata": {
        "id": "6biRJIkbb08S",
        "colab": {
          "base_uri": "https://localhost:8080/"
        },
        "outputId": "60d31175-6a73-496a-b1f3-d13ecf81417a"
      },
      "execution_count": null,
      "outputs": [
        {
          "output_type": "stream",
          "name": "stdout",
          "text": [
            "Fitting 10 folds for each of 12 candidates, totalling 120 fits\n"
          ]
        },
        {
          "output_type": "stream",
          "name": "stderr",
          "text": [
            "/usr/local/lib/python3.7/dist-packages/sklearn/neural_network/_multilayer_perceptron.py:696: ConvergenceWarning: Stochastic Optimizer: Maximum iterations (200) reached and the optimization hasn't converged yet.\n",
            "  ConvergenceWarning,\n"
          ]
        }
      ]
    },
    {
      "cell_type": "code",
      "source": [
        "print('highest score를 가진 estimator:',best_mlp_clf.best_estimator_)\n",
        "print('Mean cross-validated score of the best_estimator',best_mlp_clf.best_score_)\n",
        "print('cross validation split 개수',best_mlp_clf.n_splits_)"
      ],
      "metadata": {
        "id": "5xnVelUHb_Qj",
        "colab": {
          "base_uri": "https://localhost:8080/"
        },
        "outputId": "3598b86e-1e25-4c3a-fae3-a717b1bbd3c3"
      },
      "execution_count": null,
      "outputs": [
        {
          "output_type": "stream",
          "name": "stdout",
          "text": [
            "highest score를 가진 estimator: MLPClassifier(hidden_layer_sizes=(150,), learning_rate_init=0.0001)\n",
            "Mean cross-validated score of the best_estimator 0.8028397565922921\n",
            "cross validation split 개수 10\n"
          ]
        }
      ]
    },
    {
      "cell_type": "markdown",
      "source": [
        "#### optimized mlp model 생성"
      ],
      "metadata": {
        "id": "adgt8xsjcmmA"
      }
    },
    {
      "cell_type": "markdown",
      "source": [
        " feature selection을 하지 않은 MLP 모델과 비교해봤을 때, accuracy, f1_score, recall은 모두 감소한 것으로 보인다.(precision의 경우  0.6516129032258065에서 0.65625로 미세한 차이로 증가하였다.)  feature selection을 하지 않았을 때의 모델과 feature selection 이후의 모델이 동일한 parameter를 갖는 것을 볼 때, 이는 온전히 data의 영향인 것으로 파악된다. 즉 feature selection을 통해 제거한 feature 중 class와 relevant한 feature가 있다는 것을 유추해볼 수 있다. \n"
      ],
      "metadata": {
        "id": "1HtaCQzWrvQV"
      }
    },
    {
      "cell_type": "code",
      "source": [
        "op_mlp=MLPClassifier(hidden_layer_sizes=(150,), learning_rate_init=0.0001)\n",
        "op_mlp.fit(x_train_selected,y_train)\n",
        "y_pred_mlp=op_mlp.predict(x_test_selected)"
      ],
      "metadata": {
        "id": "GpxyErBucqVy",
        "colab": {
          "base_uri": "https://localhost:8080/"
        },
        "outputId": "fcd32368-45cb-4b28-82c6-cb81ccf6c8aa"
      },
      "execution_count": null,
      "outputs": [
        {
          "output_type": "stream",
          "name": "stderr",
          "text": [
            "/usr/local/lib/python3.7/dist-packages/sklearn/neural_network/_multilayer_perceptron.py:696: ConvergenceWarning: Stochastic Optimizer: Maximum iterations (200) reached and the optimization hasn't converged yet.\n",
            "  ConvergenceWarning,\n"
          ]
        }
      ]
    },
    {
      "cell_type": "code",
      "source": [
        "y_prob_mlp = op_mlp.predict_proba(x_test_selected)[:, 1]"
      ],
      "metadata": {
        "id": "0esfIKhf2-zZ"
      },
      "execution_count": null,
      "outputs": []
    },
    {
      "cell_type": "code",
      "source": [
        "print(\"accuracy:\",op_mlp.score(x_test_selected,y_test))\n",
        "print(\"f1_score:\",f1_score(y_test,y_pred_mlp))\n",
        "print(\"recall\",recall_score(y_test, y_pred_mlp))\n",
        "print(\"precision\",precision_score(y_test, y_pred_mlp))"
      ],
      "metadata": {
        "id": "7QjAEZ8gc5Qt",
        "colab": {
          "base_uri": "https://localhost:8080/"
        },
        "outputId": "45117989-57b8-4ac8-e3a5-53fe716f0bcd"
      },
      "execution_count": null,
      "outputs": [
        {
          "output_type": "stream",
          "name": "stdout",
          "text": [
            "accuracy: 0.8054898248935163\n",
            "f1_score: 0.5885885885885886\n",
            "recall 0.5335753176043557\n",
            "precision 0.65625\n"
          ]
        }
      ]
    },
    {
      "cell_type": "markdown",
      "source": [
        "### 3-3.3) RandomForest"
      ],
      "metadata": {
        "id": "Lh-m-pE66y7_"
      }
    },
    {
      "cell_type": "markdown",
      "source": [
        "#### GridSearchCV로 hyperparameter tuning"
      ],
      "metadata": {
        "id": "7k7nrGemeyzp"
      }
    },
    {
      "cell_type": "code",
      "source": [
        "params_rf= { 'n_estimators' : [10, 50,100],\n",
        "           'max_depth' : [6, 8, 10, 12,20],\n",
        "           'min_samples_leaf' : [3, 5, 8, 12, 18, 20],\n",
        "           'min_samples_split' : [3, 5, 8, 16, 20]\n",
        "            }\n",
        "cv_grid_3=KFold(n_splits=10)"
      ],
      "metadata": {
        "id": "fuLGtULCevFy"
      },
      "execution_count": null,
      "outputs": []
    },
    {
      "cell_type": "code",
      "source": [
        "rf_clf = RandomForestClassifier()\n",
        "rf_clf_cv = GridSearchCV(rf_clf, param_grid = params_rf, cv = cv_grid_3, n_jobs = -1, verbose=1)\n",
        "best_rf=rf_clf_cv.fit(x_train_selected, y_train)"
      ],
      "metadata": {
        "id": "CFjD-wjXfBm7",
        "colab": {
          "base_uri": "https://localhost:8080/"
        },
        "outputId": "33f90035-8ce2-4744-dbec-d3dbc8cffe14"
      },
      "execution_count": null,
      "outputs": [
        {
          "output_type": "stream",
          "name": "stdout",
          "text": [
            "Fitting 10 folds for each of 450 candidates, totalling 4500 fits\n"
          ]
        }
      ]
    },
    {
      "cell_type": "code",
      "source": [
        "print('highest score를 가진 estimator:',best_rf.best_estimator_)\n",
        "print('Mean cross-validated score of the best_estimator',best_rf.best_score_)\n",
        "print('cross validation split 개수',best_rf.n_splits_)"
      ],
      "metadata": {
        "id": "H2gU3jGzfhHL",
        "colab": {
          "base_uri": "https://localhost:8080/"
        },
        "outputId": "f60bdd99-b72a-4100-8415-0a4c91688013"
      },
      "execution_count": null,
      "outputs": [
        {
          "output_type": "stream",
          "name": "stdout",
          "text": [
            "highest score를 가진 estimator: RandomForestClassifier(max_depth=8, min_samples_leaf=20, min_samples_split=3)\n",
            "Mean cross-validated score of the best_estimator 0.7995943204868154\n",
            "cross validation split 개수 10\n"
          ]
        }
      ]
    },
    {
      "cell_type": "markdown",
      "source": [
        "#### Optimized RandomForest Model 생성"
      ],
      "metadata": {
        "id": "TLQeWC8qflj5"
      }
    },
    {
      "cell_type": "markdown",
      "source": [
        " feature selection 이전과 비교하여 feature selection 후에 최적화된 모델의 accuracy, f1_score, recall, precision은 모두 증가하였다. 즉, feature selection 이후 성능 향상을 보였다고 할 수 있다. logistic regression과 mlp에서는 feature selection 이후 성능이 감소하는 모습이 보였는데, randomforest의 경우는 성능이 더 큰 폭으로 향상하였다. randomforest model은 여러개의 decision tree의 voting을 통해 예측의 결과를 내므로 중요한 feature들의 특성을 다른 모델들보다 더욱 잘 찾아내어 성능이 좋다고 판단된다. 즉, 랜덤 포레스트는 매우 차원이 높은 데이터에는 잘 동작하지 않는 한계가 있어 feature selection을 통해 feature space를 단순화 시킨 후에 성능 향상을 기대할 수 있다는 가설에 맞는 결과를 도출해낼 수 있었다.\n",
        "\n",
        " 또한, feature selection 전의 최적화된 모델보다 max_depth를 줄이고, min_samples_leaf를 늘림으로써 overfitting을 방지할 수 있고, estimator의 개수가 10개에서 100개로 증가함으로써 generalization 성능이 좋아졌다고 할 수 있다."
      ],
      "metadata": {
        "id": "w9SrZ5l16xLi"
      }
    },
    {
      "cell_type": "code",
      "source": [
        "op_rf=RandomForestClassifier(max_depth=8, min_samples_leaf=20, min_samples_split=3)\n",
        "op_rf.fit(x_train_selected,y_train)\n",
        "y_pred_rf=op_rf.predict(x_test_selected)"
      ],
      "metadata": {
        "id": "hJAHcldsflHW"
      },
      "execution_count": null,
      "outputs": []
    },
    {
      "cell_type": "code",
      "source": [
        "y_prob_rf = op_rf.predict_proba(x_test_selected)[:, 1]"
      ],
      "metadata": {
        "id": "tE-wYO-O3Crm"
      },
      "execution_count": null,
      "outputs": []
    },
    {
      "cell_type": "code",
      "source": [
        "print(\"accuracy:\",op_rf.score(x_test_selected,y_test))\n",
        "print(\"f1_score:\",f1_score(y_test,y_pred_rf))\n",
        "print(\"recall\",recall_score(y_test, y_pred_rf))\n",
        "print(\"precision\",precision_score(y_test, y_pred_rf))"
      ],
      "metadata": {
        "id": "j9L6P1cyftbi",
        "colab": {
          "base_uri": "https://localhost:8080/"
        },
        "outputId": "175f8113-26f6-45ce-c37c-aff846668c32"
      },
      "execution_count": null,
      "outputs": [
        {
          "output_type": "stream",
          "name": "stdout",
          "text": [
            "accuracy: 0.8059630856601988\n",
            "f1_score: 0.5799180327868853\n",
            "recall 0.5136116152450091\n",
            "precision 0.6658823529411765\n"
          ]
        }
      ]
    },
    {
      "cell_type": "markdown",
      "source": [
        "### Confusion Matrix 확인"
      ],
      "metadata": {
        "id": "z2hSUNpY1EsT"
      }
    },
    {
      "cell_type": "markdown",
      "source": [
        "feature selection 전과 동일한 모습을 보이기에 동일한 분석으로 해석될 수 있다."
      ],
      "metadata": {
        "id": "2CE0AojX6E-E"
      }
    },
    {
      "cell_type": "code",
      "source": [
        "#logistic regression \n",
        "confusion_matrix(y_test, y_pred)\n",
        "plot_confusion_matrix(op_log_model, x_test_selected, y_test, normalize='all')"
      ],
      "metadata": {
        "id": "H-IeYumT1PvU",
        "colab": {
          "base_uri": "https://localhost:8080/",
          "height": 353
        },
        "outputId": "1027b0fe-eac4-4dde-a8b4-02fba000c39d"
      },
      "execution_count": null,
      "outputs": [
        {
          "output_type": "stream",
          "name": "stderr",
          "text": [
            "/usr/local/lib/python3.7/dist-packages/sklearn/utils/deprecation.py:87: FutureWarning: Function plot_confusion_matrix is deprecated; Function `plot_confusion_matrix` is deprecated in 1.0 and will be removed in 1.2. Use one of the class methods: ConfusionMatrixDisplay.from_predictions or ConfusionMatrixDisplay.from_estimator.\n",
            "  warnings.warn(msg, category=FutureWarning)\n"
          ]
        },
        {
          "output_type": "execute_result",
          "data": {
            "text/plain": [
              "<sklearn.metrics._plot.confusion_matrix.ConfusionMatrixDisplay at 0x7f6986366990>"
            ]
          },
          "metadata": {},
          "execution_count": 86
        },
        {
          "output_type": "display_data",
          "data": {
            "image/png": "[encoded data removed]",
            "text/plain": [
              "<Figure size 432x288 with 2 Axes>"
            ]
          },
          "metadata": {
            "needs_background": "light"
          }
        }
      ]
    },
    {
      "cell_type": "code",
      "source": [
        "# mlp \n",
        "confusion_matrix(y_test, y_pred_mlp)\n",
        "plot_confusion_matrix(op_mlp, x_test_selected, y_test, normalize='all')"
      ],
      "metadata": {
        "id": "PfSu9DEY1ZBj",
        "colab": {
          "base_uri": "https://localhost:8080/",
          "height": 353
        },
        "outputId": "f0f05527-6c5f-461e-95d7-715b26b1f450"
      },
      "execution_count": null,
      "outputs": [
        {
          "output_type": "stream",
          "name": "stderr",
          "text": [
            "/usr/local/lib/python3.7/dist-packages/sklearn/utils/deprecation.py:87: FutureWarning: Function plot_confusion_matrix is deprecated; Function `plot_confusion_matrix` is deprecated in 1.0 and will be removed in 1.2. Use one of the class methods: ConfusionMatrixDisplay.from_predictions or ConfusionMatrixDisplay.from_estimator.\n",
            "  warnings.warn(msg, category=FutureWarning)\n"
          ]
        },
        {
          "output_type": "execute_result",
          "data": {
            "text/plain": [
              "<sklearn.metrics._plot.confusion_matrix.ConfusionMatrixDisplay at 0x7f6984e8c810>"
            ]
          },
          "metadata": {},
          "execution_count": 87
        },
        {
          "output_type": "display_data",
          "data": {
            "image/png": "[encoded data removed]",
            "text/plain": [
              "<Figure size 432x288 with 2 Axes>"
            ]
          },
          "metadata": {
            "needs_background": "light"
          }
        }
      ]
    },
    {
      "cell_type": "code",
      "source": [
        "# RandomForest\n",
        "confusion_matrix(y_test, y_pred_rf)\n",
        "plot_confusion_matrix(op_rf, x_test_selected, y_test, normalize='all')"
      ],
      "metadata": {
        "id": "ZOKVBYSz1bDm",
        "colab": {
          "base_uri": "https://localhost:8080/",
          "height": 353
        },
        "outputId": "5e9e6b21-33aa-4c06-fc69-b017ebf6914d"
      },
      "execution_count": null,
      "outputs": [
        {
          "output_type": "stream",
          "name": "stderr",
          "text": [
            "/usr/local/lib/python3.7/dist-packages/sklearn/utils/deprecation.py:87: FutureWarning: Function plot_confusion_matrix is deprecated; Function `plot_confusion_matrix` is deprecated in 1.0 and will be removed in 1.2. Use one of the class methods: ConfusionMatrixDisplay.from_predictions or ConfusionMatrixDisplay.from_estimator.\n",
            "  warnings.warn(msg, category=FutureWarning)\n"
          ]
        },
        {
          "output_type": "execute_result",
          "data": {
            "text/plain": [
              "<sklearn.metrics._plot.confusion_matrix.ConfusionMatrixDisplay at 0x7f6985f4ac50>"
            ]
          },
          "metadata": {},
          "execution_count": 88
        },
        {
          "output_type": "display_data",
          "data": {
            "image/png": "[encoded data removed]",
            "text/plain": [
              "<Figure size 432x288 with 2 Axes>"
            ]
          },
          "metadata": {
            "needs_background": "light"
          }
        }
      ]
    },
    {
      "cell_type": "markdown",
      "source": [
        "### 세 모델 비교"
      ],
      "metadata": {
        "id": "faULo3sH2eKw"
      }
    },
    {
      "cell_type": "markdown",
      "source": [
        "random forest는 feature selection 이전에 세 모델 중 가장 성능이 낮은 것으로 나타났지만, feature selection 이후 성능 향상 정도가 높아 AUC와 accuracy 측면에서 세 모델 중 좋은 성능을 보인다. 이는 RandomForest가 높은 dimension에서 한계가 있다는 특징 때문으로 추측된다. 즉, feature selection을 통해 feature space의 dimension을 줄였더니 random forest 성능이 좋아진 것으로 유추해볼 수 있다. MLP와 Logistic Regression에 비해 RandomForest가 단순화된 feature space에서 좋은 성능 향상을 보이는 것을 확인해볼 수 있다."
      ],
      "metadata": {
        "id": "rdwrQ7GxVK1_"
      }
    },
    {
      "cell_type": "markdown",
      "source": [
        "#### ROC, AUC 비교"
      ],
      "metadata": {
        "id": "MpcKgF8aM7L0"
      }
    },
    {
      "cell_type": "markdown",
      "source": [
        "RCO 커브를 통한 AUC score를 확인해보면 RandomForest가 성능이 가장 좋고, MLP가 score이 가장 낮다. \n",
        "\n",
        "\n",
        "feature selection 이전과 비교하면, MLP와 Logistic Regression의 AUC score는 감소하였고, RandomForest의 score만 증가하였다. \n"
      ],
      "metadata": {
        "id": "KErlE5B4VKgH"
      }
    },
    {
      "cell_type": "code",
      "source": [
        "plt.figure(figsize=(6,6))\n",
        "\n",
        "lr_fp,lr_tp,mlp_ =roc_curve(y_test, y_prob_log)\n",
        "mlp_fp,mlp_tp,mlp_ =roc_curve(y_test, y_prob_mlp)\n",
        "rf_fp,rf_tp,rf_ =roc_curve(y_test, y_prob_rf)\n",
        " \n",
        "plt.step(lr_fp, lr_tp, color='blue', lw=2)\n",
        "plt.step(mlp_fp, mlp_tp, color='red', lw=2)\n",
        "plt.step(rf_fp, rf_tp, color='green', lw=2)\n",
        "\n",
        "plt.legend(['LogisticRegression','MLP','RandomForest'])\n",
        "plt.show()\n",
        "\n",
        "print(\"logistic regression AUC score\",roc_auc_score(y_test, y_prob_log))\n",
        "print(\"MLP AUC score\",roc_auc_score(y_test, y_prob_mlp))\n",
        "print(\"RandomForest AUC score\",roc_auc_score(y_test, y_prob_rf))"
      ],
      "metadata": {
        "id": "OBU1BTfdM4fq",
        "colab": {
          "base_uri": "https://localhost:8080/",
          "height": 428
        },
        "outputId": "d6a44c36-3f07-42b4-fe3c-6334d298e69e"
      },
      "execution_count": null,
      "outputs": [
        {
          "output_type": "display_data",
          "data": {
            "image/png": "[encoded data removed]",
            "text/plain": [
              "<Figure size 432x432 with 1 Axes>"
            ]
          },
          "metadata": {
            "needs_background": "light"
          }
        },
        {
          "output_type": "stream",
          "name": "stdout",
          "text": [
            "logistic regression AUC score 0.8422807095003613\n",
            "MLP AUC score 0.8406133882987745\n",
            "RandomForest AUC score 0.8444185987065771\n"
          ]
        }
      ]
    },
    {
      "cell_type": "markdown",
      "source": [
        "#### accuracy, f1_score 비교"
      ],
      "metadata": {
        "id": "1DOFzZlxOfac"
      }
    },
    {
      "cell_type": "markdown",
      "source": [
        "feature selection 이후 MLP는 f1_score가 감소하였고, Logistic Regression과 RandomForest는 f1_score가 증가하였다. (RandomForest가 더 높은 향상률을 보인다) 그리고 Logistic Regression이 가장 높은 f1_score를 보인다."
      ],
      "metadata": {
        "id": "D_UG3E2aVJu6"
      }
    },
    {
      "cell_type": "code",
      "source": [
        "print(\"<after feature extraction>\\n\")\n",
        "print(\"Logistic Rregression accuracy:\",op_log_model.score(x_test_selected,y_test))\n",
        "print(\"Logistic Rregression f1_score:\",f1_score(y_test,y_pred))\n",
        "print(\"\\n\")\n",
        "print(\"MLP accuracy:\",op_mlp.score(x_test_selected,y_test))\n",
        "print(\"MLP f1_score:\",f1_score(y_test,y_pred_mlp))\n",
        "print(\"\\n\")\n",
        "print(\"Random Forest accuracy:\",op_rf.score(x_test_selected,y_test))\n",
        "print(\"Random Forest f1_score:\",f1_score(y_test,y_pred_rf))"
      ],
      "metadata": {
        "id": "Qav4LadpOi5L",
        "colab": {
          "base_uri": "https://localhost:8080/"
        },
        "outputId": "ef8da4b0-30e7-4bd5-c060-d09b644f106a"
      },
      "execution_count": null,
      "outputs": [
        {
          "output_type": "stream",
          "name": "stdout",
          "text": [
            "<after feature extraction>\n",
            "\n",
            "Logistic Rregression accuracy: 0.8050165641268339\n",
            "Logistic Rregression f1_score: 0.59765625\n",
            "\n",
            "\n",
            "MLP accuracy: 0.8054898248935163\n",
            "MLP f1_score: 0.5885885885885886\n",
            "\n",
            "\n",
            "Random Forest accuracy: 0.8059630856601988\n",
            "Random Forest f1_score: 0.5799180327868853\n"
          ]
        }
      ]
    },
    {
      "cell_type": "markdown",
      "source": [
        "## 3-4) Feature Selection 진행 _2"
      ],
      "metadata": {
        "id": "FwqotcuOmpaJ"
      }
    },
    {
      "cell_type": "markdown",
      "source": [
        "### feature selection 2: 반복적 특성 선택"
      ],
      "metadata": {
        "id": "HK3laYwbmvmA"
      }
    },
    {
      "cell_type": "markdown",
      "source": [
        "모델 기반 특성 선택을 통해 진행한 실험에서 랜덤 포레스트를 제외한 두 모델들이 feature selection 이전보다 큰 성능 향상을 보지 못했기 때문에 반복적 특성 선택의 방법으로 feature selection을 다시 진행해본다. 이 방법을 통해 feature 19개에서 10개로 제거를 하였다."
      ],
      "metadata": {
        "id": "KJ36U1GY8qjx"
      }
    },
    {
      "cell_type": "code",
      "source": [
        "from sklearn.feature_selection import RFE\n",
        "\n",
        "# RFE를 생성\n",
        "select = RFE(RandomForestClassifier(n_estimators=100, random_state=42), n_features_to_select=10)\n",
        "select.fit(x_train, y_train)\n",
        "\n",
        "# 선택된 특성을 시각화\n",
        "mask = select.get_support()\n",
        "plt.matshow(mask.reshape(1, -1), cmap='gray_r')\n",
        "plt.xlabel(\"feature number\")"
      ],
      "metadata": {
        "id": "EOEFeZW184CS",
        "colab": {
          "base_uri": "https://localhost:8080/",
          "height": 126
        },
        "outputId": "d3e84891-233c-4f1f-d5fd-5f50a77ab501"
      },
      "execution_count": null,
      "outputs": [
        {
          "output_type": "execute_result",
          "data": {
            "text/plain": [
              "Text(0.5, 0, 'feature number')"
            ]
          },
          "metadata": {},
          "execution_count": 91
        },
        {
          "output_type": "display_data",
          "data": {
            "image/png": "[encoded data removed]",
            "text/plain": [
              "<Figure size 1152x144 with 1 Axes>"
            ]
          },
          "metadata": {
            "needs_background": "light"
          }
        }
      ]
    },
    {
      "cell_type": "code",
      "source": [
        "x_train_rfe = select.transform(x_train)\n",
        "x_test_rfe = select.transform(x_test)"
      ],
      "metadata": {
        "id": "CUKBbnF89NQQ"
      },
      "execution_count": null,
      "outputs": []
    },
    {
      "cell_type": "code",
      "source": [
        "print(x_train.shape)\n",
        "print(x_train_rfe.shape)"
      ],
      "metadata": {
        "colab": {
          "base_uri": "https://localhost:8080/"
        },
        "id": "W8-AyqsK9R-4",
        "outputId": "cbd67e9f-9b52-4eae-cfcf-4e052b35c16f"
      },
      "execution_count": null,
      "outputs": [
        {
          "output_type": "stream",
          "name": "stdout",
          "text": [
            "(4930, 19)\n",
            "(4930, 10)\n"
          ]
        }
      ]
    },
    {
      "cell_type": "markdown",
      "source": [
        "### Logistic Regression"
      ],
      "metadata": {
        "id": "6daKwe6S9bMK"
      }
    },
    {
      "cell_type": "code",
      "source": [
        "log_model_rfe = LogisticRegression()\n",
        "clf_rfe = GridSearchCV(log_model_rfe, param_grid = params_log_grid, cv = cv_grid, verbose=1)\n",
        "best_clf_rfe = clf_rfe.fit(x_train_rfe,y_train)"
      ],
      "metadata": {
        "id": "NzFNOGT19tZ_"
      },
      "execution_count": null,
      "outputs": []
    },
    {
      "cell_type": "code",
      "source": [
        "print('highest score를 가진 estimator:',best_clf_rfe.best_estimator_)\n",
        "print('Mean cross-validated score of the best_estimator',best_clf_rfe.best_score_)\n",
        "print('cross validation split 개수',best_clf_rfe.n_splits_)"
      ],
      "metadata": {
        "id": "Trq3iTfN94EJ",
        "colab": {
          "base_uri": "https://localhost:8080/"
        },
        "outputId": "f58c6804-41e8-40b7-a1d7-a5ee9d7f691a"
      },
      "execution_count": null,
      "outputs": [
        {
          "output_type": "stream",
          "name": "stdout",
          "text": [
            "highest score를 가진 estimator: LogisticRegression(C=1e-05, penalty='none')\n",
            "Mean cross-validated score of the best_estimator 0.7955375253549696\n",
            "cross validation split 개수 10\n"
          ]
        }
      ]
    },
    {
      "cell_type": "code",
      "source": [
        "op_log_model_rfe = LogisticRegression(C=1e-05, penalty='none')\n",
        "op_log_model_rfe.fit(x_train_rfe,y_train)\n",
        "y_pred_rfe=op_log_model_rfe.predict(x_test_rfe)\n",
        "y_prob_log_rfe = op_log_model_rfe.predict_proba(x_test_rfe)[:, 1]"
      ],
      "metadata": {
        "id": "76pTm_5I98IB",
        "colab": {
          "base_uri": "https://localhost:8080/"
        },
        "outputId": "a13275aa-13d2-4c97-cd7e-997bc2e62e3e"
      },
      "execution_count": null,
      "outputs": [
        {
          "output_type": "stream",
          "name": "stderr",
          "text": [
            "/usr/local/lib/python3.7/dist-packages/sklearn/linear_model/_logistic.py:1484: UserWarning: Setting penalty='none' will ignore the C and l1_ratio parameters\n",
            "  \"Setting penalty='none' will ignore the C and l1_ratio parameters\"\n"
          ]
        }
      ]
    },
    {
      "cell_type": "code",
      "source": [
        "print(\"accuracy:\",op_log_model_rfe.score(x_test_rfe,y_test))\n",
        "print(\"f1_score:\",f1_score(y_test,y_pred_rfe))"
      ],
      "metadata": {
        "id": "sywbRZJZ-IE7",
        "colab": {
          "base_uri": "https://localhost:8080/"
        },
        "outputId": "57ee429c-7dcc-4122-cfa7-fa7879483238"
      },
      "execution_count": null,
      "outputs": [
        {
          "output_type": "stream",
          "name": "stdout",
          "text": [
            "accuracy: 0.7979176526265973\n",
            "f1_score: 0.5866408518877058\n",
            "recall 0.5499092558983666\n",
            "precision 0.6286307053941909\n"
          ]
        }
      ]
    },
    {
      "cell_type": "markdown",
      "source": [
        "### MLP"
      ],
      "metadata": {
        "id": "v2lPfQZE-lsr"
      }
    },
    {
      "cell_type": "code",
      "source": [
        "mlp_model_rfe = MLPClassifier()\n",
        "mlp_clf_rfe = GridSearchCV(mlp_model_rfe, param_grid = params_mlp_grid, cv = cv_grid_2, verbose=1, n_jobs = -1)\n",
        "best_mlp_clf_rfe = mlp_clf_rfe.fit(x_train_rfe,y_train)"
      ],
      "metadata": {
        "id": "l35fV2KZ-nmS",
        "colab": {
          "base_uri": "https://localhost:8080/"
        },
        "outputId": "1b10456a-6257-4b23-90cd-df6b0402f18e"
      },
      "execution_count": null,
      "outputs": [
        {
          "output_type": "stream",
          "name": "stdout",
          "text": [
            "Fitting 10 folds for each of 12 candidates, totalling 120 fits\n"
          ]
        },
        {
          "output_type": "stream",
          "name": "stderr",
          "text": [
            "/usr/local/lib/python3.7/dist-packages/sklearn/neural_network/_multilayer_perceptron.py:696: ConvergenceWarning: Stochastic Optimizer: Maximum iterations (200) reached and the optimization hasn't converged yet.\n",
            "  ConvergenceWarning,\n"
          ]
        }
      ]
    },
    {
      "cell_type": "code",
      "source": [
        "print('highest score를 가진 estimator:',best_mlp_clf_rfe.best_estimator_)\n",
        "print('Mean cross-validated score of the best_estimator',best_mlp_clf_rfe.best_score_)\n",
        "print('cross validation split 개수',best_mlp_clf_rfe.n_splits_)"
      ],
      "metadata": {
        "id": "TSALi1O2-1eF",
        "colab": {
          "base_uri": "https://localhost:8080/"
        },
        "outputId": "504fd88d-d63c-46fa-efc7-21c3e7ae9452"
      },
      "execution_count": null,
      "outputs": [
        {
          "output_type": "stream",
          "name": "stdout",
          "text": [
            "highest score를 가진 estimator: MLPClassifier(activation='tanh', hidden_layer_sizes=(70,))\n",
            "Mean cross-validated score of the best_estimator 0.7959432048681541\n",
            "cross validation split 개수 10\n"
          ]
        }
      ]
    },
    {
      "cell_type": "code",
      "source": [
        "op_mlp_rfe=MLPClassifier(activation='tanh', hidden_layer_sizes=(70,))\n",
        "op_mlp_rfe.fit(x_train_rfe,y_train)\n",
        "y_pred_mlp_rfe=op_mlp_rfe.predict(x_test_rfe)\n",
        "y_prob_mlp_rfe = op_mlp_rfe.predict_proba(x_test_rfe)[:, 1]"
      ],
      "metadata": {
        "id": "P7CEaEFS-5Un",
        "colab": {
          "base_uri": "https://localhost:8080/"
        },
        "outputId": "998f228b-88db-43db-9db7-f6cf40321365"
      },
      "execution_count": null,
      "outputs": [
        {
          "output_type": "stream",
          "name": "stderr",
          "text": [
            "/usr/local/lib/python3.7/dist-packages/sklearn/neural_network/_multilayer_perceptron.py:696: ConvergenceWarning: Stochastic Optimizer: Maximum iterations (200) reached and the optimization hasn't converged yet.\n",
            "  ConvergenceWarning,\n"
          ]
        }
      ]
    },
    {
      "cell_type": "code",
      "source": [
        "print(\"accuracy:\",op_mlp_rfe.score(x_test_rfe,y_test))\n",
        "print(\"f1_score:\",f1_score(y_test,y_pred_mlp_rfe))\n",
        "print(\"recall\",recall_score(y_test, y_pred_mlp_rfe))\n",
        "print(\"precision\",precision_score(y_test, y_pred_mlp_rfe))"
      ],
      "metadata": {
        "id": "baDRdslk-7l-",
        "colab": {
          "base_uri": "https://localhost:8080/"
        },
        "outputId": "e77b9a96-cd75-4d2c-fcf6-6f33ac53024c"
      },
      "execution_count": null,
      "outputs": [
        {
          "output_type": "stream",
          "name": "stdout",
          "text": [
            "accuracy: 0.8054898248935163\n",
            "f1_score: 0.5835866261398176\n",
            "recall 0.5226860254083484\n",
            "precision 0.6605504587155964\n"
          ]
        }
      ]
    },
    {
      "cell_type": "markdown",
      "source": [
        "### RandomForest"
      ],
      "metadata": {
        "id": "dhBE98mxEbmS"
      }
    },
    {
      "cell_type": "code",
      "source": [
        "rf_clf_rfe = RandomForestClassifier()\n",
        "rf_clf_cv_rfe = GridSearchCV(rf_clf_rfe, param_grid = params_rf, cv = cv_grid_3, n_jobs = -1, verbose=1)\n",
        "best_rf_rfe=rf_clf_cv_rfe.fit(x_train_rfe, y_train)"
      ],
      "metadata": {
        "id": "_PlM3wCwEeda",
        "colab": {
          "base_uri": "https://localhost:8080/"
        },
        "outputId": "9f83060a-d56f-4166-97e9-1a4abb266c1a"
      },
      "execution_count": null,
      "outputs": [
        {
          "output_type": "stream",
          "name": "stdout",
          "text": [
            "Fitting 10 folds for each of 450 candidates, totalling 4500 fits\n"
          ]
        }
      ]
    },
    {
      "cell_type": "code",
      "source": [
        "print('highest score를 가진 estimator:',best_rf_rfe.best_estimator_)\n",
        "print('Mean cross-validated score of the best_estimator',best_rf_rfe.best_score_)\n",
        "print('cross validation split 개수',best_rf_rfe.n_splits_)"
      ],
      "metadata": {
        "id": "hE148-q7Eror",
        "colab": {
          "base_uri": "https://localhost:8080/"
        },
        "outputId": "0e95ffc9-99ef-4901-c343-9573ef3aaae2"
      },
      "execution_count": null,
      "outputs": [
        {
          "output_type": "stream",
          "name": "stdout",
          "text": [
            "highest score를 가진 estimator: RandomForestClassifier(max_depth=10, min_samples_leaf=20, min_samples_split=5,\n",
            "                       n_estimators=10)\n",
            "Mean cross-validated score of the best_estimator 0.7995943204868154\n",
            "cross validation split 개수 10\n"
          ]
        }
      ]
    },
    {
      "cell_type": "code",
      "source": [
        "op_rf_rfe=RandomForestClassifier(max_depth=10, min_samples_leaf=20, min_samples_split=5,n_estimators=10)\n",
        "op_rf_rfe.fit(x_train_rfe,y_train)\n",
        "y_pred_rf_rfe=op_rf_rfe.predict(x_test_rfe)\n",
        "y_prob_rf_rfe = op_rf_rfe.predict_proba(x_test_rfe)[:, 1]"
      ],
      "metadata": {
        "id": "GqIVMni3Ets_"
      },
      "execution_count": null,
      "outputs": []
    },
    {
      "cell_type": "code",
      "source": [
        "print(\"accuracy:\",op_rf_rfe.score(x_test_rfe,y_test))\n",
        "print(\"f1_score:\",f1_score(y_test,y_pred_rf_rfe))\n",
        "print(\"recall\",recall_score(y_test, y_pred_rf_rfe))\n",
        "print(\"precision\",precision_score(y_test, y_pred_rf_rfe))"
      ],
      "metadata": {
        "id": "u7aF1PSmEvlD",
        "colab": {
          "base_uri": "https://localhost:8080/"
        },
        "outputId": "09e9fcbb-b4f8-48ac-981f-9aa2e51f701b"
      },
      "execution_count": null,
      "outputs": [
        {
          "output_type": "stream",
          "name": "stdout",
          "text": [
            "accuracy: 0.8054898248935163\n",
            "f1_score: 0.5723204994797086\n",
            "recall 0.49909255898366606\n",
            "precision 0.6707317073170732\n"
          ]
        }
      ]
    },
    {
      "cell_type": "markdown",
      "source": [
        "### ROC, AUC 확인"
      ],
      "metadata": {
        "id": "gWOVUc4lFsnK"
      }
    },
    {
      "cell_type": "markdown",
      "source": [
        "**<모델 기반 특성 선택과 비교 분석>**\n",
        "\n",
        "\n",
        "모델 기반 특성 선택에 비해 MLP는 AUC score가 증가했지만 나머지 두 모델을 감소하였다. 이를 통해 MLP는 19개의 feature에서보다 10개의 feature에서 더욱 좋은 성능을 보이는 것을 확인할 수 있다. 모델 기반 특성 선택에서 최적화 모델의 hidden layer size보다 반복적 특성 선택에서의 hidden layer size가 더 작다. feature 개수가 줄어 hidden layer size도 작아진 것으로 판단되고, 이로 인해 더욱 모델이 단순해져서 성능이 올라간 것으로 추측된다.\n",
        "\n",
        "랜덤포레스트의 경우는 최적화 모델이 모델 기반 특성 선택에서보다 max_depth가 깊어지고, min_sampels_split개수가 많아지고, estimator의 개수가 감소하였다. estimator의 개수가 100개에서 10개로 크게 감소한 차이가 있는데, 이 때문에 voting의 신뢰성이 감소되어 score가 낮아졌다고 추측해볼 수 있다.\n",
        "\n",
        "logistic regression의 경우는 solver가 이전에는 multiclass에 적합한 sag로 사용되었는데, 반복적 특성 선택에서는 default 값인 lbfgs로 사용된 차이 때문에 score가 감소한 것으로 판단된다.\n",
        "\n"
      ],
      "metadata": {
        "id": "pgBUAMvy9r6_"
      }
    },
    {
      "cell_type": "code",
      "source": [
        "plt.figure(figsize=(6,6))\n",
        "\n",
        "lr_fp,lr_tp,mlp_ =roc_curve(y_test, y_prob_log_rfe)\n",
        "mlp_fp,mlp_tp,mlp_ =roc_curve(y_test, y_prob_mlp_rfe)\n",
        "rf_fp,rf_tp,rf_ =roc_curve(y_test, y_prob_rf_rfe)\n",
        " \n",
        "plt.step(lr_fp, lr_tp, color='blue', lw=2)\n",
        "plt.step(mlp_fp, mlp_tp, color='red', lw=2)\n",
        "plt.step(rf_fp, rf_tp, color='green', lw=2)\n",
        "\n",
        "plt.legend(['LogisticRegression','MLP','RandomForest'])\n",
        "plt.show()\n",
        "\n",
        "print(\"logistic regression AUC score\",roc_auc_score(y_test, y_prob_log_rfe))\n",
        "print(\"MLP AUC score\",roc_auc_score(y_test, y_prob_mlp_rfe))\n",
        "print(\"RandomForest AUC score\",roc_auc_score(y_test, y_prob_rf_rfe))"
      ],
      "metadata": {
        "id": "FrmDDV4-Futv",
        "colab": {
          "base_uri": "https://localhost:8080/",
          "height": 428
        },
        "outputId": "c7e802da-3309-424a-b335-f876e18b3fec"
      },
      "execution_count": null,
      "outputs": [
        {
          "output_type": "display_data",
          "data": {
            "image/png": "[encoded data removed]",
            "text/plain": [
              "<Figure size 432x432 with 1 Axes>"
            ]
          },
          "metadata": {
            "needs_background": "light"
          }
        },
        {
          "output_type": "stream",
          "name": "stdout",
          "text": [
            "logistic regression AUC score 0.8397227947789028\n",
            "MLP AUC score 0.8427913629276069\n",
            "RandomForest AUC score 0.841430201403106\n"
          ]
        }
      ]
    },
    {
      "cell_type": "markdown",
      "source": [
        "### Accuracy, f1_score"
      ],
      "metadata": {
        "id": "lHBj2sq0nuR5"
      }
    },
    {
      "cell_type": "markdown",
      "source": [
        "f1 score의 경우, 세 모델 모두 모델 기반 특성 선택에서의 score보다  감소하였다. feature의 개수를 절반으로 줄이다보니 score가 감소한 것으로 판단된다. 즉, class와 relevant한 feature들까지 제거해버린 것이 원인으로 해석될 수 있다."
      ],
      "metadata": {
        "id": "G6q6JaCRAdyj"
      }
    },
    {
      "cell_type": "code",
      "source": [
        "print(\"LogisticRegression accuracy:\",op_log_model_rfe.score(x_test_rfe,y_test))\n",
        "print(\"LogisticRegression f1_score:\",f1_score(y_test,y_pred_rfe))\n",
        "print('\\n')\n",
        "print(\"MLP accuracy:\",op_mlp_rfe.score(x_test_rfe,y_test))\n",
        "print(\"MLP f1_score:\",f1_score(y_test,y_pred_mlp_rfe))\n",
        "print('\\n')\n",
        "print(\"RandomForest accuracy:\",op_rf_rfe.score(x_test_rfe,y_test))\n",
        "print(\"RandomForest f1_score:\",f1_score(y_test,y_pred_rf_rfe))"
      ],
      "metadata": {
        "colab": {
          "base_uri": "https://localhost:8080/"
        },
        "id": "TRIUrKzZnt3e",
        "outputId": "54aa5882-f0e8-4b7c-8b20-4b905c786835"
      },
      "execution_count": null,
      "outputs": [
        {
          "output_type": "stream",
          "name": "stdout",
          "text": [
            "LogisticRegression accuracy: 0.7979176526265973\n",
            "LogisticRegression f1_score: 0.5866408518877058\n",
            "\n",
            "\n",
            "MLP accuracy: 0.8054898248935163\n",
            "MLP f1_score: 0.5835866261398176\n",
            "\n",
            "\n",
            "RandomForest accuracy: 0.8054898248935163\n",
            "RandomForest f1_score: 0.5723204994797086\n"
          ]
        }
      ]
    },
    {
      "cell_type": "markdown",
      "source": [
        "## 결론"
      ],
      "metadata": {
        "id": "uURjkkc_Ot7G"
      }
    },
    {
      "cell_type": "markdown",
      "source": [
        "![캡처 2.JPG](data:image/jpeg;base64,/9j/4AAQSkZJRgABAQEAkACQAAD/4RDaRXhpZgAATU0AKgAAAAgABAE7AAIAAAAFAAAISodpAAQAAAABAAAIUJydAAEAAAAKAAAQyOocAAcAAAgMAAAAPgAAAAAc6gAAAAgAAAAAAAAAAAAAAAAAAAAAAAAAAAAAAAAAAAAAAAAAAAAAAAAAAAAAAAAAAAAAAAAAAAAAAAAAAAAAAAAAAAAAAAAAAAAAAAAAAAAAAAAAAAAAAAAAAAAAAAAAAAAAAAAAAAAAAAAAAAAAAAAAAAAAAAAAAAAAAAAAAAAAAAAAAAAAAAAAAAAAAAAAAAAAAAAAAAAAAAAAAAAAAAAAAAAAAAAAAAAAAAAAAAAAAAAAAAAAAAAAAAAAAAAAAAAAAAAAAAAAAAAAAAAAAAAAAAAAAAAAAAAAAAAAAAAAAAAAAAAAAAAAAAAAAAAAAAAAAAAAAAAAAAAAAAAAAAAAAAAAAAAAAAAAAAAAAAAAAAAAAAAAAAAAAAAAAAAAAAAAAAAAAAAAAAAAAAAAAAAAAAAAAAAAAAAAAAAAAAAAAAAAAAAAAAAAAAAAAAAAAAAAAAAAAAAAAAAAAAAAAAAAAAAAAAAAAAAAAAAAAAAAAAAAAAAAAAAAAAAAAAAAAAAAAAAAAAAAAAAAAAAAAAAAAAAAAAAAAAAAAAAAAAAAAAAAAAAAAAAAAAAAAAAAAAAAAAAAAAAAAAAAAAAAAAAAAAAAAAAAAAAAAAAAAAAAAAAAAAAAAAAAAAAAAAAAAAAAAAAAAAAAAAAAAAAAAAAAAAAAAAAAAAAAAAAAAAAAAAAAAAAAAAAAAAAAAAAAAAAAAAAAAAAAAAAAAAAAAAAAAAAAAAAAAAAAAAAAAAAAAAAAAAAAAAAAAAAAAAAAAAAAAAAAAAAAAAAAAAAAAAAAAAAAAAAAAAAAAAAAAAAAAAAAAAAAAAAAAAAAAAAAAAAAAAAAAAAAAAAAAAAAAAAAAAAAAAAAAAAAAAAAAAAAAAAAAAAAAAAAAAAAAAAAAAAAAAAAAAAAAAAAAAAAAAAAAAAAAAAAAAAAAAAAAAAAAAAAAAAAAAAAAAAAAAAAAAAAAAAAAAAAAAAAAAAAAAAAAAAAAAAAAAAAAAAAAAAAAAAAAAAAAAAAAAAAAAAAAAAAAAAAAAAAAAAAAAAAAAAAAAAAAAAAAAAAAAAAAAAAAAAAAAAAAAAAAAAAAAAAAAAAAAAAAAAAAAAAAAAAAAAAAAAAAAAAAAAAAAAAAAAAAAAAAAAAAAAAAAAAAAAAAAAAAAAAAAAAAAAAAAAAAAAAAAAAAAAAAAAAAAAAAAAAAAAAAAAAAAAAAAAAAAAAAAAAAAAAAAAAAAAAAAAAAAAAAAAAAAAAAAAAAAAAAAAAAAAAAAAAAAAAAAAAAAAAAAAAAAAAAAAAAAAAAAAAAAAAAAAAAAAAAAAAAAAAAAAAAAAAAAAAAAAAAAAAAAAAAAAAAAAAAAAAAAAAAAAAAAAAAAAAAAAAAAAAAAAAAAAAAAAAAAAAAAAAAAAAAAAAAAAAAAAAAAAAAAAAAAAAAAAAAAAAAAAAAAAAAAAAAAAAAAAAAAAAAAAAAAAAAAAAAAAAAAAAAAAAAAAAAAAAAAAAAAAAAAAAAAAAAAAAAAAAAAAAAAAAAAAAAAAAAAAAAAAAAAAAAAAAAAAAAAAAAAAAAAAAAAAAAAAAAAAAAAAAAAAAAAAAAAAAAAAAAAAAAAAAAAAAAAAAAAAAAAAAAAAAAAAAAAAAAAAAAAAAAAAAAAAAAAAAAAAAAAAAAAAAAAAAAAAAAAAAAAAAAAAAAAAAAAAAAAAAAAAAAAAAAAAAAAAAAAAAAAAAAAAAAAAAAAAAAAAAAAAAAAAAAAAAAAAAAAAAAAAAAAAAAAAAAAAAAAAAAAAAAAAAAAAAAAAAAAAAAAAAAAAAAAAAAAAAAAAAAAAAAAAAAAAAAAAAAAAAAAAAAAAAAAAAAAAAAAAAAAAAAAAAAAAAAAAAAAAAAAAAAAAAAAAAAAAAAAAAAAAAAAAAAAAAAAAAAAAAAAAAAAAAAAAAAAAAAAAAAAAAAAAAAAAAAAAAAAAAAAAAAAAAAAAAAAAAAAAAAAAAAAAAAAAAAAAAAAAAAAAAAAAAAAAAAAAAAAAAAAAAAAAAAAAAAAAAAAAAAAAAAAAAAAAAAAAAAAAAAAAAAAAAAAAAAAAAAAAAAAAAAAAAAAAAAAAAAAAAAAAAAAAAAAAAAAAAAAAAAAAAAAAAAAAAAAAAAAAAAAAAAAAAAAAAAAAAAAAAAAAAAAAAAAAAAAAAAAAAAAAAAAAAAAAAAAAAAAAAAAAAAAAAAAAAAAAAAAAAAAAAAAAAAAAAAAAAAAAAAAAAAAAAAAAAAAAAAAAAAAAAAAAAAAAAAAAAAAAAAAAAAAAAAAAAAAAAAAAAAAAAAAAAAAAAAAAAAAAAAAAAAAAAAAAAAAAAAAAAAAAAAAAAAAAAAAAAAAAAAAAAAAAAAAAAAAAAAAAAAAAAAAAAAAAAAAAAAAAAAAAAAAAAAAAAAAAAAAAAAAAAAAAAAAAAAAAAAAAAAAAAAAAAAAAAAAAAAAAAAAAAAAAAAAAAAAAAAAAAAAAAAAAAAAAAAAAAAAAAAAAAAAAAAAAAAAAAAAAAAAAAAAAAAAAAAAAAAAAAAAAAAAAAAAAAAAAAAAAAAAAAAAAAAAAAAAAAAAAAAAAAAAAAAAAAAAAAAAAAAAAAAAAAAAAAAAAAAAAAAAAAAAAAAAAAAAAAAAAAAAAAAAAAAAAAAAAAAAAAAAAAAAAAAAAAAAAAAAAAAAAAAAAAAAAAAAAAAAAAAAAAAAAAAAAAAAAAAAAAAAAAAAAAAAAAAAAAAAAAAAAAAAAAAFVTRVIAAAAFkAMAAgAAABQAABCekAQAAgAAABQAABCykpEAAgAAAAMwNgAAkpIAAgAAAAMwNgAA6hwABwAACAwAAAiSAAAAABzqAAAACAAAAAAAAAAAAAAAAAAAAAAAAAAAAAAAAAAAAAAAAAAAAAAAAAAAAAAAAAAAAAAAAAAAAAAAAAAAAAAAAAAAAAAAAAAAAAAAAAAAAAAAAAAAAAAAAAAAAAAAAAAAAAAAAAAAAAAAAAAAAAAAAAAAAAAAAAAAAAAAAAAAAAAAAAAAAAAAAAAAAAAAAAAAAAAAAAAAAAAAAAAAAAAAAAAAAAAAAAAAAAAAAAAAAAAAAAAAAAAAAAAAAAAAAAAAAAAAAAAAAAAAAAAAAAAAAAAAAAAAAAAAAAAAAAAAAAAAAAAAAAAAAAAAAAAAAAAAAAAAAAAAAAAAAAAAAAAAAAAAAAAAAAAAAAAAAAAAAAAAAAAAAAAAAAAAAAAAAAAAAAAAAAAAAAAAAAAAAAAAAAAAAAAAAAAAAAAAAAAAAAAAAAAAAAAAAAAAAAAAAAAAAAAAAAAAAAAAAAAAAAAAAAAAAAAAAAAAAAAAAAAAAAAAAAAAAAAAAAAAAAAAAAAAAAAAAAAAAAAAAAAAAAAAAAAAAAAAAAAAAAAAAAAAAAAAAAAAAAAAAAAAAAAAAAAAAAAAAAAAAAAAAAAAAAAAAAAAAAAAAAAAAAAAAAAAAAAAAAAAAAAAAAAAAAAAAAAAAAAAAAAAAAAAAAAAAAAAAAAAAAAAAAAAAAAAAAAAAAAAAAAAAAAAAAAAAAAAAAAAAAAAAAAAAAAAAAAAAAAAAAAAAAAAAAAAAAAAAAAAAAAAAAAAAAAAAAAAAAAAAAAAAAAAAAAAAAAAAAAAAAAAAAAAAAAAAAAAAAAAAAAAAAAAAAAAAAAAAAAAAAAAAAAAAAAAAAAAAAAAAAAAAAAAAAAAAAAAAAAAAAAAAAAAAAAAAAAAAAAAAAAAAAAAAAAAAAAAAAAAAAAAAAAAAAAAAAAAAAAAAAAAAAAAAAAAAAAAAAAAAAAAAAAAAAAAAAAAAAAAAAAAAAAAAAAAAAAAAAAAAAAAAAAAAAAAAAAAAAAAAAAAAAAAAAAAAAAAAAAAAAAAAAAAAAAAAAAAAAAAAAAAAAAAAAAAAAAAAAAAAAAAAAAAAAAAAAAAAAAAAAAAAAAAAAAAAAAAAAAAAAAAAAAAAAAAAAAAAAAAAAAAAAAAAAAAAAAAAAAAAAAAAAAAAAAAAAAAAAAAAAAAAAAAAAAAAAAAAAAAAAAAAAAAAAAAAAAAAAAAAAAAAAAAAAAAAAAAAAAAAAAAAAAAAAAAAAAAAAAAAAAAAAAAAAAAAAAAAAAAAAAAAAAAAAAAAAAAAAAAAAAAAAAAAAAAAAAAAAAAAAAAAAAAAAAAAAAAAAAAAAAAAAAAAAAAAAAAAAAAAAAAAAAAAAAAAAAAAAAAAAAAAAAAAAAAAAAAAAAAAAAAAAAAAAAAAAAAAAAAAAAAAAAAAAAAAAAAAAAAAAAAAAAAAAAAAAAAAAAAAAAAAAAAAAAAAAAAAAAAAAAAAAAAAAAAAAAAAAAAAAAAAAAAAAAAAAAAAAAAAAAAAAAAAAAAAAAAAAAAAAAAAAAAAAAAAAAAAAAAAAAAAAAAAAAAAAAAAAAAAAAAAAAAAAAAAAAAAAAAAAAAAAAAAAAAAAAAAAAAAAAAAAAAAAAAAAAAAAAAAAAAAAAAAAAAAAAAAAAAAAAAAAAAAAAAAAAAAAAAAAAAAAAAAAAAAAAAAAAAAAAAAAAAAAAAAAAAAAAAAAAAAAAAAAAAAAAAAAAAAAAAAAAAAAAAAAAAAAAAAAAAAAAAAAAAAAAAAAAAAAAAAAAAAAAAAAAAAAAAAAAAAAAAAAAAAAAAAAAAAAAAAAAAAAAAAAAAAAAAAAAAAAAAAAAAAAAAAAAAAAAAAAAAAAAAAAAAAAAAAAAAAAAAAAAAAAAAAAAAAAAAAAAAAAAAAAAAAAAAAAAAAAAAAAAAAAAAAAAAAAAAAAAAAAAAAAAAAAAAAAAAAAAAAAAAAAAAAAAAAAAAAAAAAAAAAAAAAAAAAAAAAAAAAAAAAAAAAAAAAAAAAAAAAAAAAAAAAAAAAAAAAAAAAAAAAAAAAAAAAAAAAAAAAAAAAAAAAAAAAAAAAAAAAAAAAAAAAAAAAAAAAAAAAAAAAAAAAAAAAAAAAAAAAAAAAAAAAAAAAAAAAAAAAAAAAAAAAAAAAAAAAAAAAAAAAAAAAAAAAAAAAAAAAAAAAAAAAAAAAAAAAAAAAAAAAAAAAAAAAAAAAAAAAAAAAAAAAAAAAAAAAAAAAAAAAAAAAAAAAAAAAAAAAAAAAAAAAAAAAAAAAAAAAAAAAAAAAAAAAAAAAAAAAAAAAAAAAAAAAAAAAAAAAAAAAAAAAAAAAAAAAAAAAAAAAAAAAAAAAAAAAAAAAAAAAAAAAAAAAAAAAAAAAAAAAAAAAAAAAAAAAAAAAAAAAAAAAAAAAAAAAAAAAAAAAAAAAAAAAAAAAAAAAAAAAAAAAAAAAAAAAAAAAAAAAAAAAAAAAAAAAAAAAAAAAAAAAAAAAAAAAAAAAAAAAAAAAAAAAAAAAAAAAAAAAAAAAAAAAAAAAAAAAAAAAAAAAAAAAAAAAAAAAAAAAAAAAAAAAAAAAAAAAAAAAAAAAAAAAAAAAAAAAAAAAAAAAAAAAAAAAAAAAAAAAAAAAAAAAAAAAAAAAAAAAAAAAAAAAAAAAAAAAAAAAAAAAAAAAAAAAAAAAAAAAAAAAAAAAAAAAAAAAAAAAAAAAAAAAAAAAAAAAAAAAAAAAAAAAAAAAAAAAAAAAAAAAAAAMjAyMToxMjoyMSAxNzo1OToxNQAyMDIxOjEyOjIxIDE3OjU5OjE1AAAAVQBTAEUAUgAAAP/hCxdodHRwOi8vbnMuYWRvYmUuY29tL3hhcC8xLjAvADw/eHBhY2tldCBiZWdpbj0n77u/JyBpZD0nVzVNME1wQ2VoaUh6cmVTek5UY3prYzlkJz8+DQo8eDp4bXBtZXRhIHhtbG5zOng9ImFkb2JlOm5zOm1ldGEvIj48cmRmOlJERiB4bWxuczpyZGY9Imh0dHA6Ly93d3cudzMub3JnLzE5OTkvMDIvMjItcmRmLXN5bnRheC1ucyMiPjxyZGY6RGVzY3JpcHRpb24gcmRmOmFib3V0PSJ1dWlkOmZhZjViZGQ1LWJhM2QtMTFkYS1hZDMxLWQzM2Q3NTE4MmYxYiIgeG1sbnM6ZGM9Imh0dHA6Ly9wdXJsLm9yZy9kYy9lbGVtZW50cy8xLjEvIi8+PHJkZjpEZXNjcmlwdGlvbiByZGY6YWJvdXQ9InV1aWQ6ZmFmNWJkZDUtYmEzZC0xMWRhLWFkMzEtZDMzZDc1MTgyZjFiIiB4bWxuczp4bXA9Imh0dHA6Ly9ucy5hZG9iZS5jb20veGFwLzEuMC8iPjx4bXA6Q3JlYXRlRGF0ZT4yMDIxLTEyLTIxVDE3OjU5OjE1LjA2NDwveG1wOkNyZWF0ZURhdGU+PC9yZGY6RGVzY3JpcHRpb24+PHJkZjpEZXNjcmlwdGlvbiByZGY6YWJvdXQ9InV1aWQ6ZmFmNWJkZDUtYmEzZC0xMWRhLWFkMzEtZDMzZDc1MTgyZjFiIiB4bWxuczpkYz0iaHR0cDovL3B1cmwub3JnL2RjL2VsZW1lbnRzLzEuMS8iPjxkYzpjcmVhdG9yPjxyZGY6U2VxIHhtbG5zOnJkZj0iaHR0cDovL3d3dy53My5vcmcvMTk5OS8wMi8yMi1yZGYtc3ludGF4LW5zIyI+PHJkZjpsaT5VU0VSPC9yZGY6bGk+PC9yZGY6U2VxPg0KCQkJPC9kYzpjcmVhdG9yPjwvcmRmOkRlc2NyaXB0aW9uPjwvcmRmOlJERj48L3g6eG1wbWV0YT4NCiAgICAgICAgICAgICAgICAgICAgICAgICAgICAgICAgICAgICAgICAgICAgICAgICAgICAgICAgICAgICAgICAgICAgICAgICAgICAgICAgICAgICAgICAgICAgICAgICAgICAKICAgICAgICAgICAgICAgICAgICAgICAgICAgICAgICAgICAgICAgICAgICAgICAgICAgICAgICAgICAgICAgICAgICAgICAgICAgICAgICAgICAgICAgICAgICAgICAgICAgIAogICAgICAgICAgICAgICAgICAgICAgICAgICAgICAgICAgICAgICAgICAgICAgICAgICAgICAgICAgICAgICAgICAgICAgICAgICAgICAgICAgICAgICAgICAgICAgICAgICAgCiAgICAgICAgICAgICAgICAgICAgICAgICAgICAgICAgICAgICAgICAgICAgICAgICAgICAgICAgICAgICAgICAgICAgICAgICAgICAgICAgICAgICAgICAgICAgICAgICAgICAKICAgICAgICAgICAgICAgICAgICAgICAgICAgICAgICAgICAgICAgICAgICAgICAgICAgICAgICAgICAgICAgICAgICAgICAgICAgICAgICAgICAgICAgICAgICAgICAgICAgIAogICAgICAgICAgICAgICAgICAgICAgICAgICAgICAgICAgICAgICAgICAgICAgICAgICAgICAgICAgICAgICAgICAgICAgICAgICAgICAgICAgICAgICAgICAgICAgICAgICAgCiAgICAgICAgICAgICAgICAgICAgICAgICAgICAgICAgICAgICAgICAgICAgICAgICAgICAgICAgICAgICAgICAgICAgICAgICAgICAgICAgICAgICAgICAgICAgICAgICAgICAKICAgICAgICAgICAgICAgICAgICAgICAgICAgICAgICAgICAgICAgICAgICAgICAgICAgICAgICAgICAgICAgICAgICAgICAgICAgICAgICAgICAgICAgICAgICAgICAgICAgIAogICAgICAgICAgICAgICAgICAgICAgICAgICAgICAgICAgICAgICAgICAgICAgICAgICAgICAgICAgICAgICAgICAgICAgICAgICAgICAgICAgICAgICAgICAgICAgICAgICAgCiAgICAgICAgICAgICAgICAgICAgICAgICAgICAgICAgICAgICAgICAgICAgICAgICAgICAgICAgICAgICAgICAgICAgICAgICAgICAgICAgICAgICAgICAgICAgICAgICAgICAKICAgICAgICAgICAgICAgICAgICAgICAgICAgICAgICAgICAgICAgICAgICAgICAgICAgICAgICAgICAgICAgICAgICAgICAgICAgICAgICAgICAgICAgICAgICAgICAgICAgIAogICAgICAgICAgICAgICAgICAgICAgICAgICAgICAgICAgICAgICAgICAgICAgICAgICAgICAgICAgICAgICAgICAgICAgICAgICAgICAgICAgICAgICAgICAgICAgICAgICAgCiAgICAgICAgICAgICAgICAgICAgICAgICAgICAgICAgICAgICAgICAgICAgICAgICAgICAgICAgICAgICAgICAgICAgICAgICAgICAgICAgICAgICAgICAgICAgICAgICAgICAKICAgICAgICAgICAgICAgICAgICAgICAgICAgICAgICAgICAgICAgICAgICAgICAgICAgICAgICAgICAgICAgICAgICAgICAgICAgICAgICAgICAgICAgICAgICAgICAgICAgIAogICAgICAgICAgICAgICAgICAgICAgICAgICAgICAgICAgICAgICAgICAgICAgICAgICAgICAgICAgICAgICAgICAgICAgICAgICAgICAgICAgICAgICAgICAgICAgICAgICAgCiAgICAgICAgICAgICAgICAgICAgICAgICAgICAgICAgICAgICAgICAgICAgICAgICAgICAgICAgICAgICAgICAgICAgICAgICAgICAgICAgICAgICAgICAgICAgICAgICAgICAKICAgICAgICAgICAgICAgICAgICAgICAgICAgICAgICAgICAgICAgICAgICAgICAgICAgICAgICAgICAgICAgICAgICAgICAgICAgICAgICAgICAgICAgICAgICAgICAgICAgIAogICAgICAgICAgICAgICAgICAgICAgICAgICAgICAgICAgICAgICAgICAgICAgICAgICAgICAgICAgICAgICAgICAgICAgICAgICAgICAgICAgICAgICAgICAgICAgICAgICAgCiAgICAgICAgICAgICAgICAgICAgICAgICAgICAgICAgICAgICAgICAgICAgICAgICAgICAgICAgICAgICAgICAgICAgICAgICAgICAgICAgICAgICAgICAgICAgICAgICAgICAKICAgICAgICAgICAgICAgICAgICAgICAgICAgICAgICAgICAgICAgICAgICAgICAgICAgICAgICAgICAgICAgICAgICAgICAgICAgICAgICAgICAgICAgICAgICAgICAgICAgIAogICAgICAgICAgICAgICAgICAgICAgICAgICAgPD94cGFja2V0IGVuZD0ndyc/Pv/bAEMABwUFBgUEBwYFBggHBwgKEQsKCQkKFQ8QDBEYFRoZGBUYFxseJyEbHSUdFxgiLiIlKCkrLCsaIC8zLyoyJyorKv/bAEMBBwgICgkKFAsLFCocGBwqKioqKioqKioqKioqKioqKioqKioqKioqKioqKioqKioqKioqKioqKioqKioqKioqKv/AABEIAWYFegMBIgACEQEDEQH/xAAfAAABBQEBAQEBAQAAAAAAAAAAAQIDBAUGBwgJCgv/xAC1EAACAQMDAgQDBQUEBAAAAX0BAgMABBEFEiExQQYTUWEHInEUMoGRoQgjQrHBFVLR8CQzYnKCCQoWFxgZGiUmJygpKjQ1Njc4OTpDREVGR0hJSlNUVVZXWFlaY2RlZmdoaWpzdHV2d3h5eoOEhYaHiImKkpOUlZaXmJmaoqOkpaanqKmqsrO0tba3uLm6wsPExcbHyMnK0tPU1dbX2Nna4eLj5OXm5+jp6vHy8/T19vf4+fr/xAAfAQADAQEBAQEBAQEBAAAAAAAAAQIDBAUGBwgJCgv/xAC1EQACAQIEBAMEBwUEBAABAncAAQIDEQQFITEGEkFRB2FxEyIygQgUQpGhscEJIzNS8BVictEKFiQ04SXxFxgZGiYnKCkqNTY3ODk6Q0RFRkdISUpTVFVWV1hZWmNkZWZnaGlqc3R1dnd4eXqCg4SFhoeIiYqSk5SVlpeYmZqio6Slpqeoqaqys7S1tre4ubrCw8TFxsfIycrS09TV1tfY2dri4+Tl5ufo6ery8/T19vf4+fr/2gAMAwEAAhEDEQA/APpGiiigAooooAKKKKACiiigAooooAKKKKACiiigAooooAKKKKACiiigAooooAKKKKACiiigAooooAKKKKACiiigAooooAKKKKACiiigAooooAKKKKACiiigAooooAKKKKACiiigAooooAKKKKACiiigAooooAKKKKACiiigAooooAKKKKACiiigAooooAKKKKACiiigAooooAKKKKACiiigAooooAKKKKACiiigAooooAKKKKACiiigAooooAKKKKACiiigAooooAKKKKACiiigAooooAKKKKACiiigAooooAKKKKACiiigAooooAKKKKACiiigAooooAKKKKACiiigAooooAKKKKACiiigAooooAKKKKACiiigAooooAKKKKACiiigAooooAKKKKACiiigAooooAKKKKACiiigAooooAKKKKACiiigAooooAKKKKACiiigAooooAKKKKACiiigAooooA+QPAl34k8UaFNe6h458VxyR3LRAQavIBgKp755+Y1039j6z/0PvjL/AMHL/wCFc18IP+RRuv8Ar+f/ANFx13te9h8PSlSi3E8PEV6saskpGP8A2PrP/Q++Mv8Awcv/AIUf2PrP/Q++Mv8Awcv/AIVsUVv9Vo/ymP1mt/MY/wDY+s/9D74y/wDBy/8AhR/Y+s/9D74y/wDBy/8AhWxRR9Vo/wAofWa38xj/ANj6z/0PvjL/AMHL/wCFUtZs9c0/Qr+9h8eeL2ktraSVA+sOQSqkjPtxXS1l+J/+RR1j/rxn/wDRZqZ4aiot8pUMRWckuYwfCQ8Qa94WtNSvPHfi1Jp9+5YtYkCjDsoxnJ6D1ra/sfWf+h98Zf8Ag5f/AArO+G3/ACT3Tf8Atr/6NeupqaOGoypxbj0RVXEVVUklLqzH/sfWf+h98Zf+Dl/8KP7H1n/offGX/g5f/CtiitPqtH+Uz+s1v5jH/sfWf+h98Zf+Dl/8KP7H1n/offGX/g5f/Ctiij6rR/lD6zW/mMf+x9Z/6H3xl/4OX/wo/sfWf+h98Zf+Dl/8K2KKPqtH+UPrNb+Yx/7H1n/offGX/g5f/Cj+x9Z/6H3xl/4OX/wrYoo+q0f5Q+s1v5jH/sfWf+h98Zf+Dl/8KP7H1n/offGX/g5f/CtirFhYXOp3i2tjF5sz5KruAzgZ6nih4agldxQLEVm7KTOf/sfWf+h98Zf+Dl/8KP7H1n/offGX/g5f/CuiOm3a6n/Z7QkXfmeX5ZIHzemelQ3FvLaXMlvcLsliYo65BwR16Ulh8O9khuvXW7Zh/wBj6z/0PvjL/wAHL/4Uf2PrP/Q++Mv/AAcv/hWxVrT9Nu9VuxbWEXmzEFgu4DgfU0PDUEruKEsRWbspM53+x9Z/6H3xl/4OX/wo/sfWf+h98Zf+Dl/8K6vUvDuq6PbrNqNr5MbNtDeYrZOM9ifSsylHD4eSvFJjlXrxdpNox/7H1n/offGX/g5f/Cj+x9Z/6H3xl/4OX/wrYqRYJmgaZYnMSHDSBTtU+5qvqtD+VC+s1v5jD/sfWf8AoffGX/g5f/Cj+x9Z/wCh98Zf+Dl/8K2KKPqtH+UPrNb+Yx/7H1n/AKH3xl/4OX/wo/sfWf8AoffGX/g5f/Ctiij6rR/lD6zW/mMf+x9Z/wCh98Zf+Dl/8KP7H1n/AKH3xl/4OX/wrYoo+q0f5Q+s1v5jH/sfWf8AoffGX/g5f/Cj+x9Z/wCh98Zf+Dl/8K6TStMn1fUY7K1KCWTOC5wOBn+lVpY2hmeJ8bkYqceopfV6F7cquP6xXtfmdjE/sfWf+h98Zf8Ag5f/AAo/sfWf+h98Zf8Ag5f/AArYp8UUk0ixwo0jtwFQZJ/Cn9Vofyi+s1v5jE/sfWf+h98Zf+Dl/wDCj+x9Z/6H3xl/4OX/AMK6W20q4ube8lUxxizXdKsj7W+gB6niqVJYeg3ZRQ3iK6V3JmP/AGPrP/Q++Mv/AAcv/hR/Y+s/9D74y/8ABy/+FbFFP6rR/lF9ZrfzGP8A2PrP/Q++Mv8Awcv/AIUf2PrP/Q++Mv8Awcv/AIVsUUfVaP8AKH1mt/MY/wDY+s/9D74y/wDBy/8AhR/Y+s/9D74y/wDBy/8AhWxRR9Vo/wAofWa38xj/ANj6z/0PvjL/AMHL/wCFH9j6z/0PvjL/AMHL/wCFbFFH1Wj/ACh9ZrfzGP8A2PrP/Q++Mv8Awcv/AIUf2PrP/Q++Mv8Awcv/AIVsUUfVaP8AKH1mt/MY/wDY+s/9D74y/wDBy/8AhR/Y+s/9D74y/wDBy/8AhWxRR9Vo/wAofWa38xj/ANj6z/0PvjL/AMHL/wCFcz4Eu/EnijQpr3UPHPiuOSO5aICDV5AMBVPfPPzGu+rgvhB/yKN1/wBfz/8AouOsJ4ekqsVy73/Q2jXqulJ83b9Tpf7H1n/offGX/g5f/Cj+x9Z/6H3xl/4OX/wrYorf6rR/lMfrNb+Yx/7H1n/offGX/g5f/Cj+x9Z/6H3xl/4OX/wrYoo+q0f5Q+s1v5jH/sfWf+h98Zf+Dl/8KP7H1n/offGX/g5f/Ctiij6rR/lD6zW/mMf+x9Z/6H3xl/4OX/wo/sfWf+h98Zf+Dl/8K3IIWuLiOGPG6Rwi56ZJxW3N4Rnt52hn1XSo5VOGR7rBB+mKiVHDxdmkVGtiJaps4j+x9Z/6H3xl/wCDl/8ACj+x9Z/6H3xl/wCDl/8ACuovtHuNO1gadctH5uVBZDlfmxj+dat94RW0M8MGpLd3cABa2hgctzj0+tS6WGVtNylUxLvrscF/Y+s/9D74y/8ABy/+FH9j6z/0PvjL/wAHL/4V32r+E49KsL6b7U8j2skSgFAA28A/pmuZqoUcPUV4xFOtiIO0pGP/AGPrP/Q++Mv/AAcv/hR/Y+s/9D74y/8ABy/+FdZpmgy6pbtNHe2MAVtu24n2MffHpzV6HwhONftNNvLmFftUZkWSA7xtAJHp1xUyp4WLaaWg1UxLV02cL/Y+s/8AQ++Mv/By/wDhR/Y+s/8AQ++Mv/By/wDhXV6Pok2tLd/Zm+e2hMoQKWMnsMd6st4Yureys7i+325uboQeU8ZVlz/FzTdLDJ8rSuJVcQ1zJuxxf9j6z/0PvjL/AMHL/wCFH9j6z/0PvjL/AMHL/wCFdNrWnrpWtXNlG5kWF9oZhgniqNXHD0JJSUdyZV68ZOLlsY/9j6z/AND74y/8HL/4Uf2PrP8A0PvjL/wcv/hXpEHgPzbK2uDfy/v4lkxHZs4XIzjINY+v6EuiNAouJJTKCcSW7RYxj1PPWsowwspcqWvzNXPFRjzN6fI4/wDsfWf+h98Zf+Dl/wDCj+x9Z/6H3xl/4OX/AMK6vStGbVLS/nWXyxZQeaRszv8AbrxVvS/C11eWVzd3cc0FvHatPFJt4kIGQKqVLDRvdLQmNTEytZvU4n+x9Z/6H3xl/wCDl/8ACj+x9Z/6H3xl/wCDl/8ACtilRd7qo/iOK0+q0f5TL6zW/mMb+x9Z/wCh98Zf+Dl/8KP7H1n/AKH3xl/4OX/wrqtT0O607VpbAA3EkQUsYkJ4IB/rVy78NGDxPb6PHc5MyofMZMbSwz0zWfssNpotdTT2uI11ehxP9j6z/wBD74y/8HL/AOFH9j6z/wBD74y/8HL/AOFd5P4WtobyC2XV45ZZLhYCiwsCuTgnng4qHWfD0elaaLlbhpG+1yW5BXAwuef0qVDCtpJb+pTniVe72OJ/sfWf+h98Zf8Ag5f/AAo/sfWf+h98Zf8Ag5f/AArozpl4ILaUwkJdttg5GXOccDr171Y1jQp9EaNLq4tXlf70UMm5o+AfmGOOtX7DD3tZEe2xFr3Zyn9j6z/0PvjL/wAHL/4Uf2PrP/Q++Mv/AAcv/hWxRV/VaP8AKT9ZrfzGP/Y+s/8AQ++Mv/By/wDhR/Y+s/8AQ++Mv/By/wDhW49vNHEkskTpHJnY7KQGx6HvUdH1ah/Kg+s1v5jH/sfWf+h98Zf+Dl/8KP7H1n/offGX/g5f/Ctiij6rR/lD6zW/mMf+x9Z/6H3xl/4OX/wo/sfWf+h98Zf+Dl/8K2Kv6Zomo6xIV0+2eUDq/RR9SeKUsPh4q7ihrEV27Js5j+x9Z/6H3xl/4OX/AMKP7H1n/offGX/g5f8AwrpNN0m91e4aDToPOkVdxXcFwOncj1qTUdC1DSJIU1KAW/nE7CzqRxjPQn1peww3Ny2Vx+2xHLzXdjl/7H1n/offGX/g5f8Awo/sfWf+h98Zf+Dl/wDCu5fwjILOe6h1XTblLdd0ggmLkD8ql1bwpHpljqMwunlazkiQfIAG3gH+tZ8mFva39af5mnNirXv/AF/SOB/sfWf+h98Zf+Dl/wDCj+x9Z/6H3xl/4OX/AMK6C8sLmwkRbuLYZEEiHIIZT0II4NV61WGoNXUUYvEV1vJmP/Y+s/8AQ++Mv/By/wDhR/Y+s/8AQ++Mv/By/wDhWxRT+q0f5Q+s1v5jH/sfWf8AoffGX/g5f/Cj+x9Z/wCh98Zf+Dl/8K2KKPqtH+UPrNb+Yx/7H1n/AKH3xl/4OX/wqlrNnrmn6Ff3sPjzxe0ltbSSoH1hyCVUkZ9uK6WsvxP/AMijrH/XjP8A+izUzw1FRb5SoYis5JcxieFv7c8QeGbPU5vHHi+GSZW3omtORlWKkjjocZx2z1PWtf8AsfWf+h98Zf8Ag5f/AArO+G3/ACT3Tf8Atr/6NeupqaWHoypxbj0RVXEVY1JJS6sx/wCx9Z/6H3xl/wCDl/8ACj+x9Z/6H3xl/wCDl/8ACtiitPqtH+Uz+s1v5jH/ALH1n/offGX/AIOX/wAKP7H1n/offGX/AIOX/wAK2KKPqtH+UPrNb+Yx/wCx9Z/6H3xl/wCDl/8ACj+x9Z/6H3xl/wCDl/8ACtiij6rR/lD6zW/mMf8AsfWf+h98Zf8Ag5f/AAo/sfWf+h98Zf8Ag5f/AArYoo+q0f5Q+s1v5jH/ALH1n/offGX/AIOX/wAKP7H1n/offGX/AIOX/wAK2KKPqtH+UPrNb+Yx/wCx9Z/6H3xl/wCDl/8ACj+x9Z/6H3xl/wCDl/8ACtiij6rR/lD6zW/mMf8AsfWf+h98Zf8Ag5f/AAo/sfWf+h98Zf8Ag5f/AArYoo+q0f5Q+s1v5jH/ALH1n/offGX/AIOX/wAKP7H1n/offGX/AIOX/wAK2K2l8L302k2V9ZxyXK3RYFIoixjwcc49amVDDx+JIca9eWzZxv8AY+s/9D74y/8ABy/+FH9j6z/0PvjL/wAHL/4V3Z8KCG/1W0nuSWsLXzwyLgOcA45+tZ2g6Qdc1RbITCAsjNvK7ugz6ioVLDNOVtFqW6mJTSb1ehyv9j6z/wBD74y/8HL/AOFH9j6z/wBD74y/8HL/AOFd3Z+DLi6vI4G1CwUOcEx3Cuw+ig81lQ2ELaw9lc3iW0aOyGd1JHGew9cU1Swz0SQOpiVq2zmf7H1n/offGX/g5f8Awo/sfWf+h98Zf+Dl/wDCu+vfCUFnaJMNYhleaIyQRrC2Zh7Vn6tow0zTdNuGaTzLuNmeN1xsIIGP1pRp4aTSS3HKpiY3u/6/pnI/2PrP/Q++Mv8Awcv/AIUf2PrP/Q++Mv8Awcv/AIVsV0ui+EP7X0cX5vHjBkMflx2xkPHfg1U6OHpq8okQrYibtFnBf2PrP/Q++Mv/AAcv/hR/Y+s/9D74y/8ABy/+Fd3rXhVdI05ro3c0hDBQr2bRg59yay9F0w6zrEFisnlGUn59u7bgE9PwpRpYaUXNLRFSq4iMlFvVnMf2PrP/AEPvjL/wcv8A4Uf2PrP/AEPvjL/wcv8A4V2ek+GLzU9TEIil+yrOYpZ1Xhcday763FpqFxbqxYQysgJ74OKao4aUuVJCdbEJXbZgf2PrP/Q++Mv/AAcv/hR/Y+s/9D74y/8ABy/+FbFaWoaJcWElqg/fvdW6zqsSkkA9qp4fDp2cUSsRXaupHK/2PrP/AEPvjL/wcv8A4Uf2PrP/AEPvjL/wcv8A4V2Go6CbD+zFMrb76NXKsmPLJOMVb1TwrBpaSiTV4nniwPJELAkntnp3rP2eG003L9pidddv1OE/sfWf+h98Zf8Ag5f/AAo/sfWf+h98Zf8Ag5f/AArvtW8KR6XY6hMLp5WtJYkA2ABt6g/1rBWwuX0974Rf6MjhDISB8x7DufwpwpYaaukglVxEHZs5/wDsfWf+h98Zf+Dl/wDCj+x9Z/6H3xl/4OX/AMK6698O3WnaXFe3c1tGZQGW3Mn70qe+3HSsmqjh8PJXUURKvXju2Y/9j6z/AND74y/8HL/4Uf2PrP8A0PvjL/wcv/hWxUggmNuZxE5hB2mTadoPpmq+rUP5UL6zW/mMP+x9Z/6H3xl/4OX/AMKP7H1n/offGX/g5f8AwrYoo+q0f5Q+s1v5jH/sfWf+h98Zf+Dl/wDCj+x9Z/6H3xl/4OX/AMK2KKPqtH+UPrNb+Yx/7H1n/offGX/g5f8Awo/sfWf+h98Zf+Dl/wDCuj0/S73VbgQ2Fu8z99o4X6noKb/Z90dSbT0iL3SyGLy05+YHBH6Uvq+HvayH9Yr2vdnPf2PrP/Q++Mv/AAcv/hR/Y+s/9D74y/8ABy/+FdXqfh3VNHhWW/tjHGx2h1cMAfQ4PFXrXwjJeQeZbatpkjCLzWiWcl1GMnIA7Vm6eFS5rKxaqYly5bu5w39j6z/0PvjL/wAHL/4Uf2PrP/Q++Mv/AAcv/hXfv4TijsZbhrp2Kact4AEA5Ofl/TrWBPYXNtbQXE0W2G4BMTgghsdenQ+3WnGlhpbJBKriIq7Zz/8AY+s/9D74y/8ABy/+FH9j6z/0PvjL/wAHL/4VsUVp9Vo/ymf1mt/MY/8AY+s/9D74y/8ABy/+FH9j6z/0PvjL/wAHL/4VsUUfVaP8ofWa38xj/wBj6z/0PvjL/wAHL/4Uf2PrP/Q++Mv/AAcv/hWxRR9Vo/yh9ZrfzGP/AGPrP/Q++Mv/AAcv/hR/Y+s/9D74y/8ABy/+FbFFH1Wj/KH1mt/MY/8AY+s/9D74y/8ABy/+FH9j6z/0PvjL/wAHL/4VsUUfVaP8ofWa38xj/wBj6z/0PvjL/wAHL/4Uf2PrP/Q++Mv/AAcv/hWxRR9Vo/yh9ZrfzGP/AGPrP/Q++Mv/AAcv/hR/Y+s/9D74y/8ABy/+FbFFH1Wj/KH1mt/MY/8AY+s/9D74y/8ABy/+FH9j6z/0PvjL/wAHL/4VsUUfVaP8ofWa38xxvi0eINB8LXepWfjvxa80GzasusSFTl1U5xg9D619J+Abme8+G3hq6vJpJ7ibSbWSWWVyzyMYVJZieSSTkk186/En/knupf8AbL/0alfQ3w4/5JZ4U/7Atn/6ISvIx1ONOolFW0/zPVwU5Tptyd9TpKKKK4TtCiiigD5B+EH/ACKN1/1/P/6Ljrva4L4Qf8ijdf8AX8//AKLjrva+lwv8GJ87if40gooorpOcKKKKACsvxP8A8ijrH/XjP/6LNalZfif/AJFHWP8Arxn/APRZqKnwMqHxoyvht/yT3Tf+2v8A6Neuprlvht/yT3Tf+2v/AKNeupqKH8KPovyLrfxZerCiiitjIKKKKACiiigAooooAK6LwJ/yN9r/ALr/APoJrnau6Tqk2jalHe2qxvJGCAJASvIx2I9azqxcqcorqmXTajNN9Gjs7QJ4lvNP1aEAahY3CR3iD+NN3D/59/Sqg0+ybU/EerahB9qSynbZBuIDMWPJx2rmtJ1q70bUvttmV3kEMrAlWB7EZqxa+Jr211K8uxHBIt6SZ7eRMxvk5xjPv61yuhUi3y7W0+/VHV7aErOW9/0dmX9TtbDUfCa61Z2S2M0dx5MkcbEo4x1GaPh9/wAjUmf+eL/yrO1XxBcapaxWiwQWlpE25YLdNq59T6moNH1efRNQF5apG8gUriQEjB+hFX7Oboyj3vYzdSPtYyXS1/vNWPR9Hvtas7Sw1Ka4M8+2UPDs2r1OD68VrazpOkLYajGF021e2GbUw3W6VyOqupPJNcXb3U1reJdW7bJY33qw7GtXU/Ez6nBIr6dYwzS4MlxFFiRsHPXPHSlOlU5o2ehUatO0rrU6PStDtZ3h0/UtNsLYywZwbhjc5253Y7euKj0+7tLf4d3Xm6dHMkN0I3QuR5jcfMfTqOPaspfG94l1HdixsTdomxp2jJZxjHPPH4VT03xJPp1lc2jWttdW9w/mNHOhIDeo5+n5Vk6NWV+by6+eppGrTja3n07r/M0NU0uzht/DbQ26qbtAZ8E/Pyv+JrVXRNITxJrsU9mDbWlsJERWIK/KCcc9awLbxdd2+nW9q1raTtanME00W5o/pzTH8V3z3uoXRit9+oReVKNrYUYx8vPX65qnTrPT16+d/wAiY1KKs35dOy1NjR7DTtUt7/WBYWsCw7YobaecrCrYGWZuKyvFVnYW01pLp72waaLM8VtMJEjceh7A5qpo+vXGjrNEkUNxb3AAlgnXcrY71X1LUP7RuRKLW3tVVdqx26bVA/x5rSNOaq3vp/wDN1IOla2v/B/yNrwlaaddR3guVtpb8AfZYbtysbevTqa0NN8PxPeatdalYW9u9oFCWksu2FWI6ls9O/41zWm6rHp8TpLp1pebmDBp1JKn2IPT2q7F4v1BNSuruZIJ1u1CTQSJmNlHAGPalUp1XKTj1/4GxVOdNRipdH/nudJptnYW/jDR5rFrVZpo5ftEVpN5iIwXgjnjOf0qnpejWp06+1SeO0mma7aKNb2by4lAPJPqaw08SzQazBqFpZWdu0ClUijjITnOScHJPPrRp/ia5sY7mGS3tru2uZDI8E6blDeo5rN0atrrsvzbLVWnez7/AKW/M310HRW1q7ukEdxZ2tkLl7e3m3r5nOV3Dt8ufxFReF9VsbzxdZiDR4LVirqGjc/KcE5x64BH41h2/iW7tNYe/tIbaESJ5bW6R4iK+mKV/Ekq6rbX1lZWdm1sSVSCPCtnrnnmq9jUaalrp32J9rBax79t9jbEGnaq/iOc6dHC1pC2zDk/OC2X+p4plzFpPh230yCfS0v5byFZZpZHIwD2XFZc3iu4d74w2VnAL6LyphGhHrluvXnqadaeLbm3s4ILmys702oxBJcRbmj9s5pKlU+Wml/L/Mbq023311t5m7H4c0uz1zWoZ4DPb29p58SliGTIzjNZms22n3Xg+z1azsUspTOYXSNiQw59fpWdH4mv0uNQnfy5ZL+Mxys6ngdPlwRiq76xcSaDFpLJH5EcplDAHdnnvnGOfSqjSqppt9uv3ilVpNNJd+n3GfRRRXacYUUUUAFFFFABRRRQAUUUUAFcF8IP+RRuv+v5/wD0XHXe1wXwg/5FG6/6/n/9Fx1zT/jQ+f6HRD+DP5fqd7RRRXSc4UUUUAFFFFAE9lMtvf28z5Kxyq5x1wDmuuu7fQdbGoa+Z9QjSORPMQRpnJ4GOa5fTNUn0m4aa1WJmZdp82MOMfQ/StYeONWVGQLaBG6qLdcGuarCpKScPz+/odFKUEmp/l93Ura/rEGo+JjqNmj+WChVZAATtA9M+ldFBqL63DcX1mul6Zczko8st86S8Y5wP88Vy2qa/d6vCkV0luqo24eVEEOfwrX8P+LYNH0X7DLBcFvOMm+GQL1AGOntWc6clTVo6rz6GkKi9o7vR+Rr+KHml8P6lcBrOWKaWHLQXPmFCABj7o6159XV654sttW0mW0SO9DsVKmWYMowQemK5SrwsJQg1JW/4ZEYmcZSXK76fqza0Tw/JqH+mXp+zaZEcy3D8Agdl9T2rZ0bVRq/xGt54l2QIjRwp/dQIcf41x/nS+T5PmP5W7ds3Hbn1x61oeHdUj0fXIb2dGkSMNlUxk5Ujv8AWnVpykpPfRpE06ii4pd1f7y74R1OKwvLiCWO5dr2MQJ9mYK4YnsSRitPUtYtpZbDSY1v/Otr9Wka9kV2HOCMgmuV067+w6lbXZTf5Mqybc4zg5xmt2617w/eXUtzceHpGllYu7fbWGSfwqalP95zWb/r1Kp1P3bje39ajfG+oyXXiCe2dIQlvIQjIgDNkDqe9YNpFFPdxxTzi3jZsNKVJCD1wKdfy20948ljbG1gONsRkL7eOeTVetqUOSmoozqz56jkeox25ks7ZHaC4WGJY45G024OVA46GsHxXYWosklkngt5YwTHGlnLGZunGXJ6Vzaa9q8aKiapeKqjAUXDAAfnVrV9dOq6Rp1vKZpLi1D+ZLK27fuPHPWuSOHqQmnfS/8AXQ6XXhKDVun9dTZ0LVZVhisfDOnbuPMvpLlhiQYwQT0C/wCfXN5ITYrqtxanzLBrJ4xDBdi48liPQdF6+tcnousjSvtMM9sLm1u4/Lmj3FSR2IParsevabp1vcLounSxT3ERiaWefftU9QAAKdSjLmfKt/611+4KdWKiuZ7f1pp95z1a/h7+zkvvtGpNI7QkNDbImfPfPAz25xWRUltL5F1FNjd5bhsZ64Oa7ZLmjY4ouzudXqviKUSSzSi40zXI8RSCEDZKmcjPoQP8+j/EGoJp/j+1vpw0iRRxOwTGT8tVb7xDoOo3sl3d+H5HmkOWYXrDPGOgFYWpT2VxdB9Ns2s4doBjMpk59cmuOnS1V420fbr87nXUqaO0r/f/AJWPQSs+sPZXsNnqssQuEuI2nmjKKu7JwoOemao+OJLubSYEvo3Qm+fyyygfu+dvT2rhBNIowJHA9AxrTudYS48MWum7ZPOgnaUyMeCD2pLDuE4tbJ/11H9YUotPdo6PUbiK1+IVjayWyzQ26wwQoWICZwQwx3BNW7mwsNb8bX0dxZxotijSSnzSPPOBjcf4QK5vVdahvLnTdVgYfb4VUTxOpwWQ8NnuD9arxeJ76HX5tWjEQmm4kj2nYwwOMZzjj1pKjNpNaNJr5jdaCbT1TafysbGq6XYzQ2ElrBYvfPdCJ7SwudyyJ1B6/L0xn3qzeaRZzaFqTSWmnW9zZKHUWc7Oy88q/asCbxJKb62ubKxsrJrZy6iCLG4n+96ipbjxbcS215BDYWVvHejE3lxkFj65zT9nWsrfn5iVSldt/kb+vXdnL4f0KM6bGBcriP8AeH9wNy5A9c+9QromnH4mNp32VfsYjz5WTjPl59c9awG8SXEmhRaZNbW8gg4hnZD5kYzng5q//wAJ5fi6julsrH7UqbHmMR3SDHQnP8qXsasU1H+9177MftacrOX93p23+8s2VrpNn4VudTvNPW6lhvWjRS5UEcYB9u9XbPRtNg0myupbbT2N8xkk+2XOzy4yfup05APWuTbXLl9Fl0wpF5Mk/nlsHdu9OuMfhVqy8UT22mx2NzZWd9DCSYftMe4x/TnpVSpVbNp9e/S3+Yo1ad1p07db/wCRR1q2trPWrmCxlWa3R/3bqwYEHnqOvpXRfD/ULv8AtqOw89ha7ZJPKHQtjr71yc8xuLiSZlVTIxYhBgDPoPSrej6vPomoC8tEjeQKVxICRg/QitqlNzouD1dvxMIzUaqmtFf8Ll3w1qdjpzXy6l54jurcwgwKCwyeTyafrXh+G3t7C70eeW6tr4lYlkXDhs4x71Q0rVV01pfMsbW9SQDK3KbtuO49OtP1fXbrWGhEyRQQwDbFBAu1EHsKHCfteaO3UalH2fLL5GvfhfDuhrowZWv7yRZLvac+Wo5VPr3rofF7wtoesLFEUkWaDzHLZ3nC447ccV5v5jGbzHJdt2SSck10eq+KodT0/UYvszxSXkkTr8wYKEAHJ49PSsZ0Zc0Xvrd/ev0RtTrRtJbK1l9z/ViXf+lfDuznl5ktbtoEY9dhGcfnXNVtarqVsdFsdJ09zJFBmWaTaRvkPoD2HSsWuikmk792c9Rp2XkFFFFbGQUUUUAFZfif/kUdY/68Z/8A0Wa1Ky/E/wDyKOsf9eM//os1FT4GVD40ZXw2/wCSe6b/ANtf/Rr11Nct8Nv+Se6b/wBtf/Rr11NRQ/hR9F+Rdb+LL1YUUUVsZBRRRQAUUUUAFFFFABRRRQAUUUUAFFFFABXa6Pq9vN4ahgZNVX+zVZ5nspVjGGYnnJya4qtnQdbt9KhvYLuzN3DdoEZRLswAT3xWFeHPDRao2oy5Z6nR6drcd/rWv6paRlV+wZRJwDkqAOR0PSqPhWVL3W5b4XDQ6g24iGC13oVIAJxnis+XU/DrQusXh+RHKkK321jtPY4xWJHLJC26GRo26ZVsGsY0bppK2lun/BNZVrNNu+t+v/APXvLZI4jBC0U6ElpRpo+b0wM8V53d2+jjxIRcX1w9sSzTuINrB8nK4zx9ar6Rrlxp+rW93PLPNHE25o/MPzfnVC8nFzfTzqNolkZwD2yc0qOHlTk9SqteNSGx6BNBqmpQc6LcWq267tNmtZUDxjbgK2T0NYnjH7Yum6NHqayi6SJxIZTkk5HfPNcv58o6SP8A99GtPVtXj1HS9MtlRw9nGyOzdGJIPH5U40ZQnF9L/o/Ml1oyhJPe36ryMmvRtEtUj0KO2t7qC9tt5kDNp874Y9RlTivOauW+r6laQiG0v7qCMHISOZlA/AGtq1N1I2TMqNRU5XaO31jTbWXTJFuprazjyP339nzrtOfVjjnpXPeH9SWwiMWj2ck2tXDGNJWwVRf9kev1/wDrVEfEk0/hq706/lubmaaVHSSSQsFA6jk5rP0jU5dH1SG+gVXeMn5W6MCMEVjToyUJRlqa1KsXKMo6f1/TO5jt7h9cs7uMQw3Kyb721tr1W8w9yI89fXmuD1OQS6tdyBWUPO7AMMEZY9RWzBrmiWd4L+00eYXStvRXusxq3r0yawbq4e7u5bibHmSuXbA4yTmqoU5Rldrp/XVhWnGUbJ9f66Is6RHp8l+P7XneK2UFiETcXI/h9s+tdNqniDLFry3n0u+gj3WEkABzERgK3t7/AOTxddRd+JNG1FopNQ0J5pY4li3i7ZcgewFOtBuSdr/1+pFGaUWr2JPE147r4eu7l2lf7Mskjd2O7Jrbu55PFGmyzWNnq0sMx+RWmiESsPbOeorh9UutOuWjOl6e1kFB3hpzJu9OvSqayyKMK7AegNSqF4q2jV/z8mW69pO+qaX4K3VHo/jKa8bw9qC3MUiwGWHyCyqMDAz056561z+sSR2Gi+HYTCJrfyzcSRE4EjE85I/KsyHWETwvd6ZIsjyzzJIr5yAB2p93qVvf+FrS2mcre2LlYxtJEkbe/Yiop0XTST2T/S1y51oz162/W/5f5HW69b2eseJNK0yS0VDNCkhnVzuCAMdgH4daz9Y0rS3029WNNOt7iBwLVbW63ySDOCrLnk1z114kvrrVLXUP3cM9qipGY1OMD1yT61NqHieS+G5dPsbadnEjzwxYdmBz1J9aUaFSPKk9PXzCVanLmb39PL/M6OHQ7S5jurK70/T7SSO3aREiuGe4jYDILdqht760j+GYeTTo5VW58soZCNz7fv8A19qym8a3f2iW4jsLGOeeMxzSiM7pMjHXPFU9O8RTWGkzaa9rbXVvI28LOhOxsYyOaXsarXvd09/vH7ammuXz6fcamo6TZQ6h4bjit1VLuOIzgE/OSRn+dX4tH0iLVfEn2myD29iivHGrEFeCSAfesWDxjeQ2dpC1pZzSWeBDPLFudAO3X8KgbxRevLqchit86moWb5W+UYx8vPH45qnTrNW/XzT/ACJVSkrP06eVvzN3TNO0+80q51tbGxjaSYRQ291PthiAAyc8ZJ5rB8UWljaaso0x4mikhWRlhlEixucgqD+H603SfEM+l2kto1vb3dpK25oLhNyhvUVRv7039405ghgBAAjgTaqgegrWFOcajbehnKpB07dTX8G6hd2+v2tpBOyQXEy+ai/x4zjNbHh5R/wsHWXAzJH9paP/AHt9chp99JpuoQ3kCq0kLblDgkE++Kng1u7tddfVoCqXDyNIwA+U7iSRj05oq0XJyt1VhU6qjy36O5t6Q7TeAddFwSyiWNl3f3yRn8elIIf+EW8Oz/aMLqepR7FizzDEepPoT/nvWdqniW41Ky+xpbW1nbl/MeO2Tbvb1NZDOznLsWOAMk54ojSlK/Nom72+4p1Yxty6tLf1Z6XcvD/wjMyCI+f/AGIhMm7grzgY+uea5fT/APS/AGqRy8i0njliJ/hLHBFPPiyGSwmge1dWbTls1IYEZGfmPTA5qjJqVtbeFF02zcyTXMvm3TbSAoH3UGevrWMKU4pq27X5mkqkW077J/lb8zFooor0DhCiiigAooooAKKKKACiiigAooooAKKKKACiiigDlviT/wAk91L/ALZf+jUr6G+HH/JLPCn/AGBbP/0QlfPPxJ/5J7qX/bL/ANGpX0N8OP8AklnhT/sC2f8A6ISvCzH+KvT9We1l/wDCfr/kdJRRRXnHoBRRRQB8g/CD/kUbr/r+f/0XHXe1wXwg/wCRRuv+v5//AEXHXe19Lhf4MT53E/xpBRRRXSc4UUUUAFZfif8A5FHWP+vGf/0Wa1Ky/E//ACKOsf8AXjP/AOizUVPgZUPjRlfDb/knum/9tf8A0a9dTXLfDb/knum/9tf/AEa9dTUUP4UfRfkXW/iy9WFFFFbGQUUUUAFFFFABRRRQAUUUUAFFFFABRRV2w0ufUI7mWJkjitY/MlkkJCgdhwDyewpNqKuxpNuyKVFbdv4fiPh3+1r/AFBbVJCy28flFzKwzxx05HWsSpjNSbS6DlFxSb6hRRVm00+6vkne1hMiwIZJSCBtUd+aptJXZKTbsitRRRTAKKKKACirOn6ddapeLbWMRllYZ2ggYHrk1a1jQbrRtSjsZiks8iKwEWT1JGPrxUc8VLlvqUoycea2hmUV0F14Nv7W0mk8+1lmt08ya2jlzJGvqRio9F0bTNUEMU2rtb3kz7FgFqz9+Pmzio9tC3Mncr2U07NWMOiu1svCOntNbJNLLPuv5bZ2U7QyqjHIHY5HrXNtpE0lpeXdsUeK1l2yRgneq54bGOlKNeEnZFSoTitTOooorcxCiiigAooooAKKKKACiiigAooooAKKKKACuC+EH/Io3X/X8/8A6Ljrva4L4Qf8ijdf9fz/APouOuaf8aHz/Q6IfwZ/L9TvaKKK6TnCiiigAooooAKKKKACiiigAooooAKKKKACiiigAoopQMkAdTQAlFWL6ym068e2udokTGdjBhyM9RW14ZtbG+gvUutM+1SW8DziTznXOMYXA/Hms5VFGPPui4wcpcuzOdortdT0yyg8KzSw29t5n2ZHWSL58Znxw3U8cZqhoFrpepxvHNpTAwQlpLn7UQC3RRjAAJOB1rNV04uVtjR0WpqN9/1OZorotU0r+ztO0VLm3RJ5Hl84oQxYBlxkrnPBrX1nTLBLPzrG2sBDK4MJRJjIVDAHrx+dHt46ed/wF7GWvkcNRWp4lhjt/E19FBGscaSkKiLgAewrQ8MaFDqFne311Es6W64jhNwIgze56gVTqxVP2jF7KTqezW5zdFah8P37WRu1hRYyhlWMyrvMY/iC5yR702XQb2Gya6IhdE2+YI5lZo93TcAeKr2kO5Ps59jNoror/wAHXtqIfIeO4L2/nuBIo24GSAM8gDv3rOt9Cv7oWZgiDC9LiD5wNxXr9PxpKrTaumN0pp2aM6itceF9TMzxskMflhd7POqqpPRck43e1Zlxby2lzJBcIY5Y2Kup7GqjOMnZMmUJRV2iOiiirJCiiigAooooAKKKKACiiigAooooAKKKKACiiigArL8T/wDIo6x/14z/APos1qVl+J/+RR1j/rxn/wDRZqKnwMqHxoyvht/yT3Tf+2v/AKNeuprlvht/yT3Tf+2v/o166moofwo+i/Iut/Fl6sKKKK2MgooqzeWM1j5P2gKPOiEqbXDfKemcdKV1sFmytRW/4UtbLUL57S80/wC1MUaRXErLt2rnGB6nFbQ0yw/4R9547S1DNaXMi7D5mwgpj5jzkZP0rCddQlytf1/SN6dFzjzJ/wBf0zhqK6Lw3BpeoSpa3els+xWee6+0soVRznbjHoOtLq2jnTvDMLTWyRzyXrhSrq52bRgZUmqdZKfI9yVSbjzI5yiu5utM05tD+0WVtYbDEI9zpN5vm7MkDHGc/hXPeJoIrfULdYIkiBtIWIRQMkqMn61MKynKyQ5UXGN7mPRXQeFdEi1Wa5lukWWG2hZ/K84R727AnqB71XPh6/uVkuLe3jjjZn8qIzqWcKedmTlgPUVbqwUnFvYlUpuKkluY9FaMehXs1i11EIXVYzKYxMpkCDq23OcVoTeD7xbXT5LeSOaW8H+r8xRtPYDnngdaHVgnZsFTm1dI56ir8Gi31zEskMQKtcC2B3gfvD2/+vVlvC+ppO0UscUZRN8jPMoWMZx8xzgZ9KbqQW7F7Ob6GPRWgNB1Nr6azjs5JJ4cF1QbsA9Dx2qC906806RY763kgdhuVZFxkU1OLdkxOElq0VqK6LTdGsm8PHVLuK8u/wB6Y2jtGA8oAfebINULPQ7vUleaxRRB5nlxtNKqF27KMnlselT7WN35FezlZeZmUVq2fhvUr6LzIYkVPOMJMkiphx25PWnyaLcR6btNhJ9qF4bcuJQctj7m3+tP2kL2uL2c7XsY9Fa134a1KzjDyxxsvmCNvLlV/LY9A2DxVu28I3SXxTVmW1hijeWZlYOyouM8D1yMUnWppXuP2VRu1jnqK6GC10a/vFh0mzvp3COWSedFyAuQ2QO3pS2XhaSXSrPUiUnWacIbcSqhK5xw2ep9McUnWivi0H7KT+HU52itqPwzf315cJZQxL5czx+U9ym5cduTzj1qGLw5qM9uZo44yPm2KZVDS7fvFBnLAe1P2sO4vZTvsZdFbFt4W1W6t45oYUKTRmSMGVQXA64Gck1j9OtWpxk7JkuMkrtBRXSabouly6NZ3V99taW7uTAot2XC++CMn86rzeF7v+0rm1tJIJfKmaKPfMiNKR2Ck5JrP20LtMv2U7Jow6K04fD+oz6e16sSrbqWBd5FXBXqME9av3vg2+t57OG2eO4kuog+0Oow2CSOvIwOvQ03Wpp2bEqU2rpHO0VqzeG9ThktUMCyNdkrF5cisCR1GQcDFL/wjWpG8hto445XnDGNo5VZW2/eG4HGR6U/aQ7i9nPsZNFWL6xm0+6NvchRIACQrBsZ7ZHetXTtN0w+HJdT1P7W225EAW3dR1XOeQaJTSjzAoNy5TCordvfDheeybRXe5gvozJEZAFZNv3g3bj1qBfDOpvcmGKKOU+V5wdJVKMmcZDZweaSqwavcbpTvsZNFakvhzUor23tfJWR7ld0TRyKyuB1O4HHHenDw1qTXkdtFHHK0sbSRtHKrK4XrhgccelP2kO4vZz7GTRWpN4c1OG5tYPIWR7vPk+VIrhsdeQccVfuvDL2vh5JGjWS+kvRChhlDhlK9ODjOaTrQVtdxqlN302OcorWk8NalHcQQ+XG7TSGJTHMrAOOqkg8H606TwvqULW/npGizzeTuEqkI3o3PB+tP2sO6F7OfYx6K377wjeWuqz2sMkUkcK72neRUVV9W5+Xnsaw5omgneJypZGKkowYH6EdaI1Iz+FhKnKD95DKK3tL0vTJPD76jqX2xiLoQKlsyjquc4IOavnwpCkut2sbedLaLE0Du4TbuOTu7cColXhFtP8Arb/MuNGUkmv63/yOSorW/wCEa1MalJZGFRJGgkdzIoRUP8W7OMUf8IzqhvjaLArSeUZlKyKVdB3DZwav2sO6I9nPsZNFasnhrU47yC28lXe4QyRskispUdTuBxgVd0vwu02pNBqG5kFu1xEtrIrG4A4wjcik60Er3GqU27WOdorVl01b7Vfsuj2txCVQmWO6cAx46knjAxjrSp4Z1OW8a2ihSRxF5wKyqVZM43Bs4Ip+0j1dhezl0VzJorRm0K/g8rMauJpjAhjkDAuO3H1qxd6Hcw2tpEti32mSeSEuswcSMDjAA6Y9aPaQ01D2ctdDGorWfw1qKXiWoWF5WVmYJOpEYXruOcLjPeqd/p9xp06xXKr86h0ZGDK6noQRwRTVSEtmDhJboq0UUVZAUUUUAct8Sf8Aknupf9sv/RqV9DfDj/klnhT/ALAtn/6ISvnn4k/8k91L/tl/6NSvob4cf8ks8Kf9gWz/APRCV4WY/wAVen6s9rL/AOE/X/I6SiiivOPQCiiigD5B+EH/ACKN1/1/P/6Ljrva4L4Qf8ijdf8AX8//AKLjrva+lwv8GJ87if40gooorpOcKKKKACsvxP8A8ijrH/XjP/6LNalZfif/AJFHWP8Arxn/APRZqKnwMqHxoyvht/yT3Tf+2v8A6Neuprlvht/yT3Tf+2v/AKNeupqKH8KPovyLrfxZerCiiitjIKKKKACiiigAooooAKKKKACiiigArpYP3Xw2uWi+9LfqkhHoFyB+dc1WtpmrRW+lX2m3qO9vdKGUpjMcg6Hnt61lVi3FW7r8zWlJKWvZ/ijpr7VZJPAOmloLVftUrQt+6GEHI3L6H3rQv00XTLz+zLue1ishBt+zfY2aRiR9/wAwDrmvPZdTu5tNhsJJc2sDFo49o+UnrzjPer58W6ydP+xtd7o9nl5aNS23GMbsZrklhpdO7/Hbo9jpjiIrfsv63W5vaDG9hZ6Yt5NZQR3r/JD9j82S4Ut/E3britDS5F0y98T2lpbw+VbI0samPPb7p9V9q4+28UatZ2Udrb3QWOI/uyY1LJ7AkZxTLbxFqlrqk2oRXOLmcYlYouH+oxinLDzk5Xtr/np0/wAxQrwio+Vvy1Ni92Xfw++3G3hWd9QJZo4wNoIPHsPat+3sLUeJtGiktIsNpm50MY5bHUj1rjLbxVq9obgwXQUXLmSQGNSNx7gY4pp8T6wb2K7N4TcQxmJHMakhfTpz9TzRKhUaaVuv4oFWpqzd+n4O50egS22taleXVza2kK6fbH7PGsJKrycMy/xEVm+JrjTbvS7WSC6hub9ZGWWWC2aEOvUZBAGRx+dYdhqd5pd59qsZjFNyCQAcg9iDwak1TW77WXja/lDiPOxVQKFz16CtFQaqKS2/ry/Ul14uDT3/AK/IqQzSwOWgkeMkbSUYjI9OK6zxlcmy8X2F0q7jDBC4U98MTiuPq3fapealdJcXs3myooRW2hcAdOgrWVPmmpdrmEZ2hKPc73TLzR73VNU1e0+1b3tGa4EqgJHwOM9ycfzrndE+zaFpza5cSxSXbhks7dWDFW6F29MVQ1DxRq2p2htrq6zCTllRFTeffA5rIrGGHaTTe9vPRG866bTS2u/mz0nwfc40bTfNjSV57+Ub3GSp2Mcj34x+NYPhP954l1GB+YZoJllB6YqhpXiifS4bSEW8csdrO0y5JDMSpXGfTn0qOy1qOxsdQMMb/bb3Me/jbHGTlsdyTUOjJOdlv/mXGtG0LvZ3Meiiiu84QooooAKKKKACiiigAooooAKKKKACiiigArgvhB/yKN1/1/P/AOi4672uC+EH/Io3X/X8/wD6Ljrmn/Gh8/0OiH8Gfy/U72iiiuk5wooooAKKKKACiiigAooooAKKKKACiiigAooooAKUYyM9O+KSigCxfC0F4404zNb8bTOAG6c5xx1q1Y67dabaLDY7IW80SPKo+aTHRT7dePes2iocU1Z6lczTutDrLvXLO68Ky2/moty1uqmJUKjd5+4gcY6Vh3OrzT6bFYRRx29smCyRAjzW/vMTyTWfRURoxj99ypVZS18rGzcakItF0YWVwUurUzFthIKbmGP0rbutUS7WB4PFT26mFBLDJ5zZfHzZ47muLopOjF/j+I41Wi9rNx9r1m5nM0c5kfcZIlKq30B5FTaZqcNlpOqWsqyF7yNEjKgYBDZ55rLoq+RcvL/WhPO+fn6nWy+K4JdIiVJLiC5jthbtGkETK+BjO8/MAR1FJfeI9MfSr61sknRbmJFjhECIkJBBPIOWzjqa5Ois/q8Lmn1idjroPEmlrLZTTLdb1sfsU6qq4C4PzKc8nPam2/iPS7KbRlt0u3h055S5dV3Pv6YGa5Oij6vB/wBev+bD280v68v8kdLoviK3tNPurO6aWISz+ek0cKSkHoQVfj8axNSu2v8AUp7l3eQyOTudQGI7ZA4zj0qrRVxpxjJyREqkpR5WFFFFamYUUUUAFFFFABRRRQAUUUUAFFFFABRRRQAUUUUAFZfif/kUdY/68Z//AEWa1Ky/E/8AyKOsf9eM/wD6LNRU+BlQ+NGV8Nv+Se6b/wBtf/Rr11Nct8Nv+Se6b/21/wDRr11NRQ/hR9F+Rdb+LL1YUUUVsZBVi7FmPJ+wmY/ux5vnADD98Y7VXopWC5fsdYuNNtZY7ILFLKykzr98AHO0H0zg10UXiG0uNCmS5ljjunt7kMixlRucrtAwMc4NcdRWU6MJ6s1hVlDY0G1eYaQNOgjjgiJzM0YO6Y9txPp6dKnN9GnhS2gimxcx3rS7R1UbRg/mKyKKp04/qSpv9DsRrBvNLsz/AMJRLZXIRhcK5lYs244PAx0x0rB165+1agjC7iuwsKIJIkZQcDHRuc1mUVMKMYSuv0KlVlKNn+pqaJqcOmrfidZG+02jwJsAOGOME5PSti18VQxaLaw+bPbXVpGyKYreJxJ6Hc3K++K5OiidGE3dhCrKG39f1Y6218SaXaacIoo542azaB4Y4EwZCMby+dxz6VFaeIrCCHRZnS4+06aSjIFG10JOSDnr7Vy9FT9Xh/Xz/wAx+3na39dP8kdYniDSLOGGGzW8dU1FbxmkRRlccgc9aj07xLbQXWrCfzo4b+XzElWJJGQhiRlW4PBrl6KPq8LNMft53v8A11/zNe61pJtWmupYI9QVlCIbtNpAA9IyAKo3t2l3IrR2cFqFGCsG7B9zuJqtRWsYRjsZynKV7m/4e1PTtJeO6kudQiuEbMkUIUxzDsDkir1j4qtUsZIJfOs2W6e4iaCCOXhjnbh+hHqK5Kis5UISbbLjWlFWRvjX4m0yOGUTNONS+2O+1cMvfoev4Yq/L4vtRMZreCZm/tP7WFcAApt246nmuRoodCDBVpr+vX/M6aTWtKtbe6j04XchvbiOWUzKo8tVbdgYPJzTR4kt/wDhKL+9eCSWxvkaKWM4D7CB74zxXN0UKhD+vl/kgdaf9fP/ADOksdR0HR9SS5sTqEwMciv5qIMblwMAH160mla3p9vo9pb3guBLZ3ouU8pQQ44yDkjFc5RQ6MXu/wCv6YvatbL+mdTBreir/aUr/b4rm+lf97FEhKRk52jLcE96lh8VWsWk28MMtzbz2iNHGVt4n8wc7SS2Sp9cVyNFJ4eD3KWImndf11Ons/Etpb3miSvHOV0+F45QFGWJB+7z798Vi38FrFb2r28/mzTI0kyggiP5jhfrjrVKirjTUXdf1v8A5kOo2rP+tl+hvQ+JZrLwzBp+nTT29wszvI6YAZT0AOc5q1ofiHT9OtrZp1nW5jnMk7Rwo5nBPGXY5GPQda5eik6MGmu41WmreRtalrMF5oaWUSyh1u5JyWA27W6d+tacHiTTI77S751uvOtbX7PLGqKRgKQCDn1NclRSdCDXL/Wo1Wmpc39b3On0nxRb6ba6ZG0MrtazSvJwMFXGOOev1qdPFNrBrFpMJ7q4tYBIdpt4oypZccBcZ9yTXI0Unh6bbb6/1+o1Xmkki7dQWsWn2ksU/mXM25pUBBEYzhR9T1rQ07UtMHhyXTNT+1ruuROGt0U9FxjkisKitHDmVmzNTad0dVaeLLa11KBYraSPToLZ7dF+V5AG5LnPBOQOOlX9N1SDUJ9RVri4ntIdNkBJhjiYAsCdoXj864alVmXO1iMjBweorKWHg1puaxxE09dv6/yOrt/E9hp95psdpFPJZ2cUsbPIqh2MnJIHI4wOKF8T20WqRyGa5ubeK3ljXNvHGVZx2C4GOBXJ0U/q8Hv/AFv/AJiVea28vwt/kjptN8TW1jDoyNDK5sjMJsAcq/8Ad56j3xUkHiHS9LtbaDTUupvIvhclp1UbhtwRweDXK0U3Qg3f+u/6iVaaVv67HXzeKbQarZzRzXUttFc/aHiNtFHt4IGNv3jyeSazX1yA6RLbKkplbUftakgbduOnXrWFRRGhCOwSrTle51z+INN/4SC51G3ur2FLpQZYmt0kVvVCC3I461jawNNlQXlh+7e5mdvswIxCg6ZA6E8msqinGioNNMJVnJNPqbun+IpNL8Ny2VlJNDdyXIk8xAMbNuCM9c59qhstYWLS9WgujNLcXyoFk68hsksSc/zrIop+yjr5kqrJW8jq38TafcrJbXEdyttPYw28joq71dDnIGeRzSL4msLdlt4I7hraGwltYnYDezPzkjPA/OuVoqPq8C1Xmv6/rsdXpviq1sotNjeKYiC2lgmYKpxvYEFQTg4x0NV7rVrG91CL7TfX/kwR4gmigjjZHJyflXHH45zXOUU/YQvzLf8Ar/MXtp8vL0/4b/I7EeL7QayJSk7wtZfZXuHRDKxzneVPB+hqs/iaAT3gaW5uI5LFraFjDHGVJOei4AX8zXL0Uvq9Mf1iodB4e8QW+lWk0V5DJNtkE9ttAIWUKRk5PTkflUtl4oitINKLRSSzWdxLLNnGGD+hz15rmqKqVGEm2+v/AAxKrTSSXQ6fT9Z0jSNUmkszeSQXUTxytJGhaPJBGASQ2Mc561X1C6tNXeeWe+leO0tttuHijiZ3LdAqjGOc+tYFFL2MU+bqP20mrdAooorcxCiiigDlviT/AMk91L/tl/6NSvob4cf8ks8Kf9gWz/8ARCV88/En/knupf8AbL/0alfQ3w4/5JZ4U/7Atn/6ISvCzH+KvT9We1l/8J+v+R0lFFFecegFFFFAHyD8IP8AkUbr/r+f/wBFx13tcF8IP+RRuv8Ar+f/ANFx13tfS4X+DE+dxP8AGkFFFFdJzhRRRQAVl+J/+RR1j/rxn/8ARZrUrL8T/wDIo6x/14z/APos1FT4GVD40ZXw2/5J7pv/AG1/9GvXU1y3w2/5J7pv/bX/ANGvXU1FD+FH0X5F1v4svVhRRRWxkFFFFABRRRQAUUUUAFFFFABRRRQAUUUUAFFFFABRRRQAUUUUAFFFFABRRRQAUUUUAFFFFABRRRQAUUUUAFFFFABRRRQAUUUUAFFFFABRRRQAVwXwg/5FG6/6/n/9Fx13tcF8IP8AkUbr/r+f/wBFx1zT/jQ+f6HRD+DP5fqd7RRRXSc4UUUUAFFFFABWkfDusC3Mx064EQXfv2cYxnNZtaZ1aA25j/sewB27fMxJu6dfv4zWc3JfD/X4ouHK/iL40zRLXRdOutSa/wDMvQ5JgZNqbWx0Iz+tQ3nhe6h1We2tnjlgijWX7RIwjQI3Qkk4HpUw1PRbrRdOtdRW+8yyDgrCqBX3NnqTkflVu18YRSXN/wDbI2t4rlY1iMUay+UE6Da/B4rmvVV2vP8APT8DoSpNJPy/LX8TIj8NapJLcxiBVNqVEpeVVC7uhyTjHvSHw3qS38lo8SI0cYleRpFEYQ9G3Zxit+3vrfUtG16e+nuXt2a3XzBGiyAA4HyjC/h6UyLxbYpdTQrHPHZm0jto5TGjuNhJDFW4Ocnij2tZ3SW3+S/z2D2dKybe/wDm1/TMJPDmpyXU9usC+ZboJHzIoXaejA5wR704+GdTGpfYvJXzPK87f5i7An97dnGKvSeI4XbVBI9xOLm1W3hdokQjHqFwAOvTNTx+JtPkiS1uY7hYH01LOV0UblZTnI55H5VTnX7CUKPcr6j4Zkij0qCzh3XdxE7ykSAqcH72c4Ax3qivhrUnvPs0USSsYTMrJKpV0HBIbODW1b+KtOs57BLaK5Nvb2sltIzqhbDHO4DJB6dD+tRf8JNbpfSlprm5h+xSW8ZMEcZVn/2VwMfrUqVdLbv+b/4BTjRfXt+Sv+pWsfB97catBZ3TxwpNEZVlV1cMo9MHnn/GqZ8O3wjmkc26RxOU3vcIA7YzhTnk49K0rDxLaWsmhmSKYiwSVJsAc788rzz174pbDWdKsLa4t2luru0dmItZrdCrkjht2cqc+lNzrJvT8PN/pYSjRaX+fkv1OXrp9O0LSptL0yW8N8Z9QleJfIZdqENjJBGcc+tYmoW9rbG3W0n85mhV5iCCFc8lRj04rTHiae28N2en6dPcW8sTSGZlwAwY5GDnP8q1qc0ork7/AOZlT5YyfP2Lk3hAyaYi2OyS6W8lgaR5QiuF4AAJ6n0FY9p4e1C7acLGkSwP5cjzSKih/wC7knk1bttdt4dM0y3kWYyWl99okYAYZcjpz1qzLrml6lBeWt+LqGGS9a7hkiVS3PG1gT6e9ZJ1o3T1NWqMrPb+mZsfhrVJJrmPyFja1ZVm8yRVCZ6HJPT3o/4RvUhfT2skSRtbqGleSRVRQeh3E45rR1HxPb31rqsQhlQ3XkrD0OFj/vHPU+2aur4vsnubpWWeKG4ghQS+SjsjIP7rZBBo569r2/rT/gi5KN7X/rX/AIBR03w0ohv5NTguZprNlBtbVl3kHndnnIx6VmxaS2pXVw2loY7WIjL3Uipsz0BY4Gc1ox6xZS6tJfXN/qUU6soimhjjBZAAMEAgDp7jFW4vFtm91qnmRyW0V5KssbpCkpUgY5VuOev1pc1ZNu1/y6D5aTSV+v8An/wF+JjQ+GNVne4VYFT7M/lyl5FUIcZ6k9Peol0HUHure3WEF7mLzo/nGCmCc56Doav3niCO60vU7d2nlmu7iORJHRVyqjHzBeAeB0FLa+I4YPDTWjRSG+SN4IZQBtWNyCwJznPBxx3q+ata9v6tv95PLRva/wDV/wDL8SCfQrme9tLaxsWjea1WUhpgwYd3z0UexqJfDl89xLEptysKhnm89fLXPT5s4yfStRPE1kbiJZYp/s7aYLGYqAHU/wB5eeR9cUml65pmmW93YwvdC3mZXS4aCN2DDrlGyMfrS56yWi/q4+Wk3v8A1b/M526tZrK6ktrpDHLGcMp7Gtfw9o1vqVre3NwlxObVVItrYgO+T15B4H0qHVZba+hm1J7uSa7muNio4VW8sKPmYKMA9BxUejT2NtI0t1dXtrOpBiltQDx3ByR7VpJylT7MzSjGp5F208OJq8WoXOnO0ENsAI4rh13FuMgnIwPfFVf+Ea1Q2sE4gBS4CmECRdz7umBnP19K1X8SadeX+rm5inht9QiRFaNVLgr3IyBzUCeJYIdT0W6jikYafbrDKrADceQSvPoayUq3b+rd/U1lGj37/n/kZ0/h6/t5oY3EJ85mVXWdCgK/eBbOAR707/hG9RN7BbRRxyvcKXhaOVWRwOuGBxxitiTxHpz6hb+a891ZozuUktYV8tiMKQq8MR709fFdjHfaZIftUy2azK7mJEL7xwQoOB/nrR7Svbb+tf8AgB7Ojfft+hlp4P1dzFtihIlB2N56YJH8Oc/e9qjTRLi40+2WGyYXMt00HmNMMMwH3dvbHrVmx8QW1tZ6RFIkxayvGnkKgYKk9Bz1/KrUHiiyiktmaK4xDqUl22FXlGzgDnr/AJzTcq3b+vvEo0bbmReeHdSsoYpJoVIll8lRG6uQ/wDdODwfappvDN9YRtc38Sm2gZftHkzIWTJxjqcGrdn4gijhSGGCWSc6qLtFIGGXptznrWrqsEFn4d1qfyby3a+nQqt4oQlt24hRnkDnmpdWrFpS6/8AA8ylSpSu1/W/+SMq/wBO8P2ml2N2q6kftoYoDLH8u1sHPy0f8Izbr4oks3mk/s5IDc+cCNxi25BzjGc8dKztR1OG80XS7OJZBJZpIshYDB3NkY5rRXxFDN4aTTijrfsi2zXDYCiHdnGc59unSny1UtO7X46P5EqVNvXsn+Gq+Zzbbdx2ZC54z1xSVa1KK2g1KaKxlaa3RtqSEj5vfiqtdad1c5pKzsFFFFMQUUUUAFZfif8A5FHWP+vGf/0Wa1Ky/E//ACKOsf8AXjP/AOizUVPgZUPjRlfDb/knum/9tf8A0a9dTXLfDb/knum/9tf/AEa9dTUUP4UfRfkXW/iy9WFFFFbGQUUUUAa3hvTLXVtWNvfySRwLE8jNEQCNoz3BrS0/wpHL4ou7C9kkS1tiP3iEBm3EBMEjHORWToeoxaZeSyzq7K9vJEAgBOWXA6npWwvi2H7LpavDIJYJY2u5FA/erH9wDnng98c1yVfa8z5drf0zpp+z5Pe3v/loZN9odxbzuYELW5u3tYmZhlmBxz/jWhD4bzpE6ToI7+O/S2yZBtUEZPfFTDxBpdxbul6l0vl6g15D5ar8wJ+6cnj9aj1DxJaXMF8sMU26e/W6TcAAFA6HnrS5qzsrf1p/wSnGkm5J9/yf/AGah4abS/7SjaL7ULdFZJ1mVfLBOCSnPXpiqreFNWSFpDAnyxebsEqlmTGchc5NaOo+IdMmbV3tRdF9SiQYdFARgeR16Vpatqen6Rq0d24uHvhp6RxxgDyzuTGSc5/DFQqlZJJrV/5L9S3Toyk7PT9LmJqHh4vcWEWlxYMlglzMzyYVc5yxJ4AqO38OlYdT/tDcklrbCeLy3Uq4J4Oecj6VpW3iyzjmjVo5liOnpau4jRmV1OdwU5BH1qJPEdjJcXyX0t5Nb3FqtukiwRqygHP3QQAOTT5q1rW/q5NqLs7/ANWMe0sDc6NcTR2rO6TRoJvNACbuMbe+fWpL3wzqen2stxcwoEhYLIFlVmTPQkA8A1bh1fTLHTbmzsxduks8MqtKig4U5bOD+VSXXiS1mbXGjjm/4mDxtDuUfLtOTu5/lmtOarzaLT/hv+D9xCjT5dXr/wAP/wAD7zNuPD2o2tp58sS4AUuiyKXjDfdLKDkZqPUdHutLCi8MKuTho1lVnQ4z8wByK3tZ8U2+o28ht5rmF7gIJYBBEFGMZ+f7x6cU281DSdaWGG6uJXeIPI95LEkUjKF+WPgncc45NKNSro5Ibp0npFnP6VaJfaxaWsxYJNKqMVPIBOOK3G0LSLy5vrHTJbyO9tA5VbgqyS7OoBAGDWHpV3HY6xa3UoYxwyq7BRkkA54ral1zSrS4vrzSort7y7DgPcBVWIOeSACcn61VXn5vd7fj5k0uS3vd/wADNi8P6hNYC7SJdjIZEQyKHdR1YLnJApp0HUFu3tzCu+OD7Qx3jb5eM7s9K218VQ/2LbxpLPbXdvbmACO3idX4wDubke+KqS+I4X8MraCKQX5iW2ebA2mEMWAznOeg6Uuetfbr/THyUbLXp/S/MhufD91PrMlrZWRtwkSyMsk6sEUgfMX4FQxeG9QnllSMQbYnCGQzqEZiMhVYnBJ9q15vE2n3d5fpcR3KWl7bxRF1C70ZB1xnBGfem6b4g06x0+XT0kuooln86Gf7PHIx+UAgq3A5HBFTz1lHbsPlpN7kNloenx6OLnV0vhOb02pjtyo2nGehBz371Fc+Er0alewWO2aC1lCNK7qmMjIzk1M3i24j0iaGzuLiO7mvGmebCjchGMHHf6CqMWroPDd9Yzea9xczpLvPIOOuTnOaF7a7f9dPy1G/Y6R/rr+egJ4Y1R7QTrAnzJ5ixeavmMn94LnJFS3Pha5h0exvYnWZ7s48pWXIyQFA5+bOefStGPxJpgvLfVnjuv7QgtxCIQF8pmClQc5yBz0xVez8QWVvp2kl0mN3psrEIFGyRWbJ5zkHHtRz1r7f1r/wNRctG2/T/L/g6GZd6BqFm0SvEshlk8pfJkWTEn9w4PB9qv2Xg68n1aKyupoIS6szbJVdk24yCAevI/yKtXniqFdQtJ7OWeeGK5+0NDLbxRAcYwCvJOCeTUFtqukad4ng1Kz+2SRM0jTLKqgruGABg84yetHPWcdtbP7w5aKlvpdfcVbjQriOxgSOzL3D3LQiWOdXEhwCFAH881FeeHNRskR5Y43RpBEWilVwr/3Tg8GtS18SWOmR2cVklxMtrePNmRQu5GXb2J55NQvrGl2di9rpgupVuLlJ5WnVRtCnIUAHk+9NSq32/r9AlGlZ6/1+pSvfDOp6fay3FzCgSFgsgWVWZM9CQDwDWTXUS67Z31zrMX72JdUkiEbuABGA3Jbnjj0zXP30dvFqE8dm7SW6OVjdurAd60pSm9JrX/gL9TOrGC1g9P8Ahze1fQrDTIYrdIbyWedEMV4XUQOzY46dPxqO/wDBt9bamtnZlLpjD5uQ6g4AGeM8dRj1p51rTbTQruxspb64W5UBIbkLshOc5BBPP0AqxN4l006lLfxrdeZcWDWzpsXCPtABBzyODWCdZbef9eRtai9/L/gmTF4Z1KaSRUWH924jDGdQruRnapJ+Y/So7Xw/f3inyViEgZlELzKsjFeoCk5OK1NG8SW9poiWNw81vJDMZY5YYI5d2e2H6H3FWNL8UadZ+RcTLOtws0klx5cEZM5YkgljgjGeg4qpTrK9kTGFF21May8M6nf28U9vFH5cxZYy8qruI6jBPWpF8OX9rNZveWokimnEJjSZQd39wkfdP1qzB4htYo9GUxzf6DdPNLhRyGbIxz1+uKfD4ktI4yrRzk/2sL3hR9z06/e/T3puVa+2n/BFy0bblJfDd/d3FwbWBIoorkwHzJ1Gxv7pJPPpnvUcXhrU5Z7mLyVjNq22VpZFVQx6DJOCTVy71+2n0+8gRJg0+pfa1JAwE9Dz1/zmtf7bD4mXUoo7HUHt5bpJke3jVmVtgXawzgDjrSdSrFXa0/4bz9SuSlJ2T/rX/JfeZmleHrU64uj65HdRXkhypglTaq7c88HmoYNL0rUv7Qj037Yk1vB5sSzOp3lT8w4UdsYrS1TVrXTfiKl4+6SG2VUcR4Y58vGOoBwTXPaTqf8AZmuQ3wBZEky6jqyngj8jRH2k1zeSfz/qwS9nB8rWz+diS502G18O2l5I0n2q7kbYmRtEa8ZxjOc+9SeG9Jh1e+mjnMhWKFpRFCQHlI/hXNWdVvNO1c3E8bvb29nbxw2VuxAZjnnI59yce1ZelvZx3Ja+muoMDMctsAWVs+5HH0rROTpvozNqMZrqvzNa08PwazqdxDYCeyS3hLyR3TKX3jPHbj37VR/4RvUvsbXXlIYVLLuEqncVOCBzyc9Mda2T4psX11J5UuHg+xG0knZV81yf4yM4/Ws6bW7aPT9Lt7RZXOn3Ly5lUAOC2V6E84HNZxlWutO36/8AANJKlb+vL/gla68O6jaIhljjO6QRsFlVjG56K2D8p+tEvh6/ja3CiGYXEnko8Myuu/8Aukg8GtvUPFFhdXKPm4mtpbhZZ7R7eJV2jnG4csc+v40TeKNPC2iR/aZVgv1uSTAkYCAfdAU9aFUr2V0Dp0buzMz/AIRDV8AmKIDzDGxM6YRvRueKifR5rbT74XNkwuLadI2l84AJntt759asza9bSWGoQKk266vxcoSBgLnODz1qfU/EtneJqoijnH2y4hlj3KOAgGc89eKalWb1X9aefr9wnGik7Pv/AO3f5L7zPu/C+q2NtPPcQoFgx5gWVWZQehwDnFOfwrq0ds0zwoAkXnOnmruRcZyVzkVfufE1pNfa1NHHNi/iRIgyjgrj73Pt2zW5OIimsaxPa3lo9xYlG+0KFj3EAAIc/NnFQ61WKXMv60039S40aUpWi/677HP614agstFsr2weaV5QgnRyDtZ1BXGAOOoqTWvCaWUOnRacZrm8uWaORCQV3qBkDgYAJPU9qltfFtpBeq0tvLLbCzijMZA/1sfKt16ZqO08WRQLpjzRSyzW8s73B4G4Sf3TnrzS/fr5fjp/n+gfuGv6+/8ArzM6Twvqcc0EYjik89/LR45lZd/90kHAP1o0jQ7m5ukeWzM8InMDR+cIyz4J2gn0xmrE+s2Njpa2WiG5cm6W5aW4UKVK9AACfzq9L4ssf7csLi3t547WCV55kwNzSP1I5xircqzW3cjlpJ7/ANf1qYtr4fv76NpLeJFTzDGgklVTIw/hXJ+Y/So10S8OnG9kEUUXzbRLKqs+3721ScnFbth4ptotLjt5HuLaS3meSN4oI5N4Y5x8/wB057iq9trtodFmtr+Sa7eYPtgkhTZHIxPzq+cj1xinz1tdA5KOmpzVFW9UgtbbUZIbCYzwpgCQkHccckY7ZzVSupO6uczVnYKKKKYgooooA5b4k/8AJPdS/wC2X/o1K+hvhx/ySzwp/wBgWz/9EJXzz8Sf+Se6l/2y/wDRqV9DfDj/AJJZ4U/7Atn/AOiErwsx/ir0/VntZf8Awn6/5HSUUUV5x6AUUUUAfIPwg/5FG6/6/n/9Fx13tcF8IP8AkUbr/r+f/wBFx13tfS4X+DE+dxP8aQUUUV0nOFFFFABWX4n/AORR1j/rxn/9FmtSsvxP/wAijrH/AF4z/wDos1FT4GVD40ZXw2/5J7pv/bX/ANGvXU1y3w2/5J7pv/bX/wBGvXU1FD+FH0X5F1v4svVhRRRWxkFFFFABRRRQAUUUUAFFFFABRRRQAUUUUAFFFFABRRRQAUUUUAFFFFABRRRQAUUUUAFFFFABRRRQAUUUUAFFFFABRRRQAUUUUAFFFFABRRRQAVwXwg/5FG6/6/n/APRcdd7XBfCD/kUbr/r+f/0XHXNP+ND5/odEP4M/l+p3tFFFdJzhRRRQAUUUUAFFFFABRRRQAoZgpUMQD1GetJRRQAUUUUAFFFFABRRW74e0a31K1vbm4S4nNqqkW1sQHfJ68g8D6VE5KEeZlRi5y5UYVFdDD4cTU7K/vtOdoYbdlWOG4ddxP8W45GMduOaqP4a1SOGCQwAi42+SokUs+7pgZ/8A1VKqwelynSmlexk0Vpz+Hr+3mhjcQnzmZVdZ0KAr94Fs4BHvTv8AhG9RN7BbRRxyvcKXhaOVWRwOuGBxxin7SHcXs59jKorcTwfq7mLbFCRKDsbz0wSP4c5+97Uz+xLiazsEhsmS4nmki3tMMSMD02/w4pe1h0Y/ZT6oxqK1bnw3qdrHC0kCt50vkqI5Fch/7pweDUsnhbULXEl2kfkLKkUjRzKxUscY4PWn7WHcXs5roYtFdRrPhOO116ys9NkkkgumKB5CCVZWw+cAdOtRax4ZWPW4LLQvNuEltxPulZeASeScAAYAqI16cra7lyoTjdNbfqc5RWtL4a1OJiPKR18lpleOVWV1X7xBB5x6dadY6LO9lJczWZljktZJYSJghUKQC5HcD071ftYWvcn2c72sY9FaS+H9QbT/ALWIl2GMyhDIvmFB1cLnOPemXWjXdlZR3Nz5UYkUOsZlXzNp6HbnOKftIXtcXJK17FCiiirICiiigAooooAKfJNLMQZpHkIGBuYnFMopAFFFFMAooooAKKKKACiiigArL8T/APIo6x/14z/+izWpWX4n/wCRR1j/AK8Z/wD0Waip8DKh8aMr4bf8k903/tr/AOjXrqa5b4bf8k903/tr/wCjXrqaih/Cj6L8i638WXqwooorYyCiiigAooooAKKKKAClZmc5Zix6cmkooAKKKKACiiigAooooAKKKKACiiigAooooAKKKKACiiuvTwxpUslvZpJerdz2QuhKSpiU4JwRgEDj1rOpUjT1ZpCnKo7I5CitEaFetp7XaeS6JGJWRZlMip/eKg5AqwvhTVnhWRYEO6ITInmrudcZyFzk0OpBbsSpzeyMaitJfD+oNp/2sRLsMZlCGRfMKDq4XOce9aWkeFLh9SsDqkKi0uSCAJRuYFSRgA57UpVYRTbY1Tm+hzdFa0Xh2+u1eW1iTyzI6xK8iq0u3qFBOWx7VCmi3bab9ubyooTu2eZKqtJt67VJycU/aQ7idOa6GfRW3b+G51vrGLUCkSXMqK0azL5qq3Q7eSOPUVe1bw5YWVq80C30Lx3QgWK7Kj7QM9UIA496l1oJpdylRm032OWorrH0C0WGdprV4JE1KO38szb9qMASMjg9etVtW0NInnjsbNgBqBto5jMMHjhNp/nSVeDdv66f5jdGSV/66/5HOUVq3vhvU9PtXuLmFQiSeW4SRWKN2yAeM0+fwrqtvbSzywxhYY/MlUTKWjHuM5Bq/a097on2U72szHp8c0sOfKkdN3B2sRmmUVZmFFFFMAooooAKKKKACiiigAooooAKe88siKkkjsq/dVmJAplFIAooopgFFFFABRRRQAUUUUAFFFFABRRRQBy3xJ/5J7qX/bL/ANGpX0N8OP8AklnhT/sC2f8A6ISvnn4k/wDJPdS/7Zf+jUr6G+HH/JLPCn/YFs//AEQleFmP8Ven6s9rL/4T9f8AI6SiiivOPQCiiigD5B+EH/Io3X/X8/8A6Ljrva474K+HvEGreC7ufRoNNkgXUHRjd3kkTbvLjPAWJxjBHOfXivQ/+EL8Zf8APpoX/g0m/wDkavdw+JpRpRi3+Z4lfD1ZVW0vyM2itL/hC/GX/PpoX/g0m/8Akaj/AIQvxl/z6aF/4NJv/kat/rdHv+DMfqtbt+KM2itL/hC/GX/PpoX/AINJv/kaj/hC/GX/AD6aF/4NJv8A5Go+t0e/4MPqtbt+KM2svxP/AMijrH/XjP8A+izXTf8ACF+Mv+fTQv8AwaTf/I1ZPizwj4stvBetz3droywRafO8pj1GVmCiNicAwAE47ZH1FTPFUXFq/wCDKhhaqknb8jmvht/yT3Tf+2v/AKNeuprE+F3hjxNqPw20u60y30l7WTztjXF/JG5xM4OVELAcg9zx+Vdb/wAIX4y/59NC/wDBpN/8jVNHFUo04pvoujKq4arKpJpdX2M2itL/AIQvxl/z6aF/4NJv/kaj/hC/GX/PpoX/AINJv/katPrdHv8AgzP6rW7fijNorS/4Qvxl/wA+mhf+DSb/AORqP+EL8Zf8+mhf+DSb/wCRqPrdHv8Agw+q1u34ozaK0v8AhC/GX/PpoX/g0m/+RqP+EL8Zf8+mhf8Ag0m/+RqPrdHv+DD6rW7fijNorTbwb4sdi9pbaM8DHMTSajKjMvYlRAQDjtk49TSf8IX4y/59NC/8Gk3/AMjUfWqPf8GL6rW7fijNorS/4Qvxl/z6aF/4NJv/AJGo/wCEL8Zf8+mhf+DSb/5Go+t0e/4Mf1Wt2/FGbRWl/wAIX4y/59NC/wDBpN/8jUf8IX4y/wCfTQv/AAaTf/I1H1uj3/Bh9VrdvxRm0Vpf8IX4y/59NC/8Gk3/AMjUf8IX4y/59NC/8Gk3/wAjUfW6Pf8ABh9VrdvxRm0Vpt4N8WOxe0ttGeBjmJpNRlRmXsSogIBx2yceppP+EL8Zf8+mhf8Ag0m/+RqPrVHv+DF9VrdvxRm0Vpf8IX4y/wCfTQv/AAaTf/I1H/CF+Mv+fTQv/BpN/wDI1H1uj3/Bj+q1u34ozaK0v+EL8Zf8+mhf+DSb/wCRqP8AhC/GX/PpoX/g0m/+RqPrdHv+DD6rW7fijNorS/4Qvxl/z6aF/wCDSb/5Go/4Qvxl/wA+mhf+DSb/AORqPrdHv+DD6rW7fijNorTbwb4sdi9pbaM8DHMTSajKjMvYlRAQDjtk49TSf8IX4y/59NC/8Gk3/wAjUfWqPf8ABi+q1u34ozaK0v8AhC/GX/PpoX/g0m/+RqP+EL8Zf8+mhf8Ag0m/+RqPrdHv+DH9VrdvxRm0Vpf8IX4y/wCfTQv/AAaTf/I1H/CF+Mv+fTQv/BpN/wDI1H1uj3/Bh9VrdvxRm0Vpf8IX4y/59NC/8Gk3/wAjUf8ACF+Mv+fTQv8AwaTf/I1H1uj3/Bh9VrdvxRm0Vpt4N8WOxe0ttGeBjmJpNRlRmXsSogIBx2yceppP+EL8Zf8APpoX/g0m/wDkaj61R7/gxfVa3b8UZtFaX/CF+Mv+fTQv/BpN/wDI1H/CF+Mv+fTQv/BpN/8AI1H1uj3/AAY/qtbt+KM2itL/AIQvxl/z6aF/4NJv/kaj/hC/GX/PpoX/AINJv/kaj63R7/gw+q1u34ozaK0v+EL8Zf8APpoX/g0m/wDkaj/hC/GX/PpoX/g0m/8Akaj63R7/AIMPqtbt+KM2itL/AIQvxl/z6aF/4NJv/kaj/hC/GX/PpoX/AINJv/kaj63R7/gw+q1u34ozaK0v+EL8Zf8APpoX/g0m/wDkaj/hC/GX/PpoX/g0m/8Akaj63R7/AIMPqtbt+KM2uC+EH/Io3X/X8/8A6Ljr0/8A4Qvxl/z6aF/4NJv/AJGrzz4K+HvEGreC7ufRoNNkgXUHRjd3kkTbvLjPAWJxjBHOfXisJ4mk6sZX2v38jaOHqqlJW3t28zsaK0v+EL8Zf8+mhf8Ag0m/+RqP+EL8Zf8APpoX/g0m/wDkat/rdHv+DMfqtbt+KM2itL/hC/GX/PpoX/g0m/8Akaj/AIQvxl/z6aF/4NJv/kaj63R7/gw+q1u34ozaK0v+EL8Zf8+mhf8Ag0m/+RqP+EL8Zf8APpoX/g0m/wDkaj63R7/gw+q1u34ozaK0z4N8WMAIbbRmdRiUPqMqhW64U+Qdw2lTk45JGOMlP+EL8Zf8+mhf+DSb/wCRqPrVHv8AgxfVa3b8UZtFaX/CF+Mv+fTQv/BpN/8AI1H/AAhfjL/n00L/AMGk3/yNR9bo9/wY/qtbt+KM2itL/hC/GX/PpoX/AINJv/kaj/hC/GX/AD6aF/4NJv8A5Go+t0e/4MPqtbt+KM2itL/hC/GX/PpoX/g0m/8Akal/4Q3xYVCLbaMZwcup1GUKFP3SG8jJOQ2RgYwOTk4PrVHv+DF9VrdvxRmUVpf8IX4y/wCfTQv/AAaTf/I1H/CF+Mv+fTQv/BpN/wDI1H1uj3/Bj+q1u34oza09GnsbaRpbq6vbWdSDFLagHjuDkj2pP+EL8Zf8+mhf+DSb/wCRqP8AhC/GX/PpoX/g0m/+RqUsVRkrc34P/IccNWTvy/iv8zZn8SabfyawlzFPDDfLHsaNVLZTuwyBzUB8SwJr2k38UUjJZWyQyI4AJIBBI59+Kzf+EL8Zf8+mhf8Ag0m/+RqP+EL8Zf8APpoX/g0m/wDkasVUwy0v+fa35Grp4l9Py73NuTxHpz6hb+a891ZozuUktYV8tiMKQq8MR709fFdjHfaZIftUy2azK7mJEL7xwQoOB/nrWF/whviwKUa20YTk5RRqMpUqPvEt5GQclcDBzk8jAyn/AAhfjL/n00L/AMGk3/yNS5sNbf8ArXy8yuXE32/rTzL9j4gtraz0iKRJi1leNPIVAwVJ6Dnr+VWl8UWS3GnuYrjFtezXD/KvKu2QBz1rG/4Qvxl/z6aF/wCDSb/5Go/4Qvxl/wA+mhf+DSb/AORqbqYZu9/zJVPEJWt+Rr6Z4iii8uGG3mmnbVftKJgYZSMYzn73P0rSv0ttK8P3cvlXkP2m+jkCXahXbB3EBc9B6965ceC/GYORaaED/wBhSb/5Gp0nhDxvMwM0GiyEDALarOf/AG3qXOhzJqX4MpQr2acfxXW/+Zrv4vg8vVAkMpeaV5LN2AzFvG1s88cemeaYPE1k13GJIp/s76atjMVADqe7Lzz+OKyP+EL8Zf8APpoX/g0m/wDkalHg3xYoImttGV2GIgmoysGbrhj5A2jaGORnkAY5yKUsL0f5iccTvb8u9zUTxHZ6fJplvp6zy2lm7tK0qgNKH4YAA4Ax70N4lsxe3flRTraHTzZ2yYGV4HLc+uemayv+EL8Zf8+mhf8Ag0m/+RqP+EL8Zf8APpoX/g0m/wDkaj2mG7/n/kLkxK2X5G1N4qhl0eJI5bi3uo7X7OY0t4mV+MZ3n5gCOoqpqGs2Vz4eWzZpru4UIIpJoVUwAdVDA5Yduaof8IX4y/59NC/8Gk3/AMjUf8IX4y/59NC/8Gk3/wAjUKphk7p+e3/AD2eIas10tv8A8EzaK0v+EL8Zf8+mhf8Ag0m/+RqP+EL8Zf8APpoX/g0m/wDkat/rdHv+DMfqtbt+KM2itL/hC/GX/PpoX/g0m/8Akaj/AIQvxl/z6aF/4NJv/kaj63R7/gw+q1u34ozaK0v+EL8Zf8+mhf8Ag0m/+RqP+EL8Zf8APpoX/g0m/wDkaj63R7/gw+q1u34ozaK0v+EL8Zf8+mhf+DSb/wCRqP8AhC/GX/PpoX/g0m/+RqPrdHv+DD6rW7fijNorS/4Qvxl/z6aF/wCDSb/5Go/4Qvxl/wA+mhf+DSb/AORqPrdHv+DD6rW7fijNorS/4Qvxl/z6aF/4NJv/AJGo/wCEL8Zf8+mhf+DSb/5Go+t0e/4MPqtbt+KM2itL/hC/GX/PpoX/AINJv/kaj/hC/GX/AD6aF/4NJv8A5Go+t0e/4MPqtbt+KM2itL/hC/GX/PpoX/g0m/8Akaj/AIQvxl/z6aF/4NJv/kaj63R7/gw+q1u34ozay/E//Io6x/14z/8Aos103/CF+Mv+fTQv/BpN/wDI1ZPizwj4stvBetz3droywRafO8pj1GVmCiNicAwAE47ZH1FTPFUXFq/4MqGFqqSdvyOa+G3/ACT3Tf8Atr/6NeuprE+F3hjxNqPw20u60y30l7WTztjXF/JG5xM4OVELAcg9zx+Vdb/whfjL/n00L/waTf8AyNU0cVSjTim+i6Mqrhqsqkml1fYzaK0v+EL8Zf8APpoX/g0m/wDkaj/hC/GX/PpoX/g0m/8AkatPrdHv+DM/qtbt+KM2itL/AIQvxl/z6aF/4NJv/kaj/hC/GX/PpoX/AINJv/kaj63R7/gw+q1u34ozaK0v+EL8Zf8APpoX/g0m/wDkaj/hC/GX/PpoX/g0m/8Akaj63R7/AIMPqtbt+KM2itL/AIQvxl/z6aF/4NJv/kaj/hC/GX/PpoX/AINJv/kaj63R7/gw+q1u34ozaK0v+EL8Zf8APpoX/g0m/wDkaj/hC/GX/PpoX/g0m/8Akaj63R7/AIMPqtbt+KM2itL/AIQvxl/z6aF/4NJv/kaj/hC/GX/PpoX/AINJv/kaj63R7/gw+q1u34ozaK0v+EL8Zf8APpoX/g0m/wDkaj/hC/GX/PpoX/g0m/8Akaj63R7/AIMPqtbt+KM2itL/AIQvxl/z6aF/4NJv/kaj/hC/GX/PpoX/AINJv/kaj63R7/gw+q1u34ozaK0v+EL8Zf8APpoX/g0m/wDkaj/hC/GX/PpoX/g0m/8Akaj63R7/AIMPqtbt+KM2itL/AIQvxl/z6aF/4NJv/kaj/hC/GX/PpoX/AINJv/kaj63R7/gw+q1u34ozaK028G+LHOba20Z0wATJqMqncOGGBAeA2QD3GDgZwE/4Qvxl/wA+mhf+DSb/AORqPrVHv+DF9VrdvxRm0Vpf8IX4y/59NC/8Gk3/AMjUf8IX4y/59NC/8Gk3/wAjUfW6Pf8ABj+q1u34oza39X8T3F5a21pY3FxDbR2qRSxkhQzAYPQ9Kpf8IX4y/wCfTQv/AAaTf/I1H/CF+Mv+fTQv/BpN/wDI1RLEYeTTb28n/kVGhXjey380ba+JNLh02WC2jnj86yMHkpAgVXxgsWzubJq9e6lp+k3mmX04uHvItNjEUageW2VIGTnI6muW/wCEL8Zf8+mhf+DSb/5GpW8G+NGxutdDOBgZ1Sbgf+A9YuWHb+L8/wDI2UcQl8P5eX+RszeKoZdHiSOW4t7qO1+zmNLeJlfjGd5+YAjqKgXxHaDxDpN8Y5/KsrZIpF2jcSAQcc9Ofasz/hC/GX/PpoX/AINJv/kaj/hC/GX/AD6aF/4NJv8A5GqlUwy6/g/8iXTxLVrfiv8APyNy18V26aXDCZLi2ntnkMbRW8Um8McjluVP0qpaa5Zx6BLaXrzXbOj7bd4E2RyE8Or5yPpis7/hC/GX/PpoX/g0m/8Akalbwb4sc5trbRnTABMmoyqdw4YYEB4DZAPcYOBnAOfDa6/h/wAAfLibrT8f+CbR8SacqWJlNxezW08brNJAiPGi9VyD8344puoeJrGS1uYrY385urlJj9qK7YQG3YQAn6Vjf8IX4y/59NC/8Gk3/wAjUf8ACF+Mv+fTQv8AwaTf/I1Lnw173/P/ACF7PEWtb8v8/M2rzxTZXD3JSK4Hm6hHdLlV4RQAQeevFMuvE9lMTsinGdVF7yo+5gcdev6e9ZH/AAhfjL/n00L/AMGk3/yNR/whfjL/AJ9NC/8ABpN/8jU1PCrr+fl/kNwxLvdfl5/5s0pPEduy6v5cUpe8u454QwGAFbOG5/lmt6+SGOy13U5ba8tHvIAhF0oVd5x8qc/N9a4//hC/GX/PpoX/AINJv/kapJPCPjiVVEsGiuF+6G1ac4/8l6iU6Dtyyt8n5f5FRjX+1G/zXn/mzJorS/4Qvxl/z6aF/wCDSb/5Go/4Qvxl/wA+mhf+DSb/AORq6vrdHv8Agzm+q1u34ozaK0v+EL8Zf8+mhf8Ag0m/+RqP+EL8Zf8APpoX/g0m/wDkaj63R7/gw+q1u34ozaK0z4N8WMAIbbRmdRiUPqMqhW64U+Qdw2lTk45JGOMlP+EL8Zf8+mhf+DSb/wCRqPrVHv8AgxfVa3b8UZtFaX/CF+Mv+fTQv/BpN/8AI1H/AAhfjL/n00L/AMGk3/yNR9bo9/wY/qtbt+KM2itL/hC/GX/PpoX/AINJv/kaj/hC/GX/AD6aF/4NJv8A5Go+t0e/4MPqtbt+KM2itL/hC/GX/PpoX/g0m/8Akaj/AIQvxl/z6aF/4NJv/kaj63R7/gw+q1u34ozaK0v+EL8Zf8+mhf8Ag0m/+RqP+EL8Zf8APpoX/g0m/wDkaj63R7/gw+q1u34ozaK0v+EL8Zf8+mhf+DSb/wCRqU+DfFjACG20ZnUYlD6jKoVuuFPkHcNpU5OOSRjjJPrVHv8AgxfVa3b8UZlFaX/CF+Mv+fTQv/BpN/8AI1H/AAhfjL/n00L/AMGk3/yNR9bo9/wY/qtbt+KM2itL/hC/GX/PpoX/AINJv/kaj/hC/GX/AD6aF/4NJv8A5Go+t0e/4MPqtbt+KM2itL/hC/GX/PpoX/g0m/8Akaj/AIQvxl/z6aF/4NJv/kaj63R7/gw+q1u34ozaK0v+EL8Zf8+mhf8Ag0m/+RqP+EL8Zf8APpoX/g0m/wDkaj63R7/gw+q1u34ozaK0v+EL8Zf8+mhf+DSb/wCRqP8AhC/GX/PpoX/g0m/+RqPrdHv+DD6rW7fijhPiT/yT3Uv+2X/o1K+hvhx/ySzwp/2BbP8A9EJXg/xR8MeJtO+G2qXWp2+kpax+Tva3v5JHGZkAwphUHkjuOPyr3j4cf8ks8Kf9gWz/APRCV5ONqRqVE49j1cHTlTptS7nSUUUVwnYFFFFAHgP7Mn/JM9Q/7C8n/omGvZK8b/Zk/wCSZ6h/2F5P/RMNeyVvHYxluFFFFUSFFFFABXPfED/kmfif/sEXf/olq6Gue+IH/JM/E/8A2CLv/wBEtQ9hrc574Ef8kU0H/t4/9KJa9Crz34Ef8kU0H/t4/wDSiWvQqS2B7hRXH/ELxBdaDY2jWuv6ToazSMslxfxNM5AHAijUjcc9fSuO0P4xXcfgfxTqOri31G40GZI4Z4IngW7EhwhKNyvPX2pcy18v6/UfK9PM9horzTTNc8caP4buPFvjO70ubTV09rv+z7SFkkjYgMi7znPof61Y8BX3j7xCNP8AEOuXekw6PfRtKNPghbzEQqfLO8987Sfb8qrrb+v60J6XPQ6KKKAILP8A48Lf/rkv8qnqCz/48Lf/AK5L/Kp6b3EthGYIpZyFVRkknAArEh8beFbm4jgt/E2jyzSMESOO/iZmYnAAAbJPtWnqP/ILuv8Ari//AKCa8A+C8mnHQ9LiuPh5LqU5vWxrn2GJ1iO/ht5+Ybf0xUxd58v9bltWhzHvd9rGm6ZPaw6jfW9tLeSiG3jlkCtM5OAqg9Tz2q7XiXxL8J6fpfxR8Ha9C9zLfal4gt1laaXcqKrJhUXsO9e20ou61/rRf5hKNrWCiiiqJILP/jwt/wDrkv8AKp6gs/8Ajwt/+uS/yqem9xLYKK4P4ueMNV8FeFrPUNDSGS4mv47cpMu4MrBjgcjB4HNcz4q+IXirwdb6XpXiC+0e01bVriSQ3wid4LG2AXjbwWfJYen9I5l+hfK/1PYqK8Y0741T2/gnxNfXj2esXWizxQ211ao0UV55uQjFTyuNpyPb8a7fwXF46aUXnjK/0ua2uLcOtraQlGgkJBA3HqMZB98daad9v66iatudhRRRTEQWf/Hhb/8AXJf5VPUFn/x4W/8A1yX+VT03uJbBRXnXxB8YeI9E8beGdC8MpZO+searfa1JVSMYbIOcDJJHfGKyrLx54r0fWfFPh3xM9hd6hpmkvqVnd20RRGAXO1lz6kfketZ86tf1/Dcvld7en4nrVFeOaP8AEbxfb/De58d+JI9NfTfsZFpZwKyyST+YEV2PQKeeAegFQ+DPi1qN/wCMdF0vUtZ0rWI9ZjbzI7G3eJrCULuCEn74PTPqPztay5eore7zHtNFFFAiCz/48Lf/AK5L/Kp6gs/+PC3/AOuS/wAqnpvcS2CiiikMZLLHBC808ixxRqWd3bCqBySSegqDTtUsNXtftWk31tfW+4r5ttMsiZHUZUkZrgPjl4g/snwD/ZkVwkFzrc62Su7hQiE/vGJPQY4J/wBqud+D+oaX4f8AiBr/AIO0fU7e/wBMmVL6wmgmWRSdoEi5BIz04/2amLvJr+r7/kVJWin/AF2/M9hsNUsNUjkk0y+trxInMcjW8yyBHHVSQTgj0osNUsNVhebS762vYkcxu9vMsiqw6qSpOD7V5n8A/wDkWfEI7jXLjP5LXnVjrN7o/wCz9rn9nTNbvfeIntXnU4KIwXcc+4GPxpczsvNJ/N2/zHy6v1a+6/8Ake/r418Lvqo0xfEOltfM+wW4u0Llv7uM9fbrW5XG6H8LfBmkadYx22h2ck1qUlS8eMGZnXBD7+vUZxnHtXZVpsZ3vqgooopDCvG/2ZP+SZ6h/wBheT/0TDXsleN/syf8kz1D/sLyf+iYal7opbM9kooryD4gfELWPD2qamdP8UaFE1iA0OkrZyXEsoABIldTiMnn04xkihyUdwUW9j1+ivKdR+I3iDXdS8NaF4Mhs7XUdZ01dRuLm8BdLaMjOAB1OQf0+oseJfFni/wvp+g+H9+nah4p1q5eGO68tkgjQEfOV65ww49j16U72dvO342Elf8AP9T06isLwrbeJbSxmTxdqFlf3HmZils4TGAmBwQe+c1u0xEEH+uuf+uo/wDQFqeoIP8AXXP/AF1H/oC1PTYkQ3d5bafaSXV/cRW1vEMyTTOERB6ljwKzrDxZ4c1W8W00zX9LvLlwSsNvexyO2Bk4UEnpWF8X/wDkkXiL/r1/9mFct8JZNOkt9FSL4eS6bcrYKf7cexiRZTsALCQfMd3P1zUp3k12/wCD/kU1aKf9dP8AM9Pk1nTItYi0mS/t11GZC8doZR5jKOSdvXFXq8OsvCen+Ev2ldFg017iU3en3FzPLcy+Y7uRIM5+gAr3GiLvFP8ArdoJK0mv62CoF/4/5f8Arkn82qeoF/4/5f8Arkn82ql1JZPRRXAfFjxlrHg3TdHm0CKCae91FLZo5lyHBB4BzwSQOaluxSVzv6K8b8U/EPxR4Rl0nw/r2qaNZarqDST3Gp+S7wWsH8KhOCzZBHPt65EVp8bbqH4f6zfyraapqWnXyWNtPbqyQ3ZkzskKnkcKxI9u2aXMv6+783YfK7ntNFcp4PtvG8U0kvjPUdMuYpYQyQ2cJRoZM8jJ+8MV1dWSQN/x/wAX/XJ/5rU9QN/x/wAX/XJ/5rU9D6CXUKK8/wDij4x1zwrc+HIPDkVrNNql/wDZmS5Bw2cYGQeOT15rHh8a+L/Dvja78N+K5NNvXn0qa/srizhZAjIrHawJ5Hyn36c81HMlf5/gr/kXyvT+utj1iivG/DPxF8YzeALjx14hTTTo8FpKEtYFZZZ5g+1WzyFXPy4z2zVPwl8YNTvPFGg2upaxpOqR625jms7K3eOTT3Iyg3E4cZODVX97l6/1b+vvF05v603PcKgn/wBdbf8AXU/+gNU9QT/662/66n/0BqaJZPRRRSGFFFFABRRRQAUUUUAFUrDWdL1WWePTNStLyS2bbOlvOshiPPDAE4PB6+lZHxB8Sr4S8B6rq+4CWGErAD3lb5U/Ug/hXifwzvNN8F/EHw7DZazaXyeItNEWoCC5WQxXe4sN2CcHkLz6mpTvPl/q+v8Al+KG1aPN/XS/5/mfQ0eqWE2pTadDfW0l7AoeW2WZTJGp6FlzkDkcn1oi1Swn1GbT4L62kvbdQ01skymSMHoWUHIByOteZ+Gv+TmPF/8A2DYP5R1z99q1zofxQ+KOp2H/AB82ujxPEwGdrbEwfw6/hU8/upvqm/uuVy3bS8vxt/meuaj4y8M6RffYtU8QabZ3PeGe7RGH1BPH41so6yIrowZWGQwOQR615X8Nfht4Uvfh5p+oatpVrq99qkAubq7u0812d+SAx5XHTjHSvUoYY7e3jhhXbHGoRF9ABgCtbNaPci6eq2H0UUUgCiiigAooooAK574gf8kz8T/9gi7/APRLV0Nc98QP+SZ+J/8AsEXf/olqHsNbnPfAj/kimg/9vH/pRLXoVee/Aj/kimg/9vH/AKUS16FSWwPcKKKKYgooooAKKKKACiiuP+IXiC60GxtGtdf0nQ1mkZZLi/iaZyAOBFGpG456+lJuyGldnYUV4vpnxovbbwN4lv8AUlt9TvNFuY7e2nhheBLrzMhGZG5XGCSOOPzrpNP1bxr4d8O3/iXx1eabdWUWntcrZWUJR45OCF3HqMZB98daXMkm+i/yuPlbaXU9EorzzwFfePvEI0/xDrl3pMOj30bSjT4IW8xEKnyzvPfO0n2/KvQ6rVbk+gUUUUAFFFFABRRRQAUUUUAQWn+pb/rrJ/6GanqC0/1Lf9dZP/QzU9N7iWwUUUUhlLU9Z0zRYEm1jUbTT4nbasl1OsSseuAWIyaZpfiDRtbMg0XVrHUDFjzBaXKS7M9M7ScZwa8x/aEKjRPDRktjdqNZj3W4UMZRtPyYPBz0x71veGNO0vxBoms6fD4Lu/Bsd1GsMrpbR20kynPKlB29/WpTbv5f5L/MppK3n/mzs7PWNN1G8u7Swvre5uLJlW5jikDNCTnAYDoeD+VXa8f+C+j2mgeOviBpWmqy2tpdWscYdixwBL1J6mvYKad0mElZtBRRRTJCoLT/AFLf9dZP/QzU9QWn+pb/AK6yf+hmn0F1J6KKKQwoorynUfFvjjU/ixrHhHwu2lww2cEU4uLuNv3alVLdM5JLYHHFK/vKPcdtGz1aivCvEnxo1FPEWvRaZq+k6VBosjRQWl5bvLJqLrncNw4QZGB+H4bU3xJ8Q+LNZ0TQvA0dnY3V9piald3V6pkWBT/Cqjqc9/cdKSkpK6/rd/oNxadn/X9XPW6Kz9Ci1aHRLePxDcW9zqKhhNNbIVjf5jggHp8uM++a0KokKKKKAIIP9dc/9dR/6AtT1BB/rrn/AK6j/wBAWp6bEgooopDCivJIfFfj/wASeMvFeh+G5tJtIdGnCx3FzCzNg5wmAcEnHU9MdOay7j4x+IZfhvoWs2Fnaf2pc6v/AGbdQsp2SMB/Dz8uePXHNSpJq/p+OhTi07f1ornt9FeP+LPiB4n8F2mkaPr2oaPb6xqk0jy6iIna3tIBjHycFmySPw963/hX48uPGA1qyvbq1v5NJnREv7SMxx3MbglW2H7p+Ug0009hNNHoNFFFMQVBB/rrn/rqP/QFqeoIP9dc/wDXUf8AoC011EyeiiikMKpXOs6XZ6jBYXepWkF5cf6m2lnVZJe3yqTk/hV2vlzxnrFl4k8Q+J/F0etWlvf6JeW8WjWz3CrJKkTfOVUnJBJyMe9S5JSSfz9ClFtO39M+mbzVLDT5LePUL62tXuX8uBZ5lQyv/dUE/MfYUXeqWFhNbw399bW0t0/lwJNMqNM391QT8x5HAryL4i6xB4gb4Yavan9zearDKOfu52ZH4HI/CtH4vc+Nvh2O/wDbP9Up63s/5rfl/mLRq67X/P8AyPSNV1vS9Cthca1qNrYQk4D3Myxgn0GTyaXStZ0zXbP7VouoW1/b7tpltpVkUH0JB4PtXk3h7RrD4g/GTxbd+LIU1BNDlS0sbKf5o41+bLbOhztzz6n2r1TRvD+k+HYZodD0+Cwhnk82SK3TapbAGdo4HAHSiLvFN9Qlo7LoaVFFFMR578d/+SKa9/27/wDpRFXcfDj/AJJZ4U/7Atn/AOiErh/jv/yRTXv+3f8A9KIq7j4cf8ks8Kf9gWz/APRCVjPc1hsdJRRRUFhRRRQB4D+zJ/yTPUP+wvJ/6Jhr2Svl/wCDnj3xH4W8H3VlofgHVPElvJfvM13Z+ZsRjHGDGdsTjICg9f4hxXoH/C4fG/8A0RzxB/5H/wDketoySRk4ts9gorx//hcPjf8A6I54g/8AI/8A8j0f8Lh8b/8ARHPEH/kf/wCR6fNEXKz2CivH/wDhcPjf/ojniD/yP/8AI9H/AAuHxv8A9Ec8Qf8Akf8A+R6OaIcrPYK574gf8kz8T/8AYIu//RLVwH/C4fG//RHPEH/kf/5HrK8U/FXxjqPg/WbK8+FGuWFvc2E8Mt3L52yBWjYGRswAYUHJyR06ilzIOVnZ/Aj/AJIpoP8A28f+lEtehV86fDP4k+KtA+HemaZpXw11jW7SDzfLv7bzfLm3SuxxthYcElep5H4V1f8AwuHxv/0RzxB/5H/+R6FJWG4u51njPwPfeIPEOja9omrppupaT5ixma2E8bK4wflyMH3rMsPhFENN8U2eva1Lqv8AwkjpJNL9nETROuTuGCQfmOQMDGMc1jf8Lh8b/wDRHPEH/kf/AOR6P+Fw+N/+iOeIP/I//wAj0vctYfvXTN/RPh9r0Olz6L4p8WHWdEazazjtVslibaQAGZ8kkqBxUngvwP4l8KXFraT+MGv9BsgywWLWSq5BBCq0mScLnP4DpXOf8Lh8b/8ARHPEH/kf/wCR6P8AhcPjf/ojniD/AMj/APyPVcyvcnldrHsFFeP/APC4fG//AERzxB/5H/8Akej/AIXD43/6I54g/wDI/wD8j0c0Q5Wes2f/AB4W/wD1yX+VT141bfGDxstrEqfB/X3UIAGHnYYY6/8AHvUv/C4fG/8A0RzxB/5H/wDkem5xuJRdj1y4h+0WssO7b5iFM4zjIxXOfD7wd/wgnhGHQ/t32/ypXk8/yfKzubONu49PrXDf8Lh8b/8ARHPEH/kf/wCR6P8AhcPjf/ojniD/AMj/APyPSUopt9x8smrHb+L/AAX/AMJXqvh29+3/AGT+xNQS92eTv87aQdudw29OvP0rqa8f/wCFw+N/+iOeIP8AyP8A/I9H/C4fG/8A0RzxB/5H/wDkekpRQ2pM9gorx/8A4XD43/6I54g/8j//ACPR/wALh8b/APRHPEH/AJH/APkenzRFys9Zs/8Ajwt/+uS/yqevGrb4weNltYlT4P6+6hAAw87DDHX/AI96l/4XD43/AOiOeIP/ACP/API9NzjcSi7Ha/EHwT/wnei2mn/2h9g+zXsd35nk+bu2gjbjcMZz1qv468BSeKrzS9V0rVW0jWdJdmtroQiVSG6qynqOP58GuS/4XD43/wCiOeIP/I//AMj0f8Lh8b/9Ec8Qf+R//keovH8b/Mq0v0Opn8AXmveB9Q0Lxnrp1Sa9cOtzBapALcrjbtUcHBGeeuTVnwb4b8UaFLs8Q+K/7atIYPIt4RZLCV5GHZgSWOBjn1Ncb/wuHxv/ANEc8Qf+R/8A5Ho/4XD43/6I54g/8j//ACPT5op3Dllax7BRXj//AAuHxv8A9Ec8Qf8Akf8A+R6P+Fw+N/8AojniD/yP/wDI9PmiLlZ6zZ/8eFv/ANcl/lU9eNW3xg8bLaxKnwf191CABh52GGOv/HvUv/C4fG//AERzxB/5H/8Akem5xuJRdhnxZs7m/wDi14DtrC+fT7pzceVdIgcxMACDtPBHHI7jNbuk/C26jbxDqHiHXzqet65ZtZNeC2EaQRlcYVAeex6jp+NYTfFzxm8iu/wY15nX7rFZiR9P9Hp//C4fG/8A0RzxB/5H/wDkes1ycvK/P8S3zN3Xl+B1tv8ADi0/4VOngbUbxrmBYDEbpI/LbO8urBcnGDjjJ6VH4P8ACHijQbq3XWvFy6pp9nEYoLZdPSJmGMKXcEk4HauW/wCFw+N/+iOeIP8AyP8A/I9H/C4fG/8A0RzxB/5H/wDker51zOXcnldrHsFFeP8A/C4fG/8A0RzxB/5H/wDkej/hcPjf/ojniD/yP/8AI9HNEOVnrNn/AMeFv/1yX+VT141bfGDxstrEqfB/X3UIAGHnYYY6/wDHvUv/AAuHxv8A9Ec8Qf8Akf8A+R6bnG4lF2PYKK8f/wCFw+N/+iOeIP8AyP8A/I9H/C4fG/8A0RzxB/5H/wDkelzRHys67xD8PIPFHjzS9d1m6iutP02F0TSpbUOju2cuzFsHtxt/hFV9R+F2mnxhofiDw2bXQZtLdjLFa2KhbpG4KnaVwcbhnnr7VzP/AAuHxv8A9Ec8Qf8Akf8A+R6P+Fw+N/8AojniD/yP/wDI9JSirW6Dak9y9dfCjXdP1rVLjwR4zl0Oy1eUy3VobRZtrN94oxPHU9MEetbll8LNCtvho/gyYy3FpLl5bgkCRpSc+YPQggY9hjmuV/4XD43/AOiOeIP/ACP/API9H/C4fG//AERzxB/5H/8Akel7iXKP3r3NbQvh7400e4srR/iJPPotnIjLbGxQSOikERmTJYDAx16dq9Krx/8A4XD43/6I54g/8j//ACPR/wALh8b/APRHPEH/AJH/APkeq513J5WewUV4/wD8Lh8b/wDRHPEH/kf/AOR6P+Fw+N/+iOeIP/I//wAj0c0Q5WewV43+zJ/yTPUP+wvJ/wCiYak/4XD43/6I54g/8j//ACPXn/wc8e+I/C3g+6stD8A6p4kt5L95mu7PzNiMY4wYzticZAUHr/EOKXMrj5XY+oK8uu/hLqrz+JLbTfFQstJ8QyvPcQ/YVklDt1XeWHy5/HHHHWqH/C4fG/8A0RzxB/5H/wDkej/hcPjf/ojniD/yP/8AI9JuD3BKS2Na/wDhPcpF4evPDviFtN1zQrJbJb37MHS4jAxhoyeOp7nr9DVnXfhrqPiHQ9KbUPE0v/CSaVcNcW+rx2qqAxOdvlA428Ade31FYH/C4fG//RHPEH/kf/5Ho/4XD43/AOiOeIP/ACP/API9Nyi/zBRkj0XwvpmuabYSr4m1wazdySbhIlssCxrgDaFH5596268f/wCFw+N/+iOeIP8AyP8A/I9H/C4fG/8A0RzxB/5H/wDkenzoXKz1mD/XXP8A11H/AKAtT141F8YPGwkmK/B/X2LOCwHnfKdo4/49/TB/Gpf+Fw+N/wDojniD/wAj/wDyPTc4iUWejeMPD3/CV+ENR0P7V9k+2xeX5/l79nIOduRnp6irPh/Sv7C8N6dpPnef9hto7fzdm3ftUDOMnGcdMmvMP+Fw+N/+iOeIP/I//wAj0f8AC4fG/wD0RzxB/wCR/wD5Hpc0Vf8Ar+tx8sjtb3wT9s+KGm+Mf7Q2fYbN7X7J5Od+7d82/dx97pg9K6uvH/8AhcPjf/ojniD/AMj/APyPR/wuHxv/ANEc8Qf+R/8A5HpKUUrA4ybuewVAv/H/AC/9ck/m1eTf8Lh8b/8ARHPEH/kf/wCR6iX4weNvtTsPg/r5YooK/vsgZbB/49++T+VUpxE4s9lrlPHXgn/hNY9IT+0PsX9m36XufJ8zzNv8P3hj68/SuK/4XD43/wCiOeIP/I//AMj0f8Lh8b/9Ec8Qf+R//kelzRHyyOr8b+AJ/Ems6Zr2h6udH1vTAyRXBgEyOjdVZT9T+Z4qO/8Ah5c+I/AdzoPi7XW1C7nmE6X0NssPkMMbQqDjAwfrk9K5j/hcPjf/AKI54g/8j/8AyPR/wuHxv/0RzxB/5H/+R6m8LWKtK9ztvCGgeKNHkf8A4SbxV/bcaxCKCNbNYduD99iCSzEDHNdVXj//AAuHxv8A9Ec8Qf8Akf8A+R6P+Fw+N/8AojniD/yP/wDI9VzonkZ6y3/H/F/1yf8AmtT1403xg8bfakY/B/XwwRgF/fZIyuT/AMe/bA/Opf8AhcPjf/ojniD/AMj/APyPTc4iUWO+OdtJear4HtobiS1kl1gIk8YG6InaAwz3HWtjS/hjqDa9qGu+K/EZ1jVLixewtpFtFhS3jYEE7AeTyfTqfWsJ/i54zkKmT4Ma85U5UssxwfUf6PT/APhcPjf/AKI54g/8j/8AyPUe7Z363/FJF+9pbp/nc6zRvhxaaf8ACs+CNQvGvbdopI3uEi8pjucsCFy2CCR3PSq/g/wT4n8OXNnBqXi9dR0mwQxwWg09I3dduF3yZJ+X+grm/wDhcPjf/ojniD/yP/8AI9H/AAuHxv8A9Ec8Qf8Akf8A+R6rmXNzE8rtY9gqCf8A11t/11P/AKA1eTf8Lh8b/wDRHPEH/kf/AOR6il+MHjYyQlvg/r6lXJUHzvmO08f8e/pk/hTU4icWey0V4/8A8Lh8b/8ARHPEH/kf/wCR6P8AhcPjf/ojniD/AMj/APyPS5oj5WewUV4//wALh8b/APRHPEH/AJH/APkej/hcPjf/AKI54g/8j/8AyPRzRDlZ7BRXj/8AwuHxv/0RzxB/5H/+R6P+Fw+N/wDojniD/wAj/wDyPRzRDlZ7BRXj/wDwuHxv/wBEc8Qf+R//AJHo/wCFw+N/+iOeIP8AyP8A/I9HNEOVnZ+PPA3/AAnUelWtzqP2aws7xbm5tvI3/agvRCdw2jGex6+1Z/i74S6Hr+m28eh29j4dv7W5S4hvbOwTcCvYhduR+PUCuc/4XD43/wCiOeIP/I//AMj0f8Lh8b/9Ec8Qf+R//keleP6/19w7SN7xP8NtS1DxVF4o8LeJH0PW/s4t7iQWyyx3Cj1Qnj8c9B6Zq14Q+GsGg22sya7qEmvajrg26hdTRhBImCNgUE4HJ7+nTFcv/wALh8b/APRHPEH/AJH/APkej/hcPjf/AKI54g/8j/8AyPSvD+vPcLS/ryLVj8KfFXh5H07wl8QbnT9FdyVtprJJnhBOSFcnj8MV6lbxNBaxRPI0rRoFMjdXIGMn3NeR/wDC4fG//RHPEH/kf/5Ho/4XD43/AOiOeIP/ACP/API9UpJKwnFt3PYKK8f/AOFw+N/+iOeIP/I//wAj0f8AC4fG/wD0RzxB/wCR/wD5Ho5ohys9gorx/wD4XD43/wCiOeIP/I//AMj0f8Lh8b/9Ec8Qf+R//kejmiHKz2CivH/+Fw+N/wDojniD/wAj/wDyPR/wuHxv/wBEc8Qf+R//AJHo5ohys9grnviB/wAkz8T/APYIu/8A0S1cB/wuHxv/ANEc8Qf+R/8A5HrK8U/FXxjqPg/WbK8+FGuWFvc2E8Mt3L52yBWjYGRswAYUHJyR06ilzIOVnZ/Aj/kimg/9vH/pRLXoVfOnwz+JPirQPh3pmmaV8NdY1u0g83y7+283y5t0rscbYWHBJXqeR+FdX/wuHxv/ANEc8Qf+R/8A5HoUlYbi7nsFFeP/APC4fG//AERzxB/5H/8Akej/AIXD43/6I54g/wDI/wD8j0+aIuVnsFFeP/8AC4fG/wD0RzxB/wCR/wD5Ho/4XD43/wCiOeIP/I//AMj0c0Q5WewUV4//AMLh8b/9Ec8Qf+R//kej/hcPjf8A6I54g/8AI/8A8j0c0Q5WewVxfjPwPfeIPEOja9omrppupaT5ixma2E8bK4wflyMH3rk/+Fw+N/8AojniD/yP/wDI9H/C4fG//RHPEH/kf/5Hpc0WPlkjUt/g5FNpXiez17XJdSfxDLHO84txE8MiZIYYJB5PTA44960dF8C68NKvNI8Y+KTrmlzWTWUdutmsLBTj52cEksAMDP1rmv8AhcPjf/ojniD/AMj/APyPR/wuHxv/ANEc8Qf+R/8A5HpXha39dh+9e50fgvwP4l8KXFraT+MGv9BsgywWLWSq5BBCq0mScLnP4DpXe14//wALh8b/APRHPEH/AJH/APkej/hcPjf/AKI54g/8j/8AyPVc67k8rPYKK8f/AOFw+N/+iOeIP/I//wAj0f8AC4fG/wD0RzxB/wCR/wD5Ho5ohys9gorx/wD4XD43/wCiOeIP/I//AMj0f8Lh8b/9Ec8Qf+R//kejmiHKz2CivH/+Fw+N/wDojniD/wAj/wDyPR/wuHxv/wBEc8Qf+R//AJHo5ohys9gorx//AIXD43/6I54g/wDI/wD8j0f8Lh8b/wDRHPEH/kf/AOR6OaIcrPWbT/Ut/wBdZP8A0M1PXjUHxg8bLGQnwf19xvc5HnddxyP+PfseKl/4XD43/wCiOeIP/I//AMj03ONxKLsewUV4/wD8Lh8b/wDRHPEH/kf/AOR6P+Fw+N/+iOeIP/I//wAj0uaI+Vna+OvBP/Cax6Qn9ofYv7Nv0vc+T5nmbf4fvDH15+ldXXj/APwuHxv/ANEc8Qf+R/8A5Ho/4XD43/6I54g/8j//ACPQpRX9f12Dlkzt/DHgv/hHPFXiXWvt/wBp/t6eObyfJ2eRsDcbtx3Z3eg6V1NeP/8AC4fG/wD0RzxB/wCR/wD5Ho/4XD43/wCiOeIP/I//AMj0lKKVkNqTd2ewUV4//wALh8b/APRHPEH/AJH/APkej/hcPjf/AKI54g/8j/8AyPT5oi5WewVBaf6lv+usn/oZryb/AIXD43/6I54g/wDI/wD8j1FB8YPGyxkJ8H9fcb3OR53Xccj/AI9+x4p88bC5Xc9lorx//hcPjf8A6I54g/8AI/8A8j0f8Lh8b/8ARHPEH/kf/wCR6XNEfKz2CuU0zwT/AGd8TNX8Xf2h5n9p20cH2TyceXtCjO/dznb0wOtcV/wuHxv/ANEc8Qf+R/8A5Ho/4XD43/6I54g/8j//ACPS5o3uHLK1jWuPhlren+J9U1PwZ4rGj2+ry+dd20tglxtk7shY8Zyf/r8Vb8R/Di+vvEGn+I/DfiF9J1y0thay3D26ypcp/tISBnr69vTNc9/wuHxv/wBEc8Qf+R//AJHo/wCFw+N/+iOeIP8AyP8A/I9JOKSXYdpN3PUdDs7+w0W3ttX1E6neoCZrsxCLzCWJ+6OABnAHtV+vH/8AhcPjf/ojniD/AMj/APyPR/wuHxv/ANEc8Qf+R/8A5HqudC5WewUV4/8A8Lh8b/8ARHPEH/kf/wCR6P8AhcPjf/ojniD/AMj/APyPRzRDlZ6zB/rrn/rqP/QFqevGovjB42EkxX4P6+xZwWA875TtHH/Hv6YP41L/AMLh8b/9Ec8Qf+R//kem5xEos9gorx//AIXD43/6I54g/wDI/wD8j0f8Lh8b/wDRHPEH/kf/AOR6XNEfKzF0HQtf1n4pfEMeGfEbaJKLtI5SbZZlkVg3Y/dYY4I9TXXyfBq0TwjoGhWOqvCNJ1BdQlneDe1y/VsjcNufxwAOtY6/Fzxmjs6fBjXlZ+WIWYFvr/o9P/4XD43/AOiOeIP/ACP/API9TFxiku1vw/4I5KUpN97/AI6HW+OvAUniu80vVdK1VtI1nSXZra6EIlUhuqsp6jj+fBrX8LaTrOlWEy+ItaXWLuWTf5qWqwLGuAAoVfpnJ9a87/4XD43/AOiOeIP/ACP/API9H/C4fG//AERzxB/5H/8AkempRWwOMnuewUV4/wD8Lh8b/wDRHPEH/kf/AOR6P+Fw+N/+iOeIP/I//wAj0+aIuVnsFQQf665/66j/ANAWvJv+Fw+N/wDojniD/wAj/wDyPUUXxg8bCSYr8H9fYs4LAed8p2jj/j39MH8aanETiz2WivH/APhcPjf/AKI54g/8j/8AyPR/wuHxv/0RzxB/5H/+R6XNEfKz1XVLWe90i7tbO6+yTzwtHHcbN/lMRgNtyM469RXIeGvhJ4Y0PwnDpF/pmn6rcKjiW/nsk8yQsSc5OSMZwOeMVzP/AAuHxv8A9Ec8Qf8Akf8A+R6P+Fw+N/8AojniD/yP/wDI9K8XfzHaRoL8GFb4cweF7nX5XlsLw3em38dvse1Ochdu87hknuOvtVjRvhjrEnivT9e8c+K5Nfm0sH7FAtqsCRsf4jjqfwzkDk1j/wDC4fG//RHPEH/kf/5Ho/4XD43/AOiOeIP/ACP/API9ClFO/wDXYHGTVjc8SfDC8uvF0nijwZ4im8O6tOgS6xAJorgDoSpOM8DrkcdM810/hPR9Z0bTZY/Eevya7ezSmQztAsKoMAbFVeAOM/jXnn/C4fG//RHPEH/kf/5Ho/4XD43/AOiOeIP/ACP/API9ClGKsgcZPc9gorx//hcPjf8A6I54g/8AI/8A8j0f8Lh8b/8ARHPEH/kf/wCR6fNEXKze+O//ACRTXv8At3/9KIq7j4cf8ks8Kf8AYFs//RCV8/fEz4k+Ktf+Hep6Zqvw11jRLSfyvMv7nzfLh2yowzuhUckBeo5P4V9A/Dj/AJJZ4U/7Atn/AOiErOTTehpFNI6SiiioKCiiigDxL9lT/klmpf8AYal/9EQV7bXiX7Kn/JLNS/7DUv8A6Igr22gAorA8d39zpfw+16/sJmgurbT5pYZVxlGCEg8+9Zfwi1jUNf8AhTomp6xctdXtxE5lmcAFyJGA6cdAKFrfyt+N/wDIHpbzv+Fv8zs6K8C0y48c+NPiN43sdP8AHs+hWuh3RECG0jlTaS+AScYA2deetdr8EPGeteNPBdzceInjuLqyvXtRdxIFW4UAHdgYHfsAOlEfeV/K/wAgl7rt52PSK5v4j/8AJLPFf/YFvP8A0Q9dJXN/Ef8A5JZ4r/7At5/6IegDmv2fP+SE+Hv+3n/0plr0mvNv2fP+SE+Hv+3n/wBKZa9JoAzovEGjz6xJpMGqWcmox532izqZFx1yuc8ZH0zS2+v6Pd6tLpdrqlnNfw58y2jnVpEx1yoOeMjPpkV5jpQuVm0HVXlt20afxBctZ2SqRdRTSmVcvJnDgEuSgUEAjLNt5uaIEbw18OzBj7d9vZpcfe3eTN9oz/wLOffFEdUvkvv/AMuoS0b+/wC6/wDkeg6n4i0bRZootX1WzsZJv9WlxOqFucZAJ6Z4zVm5v7SzaBbu6hha4kEUKyOFMrnoq56n2Fc54quzqXn+HNFtYrnUtRsys07geVa27bl3uerc7tqDqQegyazvFXh/TrG58JXK20cl7balaWaXci5k8tQ3Ge2TycdaFq15tL73b8P62B6X9G/wv+P9bneUUUUAVdM/5BNp/wBcE/8AQRVqqumf8gm0/wCuCf8AoIq1VS+Jkx2RQt9e0i7v2sbXVbKa7UsGt47hGkBXqCoOeO9Os9Z0zULqW2sdQtrmeH/WRxSqzJzjkA+vFc7bRX/h+7stGkvLe6s9UluRG0cJjmhZg8pbO9gw6joMErVTTLTUrDX/AAzptzBZxjT7WZDLbyljLEEC7iu0bQW2HGTz9MnBTelz0nhqbu4vpdeaV9dl1VrdDqb7xDoumXHkalq9haTYDeXcXKRtj1wTmiXxDo0EtvHLqtmj3Kq8IM6/vFb7pHPIPY96o+KJDd21no8D4OrTeU7KekABaQg+6jbn1YVV8bQXA8MXi2hs1sIrc/a4mBWRo1GdqN0U44GQevahyaTfYinRpzcE7py8/lfbvfT8TqaKZBIJbeORVZQ6BgGGCMjvT612OIq6Z/yCbT/rgn/oIq1VXTP+QTaf9cE/9BFWqqXxMmOyMuLxNoM+rHSodb06TUVYobNLuMzBhyRsznIwcjFSDX9IbWv7IXU7U6iBk2gmUyDjPK5z05+nNcvCNT8G6zaW/wBss9Q0/W9WnxCLdo7iFpd8uQ28h1XGD8q8c57VheBNV1jTdN0OW5mspotZ1S6gubZYSJ0l3Ss0hfd8xBTBG0YBA7czHW39a6f5lPS/9aa6/geian4i0bRZootX1WzsZJv9WlxOqFucZAJ6Z4zS6rr2k6HHHJrGpWtispxGbiZU3nvjPWsTxVdnUvP8OaLaxXOpajZlZp3A8q1t23Lvc9W53bUHUg9Bk1zF4uq6R411ltPvrKAaJ4etjbtfwmQyxr5hcAhl2glBubk8L6UrpK7/AK3v+X9WHbWy/ra35/1c9SBDAEHIPQiiqul3jahpFnevE0LXMCSmJuqFlB2n6ZxVqqaadmSndXKumf8AIJtP+uCf+girVVdM/wCQTaf9cE/9BFWqcviYo7Iz31/SE1pNIfU7Uai4ytp5y+YeM/dznoCfoKbZeI9F1LUZbDT9Ws7m7hz5kEM6s64ODwDng8H0NeeeEtV1nS4ILyeaylj1PxFc2l1aeSfPDmWQbzJu5KhF+XbgIPbNbuofbIPiL4en1A2c9jJJcQ6ctmCkkbNEWLSZJDrtQjK7cEjIPGJWqT/ra/6lPRtdv82v0/4c6rVdb0vQ4Em1nULaxjkbajXEoTceuBnqagv/ABT4f0qSKPVNd02yeZBJEtzdxxmRT0YBiMj3rjtcl1ST4o3U2nX1jaCz0AT28t3CZVOZX8zaAy4B2x7mzwAPWpLu61VdI/4WFYXNjbM+hwyXGnXluzDChpSqyBxsJ34yVboOKSel3/W/+Q2teVb/APDf5noQIIBByD0IoqG0uPtdjBcbGj86NX2N1XIzg+9TVTVnYlO6uVdM/wCQTaf9cE/9BFWqq6Z/yCbT/rgn/oIq1Tl8TFHZBRRRUlEF5e2un2rXN9cRW0CY3SSuFUZ4HJpbS8tr+1S5sp47iCQZSWJwyt9CKxfEOP7e8Nib/Ufbnznpv8iTZ+uce+Kq6PPFaWfieYqWtVv53jSM8viJTIF994f8c1k52b8v0t/mdaoJ01Jbv/Nq3rpc3bLWdM1KeWHT9QtrqWH/AFiQyqxTnHIB9eKsLdW73b2qTxNcRqHeEOC6qc4JHUA4PPtXnekPfaJJok86Ramf7HlTTraxXa6qAjbXJOHyAg3jaAQfl5pmjX19pvibWLr+yb+71WfTYZpUaIJ5kvmSAAc8IBhR3wvrS9pZpNd7/j/kdMsCvecHp089beWn6/eejpdW8tzLbxzxvPCFMsSuC0YbpkdRnBxmpa4LwQXh8YazHcW94Lqe2t5rmaeLZukzJk4ycDkBR6LjtXe1pGXMrnHiKKo1ORO+i/FJhRRRVHOFeJfsqf8AJLNS/wCw1L/6Igr22vEv2VP+SWal/wBhqX/0RBQB7Tc3MFnayXN3NHBBEpeSWVgqoo6kk8AVTs9f0jUNMl1Gx1Sznsoc+bcRzqUjwMnc2cDA55rF+JBVvBU1uw+e5uLeCF2bCRyNMgR34PyhsEjuOO9cZqS3Vtda9a67Nb3Ny+qaTPf3FrGYoDbtKqhShLFSNh3ZZshgeBwBau3y/L/MHornqOmaxp2tWpudIvre+gDFDJbyBwGHY46H2qvF4m0GfVjpUOt6dJqKsUNml3GZgw5I2ZzkYORisjSCifErxK0RVYTbWQlIOB5/73j/AHtnl/hiqMY1Twbq9rbi8s9Q0/W9Vn2xC3aO4heXfLkNvIdVxg/KvHOe1K/9eYdH/WlrnU2+v6Pd6tLpdrqlnNfw58y2jnVpEx1yoOeMjPpkVoV5bogRvDXw7MGPt329jLj727yZvtGf+BZz74r1KqsHUq2n/Hze/wDXcf8AotKsu6xxs8jBEUEszHAA9TVa0/4+b3/ruP8A0WlLqNt9t0u6tfM8rz4Xj8zGdm5SM49s0p3S0Cmk3Z7XILPX9H1FJX0/VrG6WFd8pguUcRr6tg8Djqal0/VdP1aFpdLvYLuNG2s0EgcA+hxXKXFrqVza3fg+4ubOZl0+OW3uI4WiUBXChJVLNw23qDyN3HFW9FlvZfHGpzX1vb2gSwt45I4ZvMAffIRubavOD0x0I9azU7yS/rr/AJHfPDwUJST2136aW6Le/wAreZrt4n0BLw2j65pq3Ik8owm7jD78427c5znjFWJNY02HUk06W+t0vZBlbcyDef8AgPXsfyrLvh/avjC0sDzb6bGL2ZezSsSsQP0w7fULXO6LqGp6e9xetLaul14gktJ7YxHzW3S7Fbfu6qoUgYxtFJTd0n/WqX5sccNCUbre21+rvbp2V/mtT0Kqsf8AyFrj/rhF/wChSVaqrH/yFrj/AK4Rf+hSVutmea90Wqy7LxPoOpag9jp2t6dd3ibt9vBdxvIu04bKg5GD19K1K4bRhqfhDVNI8N3F7Z6jY34uDDJFbtDNCRmQs3zsHU7sZAXBI65qCuh02neJtB1i7e10nW9OvrhFLPDbXccjqAcElVJIGTijU/EuhaLcJBrOtadp80i70jurtImZc4yAxBIzXN+HTqXhHVNI8J3t5ZajZyWUrQTQ27QSxCLbkuC7Bgd/3htwe3PEvimDUtGvNQ8Y6TqNgFt9NVJbS7t2YSJGzyfLIrjYW3YyVboKbsrPp/w40m7pbm/deJNEsdSh0+81aygvJtvlwSTqrtu4XAJ79vXtWnXB+P5by78FzX0YtF0oQR3GoWsgK3LKpDlEfJVWxgAFTz0IyCO6Rt8asAQGAOD1FO1tyb3s0V5P+Qtb/wDXCX/0KOrVVZP+Qtb/APXCX/0KOrVN7IS3Znza/pFtq8WlT6nax6hNgpatMokbPT5c55wfrirMl7aw3kFpNcwx3NwGMMLSAPKFGW2r1OM846V5hoerazpEmo6m0tnIlz4oksrmzMJM7hpfLRhJu6qmwhduNq++RBBfX138VvD+q6zo2p215cTXMEMUkI2W8HlkKAc8nJLufcDkKKmOqT/rZP8AX+tino2v63a/Q9Q1TWNN0S1Fxq9/b2ULNsV7iUIGb0Gep9qgvPE2haetq19rFjbC8UNbmW4VfNU4wVyeRyOfcVyWvnUrr4rWa6dfWdosGiTTW891CZlD+aBJtUMvOAmTngZHfIz57jU73w/d+LzZadJbazoEcd1HdTsgtdokJKja29G3k44OQPXIm/u839df8ikry5f66f5nqNVbv/j5sv8Aruf/AEW9VfDMVzB4S0iK/wB32pLKFZt3XeEG7PvmrV3/AMfNl/13P/ot61tyya9TK94p+haoooqCwooooAKKKKACiiigBHdY0Z5GCqoyzMcAD1qjpWu6Vrkckmjala36RNtka2mWQKeozg1j/EcsPh1rG3O3yR5uP+eW4eZ/45uqGDyU+Kkj2pRYRocYnKEBR++PlZ/DzMe1C1dv62b/AEB7X/rdL9Tcm8QaPbaxHpVxqlnFqEuNlq86iRs9MLnPODj1xVqe9tbWWCK6uYYZLl/LgSSQKZWwTtUHqcAnA9DXlOti4a48RapFLbro1vr1s15ZupN1NLEYhmOTOEBIQhCrFgDhl3cJr+oX134+0PU9W0XVIfs2si2sIvJBQReXJufO7l3IB9lUd80R15fO342/zCWnN5X/AAv/AJHpieItFk1k6RHqtm2ornNoJ1MgIGSNuc5A5x6VpVxsynxX4gtItMtlh0rRdRM896QB59wgYGOMdwGY73PcFRnkjsqFtcHvYKKKKACiiigAooooAK5v4j/8ks8V/wDYFvP/AEQ9dJXN/Ef/AJJZ4r/7At5/6IegDmv2fP8AkhPh7/t5/wDSmWvSa82/Z8/5IT4e/wC3n/0plr0mgAooooAKKKKACiiigArFh8Z+F7m+Syt/EmkS3Uj+WkEd9E0jP/dChsk+1bVcqy/298RGjfm08PwBgOxuplPP1SP/ANG0dQ6GzaeINHv9Tm06y1SzuL2DPm28U6s6YODlQc8Hg+lM1PxPoGi3C2+s65punzMu9Y7u7jiYrnGQGIOODz7VwlhpmsaNrHgvQ7iCx2afczlbuCctJcQiGQFym0bQSybuT8xFdV40vJH0W30vT5ilzrVwtlHLGeURgWkcH1EauQfXFD2Vv6/yDrqX5/Ffh61htJbjXNOjivRutna6TbMPVTnBHI5HHNa1efeJdGuNAXV7/TrTTptKm0VLKSO6mMf2RIhJjACtuUh/u8HKj1463wzFcweEtIiv932pLKFZt3XeEG7Pvmno72/rf/L8Raq39dv8/wADUooopDCiiigAooooAKKKKAKun/8AHs//AF3m/wDRjVaqrp//AB7P/wBd5v8A0Y1WqqXxMmOyCoLy+tNOtWudQuYbWBSA0s8gRRk4GSeOtT1ma9pcur2MUFvdJayx3MU6O8XmKSjBgCu5c8j1qJXtoa01FzSm7IkGvaQ2mtqC6pZtZK203CzqYw3puBxnnpVm0u7e/tUubKeO4gkGUlicMrfQiuIvtTvtVksrCRrVNTtNaMMV2qH7OzJCXLFCck7WK7d2dw+9xWt4Qd4dN1O3kZHvIdQnE0kfEcspw5KDsPmAxzgg8nrWUal2+1r/AJf5nZVwqhT5uv6a6/h/wDbj1jTZtSfTob63kvIwS8CyAuuOuR26j86INY0261CWxtr63mu4QTJDHKGZMEA5A6YyPzrhPDGpatp/hrRVElrcf2nbzt5UcREscwRnLltx3EsCG4GCw/G74Kvr6ysfDlnLLaXFtqVi0oWGIq8LKqsWZtx3ZLHccD5j74pxqNuzNKuCUFKzvbbzte728np+PfuqKKK1PMCqun/8ez/9d5v/AEY1Wqq6f/x7P/13m/8ARjVX2SepaoooqSiC9vrTTbOS71G6htLaIZknnkCIgzjljwOai0zWNM1q3a40bUbTUIVbY0lrOsqhsZwSpIzyOPeqnijRn1/QZNPhu0tJGlikWV4vMUGORXAK7lyDtx1HWuTvfFHiR7PVNHitDe6hbXqWcmoaVAdsUTxhzJ5bOSJFB27dxG4qenFLv/Xb/MZ3lpe2t/E0tjcw3Mau0bPDIHAZThlJHcEYI7VVsfEGj6nfT2enapZ3Vzb586GGdXZMHByAex4+vFcf8LFtx4R1PTbW2utPhj1O7hi89drAGRsAcnLDv71lw6LrEWo+F/DdzHZWv2Owu7f7XZzl3lh8jy/M27RsBYxkjJ+b6ZLfl2v+FxLV69/1seiad4g0fWLieDStUs72W3P71LedXKc45APqCPwrRrznRbbV7Txr4Y069tLC2/s3SZ4naznMnmxjylViCq7FLKCAc859Mn0am0un9aiV+oUUUUhlW0/4+b3/AK7j/wBFpVqqtp/x83v/AF3H/otKtVUtyY7BQSFUljgDkk9qK5P4oS3EPwy1prThzAFY5IAjLAPkjoNpbJ9Kh7FrVmvbeKdBvbS6urTWbCa3s+biZLhSkQ9WbOAODz7VZ0zV9O1q1NzpF9b3sAYoZIJA4DDqDjofauSt/EL6FdajpniJ7O+s7GztrmBrG0KYMjsiQiPc2W3Iuznv7ZrW8MadeW13qmtaxFHZ3OrzRv8AZFcN5CogRAzDhnPfHHQDOMmiTSi8QaPPrEmkwapZyajHnfaLOpkXHXK5zxkfTNKNf0hta/shdTtTqIGTaCZTIOM8rnPTn6c15lpAuVuNA1WSW3bRp/ENy1pZKpF1FLKZVy8mcOAS5KBQQCMs23mx4E1XWNN03Q5bmaymi1nVLqC5tVhInSXdKzSF93zEFMEbRgEDtyo62/rXT/P+ujlpf+tNf8v66+q0UUUAFVbT/j5vf+u4/wDRaVaqraf8fN7/ANdx/wCi0qlsyXui1RRRUlBWeNf0g61/ZA1Sz/tLGfsnnr5vTP3c56c/TmtCvLIgr+DrLp/af/CXEt/f837a27/yFn/gPtQviS/rdL9QekW/62b/AEPRNV1zStChSXWtStbCORtqNczLGGPXAyeeOai1DxNoekrbnU9YsbQXI3Qma4VRIvHzDJ5HI56ciuY8UJfaj490+Dw9dWdpqEOl3LtcXsRmiaJ3RSoQFTuDKCW3cDghs8VtPjvNQ+D9hB4bextkXTWt5hf5kJjUFCVcYAB2sQxUjGDt7VN7R5v66/5Dt73L/XT/ADOz1HxDo2kSQR6rqtnZvcf6lZ51Qye4yeRyOfcVo15bJBcQ+GJfEOm2dpLpWo+G4IHj1K4KSWiIjkZwp3gh+Rxkr78d94ZiuYPCWkRX+77UllCs27rvCDdn3zWjVm12/wCD/l+JN9n3/wCB/n+BqUUUVIzzb9oP/khPiH/t2/8ASmKul+HH/JLPCn/YFs//AEQlc1+0H/yQnxD/ANu3/pTFXS/Dj/klnhT/ALAtn/6ISgDpKKKKACiiigDxL9lT/klmpf8AYal/9EQV7bXiX7Kn/JLNS/7DUv8A6Igr22gDmPiV/wAkt8Tf9gu4/wDRZry34PfGHwXo3w/8P+G9Q1KSPVFzAYhayMN7yttG4Lj+Id695oojo3fZ2/C/+YPVLyv+Nv8AI+YdN+Gtj8R/iP8AE+3ubie2vLa7zZyxyEKHZpPvr/EPlH616b8DvFSX/hqfwtqFlBput+HnNvdWkUYjDAHAkCjjk9cd+e4r1GiiPux5elkvu6hL3pOXnf8A4AVzfxH/AOSWeK/+wLef+iHrpK5v4j/8ks8V/wDYFvP/AEQ9AHJ/AG+tIfgb4fjmuoY3H2nKtIAR/pMvavRv7TsP+f23/wC/q/415b8CP+SKaD/28f8ApRLXoVbKCaMnJ3GQ6d4Vt9YfVoLbSY9QcktdIsYkJPU7uuT3Pen21l4Ys9Sn1G1g0uG9uM+dcRiMPJnrlhyc459aKKPZxFzyKk3hzwNcLCtzo/h+YQRiKLzbaF/LQZIUZHA5PHua0y2hmC3hLaeYrVlaCPKbYSowpUfwkDpjpVeinyIOdmh/adh/z+2//f1f8aP7TsP+f23/AO/q/wCNZ9FLkiHPIsadqNkml2qveQKywoCDKoIO0e9WP7TsP+f23/7+r/jWfTY5ElXdE6uM4ypzTcYt3BSaVh9laeGtNuXuNPi0y2mkBDSRbFYgnJGR2zziltLfw5p6zCxj023FwMSiLYu8ehx1HJ496bSAgkgEZHUelT7KHY0deq92WYpNFgFuIXsE+yp5cG1kHlLgDavoMAcD0FV7mz8M3moLfXcOmTXS4xNIEZuOnJ9O3pTVdXzsYNg4ODnB9KdT9nFiVaondM0P7TsP+f23/wC/q/40f2nYf8/tv/39X/Gs+ijkiRzyLGnajZJpdqr3kCssKAgyqCDtHvVj+07D/n9t/wDv6v8AjWfTJZo4VUzSJGGYIpdgMsTgD6k8U3GLdwUpJWCz0zwpp+pyajY2uk297KWL3ESxq53HLcjnk8n1p0Nh4XttWm1O3t9Kiv5wRLcosYkfPXLdecDPrilopeziPnkVJvDnga4WFbnR/D8wgjEUXm20L+WgyQoyOByePc1PeaX4T1AWovrTSLgWYC2wkSNhCBjAXPQcDgccCpKYk0UkkiRyI7xECRVYEoSMgEduCDRyIXOzT/tOw/5/bb/v6v8AjR/adh/z+2//AH9X/Gs4EMMqQR6ilo5IhzssadqNkml2qveQKywoCDKoIO0e9WP7TsP+f23/AO/q/wCNZ9Mmmjt4XlnkSKNBlndgFUepJ6U3GLdwUpJWHJY+GItZfV44NLXUXGGuwsYkPGPvdenH0qPTtJ8JaRdSXOl2ekWc8gKtJAkaMQTkjI7E9qlopeziPnkQXGjeD7uztLS6sdHmt7IYtonjjKwj0UHoPan3ul+E9R1CK+v7TSbm6iChJpVjZlCnK8n0PI9Kkop8iFzs0P7TsP8An9t/+/q/40f2nYf8/tv/AN/V/wAayjdW4d0M8YaMqHXeMqW+7n0z29adFNFOrGGRJArFCUYHDA4I+oNLkiPnkW9O1GyTS7VXvIFZYUBBlUEHaPerH9p2H/P7b/8Af1f8ayhdQMzKJ4yVfy2AccPjO364IOKlpuMW7iUpJWND+07D/n9t/wDv6v8AjR/adh/z+2//AH9X/Gs+ilyRDnkWb2XRtRtWtr+WyuYGwWjldGU45HBqONdAhW1WL+z0WzJNuFKAQ5BB2+mQSOPWoqKXs4l+2qJWT0HWNt4b0yeSfTo9MtZZRh3h2IWGc4yO2ecVaF3pQuWuBcWYnZAjSh13FQSQCeuASePc1TopqnFbBKtUk7tlxbvSkuJJ0uLNZpAFeQOoZgM4BPU4ycfU1J/adh/z+2//AH9X/Gs+ij2cSeeTND+07D/n9t/+/q/40f2nYf8AP7b/APf1f8az6KOSIueRof2nYf8AP7b/APf1f8a8W/ZavLa3+F+orPcRRMdZlIDuAceTD616zXjf7Mn/ACTPUP8AsLyf+iYaXIrlczse33dxpF/aSWt9NZXNvKu2SKV0dXHoQeCKp2lh4XsNNm06yt9KgsrjPnW6LGElyMHcOjZHHNLRT9nEXPIbBp3ha109LG2ttKitY5lnWFVjCiRSCHx/eBAOevFJZ6Z4U0/U5NRsbXSbe9lLF7iJY1c7jluRzyeT60+inyIXMwtbPwzZapNqVnDpcF9cZ825jEayPnk5Yc84GfXFaH9p2H/P7b/9/V/xrPopckQ52WLbUbJbi8LXkADTAqTKvI8tB6+oNSzXumXMDw3FzaSxSKVeN5FKsDwQQeoqlRTcIsFOS2FtbTw1ZWk9raRaZDBcDE0abAJRjGGHfjjmljtvDkOnNYRR6alo7bmgGzYxyDkjucgc+1NoqfZwNPb1Xuy4l3pUc8k0dxZrLKAJJA6hnx0ye+Mmq3k+HRqn9pBdN+3Yx9p+TzOmPvdenH0qJZUZ2RXUsv3lB5FOp+ziJVZrZmh/adh/z+2//f1f8arpqNkNUnY3kG0wxgHzVwSGfPf3H51WyN2M89cUtPliRzM0P7TsD/y+23/f1f8AGsvTdL8J6PNLLpVppNnJMu2RoFjQsvXbkdvbpTyQASTgDqTQrB1DIQykZBBzml7OI+eRFYaP4R0uK4j06y0i1S5QxzLEka+Yn9046ryeOlJNovg+5ube4uLHR5ZbVEjhd0jJjVPugey9vTtU9FPkQudkdxpXhO71YapdWmkzX4KkXMixs+V+6cnuOx7Vqf2nYf8AP7b/APf1f8az6KXJEOeRYfUbI6pAwvINohkBPmrgEsmO/sfyqx/adh/z+2//AH9X/Gs+mNNEsyQtIglcEohYbmAxkgd8ZH50+WIczHfYfDH9tf2x5Gl/2ljH2vEfm9Mfe69OPpxVyS50ia4hnlmspJoM+VIzIWjyMHaeoyODiqlFLkiHPIhuNH8IXdhBY3Vlo81rbMWhhdIykZJydo7Zyc+ualurDwvfXdtdXtvpU89qAIJJFjZogDkBSemDyPSloo5Ihzs0P7TsP+f23/7+r/jVe51Gya4syt5AQsxLESrwPLcevqRVeimoRQOTZof2nYf8/tv/AN/V/wAaP7TsP+f23/7+r/jWfRS5IhzyND+07D/n9t/+/q/40f2nYf8AP7b/APf1f8az6KOSIc8jQ/tOw/5/bf8A7+r/AI0f2nYf8/tv/wB/V/xrMiminVjDIkgVihKMDhgcEfUGn0ckQ55Gh/adh/z+2/8A39X/ABo/tOw/5/bf/v6v+NZ9FHJEOeRfe/06WNo5bu1dGBVlaRSCD2IrLt9J8I2mmzafbWekRWdwwaa3RIwkhGMZHQ4wMemKloo5IhzyGT6b4VudYTVbi20mXUIyCt06xmQEdDu65HY9qvTXOkXLQtcTWUrQP5kRkZGMb4I3LnocEjI9TVSijkiHOyumheC49R/tCPS9BW983zvtK28Ik35zv3YzuzznrWx/adh/z+2//f1f8az6KOSOwc8jQ/tOw/5/bf8A7+r/AI0f2nYf8/tv/wB/V/xrPoo5IhzyND+07D/n9t/+/q/40f2nYf8AP7b/APf1f8az6KOSIc8jQ/tOw/5/bf8A7+r/AI0f2nYf8/tv/wB/V/xrPoo5IhzyND+07D/n9t/+/q/41znxE1Gyf4X+KVS8gZm0a7AAlUknyX9606574gf8kz8T/wDYIu//AES1HJEfOzN+A1xDY/BDw9Deyx28u2d/LlYI21riRlOD2KkEHuCDXof9p2H/AD+2/wD39X/GvLfgR/yRTQf+3j/0olr0KhQi0Dk7mh/adh/z+2//AH9X/Gj+07D/AJ/bf/v6v+NZ9FHJEXPI0P7TsP8An9t/+/q/40f2nYf8/tv/AN/V/wAaz6KOSIc8jQ/tOw/5/bf/AL+r/jR/adh/z+2//f1f8az6KOSIc8jQ/tOw/wCf23/7+r/jUUVzpFvLNJBNZRSTvvmZHQGRsBcsR1OABk9gKqUUckQ55BY2XhjTLq4udOg0u1nuc+dJCI1aTJyckdeST9TUtvH4ftIbSK2XTYo7IEWqpsAgyMHZ/dyCRx61FRRyRDnkF7Z+GdSvoL3UIdLurq3x5M0wjdkwcjBPoefY1of2nYf8/tv/AN/V/wAaz6KOSIc7ND+07D/n9t/+/q/40f2nYf8AP7b/APf1f8az6KOSIc8jQ/tOw/5/bf8A7+r/AI0f2nYf8/tv/wB/V/xrPoo5IhzyND+07D/n9t/+/q/40f2nYf8AP7b/APf1f8az6KOSIc8jQ/tOw/5/bf8A7+r/AI0f2nYf8/tv/wB/V/xrPoo5IhzyLFjqNkluwe8gU+dKcGVRwZGI7+lWP7TsP+f23/7+r/jWfRTcIt3BSaVjQ/tOw/5/bf8A7+r/AI1Wv20TVLb7PqL2N1DuDbJXRgCOh571WWVGdkV1LL95QeRTqTpxe5SqTi7oc1t4bfSxpzR6YbJTlbfEewHOchemc85p0EXh+2S2S3GnRLaEtbhNg8okEEr6EgnP1qLI3Yzz1xS0vZxK9vUta4+2h8O2V9LeWi6bBczZ8yaPYrPk5OSPU80WcPh3T7qa4sF022mn/wBZJFsVn5zyR78/WmdOtIrq6hkYMp6EHINHs4IHXqO93uaP9p2H/P7b/wDf1f8AGj+07D/n9t/+/q/41n0U+SJnzyND+07D/n9t/wDv6v8AjVex1GyS3YPeQKfOlODKo4MjEd/Sq9FPkjawczvc0P7TsP8An9t/+/q/40f2nYf8/tv/AN/V/wAaz6Y00SzJC0iCVwSiFhuYDGSB3xkfnS5IhzyLWo/2Hq9k9nqjWF3bOQWinZHUkHIOD3B5pNO/sLSLNbTSjp9nbqSRFAURcnqcDufWoaKOSIc8iQxeHiYiV03MNwbqPHl/LMc5kH+0dxyevJqPTbLwzo8kz6VDpdm9wf3rQCNC/wBcdRyePeiijkiHPIXS7Tw1oayjRotMsRKQZPs4jTfjpnHXH6Vf/tOw/wCf23/7+r/jWfRRyIOdmh/adh/z+2//AH9X/Gj+07D/AJ/bf/v6v+NZ9FHJEOeRYttRsluLwteQANMCpMq8jy0Hr6g1Y/tOw/5/bf8A7+r/AI1n0U3CLBSaND+07D/n9t/+/q/402W+02aJ4prq1kjdSrI8ikMD1BHcVRopeziPnkQQ6L4Og0uXTYtP0VbGZg8tt5URjkYYwWXocYGM9MClttG8HWUJistP0S2jaVJikMMSAuhyjEAdVPIPapqKfIhc7GQ6d4Vt9YfVoLbSY9QcktdIsYkJPU7uuT3PenwWXhi11eXVbaDS4tQmz5l0gjEjZ65brzgZ9cCiilyRDnZof2nYf8/tv/39X/Gj+07D/n9t/wDv6v8AjWfRRyRDnkaH9p2H/P7b/wDf1f8AGq9tqNktxeFryABpgVJlXkeWg9fUGq9FPkiHMzQ/tOw/5/bf/v6v+NH9p2H/AD+2/wD39X/Gs+ilyRDnkaH9p2H/AD+2/wD39X/Gs9bPwymstq6Q6WuosMG7Aj8w8Y+916cfTiiijkiHPIgudF8H3tnHaXdjo81vFI8iROkZVWckuQOxYk59c80XujeD9Skge/sdHuWtoxFCZY422IOij/ZHp0qeijkiPnkJeWPhjUL23u76DS7m4tgBDLKI2aPByME9MHkehrR/tOw/5/bf/v6v+NZ9FHIhc7ND+07D/n9t/wDv6v8AjR/adh/z+2//AH9X/Gs+ijkiHPI4n4/X1pN8DfEEcN1DI5+zYVZASf8ASYu1dZ8OP+SWeFP+wLZ/+iErh/jv/wAkU17/ALd//SiKu4+HH/JLPCn/AGBbP/0QlZyST0NIttanSUUUVJQUUUUAeJfsqf8AJLNS/wCw1L/6Igr22vEv2VP+SWal/wBhqX/0RBXttABRRRQAUUUUAFc38R/+SWeK/wDsC3n/AKIeukrm/iP/AMks8V/9gW8/9EPQBw/wI/5IpoP/AG8f+lEtehV578CP+SKaD/28f+lEtehV0LYwe4UUUUxBRRRQAUUUUAct4mRNR8UaFo1/zpt0txNNCT8tw8YXZG3qvzM23odnPFXbyHTfCej3N3pVno+m5K72mZbSFucDc6qfXjg1e1XR7HWrVYNRhMio4kjZHaN43HRldSGU+4Io0zSYNKSRYJruYyEFmuruSc8dMb2OPwxSs7DMjw94kPiC4uLY3miSbYs/8SrVDcSLk4yRsXA56+tcuIT4c8P/ABCTS5rgPbuGSaWZpJAxtYyXLsSScknNem1SXR7BWvz9mVv7SObsMSwl+QJyDwPlUDApNb+lhxdmjmdM0ux0Hx/ZWuiW0Vrb3OkSNcRwqFV2jkjCO2OrYdxuPJrY8YatdaH4SvtR09YmuYFUxiYHYSWA5x9ag/4QrTobCa2sZLiJpxFG80txJM4hRw3lKzsSqkZHHrnmp/GGjza/4SvtLthGZLhVUCQ4UgOCc/gDVO/Lb1/O5Md9fI5/WfFWteE5ruPU5LbUy2nPeW/k25i8uRZETYRubKkyKQevB61Xm8V+JtP0TV557Yym3giltrm6sGtlMjSbWjK7jkAEEEHvzmunt/CGjQR3aSQS3X2yH7PMby4knYxc/uwXYkLz0H1pYvCWlpp9xZTfbLqC4CK63V9NL8qnKgFmJUA+nXvmlb+vv/4A7r+vl/wTHl8Qano2oarY61qNm3lWMV1BdpZPhGd2j2GNWJf5guACCc4rEk17UdUElhqm5msda0topZLU27uskyn5oyxxgqeeOCOK7nUvDWlavJPJf2xeSeFIHdZXU7UfeuCCNpDcgjnPeoLbwdotq0jrbzSyzTQzyzT3UsjySQnMbFmYk4P4dulKz0v/AFrf8hppf15f5nJ6dq+v6ONX1C81CG9sbfX/ACLpGgYNHCQillO84CllOMYADevG5J4quY7HUNSMulwWSXxtbR9QujbI6oNrsX2tklwwAx0XNS634cK2WqpodoJJ9aDR3InuWEEZZNpl8vkZwBkKATgfWtvSdNg0fR7TTrQHybWJYkz1IAxk+560RT5bdkv0/wAvx8gbV7+v9fj+HmYWnX8XjbR9T0+8udJmhkjETnSdQ+0lQ4P3sou08cdc8+lVLPTIdX1rxjaXMlxHE17AX+zzNEzAW0fy7lIOD3wea7Sqtvptpa3V5cwRbJb1w9w24newUIDgnj5VA4xRKN7+n+Qk7HM+CdMgv/h/4Tkm3A2MEU8QB6t5bJz7Yc115zg45NUoNLhsNCXS9J/0SKKDybc8v5QxgHk5OPc1Lp9kmnaXbWMTMyW8SxBmOWYAYyT61cnduwuxwsXjLV7XTb2TU5Yo9YQRoNJms2hWBpJVjVxJuPmxgsMsvX/Z6VF4xv8AV7LRda0XWLq3v1uNGnuop4bcwshQqrKRuYEHeCD14Oc11Ufg3RglwtxDcXv2iE27m9u5ZyIyc7FLsSoyAeOcgegpY/B2jLa3cE0Vxdi8h+zzPdXcsrmL+4HZiyjnoCPWos/6+f8Aw5V0nf8AroZl14o1C3vL3SAsH9q/2hFBZ5Q7XglG4SEZ52qsufeP3rP07xfr2p6zHNa2U0lg2oPaNCLFtqRK7RmXz92NwK5IxjHHXmuxk0XT5tdh1mS2VtQgiaGObccqhOSMZwe/OMjJx1NVYfC2mW2qtf24uoXeUztDHdyrC0h6uYg2zJ6njrz15pq91f8Arb+vmJ2s7f1/X6GFoviLWZPCMviHV7zSY0kYrDDOxtoogJCmXlO7JOBxt9verui68vilbzT57rQ5o3t2Vhpepm5cBvlJIMa4HPXnmt/TtOtdJsI7LT4vKt487E3FsZJJ5JJ6k1aot0YX1ujzW78rRtR12GO2guY4bnR7dEuoxIuCypux/eAOQexANN0/Uda0TQtY1i3uLU2NrrdyGs2gJeZDckN8+75W+bgYPTnOeO5ufDul3c1zLcWu97qSGWY+Yw3NCQYzweMEDp175qkvgjQkvWuVt5xvuTdyQfa5TDJMW3eY0ZbaTnnp2HoMCvzXf9bf5MHblsv60f8Amc6l0LbVrwG2t5/O8WpH+/j3+Xm1jO5fRhjg+5qTSvE3iCS30PVNQns3tNUvXtHtYrcq0Y/ebXDljk/uxkYxg+2a6tvD2ltMZWtcub0X5PmN/rwgQP1/ugDHT2oi8O6XDZ2VrHa7YbCf7RbL5jHZJ83Oc5P324ORzSimopen5Jfoxyabb/rr/mjkvDfjDXdYvNPvZbST+zL4u0imxaNLWPazI/nFsP0APA5bjGOac/jzVraS4lhmW+tZtLu7y1mfTnto90Shl2FmJdCDyeOxB5rsrLwnpWnXTTWi3KIS5FsbuUwKXzuxEW2DOT24ycYqpD4A8PQrtNrcSqttJaIs15M4ihcYaNAW+VcADjpihp207Dur3JtG028ujY6xrlzFPfpC/lrbxeXHGkoQlOSS2Nn3sjOTxW/TIo1hhSKMYRFCqM9AKfVu19DNXtqFFFFIYUUUUAFFFFABXjf7Mn/JM9Q/7C8n/omGvZK8b/Zk/wCSZ6h/2F5P/RMNS90UtmeyUUUVRIUUUUAFFFFABRRRQAVzvji6mtvDYEE72y3F3b2006NtaKOSVUdgexwSM9s5roqhu7S3v7OW0vYUnt5kKSRSLlWU9QRSY0ZkWg6JoFvJeaZpWm2c0ELYnMaxYGMndIASAccnn15rL0Pxi2raxDZm98Ny+YG+Sw1gzzHCk/KnljPTnngZNa+meHLPSZxLbT6g+1diR3F/NMiD0CuxH49RWtT6iOMsNNh034r3ksUlxK9zpXnSNPM0hz554XJwqgcADAql4a8X6/rN7p941jM+nX5cvGLBkW2j2sUYSlvnPAB4HLcYxz239nWv9qnUvK/0swfZ/M3H/V7t2MZx174zVHT/AAtpmlX32mxF1EAzOlv9rlMCFs7isRbYM5PbjPGKSVkl2v8Am2Nu7b72/KxheItRj1xNGsp7K7gs7rVo4bmK8gMYmQRyOFIPVSyKCO/SsqTw2+ovrei6TZ2EthY61b3K2N0SluV8lHeMAIwALHdjbjk132qaVaazYm0v42ePcrqUdkZGU5VlZSCpB7g1SHhbTk0z7DA95AvnGdpob2VJnkPVmkDbmz7kjp6Clb+vu/yHf+vv/wAyHwhc2sulT21ppNvpD2N09vPaWoXykkGCSpUKCCGBzgHnkU3xPqep2eoaJY6O9vE+pXTwyS3EZcIoid8gAjJ+X1qez8M2mn3Vk9izxQWnnP5RdnMssmMyO7Eljjd1z972qv4n8ON4g1DRGbIt7K6eaYpM0TqDE6qUZcEEMw7im72XyEra/P8A4Bz154y1nT5ZdGfZc6iupCzW8t7RnzGYPO3eUG5cD5cZx39qnj8ReJpY9Js3iis7q81GW1NxdWjLvhWJpFkEW7huMYJxkHtXQHwdox0v7D5E237R9q8/7TJ5/nf89PN3b92OM56cdOKsQeHtPgFmSs8z2UrTQy3FzJK4dlKklmYk8MRg8DtQk+vl+n/B/rYbXT+t/wDgHMr4o1IaXNaXN9GmqQ6lLZK9tp7ztcqihsrEG+U4ZckkqMH1FZtrq2pa9eeH72R0tdQNjqsRk8k4Vo5Uj3bN3GdmcbuCetdjdeENHu3MhhnhmNy9151vdSRSCR1CsQysCAVABHTjpUlh4X0fTBaCys/LFmsywAyO20TNvk6k5y3POcdsVDjJr5fpb8yrxT/rucp4Y17VNJ8P+FJddvYbnT9QscSXLRlXikEQkTcxY7sqsmT3OKvv4vvbPQ9OvdQl0Ozlvw8yxalfm0Kxk5QAbG3EKV3dOadqvg1J9GtPDNhaf8SYzpLNLcXTOYURg3lxg5PIG0cgAE/Q9gAFAAGAOABWj1u/6/r/ACJ0VkYGmSQ+KbKy1C4msZWsrsyxNpl39oiLBGXBYqOcOeMenNYOleJvEElvoeqahPZvaapevaPaxW5Vox+82uHLHJ/djIxjB9s131ZkXh3S4bOytY7XbDYT/aLZfMY+XJ83Oc5P324ORzS66f13Do/672/E5i18S662k6T4inmtH0/U7qGL7AkBDxRyvsQiTdy4ypIxjqBjFR2XiXxA8Nhql1PZNZ3OsPpzWiW5DBPOeNX37vvAqDjGMZrorbwfo1pfJcwwzARSmeK3a5kaCKQ5y6xFtink9Bxk4xVlPDulpZw2i2uIILr7ZGvmN8s28vuznP3iTjp7ULp6/hp/wfvB21/rv/wPuOQ0fxXruu39tKtlM+mXtxJA8QsWVYIRuUSecWwxyoyMY5wOmT3OnWMWl6XaWFuWMVrCkKFupVVCjPvgVQs/C2mWGpG9sxdREyNL5C3cvkB2zuYRbtmTknp1OevNWrTTjbalf3jztK12yYUjAiRVwFHPruOf9r2ojoger0MDVNc1Kz8Yx2l3crpmmO0S20zWZlS6dj8yNKGxG2cAAgZzwT0qinibXDosHiYzWh06a9WH+zxAd4iabygfM3ff5DYxjt710t54b0/UNSW8vDdSlXSQQG7l8kuhBVjFu2ZBAPTqAetQx+D9Gj1AXSQzcTm5FubmQwLLnPmCLdsDZ56deevNCvpcHY5vQNZl0Zg05jXTLrW9RgnkYcxSea7RnPodrL9StV38aeIL2aC3s4WgkltDqCmLT3uT5byOIUZQwx8q5Y+pwMV2Nz4W0a80a50q5shJZXUzTzRGR/mkZ95bOcj5ueCKNS8M6bqdxBcSrcW88EZiSazuZLd/LP8AASjDK8dD07UrOyXb/L/P8B3V2/X8/wDIxNH1vxFrPiRbaZbfTLe3sLW6ureSEvKZJN+6PO4BQNnXBNJZ+OGutWgs/t3hZvMmEe2HWy8pycYVPKGW9s9e9dNaaRZWN5JdW0RWeWGOB3MjMWSPOwck9Nx56nPOau1XUk47xFLeeGpzPpryW1jf3ElzqF8LQ3RtmEaKvyKQQhCZLc4x2zkZ/iXxne6bG11pF/HqEdnFC9xHDpztG2/BJabftTKsCAMkZBOQa7DVtDtdaVFvJbxFQMpFteSwB1bqGCMNw479O1Zt14C8PXZkEtnKsMqRpJbRXUscL7AFQlFYKSAoAOOw9BSSaKbTMPVvEviEaDrXiDTbmxhtdOuJbeKzmtmcyCN9jMzhxgkgkADGMeua7Ky02CzvL27i3eZfyLLLk8AhFQY9sKK4vxD4Nudbu760t9JFpBfTq81z/akhhYZGZPs4G0yYHcYzg54r0EDAxRHYUtwooopiCiiigAooooAKKKKACue+IH/JM/E//YIu/wD0S1dDXPfED/kmfif/ALBF3/6Jah7DW5z3wI/5IpoP/bx/6US16FXnvwI/5IpoP/bx/wClEtehUlsD3CiiimIKKKKACiiigAooooAKKKKACiiigAooooAKKKKACiiigAooooAK53xxdTW3hsCCd7Zbi7t7aadG2tFHJKqOwPY4JGe2c10VQ3dpb39nLaXsKT28yFJIpFyrKeoIpMaM618PaJoaG60zSdPtJoYmAmWFUbGOdzgZwccnn1rG0jxq2patBaG+8MSea2NtnrJmlPH8KeUMn8RW1pnhyz0mcS20+oPtXYkdxfzTIg9ArsR+PUVrU+ouhxlhpsOm/Fe8likuJXudK86Rp5mkOfPPC5OFUDgAYFU/DPi7X9bv9Ou2spW07UC5dPsLIttHtJRhKWw54APA5bjGOe1/s61/tU6l5X+lmD7P5m4/6vduxjOOvfGao6f4W0zSr77TYi6iAZnS3+1ymBC2dxWItsGcntxnjFKKsku1/wA2xt3bfe35WMPxPqi6xp9lZPZ3ltbXOqW1vcrdQGMSxliSvPUEqFPqGx3rLufDZvrrxHoGjWtj9iivbG7FlP8AJbk8PImArABtikjbjLE9673U9MtNY0+Sy1CLzIXIJAYqQQchgwIIIIBBByCKop4W06LTZLOF7yISy+fJOl7KJ3fGNzSbtx4AGCcYAGKVvz/y/wArjv8A195X8IT2v2O9sbbRrXRprC6MNxa2e3yt5RXDKQq5BVl5Kg9iOKXxXqmpacdIg0hrdJtQ1BbVnuELqimN2JABGSNo4zz0qW28L2djcWRsmkiitppLiRGdpGuJWXbvd2JLEAnrnt0xUXivw83iE6RH/wAsbW/W4mIlaNgojdQVZeQwZlIwRTd9Pl+lxd/n+tjntQ8Ya1pEt1o8pjvL9b6C2hu4LRj8ksbSZMQblwEYYBAOVPrT4vEfiiV9OsHjjtZrvUpLVbq7smQyQiAyCQRbuGBBXrg4z7V0X/CHaN/Zktk8EzrLOLh53uZDOZRjEnm7t4YYABB4Ax0qe28OafbG1Yi4nktJmnilubqSVw7IUJyzHPykjB4HYUJPr/W3/B+8G+39b/8AAOdTxPqC6LcQXl9FHqUGpyWCSwWDzNc7V35WJW4baeSTtGCay9I1nUdf8QaPLclbe/hi1S18xoCoyjxKGMe7g4xld3XPNdjdeE9Iu1bdDNDI12bzzoLmSORZiu0sGVgRleCBx7U7TfCmjaRLDJYWZjeAzFGMzuQZSDITuY5LFQeaST69vxtb/Mba6d/8/wDgHIeEdf1bS9B8Nza9fRXWn6hBKr3DRlXhkC703MWO4ELJzxzitR/F97Z6Hp17qEuh2ct+HmWLUr82hWMnKADY24hSu7pzS6t4Mjn0uDw7p9pjSJblbi4knumfyVVwxjjU5I3YxgEAAn6V2IAUAAYA4AFPVq/9f1/kJ2uYGnSQ+LNLtrq5msZfst4JkbTLv7RFuToC5Uc88jH41g6V4m8QSW+h6pqE9m9pql69o9rFblWjH7za4cscn92MjGMH2zXfVmReHdLhs7K1jtdsNhP9otl8xj5cnzc5zk/fbg5HNHp/W1/wDo/672/E5i18S662k6T4inmtH0/U7qGL7AkBDxRyvsQiTdy4ypIxjqBjFMXxL4gEbapJPZfYo9cOmm0W3O54zceSH37uGGQemOPfjobbwfo1pfJcwwzARSmeK3a5kaCKQ5y6xFtink9Bxk4xVk+HdLNm1obX9w139tK+Y3M3meZuznP3xnHTtjHFC3X9dv8Ag/eD12/rf/gfcchZeK9d1jVA1vZTSadLfyWbwCxbakKu0Zl8/djcCMkbcY46813OnWMWl6XaWFuWMVrCkKFupVVCjPvgVnw+FtMttVa/txdQu8pnaGO7lWFpD1cxBtmT1PHXnrzWzRHSOu/9f8EJO702CiiimIKKKKACiiigAooooAKKKKACiiigAooooAKKKKACiiigAooooAKKKKAPPfjv/wAkU17/ALd//SiKu4+HH/JLPCn/AGBbP/0QlcP8d/8Akimvf9u//pRFXcfDj/klnhT/ALAtn/6ISsZ7msNjpKKKKgsKKKKAPk74KfBTw58R/Bd3q+uXuqQXEOoPaqtnLGqFRHGwJDRsc5c9/SvRP+GVPBH/AEFfEH/gRB/8Zo/ZU/5JZqX/AGGpf/REFevazrmmeHtNa/1u+hsbRWCtNO21QTwBmgDyH/hlTwR/0FfEH/gRB/8AGaP+GVPBH/QV8Qf+BEH/AMZr2HStWsNc02LUNHu4byzmz5c8LblbBwcH6giqMPjLw5c+I30CDWbOTVkLK1msoMgIGSMewo62Dpc8s/4ZU8Ef9BXxB/4EQf8Axmj/AIZU8Ef9BXxB/wCBEH/xmvXNL8Q6TrVze2+k6hBdzWEnlXSRPkwvyNreh4P5VT13xt4a8MXUdt4h1uz06aVPMSO4lCllzjI/EUAeX/8ADKngj/oK+IP/AAIg/wDjNZHiz9mrwfoPgvW9Xs9S1x7jT9PnuollnhKMyRswDARA4yOcEV7loviLRvEdq1xoGq2eoxIcO1rMsmw+hweD9azfiP8A8ks8V/8AYFvP/RD0AeEfC39n/wAK+N/hrpfiHVb/AFiG7vPO8xLaaJYxsmdBgNGT0Ud+tdd/wyp4I/6CviD/AMCIP/jNdJ+z5/yQnw9/28/+lMtek0AeJf8ADKngj/oK+IP/AAIg/wDjNH/DKngj/oK+IP8AwIg/+M11em+OtRuvGUWmyXGnO0l9cW02kxxsLqzhjDFZ3becq21T90A+YuCcc2NK8WazcSaFql59jOka9cNDBbxwsstuCrvExcsQ+4JyNowWGOnItbef9IHpfyOM/wCGVPBH/QV8Qf8AgRB/8Zo/4ZU8Ef8AQV8Qf+BEH/xmu78S+KrnTfF9ro8Ws6Lo0UtmZ/O1SEyeY/mBVRf30Y9T3qHXPE+t297rf9nTadFD4fso7m4S5hYm7LKzkKQ48tcKQDhufpyrq3N0/wAh2d+XqcV/wyp4I/6CviD/AMCIP/jNH/DKngj/AKCviD/wIg/+M17PZ3KXtjBdRZ2TxrIufQjI/nU1U007MlNNXR4ZZ/steCbixgmfVNfDSRq5AuIcZIz/AM8qm/4ZU8Ef9BXxB/4EQf8AxmvY9M/5BNp/1wT/ANBFWqJbsI7I8S/4ZU8Ef9BXxB/4EQf/ABmj/hlTwR/0FfEH/gRB/wDGa7Xwv4vu9bu7x5tZ0VxbS3IbSba3b7WsccjIhLGY9QoP+rA57UeH/FerXV14em1WbT5LXxHA8tvDbRMr2zBPMCli58wbcgnC4YD1wEtf6/rsN6HFf8MqeCP+gr4g/wDAiD/4zR/wyp4I/wCgr4g/8CIP/jNd14q8Y/2b4ji0WHVtN0fFr9quLzUE3gBmKoirvXJO1iSTgBffIXx14zufDGiQnSo7e+1ORVlIYHy0hDKHlIByB8wC88lh1waFqD0djhP+GVPBH/QV8Qf+BEH/AMZo/wCGVPBH/QV8Qf8AgRB/8Zr22igDwyz/AGWvBNxYwTPqmvhpI1cgXEOMkZ/55VN/wyp4I/6CviD/AMCIP/jNex6Z/wAgm0/64J/6CKtU5bsUdkeJf8MqeCP+gr4g/wDAiD/4zR/wyp4I/wCgr4g/8CIP/jNdz4a8VXeueI721k1vREFteXEP9lpA32sxxuUDlvO74Bz5eMfXNSr4xuLr4lW+g2MET6Z5E4muznc1xHsyic4wocbjg8nHGDSWtvPUb0v5HA/8MqeCP+gr4g/8CIP/AIzR/wAMqeCP+gr4g/8AAiD/AOM13uveINZXXNTstFmsLVNJ09L6U3sTP9o3F8KCHXYoEZy3zckccc51z431W/ttQ1HRHsbWz0vTINRkhvImd7kSRmTaGDKEAUY3Yb5s8cYKurX/AK6/5Mdne39dP80cn/wyp4I/6CviD/wIg/8AjNH/AAyp4I/6CviD/wACIP8A4zXs9ncpe2MF1FnZPGsi59CMj+dTVTTTsyU01dHhln+y14JuLGCZ9U18NJGrkC4hxkjP/PKpv+GVPBH/AEFfEH/gRB/8Zr2PTP8AkE2n/XBP/QRVqiW7COyPEv8AhlTwR/0FfEH/AIEQf/GaP+GVPBH/AEFfEH/gRB/8Zrt9B8ZnxB4mkii1rSra3S5mgh00puubhYyVL7t42kspIXaflGe/DvCHiq78RapcLNreiHybi4Q6XBA32pESVkRmYzHqACf3YHPaktbDehw3/DKngj/oK+IP/AiD/wCM0f8ADKngj/oK+IP/AAIg/wDjNei+Ldd1rRbvTP7Os7RrG4vbeC5uJ5TvHmShNqIBycHO4nA9DVLxJ4yNn4pOiQazpejCC3See61BPM3M7EIirvT+6SzE8ZUd80LX77BscP8A8MqeCP8AoK+IP/AiD/4zR/wyp4I/6CviD/wIg/8AjNe2KcqDkHjqOhpaAPDLP9lrwTcWMEz6pr4aSNXIFxDjJGf+eVTf8MqeCP8AoK+IP/AiD/4zXsemf8gm0/64J/6CKtU5bsUdkeJf8MqeCP8AoK+IP/AiD/4zR/wyp4I/6CviD/wIg/8AjNe20UhniX/DKngj/oK+IP8AwIg/+M0f8MqeCP8AoK+IP/AiD/4zXqHiXVryxfTLDSfJW+1S6+zxyzoXSFQjSO5UEFsKhAGRyRTfDWs31/a6nb6mkUl/pd29rI1upRJsIrowUk7cq65GTg5pX38v+B/mHb+v62PMf+GVPBH/AEFfEH/gRB/8Zo/4ZU8Ef9BXxB/4EQf/ABmuu8F+N7/X9agtbi6067E1m9xdW9nGySaVIrKohlJc5Jyw5CnKE4x0u6J4xvdf8Xavp9lDbx6db2STWF06sTOxd0Zzz/q9yYGMEgE5wRT/AK+4O/8AW5wn/DKngj/oK+IP/AiD/wCM0f8ADKngj/oK+IP/AAIg/wDjNeheFdfvtS1zULCfUNP1i1t4Y5F1DTojHGsjFg0J+dwSAA3ByAwyOhPV0AeJf8MqeCP+gr4g/wDAiD/4zR/wyp4I/wCgr4g/8CIP/jNe20UAeJf8MqeCP+gr4g/8CIP/AIzXnfwU+Cnhz4j+C7vV9cvdUguIdQe1VbOWNUKiONgSGjY5y57+lfWNeJfsqf8AJLNS/wCw1L/6IgoAP+GVPBH/AEFfEH/gRB/8Zo/4ZU8Ef9BXxB/4EQf/ABmvVPFur3OheFb3UrGJJZoFBHmAlEBYBnYDkqoJYgdlNcvZ+Or6TQ9Tlt7nTtYeK+t7Gw1G0Qrb3EkxReQHbOwv821ucY4OaN9AOT/4ZU8Ef9BXxB/4EQf/ABmj/hlTwR/0FfEH/gRB/wDGa9M8P6rqT65qmia3Jb3FzYpDPHc20JiWWKXdjKFmwQyMOvIxWZ4a8VXeueI721k1vREFteXEP9lpA32sxxuUDlvO74Bz5eMfXNG7sGyucN/wyp4I/wCgr4g/8CIP/jNH/DKngj/oK+IP/AiD/wCM13y+Mbi6+JVvoNjBE+meROJrs53NcR7MonOMKHG44PJxxg119HRMOtjwyD9lrwTJNcK2qa/iKQIuLiHkbFP/ADy9Sam/4ZU8Ef8AQV8Qf+BEH/xmvY7T/j5vf+u4/wDRaUmrXh0/Rr29QBmtreSUA9CVUn+lE2oq4QTk7Hjv/DKngj/oK+IP/AiD/wCM0f8ADKngj/oK+IP/AAIg/wDjNdpo3i3Ur3wXf63Fqeja7dW9j54sdLgZGil2bvLc+dIT6YwDxVjwR4qufEF/fW7ajpus2sEMMq6hpsZSMO+7dCQXf5lAB65wwyAers02uwrq1zg/+GVPBH/QV8Qf+BEH/wAZo/4ZU8Ef9BXxB/4EQf8AxmusuPHOoxeNm0tZ9PDrqcdmmjtG32uWBlBNyG3/AHRkn7mMKQTnpd0XxVd6t4v1DTm1vRIFtL2SBNMMDG7ljQD593nDuTz5ZGBSj7239bf5ob03/rf/ACOG/wCGVPBH/QV8Qf8AgRB/8ZqFf2WvBLX0sJ1TX9qRo4P2iHOSWB/5Zf7Ir3Oqsf8AyFrj/rhF/wChSU1sxPdHjn/DKngj/oK+IP8AwIg/+M0f8MqeCP8AoK+IP/AiD/4zXttcX4I8VXnidmlm1vQ5WHmF9MtYGFxAA5VC7GZuwGfkHXtSH0OG/wCGVPBH/QV8Qf8AgRB/8Zo/4ZU8Ef8AQV8Qf+BEH/xmu/0HX9SufFsulXGpaZrEC2zSzTadCU+xyhwoif8AeODuBYgHB+Q/geNde1LQU+0afqelo4jBg0u4hLT30mcFEIkBGcgDCtg8njijt5h1a7HAf8MqeCP+gr4g/wDAiD/4zR/wyp4I/wCgr4g/8CIP/jNdxqPiu8Tx2+hx61omkIltbyRx6hA0ktzJIzgqmJkHAVegPJrtaOlw6nhjfsteCVvooRqmv7XjdyftEOcgqB/yy/2jU3/DKngj/oK+IP8AwIg/+M17HJ/yFrf/AK4S/wDoUdWqb2QluzxL/hlTwR/0FfEH/gRB/wDGaP8AhlTwR/0FfEH/AIEQf/Ga7fTPGZ1nxfPZxa1pVlbwXj2kVjIm+5uzHkOwbeAvzBsDaThSe/DvDXiq71zxHe2smt6Igtry4h/stIG+1mONygct53fAOfLxj65pLW33jen5f19xw3/DKngj/oK+IP8AwIg/+M0f8MqeCP8AoK+IP/AiD/4zXeeLvF/9ka5aaPDqen6S0tu11Pe6gu9Y0BCqqpuXLMcnOcAKTVnxHf65YeHpNX07VNJW3s7I3MjzWzOtywXPBEgCIQOD8x59uVfTm6Ds726nnX/DKngj/oK+IP8AwIg/+M1DP+y14Jjmt1XVNfxLIUbNxDwNjH/nl6gV7XYXLXmm21zJE0LzQpI0TdUJAO0/TOKbd/8AHzZf9dz/AOi3q7WdmRe6ujxz/hlTwR/0FfEH/gRB/wDGaP8AhlTwR/0FfEH/AIEQf/Ga9toqSjxL/hlTwR/0FfEH/gRB/wDGaP8AhlTwR/0FfEH/AIEQf/Ga9tooA8S/4ZU8Ef8AQV8Qf+BEH/xmj/hlTwR/0FfEH/gRB/8AGa9tooA8S/4ZU8Ef9BXxB/4EQf8Axmj/AIZU8Ef9BXxB/wCBEH/xmvbaKAPEv+GVPBH/AEFfEH/gRB/8Zo/4ZU8Ef9BXxB/4EQf/ABmvWfE2snw/4ZvtUWITPbx5jiJwHcnCqT2BYgVnaNqmsQ+KJtC8QS2dzK1kt7BPaQNCMb9joVZ26HaQc8g9OKFq7B0ueb/8MqeCP+gr4g/8CIP/AIzR/wAMqeCP+gr4g/8AAiD/AOM11mreOdRsvGU2mxz6cjxX1vbQaTJGxur2KQLunRt4wq5b+EgeW2SM8aWveMbix8aaNomlwRTxz3Sw6jM+T5G+N2RFwR852E85wMcfMKFra3UHpfy1OB/4ZU8Ef9BXxB/4EQf/ABmj/hlTwR/0FfEH/gRB/wDGa7NfFuslodZ/0P8AsSbVv7NFt5LecF80wCbzN2M+YM7dv3T1zXdULVX/AK/rUNnY8S/4ZU8Ef9BXxB/4EQf/ABmj/hlTwR/0FfEH/gRB/wDGa9tooA8S/wCGVPBH/QV8Qf8AgRB/8Zo/4ZU8Ef8AQV8Qf+BEH/xmvbaKAPEv+GVPBH/QV8Qf+BEH/wAZo/4ZU8Ef9BXxB/4EQf8AxmvbaKAPEv8AhlTwR/0FfEH/AIEQf/GayPFn7NXg/QfBet6vZ6lrj3Gn6fPdRLLPCUZkjZgGAiBxkc4Ir6Erm/iP/wAks8V/9gW8/wDRD0AeEfC39n/wr43+Gul+IdVv9Yhu7zzvMS2miWMbJnQYDRk9FHfrXXf8MqeCP+gr4g/8CIP/AIzXSfs+f8kJ8Pf9vP8A6Uy16TQB4l/wyp4I/wCgr4g/8CIP/jNH/DKngj/oK+IP/AiD/wCM17bRQB4l/wAMqeCP+gr4g/8AAiD/AOM0f8MqeCP+gr4g/wDAiD/4zXttFAHiX/DKngj/AKCviD/wIg/+M0f8MqeCP+gr4g/8CIP/AIzXttFAHiX/AAyp4I/6CviD/wACIP8A4zR/wyp4I/6CviD/AMCIP/jNe2157pvjrUbrxlFpslxpztJfXFtNpMcbC6s4YwxWd23nKttU/dAPmLgnHJ1sHS5yn/DKngj/AKCviD/wIg/+M0f8MqeCP+gr4g/8CIP/AIzXZ6V4s1m4k0LVLz7GdI164aGC3jhZZbcFXeJi5Yh9wTkbRgsMdObXizxVcaP4m07TI9Y0fR4bm2lme51WIupZXjVUX97GMnex6npR1t/XcP6/Q4L/AIZU8Ef9BXxB/wCBEH/xmj/hlTwR/wBBXxB/4EQf/Ga73x34wuvCfhYzaelvf6w0DSxoVIi2oAZJSA2QgHQburKM85rro2LxKx6kA0AeKf8ADKngj/oK+IP/AAIg/wDjNH/DKngj/oK+IP8AwIg/+M17bRQB4l/wyp4I/wCgr4g/8CIP/jNH/DKngj/oK+IP/AiD/wCM17bRQB4l/wAMqeCP+gr4g/8AAiD/AOM0f8MqeCP+gr4g/wDAiD/4zXttFAHiX/DKngj/AKCviD/wIg/+M0f8MqeCP+gr4g/8CIP/AIzXttFAHhlr+y14JnhZn1TXwRI6cXEPRXIH/LL0FTf8MqeCP+gr4g/8CIP/AIzXsen/APHs/wD13m/9GNVqnLdijsjxL/hlTwR/0FfEH/gRB/8AGaP+GVPBH/QV8Qf+BEH/AMZr22ue8ba9P4d8Oi9tZrS3ka6gg868QtFEryKrOwDLwFJP3h0pDPM/+GVPBH/QV8Qf+BEH/wAZo/4ZU8Ef9BXxB/4EQf8Axmu41TxTe6f4RtNSj1rRbyO6vEhfV4YCLS1ibI8xl81s4I253gZYZxg1q+DNcufEGgNeXTW8224lhiu7ZSsV2isQsqAk4B+pHHBxije/l/wP8w2t/X9bHmX/AAyp4I/6CviD/wACIP8A4zR/wyp4I/6CviD/AMCIP/jNd7pniDU28Zf2VNqWl6tCYJZLj7BCUawdGUKrnzHzuywwdpypPTOGeAfFN34ps47u51vRLlmgEkun2MDLNbEngOxmbtx9wc/TFC1B6HC/8MqeCP8AoK+IP/AiD/4zR/wyp4I/6CviD/wIg/8AjNe20UAeJf8ADKngj/oK+IP/AAIg/wDjNQ2v7LXgmeFmfVNfBEjpxcQ9Fcgf8svQV7nVXT/+PZ/+u83/AKMan0F1PHP+GVPBH/QV8Qf+BEH/AMZo/wCGVPBH/QV8Qf8AgRB/8Zr22ikM8S/4ZU8Ef9BXxB/4EQf/ABmj/hlTwR/0FfEH/gRB/wDGa9P8aa5P4d8KXGpWj28cqSQxrJdKWiTfKqFmAZTgBieo6UzTrvVNW8PGbTNe0TUZpJcR31rasYETjcNgmbcw5/jA56ccm4Hmf/DKngj/AKCviD/wIg/+M0f8MqeCP+gr4g/8CIP/AIzXp3hLWL3VbbUY9Sa3mm0++ktPtNshSOcKFO4KScEFipGTyp+lUf7a1rSfFdnYa3dafdW97b3E7Ja27xvaCLackl23qd2M4XnHrgF0tfn+Fw12/rsef/8ADKngj/oK+IP/AAIg/wDjNH/DKngj/oK+IP8AwIg/+M13XgnxbJ4pmFy+saUVngMyaTbpmeBCRtLvvOTg/MAoAJx257OnZrcDxL/hlTwR/wBBXxB/4EQf/GaP+GVPBH/QV8Qf+BEH/wAZr22ikB4ZB+y14JkmuFbVNfxFIEXFxDyNin/nl6k1N/wyp4I/6CviD/wIg/8AjNex2n/Hze/9dx/6LSrVN7iWx4l/wyp4I/6CviD/AMCIP/jNH/DKngj/AKCviD/wIg/+M17bWV4m1yPw34ZvtXlj80WsRZY92N7HhVz2yxAz71Ldlcpaux5P/wAMqeCP+gr4g/8AAiD/AOM0f8MqeCP+gr4g/wDAiD/4zXZp41ew8H6lrFxrWka1NbmNFisF8qOKVyFVGYuxKlmX5sDgE/Tc8J6o+q2M0smu6brDLIFZ9OhMaxHGSpBdyfUE44NUSeYf8MqeCP8AoK+IP/AiD/4zR/wyp4I/6CviD/wIg/8AjNdnZ+LdZmbTNYm+xnRdU1FrGO2WFhNEpZkjlMm7DZZRldowGHPHM3hDxVd+ItUuFm1vRD5NxcIdLggb7UiJKyIzMZj1ABP7sDntSWv9f13G9P69f8jhv+GVPBH/AEFfEH/gRB/8Zo/4ZU8Ef9BXxB/4EQf/ABmvbaKAPEv+GVPBH/QV8Qf+BEH/AMZqGD9lrwTJNcK2qa/iKQIuLiHkbFP/ADy9Sa9zqraf8fN7/wBdx/6LSmtmJ7o8c/4ZU8Ef9BXxB/4EQf8Axmj/AIZU8Ef9BXxB/wCBEH/xmvbaKQzxL/hlTwR/0FfEH/gRB/8AGaP+GVPBH/QV8Qf+BEH/AMZr22uSTxHqbNBqh+y/2VPqJsVgEbeaF8wxLJv3Y5cD5dvQ9c1Lkk0jWnSlUTa/ry/A8/8A+GVPBH/QV8Qf+BEH/wAZo/4ZU8Ef9BXxB/4EQf8AxmvR/FXiCfRry0hF7Y6XBNFLI17fIXQum3EQAZeSCT1zhTgVDrXi6703wPBqUdkg1e5tPPSzkzhCE3uW6Hao+nOB1NS6kUm30NYYSrNQcftbf1/Vup59/wAMqeCP+gr4g/8AAiD/AOM0f8MqeCP+gr4g/wDAiD/4zXpuu3+rWmiyarZ3Vjbw29p9odLiFn81gM7chhtHbPJyfbnbtZmuLOGZ4zE0kauUbqpIzirvq12MZU3GCn3PF/8AhlTwR/0FfEH/AIEQf/GaP+GVPBH/AEFfEH/gRB/8Zr22imZnzJ8Uv2f/AAr4I+GuqeIdKv8AWJruz8ny0uZomjO+ZEOQsYPRj3617v8ADj/klnhT/sC2f/ohK5r9oP8A5IT4h/7dv/SmKul+HH/JLPCn/YFs/wD0QlAHSUUUUAFFFFAHiX7Kn/JLNS/7DUv/AKIgrX/aQ5+Dd1n/AJ+7f/0Osj9lT/klmpf9hqX/ANEQV2/xa8G6h488AzaHo81tDcyTxSB7pmVMK2Tyqsf0qWr29V+ZUXZ/f+R5z8N/EqfDG28b+GNZf91oatqdgGP+shcAhR+JT8WNcn8MtIvNP+OvhS/1VmbUNb02fVLgt1zL5xH/AI6FP416X8TPgxc+OPEuh6lY3lvaxxRJa6sruytPArqwC4U5PXrjt6VtX3w+1Cb44aL4wtZbOPStO042bQFmEucSAbVC7cfOP4h0NXF+8pPfVfJJ/np9xlb3HH5/O6/LX7zm/gX/AMjv8S/+w1/7PLWJ8YtS0LSP2gPCd74tjik0iLT5PtCTW/nKQTIBlMHPzEdq19I+H3xR8JeKPEl/4UvvCv2bW75rorftcM6jcxUfKgAOG561uzeAfE+qfFDwj4u1i50rfpNk8OoJbvIN8jCQZiBXlfnHUg9amK+B9rf+k2NJfbXe/wCZynwktLbVPjTr3ibwXpcum+EZbMQpmAwxTy5XlE6YyGPHTPbNeq/Ef/klniv/ALAt5/6Ieukrm/iP/wAks8V/9gW8/wDRD1XRLsT1b7nNfs+f8kJ8Pf8Abz/6Uy16TXkvwHuruP4J6CsLwhB9owGiJP8Ax8y99wr0P7bf/wDPS3/78t/8XVKDaJ50jlbDwbrMMmmWE8Wnra6dqT3x1SOZjcXALOdpTYMM2/DHeQQPfixpHhTWbYaJpd8LP+zNAnaW3njmYyXOEdIlZCgCYD8nc2Sox1rovtt//wA9Lf8A78t/8XR9tv8A/npb/wDflv8A4umqbXUTmn/X9dzP1hPE+paK1guj6Q5vbQxXDTXzlIXbIPy+V+8UAg9VyeOOtZWueB5dR0yy0hNL0u7EVgln/bF45NxCANrER7DuOPmXLgBjntz0v22//wCelv8A9+W/+Lo+23//AD0t/wDvy3/xdHs/6+//ADH7T+v69DTt4EtbaKCEbY4kCIPQAYFSVkfbb/8A56W//flv/i6Ptt//AM9Lf/vy3/xdNwbd2xKaSskXdM/5BNp/1wT/ANBFWqxYJ723t44UlgKxoEBMLZwBj+9T/tt//wA9Lf8A78t/8XRKDbuJTSRlyaXrms+J9JvNVstPsLfSZpJkkgummknLRtGF5jXYuG3Hk8gD3qrpHg9o/FkWsTaJpOk/ZRKY1sZC7XEr8b2PlrtUAtwM5Lknpzvfbb//AJ6W/wD35b/4uj7bf/8APS3/AO/Lf/F0vZtdSnNM56/0HxC+tnXbSx0qS9v9KGn3lvNdOEhIZmVlfyyXX5yCpC5wKoaj8Jo5PCslnp2qXi6hJZ21q8j3LLFIIQoGVAOBwSAO5z3rsPtt/wD89Lf/AL8t/wDF0fbb/wD56W//AH5b/wCLoVNrb+t/82HtE3f+un+SNOCLyLeOHe8nloF3yNlmwMZJ7mpKyPtt/wD89Lf/AL8t/wDF0fbb/wD56W//AH5b/wCLo9mxc6Lumf8AIJtP+uCf+girVYsE97b28cKSwFY0CAmFs4Ax/ep/22//AOelv/35b/4um4Nu4lNJGTqWka54h1vTv7RtLGws9Nu2uFube7aSeUbGRVUeWuzIbLcnpgZ61Ts/hwukeJtEvNK1G8+w6bDcKYJ7tmJZyhAHHIJVi2Tk8da6L7bf/wDPS3/78t/8XR9tv/8Anpb/APflv/i6SptbMpzT3MLxH4f1LxHZ2y3fh/Q3vXtzG95PO0hs2J52AxfvAOCASvI5x1qPxH4J/tOzttKs9F0qSCOyWzTU7p8z2yAbTtTyzuIGCuWA3c8Y56H7bf8A/PS3/wC/Lf8AxdH22/8A+elv/wB+W/8Ai6PZ/wBf16h7Q07eBLW2ighG2OJAiD0AGBUlZH22/wD+elv/AN+W/wDi6Ptt/wD89Lf/AL8t/wDF03Bt3bEppKyRd0z/AJBNp/1wT/0EVarFgnvbe3jhSWArGgQEwtnAGP71P+23/wDz0t/+/Lf/ABdDg27iU0kctp/grVbOa00rZYppFlrD6pHeJK3nuGd3EZj24By5UtuOVHTnjUl0vXdZ8TaVe6nZafYwaTNLMkkF000k5aNowvMa7Fw2TyeQB71q/bb/AP56W/8A35b/AOLo+23/APz0t/8Avy3/AMXSVNpWv/W36FOabb/rr/mVdZ0rU9e0LTY7hLW2vYb61up41lZ4wI5VdgrbQScDjIHNZWv+F9WfxBq1/okGn3C63pyWFz9slZDAV3gOMI29cSHK8cqOeeN/7bf/APPS3/78t/8AF0fbb/8A56W//flv/i6Xsrq39aqwe0s7/wBaO/5l3TLIabpNnYiRpRawJCHbq21QMn64q1WR9tv/APnpb/8Aflv/AIuj7bf/APPS3/78t/8AF1Tg27tiUklZIu6Z/wAgm0/64J/6CKtViwT3tvbxwpLAVjQICYWzgDH96n/bb/8A56W//flv/i6HBt3EppI16KyPtt//AM9Lf/vy3/xdH22//wCelv8A9+W/+LpezY+dEHibSb29k0vUNIEL3ul3RnSGdyiTK0bRuhYA7Th8g4PIFUrDQ9Zgsr9Zfs0dzrdzNNeyQzt/ogaLZH5Z2/ORsTJO3ufatT7bf/8APS3/AO/Lf/F0fbb/AP56W/8A35b/AOLpeyumu/8AX6D9pqn2/r9Tk7PwNqV8NNstZt7HTbLTtPlsXl0u5fzbtXUL/cXy143Yyx3fTJu6d4Hu9A8T3Gq6TeSXMSaWlpa215dttLqzkK2FOEAZcYzg54rf+23/APz0t/8Avy3/AMXR9tv/APnpb/8Aflv/AIuqcG3e/wDWv+bFzq1rf1p/kZmhaHqC+Kp9cv7Gx0rfaC2+y2Uxl84793mSNsQZHRRg8E884rqqyPtt/wD89Lf/AL8t/wDF0fbb/wD56W//AH5b/wCLpezdrBzq9zXorI+23/8Az0t/+/Lf/F0fbb//AJ6W/wD35b/4uj2bDnRr14l+yp/ySzUv+w1L/wCiIK9W+23/APz0t/8Avy3/AMXXjf7MVxcxfDLUFgaIL/bEhO+Msc+TD6MKXI72Hzqx7B4u0a513w+1pZND5yzwzrHcEiKby5Ffy3wCdrbcHg9eh6Vzk3g/WdS/tXUZo7DTr64ms57W0hmaSISWz7w0j7F5f7pIXhQOuK6f7bf/APPS3/78t/8AF0fbb/8A56W//flv/i6fs2uv9f0g9ouxnabp2uw6pf63dWtit9fNbwfZVumZIbeMnJ37Buf53ONoHQZ71FqWka54h1vTv7RtLGws9Nu2uFube7aSeUbGRVUeWuzIbLcnpgZ61rfbb/8A56W//flv/i6Ptt//AM9Lf/vy3/xdHsxe0OdsfhwmkeJ9EvNM1G9+wabFOrQzXbMcuUIwMcglWLZOScda7msj7bf/APPS3/78t/8AF0fbb/8A56W//flv/i6OR2tcOdF20/4+b3/ruP8A0WlTXBmW1lNokck4QmNJHKqzY4BIBIGe+D9KyY572OSVllgzK+9swtwdoH970Ap/22//AOelv/35b/4unKDfUFNLoczqfhLW/E0uqXmoJY6TPc6Z9ghignacSfvA5MrbE+XjbgA8M3POKt2Gk+IIdau9cOm6VZ3Bso7OGxgu2Mcu18l3fyxjAJCgKep5GeNv7bf/APPS3/78t/8AF0fbb/8A56W//flv/i6Sptbf1v8A5sHNPf8Arb/JHLT+DtakmubBItONrcawNT/tUzN9pjAlEmwJs5YAbA2/G3t2Orq2l65r+r2EV3ZafaWOn6gl4l2l00s0ioSVVU8sBC2cN8xwMgZzWp9tv/8Anpb/APflv/i6Ptt//wA9Lf8A78t/8XQqbVvL9LW/JA5p38/1vf8AM16qx/8AIWuP+uEX/oUlUvtt/wD89Lf/AL8t/wDF0wT3q3DzCWDc6KhHktjAJI/i/wBo01B6ic0bX0rkjpfiDVfE2n6rqVlp1h/ZaT+V5N28zXDum0KSY12p3PUkgccc6322/wD+elv/AN+W/wDi6Ptt/wD89Lf/AL8t/wDF0vZvuV7RdjFtdG1ufxLFrtzpel6bcWtpNEIrW6aQ3jvtIEj+WuEBXI4Y5OcDu7xNpmveINMm0x9G0d47q1CG6mu2Y2sjLhiE8r5tp5UhlzgfdrY+23//AD0t/wDvy3/xdH22/wD+elv/AN+W/wDi6PZ3VgVSzuZHibR9e1fQ5/DdvbWMtlc2ywNqVzdMZE4AZ/KEfLjGR845x0xXWRrsjVMk7QBk9TWV9tv/APnpb/8Aflv/AIuj7bf/APPS3/78t/8AF0+RvqLmSsi7J/yFrf8A64S/+hR1arFM961wkxlg3IjIB5LYwSCf4v8AZFP+23//AD0t/wDvy3/xdDg9BKa1OWj8FarDcyaZEliukPrn9sC8EreeP3glMfl7cZ3Dbu3fdPTNat7peua54g0yTULLT7K00u9N0lxFdNLLMArKqhTGuwEN83J6Y561qfbb/wD56W//AH5b/wCLo+23/wDz0t/+/Lf/ABdJU2kl2/4H+SG5p38/+Df82Yd9oviA+IbXxJaWGly6g1hJp9zazXThEUybkdZPLJP+0u0deDxznx+DdesU0WyWDTdY0zSbKJI7a6vpLZTcqTmRkWGQOANuwE/LycZwR1n22/8A+elv/wB+W/8Ai6Ptt/8A89Lf/vy3/wAXQqbWz/rX/Njc0+n9af5GpCZWt4zcIkcpUF0jcsqtjkBiBke+B9BUF3/x82X/AF3P/ot6pfbb/wD56W//AH5b/wCLpkk97JJEzSwZifeuIW5O0j+96E01B3Jc9DaorI+23/8Az0t/+/Lf/F0fbb//AJ6W/wD35b/4ul7Nj50a9FZH22//AOelv/35b/4uj7bf/wDPS3/78t/8XR7Nhzo16KyPtt//AM9Lf/vy3/xdH22//wCelv8A9+W/+Lo9mw50a9FZH22//wCelv8A9+W/+Lo+23//AD0t/wDvy3/xdHs2HOh3ijRm8QeGL7TI5RDJPH+6kIyEcEMpI9AwFZFrp/iJtWudfvbPTk1BbNLO2tI7t2jI37pHaTywRnjACn7vXnjV+23/APz0t/8Avy3/AMXR9tv/APnpb/8Aflv/AIuhU2ncfOrWOW1LwdrVxLq1jBFpz22qail7/ackzC4tgCh2hNh3MuzCHeAAfbmW/wDhpGdS0+50rU7+JY9VOoXSy3jfMSrhivB+bLAc/wAOR6V0n22//wCelv8A9+W/+Lo+23//AD0t/wDvy3/xdCptW8v0t/khOad/P/g/5nOw+E9YXytFkFn/AGJDqx1JbkTN5zL5xmWLy9uARIcbt33R0ya7msj7bf8A/PS3/wC/Lf8AxdH22/8A+elv/wB+W/8Ai6FTaVv6/rQHNN3Neisj7bf/APPS3/78t/8AF0fbb/8A56W//flv/i6PZsOdGvRWR9tv/wDnpb/9+W/+Lo+23/8Az0t/+/Lf/F0ezYc6Neisj7bf/wDPS3/78t/8XR9tv/8Anpb/APflv/i6PZsOdGvXN/Ef/klniv8A7At5/wCiHq79tv8A/npb/wDflv8A4uue+IN3et8MvE6u8BU6Pdg4iYHHkt/tUezY+dGd+z5/yQnw9/28/wDpTLXpNeUfAy7mT4K6Atl5ccQWYbZVLtu8+TccgrwWyQMcAgZOMn0D7bf/APPS3/78t/8AF0cjDnRr0Vkfbb//AJ6W/wD35b/4uj7bf/8APS3/AO/Lf/F0ezYudGvRWR9tv/8Anpb/APflv/i6Ptt//wA9Lf8A78t/8XR7Nhzo16KyPtt//wA9Lf8A78t/8XR9tv8A/npb/wDflv8A4uj2bDnRr159YeDdZhk0ywni09bXTtSe+OqRzMbi4BZztKbBhm34Y7yCB78dV9tv/wDnpb/9+W/+Lo+23/8Az0t/+/Lf/F0ezdx+0VrHO6R4U1m2GiaXfCz/ALM0CdpbeeOZjJc4R0iVkKAJgPydzZKjHWtfUZPE9xpaW8WjaTNJc25S4Wa/cRxOeMY8o71x9D2x3q39tv8A/npb/wDflv8A4uj7bf8A/PS3/wC/Lf8AxdJ021Zh7RJ3OR1H4UJN4RmsrPVLwao2kx6d5rXLJC4RNoBUA4XOSQPWu+srb7HYw25lkl8pAvmStuZsDqT3NZ/22/8A+elv/wB+W/8Ai6Ptt/8A89Lf/vy3/wAXVODfUXMtDXorI+23/wDz0t/+/Lf/ABdH22//AOelv/35b/4ul7Nhzo16KyPtt/8A89Lf/vy3/wAXR9tv/wDnpb/9+W/+Lo9mw50a9FZH22//AOelv/35b/4uj7bf/wDPS3/78t/8XR7Nhzo16KyPtt//AM9Lf/vy3/xdH22//wCelv8A9+W/+Lo9mw50XdP/AOPZ/wDrvN/6MarVYsM97BGVSWAguz8wt1ZiT/F6mn/bb/8A56W//flv/i6bg27iU0ka9U9Tl1CGz36RaQXc4YZinuDCCvfDBW59sfjVT7bf/wDPS3/78t/8XR9tv/8Anpb/APflv/i6Xs33K9ouxy3/AAh2tKRqvlac96dYOqPpnnMLcgw+UF8zZneMB92zG7t3rX8OaTrWji4eS3sFOpahJdTwRTtstFMYACfIN5LKC3C8sx+ul9tv/wDnpb/9+W/+Lo+23/8Az0t/+/Lf/F0eza29Py/yQudP+vX/ADZjW2i6zfeKbHWNR03TNLksY5QzWdy0r3ZdcbWPlphAfm5ycgcDHM1ppetaj4vsta1qzsdOFhbTQolrctO85kK5yxjTCDbkDkkntjnT+23/APz0t/8Avy3/AMXR9tv/APnpb/8Aflv/AIuj2bDnRr0Vkfbb/wD56W//AH5b/wCLo+23/wDz0t/+/Lf/ABdHs2HOjXqrp/8Ax7P/ANd5v/RjVS+23/8Az0t/+/Lf/F0yGe9gjKpLAQXZ+YW6sxJ/i9TT5HawudXNqisj7bf/APPS3/78t/8AF0fbb/8A56W//flv/i6Xs2PnRd1KW+hsWfSraC6uQRtinnMKsM8/MFbBx7flXFz+GPE0lhq09obG0vNYv4prm1hvJIlSBUCsqzCMsJG2jLBBweDkA10/22//AOelv/35b/4uj7bf/wDPS3/78t/8XR7Nj9oiDSYNW07S7Szg0XSbCKKXy/Itr53SOHaTuBMK5bdjjHcndnisfw14e121FwviKw0ya51CNkv9Ti1KSWaTIOFVGgUKgzgKGAHXk5zv/bb/AP56W/8A35b/AOLo+23/APz0t/8Avy3/AMXQ6d736gqltjnPDPhLWNPufD8OppYRWnhy2kt7ea1lZnu9yhAWUqAg2jJGWy30ruqyPtt//wA9Lf8A78t/8XR9tv8A/npb/wDflv8A4um4N7sSmlsjXorI+23/APz0t/8Avy3/AMXR9tv/APnpb/8Aflv/AIul7Nhzou2n/Hze/wDXcf8AotKtVixz3sckrLLBmV97Zhbg7QP73oBT/tt//wA9Lf8A78t/8XTcGxKaRr1i+MNA/wCEo8I6ho4kSN7mMeW0i5UOpDLuHcZAz7U/7bf/APPS3/78t/8AF0fbb/8A56W//flv/i6Xs33KVRI5TVPBWseJodVutWi0+xvbi3tYba3hlaaItBKZQ0jFFOCx24AOF9ScVr6XpuvwaxqGuXNnp8V3f/ZrdrSO7ZkjhjLbpC/ljc+HbA2gYVRmtT7bf/8APS3/AO/Lf/F0fbb/AP56W/8A35b/AOLo5GLnRzun+E9Yh/s3R7n7GNH0rUGvYbhJmM0yhmaOMx7cLtLDLbjnaOOeL0ml65rPifSb3VbLT7C30meSZJLe6aaSctG0YXmNdi4bceTyAPetT7bf/wDPS3/78t/8XR9tv/8Anpb/APflv/i6FTaBzT/r+u5r0Vkfbb//AJ6W/wD35b/4uj7bf/8APS3/AO/Lf/F0ezYc6Neqtp/x83v/AF3H/otKpfbb/wD56W//AH5b/wCLpkc97HJKyywZlfe2YW4O0D+96AU1B6ic0bVFZH22/wD+elv/AN+W/wDi6Ptt/wD89Lf/AL8t/wDF0vZsfOjXrk4PDupJ5GlyfZv7Kt9QN6k4lbzWXzDKsezbgYcj5t3QdMnjV+23/wDz0t/+/Lf/ABdH22//AOelv/35b/4updG7TNqeJdNNJf13/Ez7zTtZk1aHVRY6fcyi2ktWtZrlgqAvkOreWeqgBhgduTis+X4e7/DMluL+cak2nNZh0nZYehwuMEhMn8gK6D7bf/8APS3/AO/Lf/F0fbb/AP56W/8A35b/AOLqHh01Zm0cfUhbk0t+m39feZN1oOr/AG6yAitNTsLKBBFDeX0kf78E5kYCJg+Bt256cnGcGurjLmJDMqpIVG5VbcAe4BwMj3wKyvtt/wD89Lf/AL8t/wDF0fbb/wD56W//AH5b/wCLrRUmr6mNTEOokmtv67mvRWR9tv8A/npb/wDflv8A4uj7bf8A/PS3/wC/Lf8AxdP2bMedHG/tB/8AJCfEP/bt/wClMVdL8OP+SWeFP+wLZ/8AohK4n48XV3J8E9eWZ4Sh+z5CxEH/AI+Yu+4123w4/wCSWeFP+wLZ/wDohKmSsy07nSUUUVIwooooA8S/ZU/5JZqX/Yal/wDREFe214l+yp/ySzUv+w1L/wCiIK9toAKKKKACiiigArm/iP8A8ks8V/8AYFvP/RD10lc38R/+SWeK/wDsC3n/AKIegDh/gR/yRTQf+3j/ANKJa9Crz34Ef8kU0H/t4/8ASiWvQq6FsYPcKKKKYgooooAKKKKACiiigAooooAx/FGtN4f0F9QRY22Twxt5pwoV5VQkn2DE/hUcniiwutEvr3Q9R0+4a0HztNPsijPUb2AJUEc5xzTfGel3Gs+GXsrSATu1zbuYyQAVWdGbrx90E1ieJ/Dmp6hP4paytd41DS7eC3/eKvmSI8pYcnjAZeTgUtdf66D0/r1NTxV410zw5pd+WvrP+0ra1eaO1kk+8wUlQfTJHHQntT9d8ZaXoelzNcX9pHfraG4jtpJMEnaSoPoCRgevaub1jSdbTQ/Fmi22gy6hLrDzS210ssSxMHjAAcswYMuMDgjheeuH3ul6zaWPijTYtBl1F9ZjLW9wssQjGbdY9khZgRtKnGAQQfrUScuV27fj2/4PkVFLmV+/+Wp1EfivSYbfTxqmoWtpd3kEcoheQA/OBjr0BJwCepqWfxToVtqAsbjVrSO680RGFpRuDnGFI7E5GM9c1wknhLUUub231Cy1i5tdTtbeMrp1zAqLthWN45N5BGCCQRkfMcc9dW+8L6hJ4f8AF9vBZhp9RvVltcyJmVVjiAOc8YKN1x0rV/E+2v5ohfCv66HdscKT6CuZ03xtpp8L6XqevXtpp81/biby2kwB6kZ52jPU8CtRvEWiG6ayGsaf9r3+V5H2pN+/pt25znPGK4FtE8UweGLDRms78wLo4g8qxngQfafmBEzsc7MbcbCf4uvFZuTSbX9blJJuzPRk1WwkS6dLyBls/wDj4YSDEXyhvm9PlIP0qsvibRG1KPT11S1N3KAUhEo3NkbgPqRyB1I5rhZ9Bvbe+0PRggQa1pkFtq0YcEoLYKWbjruVjESPVantfC13FrdzaajaaxPBJq5vopra5hFrt8wSKzAkOCuACADnaMcdL+1bp/wf6ZP2b/1/XQ7e117Sr7UpdPs9Qt57uEMZYY5AzJtbacgdMHijVNd0vRFjOq30Nr5udgkblsdcDqcdz2rH8PxweFtL1CTXJbbTRdardTLJPMiCQPIxQ5zjJXHHXiqPiSU6tJb6p4PN1eajBFJDBe6ZPbyQqTtPlTB3wVJCngZGOCD1m+i/H+v6/Qq2rNuTxLZWVxeNql/p9vaRPGsT/aPmyybsOCAFJ6jBORzSt4x8Orp8d8das/ssjtGkolBDMv3gPXHf071zd9a+KbG41ufTtMkmuNUktU861lhBhUQhZZFEjrkg5Cg98HpVW40G9g1HTb2w0fW7Kxt7J7L7La3FsLiM7w28/vGVg/OTu3ZAJHei7vb+v6/roLS1ztLnxLotpNbwz6nbLJdKrwqJAS6scKwx2PY9DWiZolbDSICOxYV5+NC1DRZtO/4RXTtVtbpYIIZWnmgktpIgxJSb5twZAzYZB3GMitXVPBb6hqk92IfDTCVt2brQBNKf95/NG4++BVBoblzq/lazFp1vbtPIYGuJirY8qMcLxjlmbgDjoxzxzl6T4tm1Cz1y4vNJm086S2PInkUu6+UsgLbchSQ3TJx+lSQL/Z/jp1n2qt9p8UcDKu1S8LOWQDtxICB6A+lJYadc2mo+Kbi6sTcQXs6yQQhkP2hRbxoVwTgZKkYbH5VLvZ27P8xq19fL8iODxRqEPhabXta0y1trZbVbiKO1vWnkcsMhCGiQA8gdTyas6Prl/ca1NpOt2ENneLbrdR/Z7gzI8ZJUjJVSGUjB4xyDXKTeFLnUl1ZtC0H/AIR61msFRLWQRRi5uVkDqxSNmVQAu3ceTu9BWsLy+XX28Q3uj3FoPs8OnW9rNJGZJJJJgWb5GYBR8vOecMcdKreS/rvb8bC2i/67f8E6PTNU+3zXtvLD5FxZTmKSPduBBAZGBwOCpB9jkdq0KwNDP2rxJr1/FzbtJFao3Z2iU7yPozlfqprfoWwnuFFFFABRRRQAUUUUAFFFFABRRRQAV43+zJ/yTPUP+wvJ/wCiYa9krxv9mT/kmeof9heT/wBEw1L3RS2Z7JRRRVEhRRRQAUUUUAFFFFABRRRQAUUUUAFFFFAGN4n1w+H9LhvP3WxryCCRpWwqI8gVmz2wCTTZPE1jdaLcX2iX+n3HkSLG7TT7I0YsBhiASDg8cc5HrTPF+l3Gr6XaW9rAJymo2s0iEgDYkysx564AJxWJr/hzU7ybxM1pa7xf/YDB+8UeYY3y/U8YGOuM9s0lezv3/Rf8Eemn9dzS8V+N9N8PadfCO+s31O2i3paSScluoU46EjnHU07xT410zw5pd+TfWn9pW9q88drLJgswUlQfTOOO57Vzer6Prn/CM+IvD9voEl7PqF5NcQ3gliETq7hwWLMGDqPlAx/COcch+saTraaH4s0W20GXUJdYeaW2ulliWJg8YADlmDBlxgcEcLz1xN218v6X9diklza9/wCn/Xc7GTxLpFtdW1nfajawXlwqFYHkAbLfd+mTwM9e1I/inQo9SXT31a0F20vkiHzRu3/3T6H0B61xVx4Vvjq+qW+oWmsXVpqc0UitY3MKxACNFKyByGBUpnIzkYxzxWhc+GdRbw7r1vFZj7Tea2t5CN6ZeMSxNvznjhDweeKvd/13X+b+4hfD/XZnbXUpgtJpVAJjRmAPfAzWFaeMtKTQdJvNbv7SwuNQs4rnynkwBvUEnnouTjJq1c6/o10s+n22r6fJeSK0S263UZcvgjbtznOe1cLqeieKZPC0Ohizv3i/sCG1iis54Ej+0CMrIszsd2B8uNuQeahyau15fr/wC0k1r/Wx6N/a+nfY7i6+2wfZ7V2SeXzBtiZeoY9iKhHiLR21j+yl1K2N/nH2fzBuzjO3HrjnHXHNcUmiXKeMLXRQq/Yr6G31LUI9wOySABMH/fYRfXy3pdJ8L3lvqy2mqWusTLFqsl9HcR3MP2Q5kaRXIzvzzgrg8+1X1S/rTT/P7iOl+v8AT/y+87bTte0rV7iaHS9Qt7uSAAyrDIG2ZzjOPoaTUfEGk6RPFBqV/BbyzDKRu3zEZxnHpnv0rH8MLb+EfBtnba9Na6XJ5kpYTzogLNIzdc4JIOetZ+uPcahq0ereCRcXN8Ylg+2Ws0ElnKockxzAvkbdxOVGfm4J6Ur6odtzel8S2Wnz3v8AbN/p9rDDcCGIi4+bJjVsOCBtbnOBnjBpX8Y+HI7GG9fWrIW1wWEUvnDa+04bHsO56DvXOalZ+JLK415dK0y5lXVtRjJuLWaEPFALeNXdQ7r8xKsoz069hmndaDexatbXtpoutWen/wBnCxWzsp7YTQlXY/NlypVww5DZyvNK7t/Xb/PT/hh2X9ev9f0ztp/Eej219BZzalbrc3AUxRBwSwY4U8dj2PetAzRBsGRAfQsK4OLRNQ0XVNPXwvYanasI7WG6M8sMlrLCgAO87t4kVcgFAMkDqKv3/gl7zU57oQ+GSJZC+bjw+JZOT/E/nDcffAqiTduNZ8rWGsLe1e4aG2NzcFDyi8hFA/iZirYGR9089M5Nj4ymuPDuvapeaTJZPo7yg2ssyl2CRLJ8xXIUndjAzj3q1a/6H481BJ+P7QtYZLdj/F5e5XUe43Kcf7X1qHTtNuLKPxO99ppu4ry+eaK2Bjb7TGYY1xhjt5KsMMRU66+j++5Wl16r8hX8R6jYeHJ9W1nTLWJVRDbw2d60zSu5CqhLRIFO5lHfqfSrGja3eXWrXmlaxZQ2l9bRRzj7POZY5I3LAEEqpyCrAjHoe9clJ4WvLuPVptD0P+w7V47aSDT3McYuLiGbzS2yNiqZACZ6nvwBWxDdXkfiSXXrzSri1+1rbaba2kzp5jfO7PIdrMAAGJ65wh9RVbv+vl+P4E7J/wBdr/hc6HSdU/tJbpZIfIuLS4aCaLdu2kYIIOBkFWVhx3rQrn/Dn+k6rr2ox/8AHvcXipC3Z/LjVGYf8CDD/gNdBQtkHUKKKKACiiigAooooAKKKKACiiigAooooAK574gf8kz8T/8AYIu//RLV0Nc98QP+SZ+J/wDsEXf/AKJah7DW5z3wI/5IpoP/AG8f+lEtehV578CP+SKaD/28f+lEtehUlsD3CiiimIKKKKACiiigAooooAKKKKACiiigAooooAKy7HxJoupXctrYapa3E8KlnSOUEhQcE+4B4JHStGXzPJfydvmbTs3dM9s15TP4Y8Va+0RvYb+K5OlXVtcTXs8AiWaRUAWJIjkRkqRnGcYzUtu5SSZ2Wo/ETw1p+mS3q6pb3McUkcZEMikku20EEnBHU5HZTV+21+2m1J4mvbA28iw/ZSlxmSRpAxGVxgZC/LgnOD6ViayNT1zwVcWUHh27sri3Nu628rw4k8uRWKRlXI6LwTgcj8Ir/wAPahq95r94lq9pJdWtnLYNKybkuIS7gEAnGGKg9uTyab0/roJao6W/8R6NpbOuoalbQPGyqyPINwLAkDHXJAJ+gqlP430KHWdL04X0Mj6pEZbeRJFKFeAvOedxOBj0Nc6dO8SW8FrdPa3qSalPNc6pFpssHnxuQohj3ucbFRdpKnOQO2ab4f0LWdGi8JPdabM7WYvIbpI5o3aHzZMoxJYBlwOSMnnpQr31/r+n1DSx1EfiextNJhu9b1DT7czSyRoYJy6PtYjCkgEkAcjHBzU9x4n0O1tLe6n1a0SC6QyQP5wImUYyVx97qOnrXI6Lo+seHLyy1GfSJr4LDd27wW8kRkgL3LSq43MAQykA4ORgcdcWNB8Majaa7o99d2axxxtqM8kYdT9lM8iMiDB5ON2SuRnPPTKV3b+v6uDsn/X9eR2drqFnfWMV5Z3MU1tMu6OZHBVx7GodTv5LPS5rmxtjfSx4xBG3LZIHUA9jnp2rmrHwpdzeFf7Ou7fTUkXUbqdU1GyW8jCPNIyEKHUAlWBznjOMVs+HNBbQoZ0ZNKTzWB/4lum/ZAcf3hvbcfyxVLUNiHT/ABtoeo3WrQRX0Mf9lSFbh5JFAChVJfOfugtjJ7g1Zj8WaBLYPepq9n9mSQRPK0oUK5GQpz0OOfpXPXFr4hsZPFS6VYzefeXcV1a3KGIh49kSOqhzxIAj4DDbnHNZFr4X1m51qa8nsLw28up2Fyp1G4heVkiD72YKcDBK4A9vcCU27fL/AII2lr8zqtV8ZWEGhRappd3a3Vv9uhtZpC/yxB5FVs+hAbPNXF8SWl9ZLcaC0eqqLuK3lED8xbmUMxwCRtVt2DjI79653VfDOo3eo6syWSyQ3WsafdIC6YeOLy/MbBPbYeDyccZre0zTrm18Ya9fzRbLa7jtvKk3D5yiuG4zkYyvWmtrvv8Aov8Agie/9eZu1zPh7xrp2rBLa7vLSHUnuZ4UtVk+Y+XI6jg9yq5x+PStnR9R/tbSLe/ELQLcLvRHOTtz8p/EYP41yNt4Z1GHw3ptt9iVbiHxAb6VQ6cRm5d9+c8/Iw4684o15kv63QfZf9dGdCPEdpZ2dzc6zfWFvFHdvbxtHPuyQeFOQP3nXKjOKpaV41068stTv7y9tIbC1vzawXAk+WUbEYc92JYjA9KxYNF1jSNej1dtLlvYYtRv3NvDJGZAkxXZKoZgP4SCMg4Y8VXs9F1yz1Ua5NoUhRdZuLs2EU0TSeXLAqLIPm27gQcjOfmbGe6i3pft+On/AARtLp3/AM/+AdJpPjOwv11q6mvLSPTdOukhjuhJ8rgxI3Jz13OVx7Y61fPinQhp8d82r2gtpXaNJTKAGcAkr/vDB461xF34b1y9Goah/ZlxZ79ei1BLWC4iE0sQt1jJByUDhvmwT1Xr0NaFh4ZmOqaRfxWGoKF1WS7ujqU0Tyj/AEZo1fCEjk7Rgc9zTV2vu/T/AIP3Cdvz/X/gfednp+pWerWSXem3Md1buSFkibIyDgj6g8YrO/4SGODXdXtdQeC2s9Otrec3Ejbf9YZAck8fwDH1qhpFxa+GZtXXXryz04Xupy3NsLi5jTzIyqfMAT6g+9UdSh1ea91nV/DWLiG9hsEhntZInaREkk87y9x27grcbuM/Sk3omvL+vkUkrtP+tTpbLxHo2oiH7FqVtMZpGijCyDLOq7iuOuQOcenNLe+IdI06OV73UbeEQyiGTdIMrIVDBMdd2CDjrjmvPpNF1DTtH8Q65ewXVvLbXkGp2LX1xG80nlRqGDFCQCwDJj0YVbufDGqxRaHqvlX0lwGuJ9Qj0+WNJlln2nK78AhduzGc46U7v+v69fQmy/r+vQ7KfxToNtDayzavZql2oa3bzgfOGQMr68kdK0bm5gs7WS5u5o4IIlLSSyMFVAOpJPQVxuheGm07xBpV+LG4gtLexvN7Xs0byxSyzI/JUkZIDHjgdM1p6vqugeIdGutNgu4NXaaP/j00+9i89wCDlPnHIxnqOlDennqHXyLI8S2d2LOXS72xmt5bkwytLKUPEbPhBj5mwAcHHGTmn2Xi3w/qNw8FjrNlPKkZldEmBKoOrH0A9a5mCx8TXP8AZM9/bXN0mn6s88X2loUuTb/ZpFHmbWCFt7YGOxBOOaqS6Rr2veH9bTUdDvbPWdUhIM809uYY0U5S3UpKzBcZBJXBLEnsKV3r/XQLK6/rqzsoPFeg3NjcXsGr2b21tjzpRKMJn7ufr29e1XLHVbHUrNbuxuo5YGJUODgZHUc1ww8Pi8tby8vtI8TPc7IEUy3dv5ylHLq0e19vyNzk9c8A9K04dE1rXfDcEWvppr3UU8hQ6tpqXTGLOELKjqivjrtOPYU9Q0Oi1XVodL0uW8x55UqkcUZGZJGIVEHuWIH41j+IfEGvaFZtdJo2nXMWY440/tORJZZXIUIq+QR944Bz05OO1G80GTQfDyzGLTdlrfwXkq6Zp32VTGjDcSu9txAy2f8AZrXv7G41TxTo04QPpdnHLdeYHBDzkBI+M5OFaQ56dKN/v/S/+f3Bt/X9eX3lDUvGN5ZSahPDpcU2n6Q0aahMbkh1YqrP5a7MMEVgTkrnkDpW7qGq/wBn3VgskO63vJvIMwb/AFbkfJkY5DEYzngkevHJato+rlfEmjWunSTwa9MJI71ZEEcCvGkcm8Fg2RsJGAc5A9a0NS1Iatb2VlbwMrnWY44txyXS3lV5JPZR5bL9ceooTvb5fpf7h2X5/wDAOtooopkhRRRQAUUUUAFFFFABRRRQAUUUUAFFFFABRRRQB578d/8Akimvf9u//pRFXcfDj/klnhT/ALAtn/6ISuH+O/8AyRTXv+3f/wBKIq7j4cf8ks8Kf9gWz/8ARCVjPc1hsdJRRRUFhRRRQB8nfBT41+HPhx4Lu9I1yy1Se4m1B7pWs4o2QKY41AJaRTnKHt6V6J/w1X4I/wCgV4g/8B4P/j1H7Kn/ACSzUv8AsNS/+iIK9toA8S/4ar8Ef9ArxB/4Dwf/AB6j/hqvwR/0CvEH/gPB/wDHq9tooA8S/wCGq/BH/QK8Qf8AgPB/8eo/4ar8Ef8AQK8Qf+A8H/x6vbaKAPEv+Gq/BH/QK8Qf+A8H/wAerI8WftK+D9e8F63pFnpuuJcahp89rE0sEIRWeNlBYiUnGTzgGvoSub+I/wDySzxX/wBgW8/9EPQB8+fDX46+GfBvw80zQdTsdWlurTzd728MbId0ruMEyA9GHbrXU/8ADTfg3/oGa7/4Dw//AB2u1/Z8/wCSE+Hv+3n/ANKZa9Jq+dk8qPAf+Gm/Bv8A0DNd/wDAeH/47R/w034N/wCgZrv/AIDw/wDx2vfQ6lygYbwMlc8gUB1LlAwLLyVzyKOdhyI8C/4ab8G/9AzXf/AeH/47R/w034N/6Bmu/wDgPD/8dr3xpEQqHZV3HC5OMn0oeRIl3SOqLnGWOKOdhyI8D/4ab8G/9AzXf/AeH/47R/w034N/6Bmu/wDgPD/8dr36ijnYuRHgP/DTfg3/AKBmu/8AgPD/APHaP+Gm/Bv/AEDNd/8AAeH/AOO17ppn/IJtP+uCf+girVNyadgUU1c8B/4ab8G/9AzXf/AeH/47R/w034N/6Bmu/wDgPD/8dr36m+YnmeXvXfjO3POPXFLnY+RHgf8Aw034N/6Bmu/+A8P/AMdo/wCGm/Bv/QM13/wHh/8Ajte+PIkSFpHVFHUscChnRSoZlBY4XJ6mjnYciPA/+Gm/Bv8A0DNd/wDAeH/47R/w034N/wCgZrv/AIDw/wDx2vfqKOdhyI8B/wCGm/Bv/QM13/wHh/8AjtH/AA034N/6Bmu/+A8P/wAdr3TTP+QTaf8AXBP/AEEVapuTTsJRTVz58/4aS8C+Zv8A7F1nfnO77LBnPrnzal/4ab8G/wDQM13/AMB4f/jte/UgdWdlDAsvUA8ilzsfKj53h/aH+H9vqU+oQ6HrS3dwAss32eEswHQZ83gewq3/AMNN+Df+gZrv/gPD/wDHa98aREZQ7qpY4UE4yfah5EiXdI6oucZY4o52HKjwGT9pbwTKu2XSdbcZzhraE/8AtWiP9pbwTEu2LSdbQZzhbaEf+1a+gKKOdhyo8B/4ab8G/wDQM13/AMB4f/jtH/DTfg3/AKBmu/8AgPD/APHa900z/kE2n/XBP/QRVqm5NOwlFNXPAf8Ahpvwb/0DNd/8B4f/AI7R/wANN+Df+gZrv/gPD/8AHa98MiCQIXUOwyFJ5P4UeYgkEZdd5GQueSPXFLnY+RHgZ/aa8FnGdL1w4OR/o8PH/kWj/hpvwb/0DNd/8B4f/jte+NIiMod1UscKCcZPtTqOdhyI8B/4ab8G/wDQM13/AMB4f/jtH/DTfg3/AKBmu/8AgPD/APHa9+oo52HIjwEftNeC1GF0vXAPQW8P/wAdo/4ab8G/9AzXf/AeH/47Xummf8gm0/64J/6CKtU3Jp2Eopq54D/w034N/wCgZrv/AIDw/wDx2j/hpvwb/wBAzXf/AAHh/wDjte/UUudj5EeA/wDDTfg3/oGa7/4Dw/8Ax2j/AIab8G/9AzXf/AeH/wCO176zBVLMQABkk9qFYMoZSCCMgjvRzsORHgX/AA034N/6Bmu/+A8P/wAdo/4ab8G/9AzXf/AeH/47XvqurMwVgSpwwB6UiSJJny3Vtpwdpzg+lHOw5EeB/wDDTfg3/oGa7/4Dw/8Ax2j/AIab8G/9AzXf/AeH/wCO174rq4JRlbBwcHOD6U6jnYciPAf+Gm/Bv/QM13/wHh/+O0f8NN+Df+gZrv8A4Dw//Ha9+oo52HIjwH/hpvwb/wBAzXf/AAHh/wDjtcD8HvjDoHw+8IXWlazZ6lPPNfvcq1pFGyhTHGuCWdTnKHt6V9eV4l+yp/ySzUv+w1L/AOiIKXMw5UZ3/DTfg3/oGa7/AOA8P/x2j/hpvwb/ANAzXf8AwHh/+O179SI6yIGjYMp6EHINPnYciPAv+Gm/Bv8A0DNd/wDAeH/47R/w034N/wCgZrv/AIDw/wDx2vfUdZFDRsGU9CpyKWjnYuRHgP8Aw034N/6Bmu/+A8P/AMdo/wCGm/Bv/QM13/wHh/8Ajte+h1Z2UMCy9QDyKWjnYciPAf8Ahpvwb/0DNd/8B4f/AI7R/wANN+Df+gZrv/gPD/8AHa90tP8Aj5vf+u4/9FpVqm5NAopngP8Aw034N/6Bmu/+A8P/AMdo/wCGm/Bv/QM13/wHh/8Ajte/UUudj5EeA/8ADTfg3/oGa7/4Dw//AB2j/hpvwb/0DNd/8B4f/jte+718zZuG/GduecetJvXzNm5d+M7c849aOdhyI8D/AOGm/Bv/AEDNd/8AAeH/AOO0f8NN+Df+gZrv/gPD/wDHa9+qrH/yFrj/AK4Rf+hSU1Ji5UeF/wDDTfg3/oGa7/4Dw/8Ax2j/AIab8G/9AzXf/AeH/wCO179RS52PkR4D/wANN+Df+gZrv/gPD/8AHaP+Gm/Bv/QM13/wHh/+O177kEkZGR1FI0iKyqzqGb7oJ5P0o52HIjwP/hpvwb/0DNd/8B4f/jtH/DTfg3/oGa7/AOA8P/x2vfHkSMAyOqAnALHGT6U6jnYciPnwftJeBRJvGi6yHzncLWDOf+/tS/8ADTfg3/oGa7/4Dw//AB2vdJP+Qtb/APXCX/0KOrVPmaFypnztaftD/D+wubm4tND1qKa6ffPILeHdIfc+b05PHQZNW/8Ahpvwb/0DNd/8B4f/AI7XvhkRXVGdQzfdUnk/SgyIJAhdQ7DIUnk/hS52PlR4DJ+0t4ImAEuka04HIDW0J/8AatEf7S/gmJdsWk62i+i20IH/AKNr6AprOqY3sq7jgZOMn0o52HKjwP8A4ab8G/8AQM13/wAB4f8A47R/w034N/6Bmu/+A8P/AMdr36qt3/x82X/Xc/8Aot6ak2JxSPC/+Gm/Bv8A0DNd/wDAeH/47R/w034N/wCgZrv/AIDw/wDx2vfqKXOx8iPAT+014LJBOl64SOn+jw8f+RaP+Gm/Bv8A0DNd/wDAeH/47Xv1FHOw5EeA/wDDTfg3/oGa7/4Dw/8Ax2j/AIab8G/9AzXf/AeH/wCO179RRzsORHgI/aa8FqoC6XrgA6AW8P8A8do/4ab8G/8AQM13/wAB4f8A47Xv1FHOw5EeA/8ADTfg3/oGa7/4Dw//AB2j/hpvwb/0DNd/8B4f/jte/UisrjKMGGccHNHOw5EeBf8ADTfg3/oGa7/4Dw//AB2j/hpvwb/0DNd/8B4f/jte+71DBSw3EZAzyaWjnYciPAf+Gm/Bv/QM13/wHh/+O0f8NN+Df+gZrv8A4Dw//Ha9+oo52HIjwH/hpvwb/wBAzXf/AAHh/wDjtH/DTfg3/oGa7/4Dw/8Ax2vfqKOdhyI8B/4ab8G/9AzXf/AeH/47R/w034N/6Bmu/wDgPD/8dr36ijnYciPAf+Gm/Bv/AEDNd/8AAeH/AOO0f8NN+Df+gZrv/gPD/wDHa9+oo52HIjwH/hpvwb/0DNd/8B4f/jtZfij9ojwnrfhDWNKtNP1lJ76wntomkgiChnjZQSRITjJ9DX0lXN/Ef/klniv/ALAt5/6IejnYcqPnz4a/HXwz4N+HmmaDqdjq0t1aebve3hjZDuldxgmQHow7da6n/hpvwb/0DNd/8B4f/jtdr+z5/wAkJ8Pf9vP/AKUy16TRzsOVHgP/AA034N/6Bmu/+A8P/wAdo/4ab8G/9AzXf/AeH/47Xv1FHOw5EeA/8NN+Df8AoGa7/wCA8P8A8do/4ab8G/8AQM13/wAB4f8A47Xv1FHOw5EeA/8ADTfg3/oGa7/4Dw//AB2j/hpvwb/0DNd/8B4f/jte/UUc7DkR4D/w034N/wCgZrv/AIDw/wDx2j/hpvwb/wBAzXf/AAHh/wDjte/UgdS5QMN4GSueQKOdhyI8C/4ab8G/9AzXf/AeH/47R/w034N/6Bmu/wDgPD/8dr30OpcoGBZeSueRS0c7DkR4D/w034N/6Bmu/wDgPD/8do/4ab8G/wDQM13/AMB4f/jte/UUc7DkR4D/AMNN+Df+gZrv/gPD/wDHaP8Ahpvwb/0DNd/8B4f/AI7Xv1FHOw5EeA/8NN+Df+gZrv8A4Dw//HaP+Gm/Bv8A0DNd/wDAeH/47Xv1FHOw5EeA/wDDTfg3/oGa7/4Dw/8Ax2j/AIab8G/9AzXf/AeH/wCO179RRzsORHgP/DTfg3/oGa7/AOA8P/x2j/hpvwb/ANAzXf8AwHh/+O179RRzsORHgP8Aw034N/6Bmu/+A8P/AMdo/wCGm/Bv/QM13/wHh/8Ajte6af8A8ez/APXeb/0Y1Wqbk07CUU1c8B/4ab8G/wDQM13/AMB4f/jtH/DTfg3/AKBmu/8AgPD/APHa9+opc7HyI8B/4ab8G/8AQM13/wAB4f8A47R/w034N/6Bmu/+A8P/AMdr36ijnYciPAf+Gm/Bv/QM13/wHh/+O0f8NN+Df+gZrv8A4Dw//Ha98WRGZlVlLL94A8j60LIjlgjqxU4bBzg+lHOw5EeB/wDDTfg3/oGa7/4Dw/8Ax2j/AIab8G/9AzXf/AeH/wCO179RRzsORHgP/DTfg3/oGa7/AOA8P/x2j/hpvwb/ANAzXf8AwHh/+O179VXT/wDj2f8A67zf+jGp8ztcXKr2PC/+Gm/Bv/QM13/wHh/+O0f8NN+Df+gZrv8A4Dw//Ha9+opc7HyI+fpP2lPA82PO0fWpMdN1rAcf+Racn7TPgpFCppWuKo6AW8IA/wDIte/0hIVSWIAAySe1HOw5EfO99+0P8P8AU2gN/oetXH2eQSRCS3hIVh0OPNwce9W/+Gm/Bv8A0DNd/wDAeH/47XvqsGUMpBBGQQetIHVmZVZSy/eAPSjnYcqPAz+034MPXTNd/wDAeH/47UaftJeBYm3R6NrKN6rawA/+ja+gVdWZlVgSpwwB6UtHOw5UeA/8NN+Df+gZrv8A4Dw//HaP+Gm/Bv8A0DNd/wDAeH/47Xv1FHOw5EeA/wDDTfg3/oGa7/4Dw/8Ax2j/AIab8G/9AzXf/AeH/wCO17paf8fN7/13H/otKtU3JoSimeA/8NN+DP8AoGa7/wCA8P8A8doH7TXgxQANL1wAcAC3h4/8i179RS52PkR4D/w034N/6Bmu/wDgPD/8do/4aa8F7s/2XrmQMA/Z4f8A47XviyI5YI6sVOGAOcH0NOo52HIjwH/hpvwb/wBAzXf/AAHh/wDjtH/DTfg3/oGa7/4Dw/8Ax2vfd6mQoGG8DJXPIFLRzsORHgP/AA034N/6Bmu/+A8P/wAdo/4ab8G/9AzXf/AeH/47Xv1FHOw5EeA/8NN+Df8AoGa7/wCA8P8A8do/4ab8G/8AQM13/wAB4f8A47Xv1VbT/j5vf+u4/wDRaU1Ji5UeF/8ADTfg3/oGa7/4Dw//AB2j/hpvwb/0DNd/8B4f/jte/UUudj5EeA/8NN+Df+gZrv8A4Dw//HaP+Gm/Bv8A0DNd/wDAeH/47Xv1JvXzNm4b8Z255x60c7DkR4F/w034N/6Bmu/+A8P/AMdo/wCGm/Bv/QM13/wHh/8Ajte+u6xrl2CjOMk4paOdhyI8B/4ab8G/9AzXf/AeH/47R/w034N/6Bmu/wDgPD/8dr30kKMkgfWlo52HIjwH/hpvwb/0DNd/8B4f/jtH/DTfg3/oGa7/AOA8P/x2vfqKOdhyI+WPiV8dfDPjL4eanoOmWOrRXV35Wx7iGNUG2VHOSJCeint1r6D+HH/JLPCn/YFs/wD0Qlc1+0H/AMkJ8Q/9u3/pTFXS/Dj/AJJZ4U/7Atn/AOiEqW2xpWOkooopDCiiigDxL9lT/klmpf8AYal/9EQV7bXiX7Kn/JLNS/7DUv8A6Igr22gDnfiBrl34a+H2tazpvl/arK1aWLzF3LuHqO9eQS/Ez4paF4C07x1qqeHdQ0S68svbRJJHOqucD2B+mfpXp3xf/wCSPeJ/+vB68Bfwzf6F8OfBni/Wby98SeFkMb3ui3Er+VagnCuig4IHoR1IByDSj8T/AO3fxuU9l8/0PVPiB8QPFVt4t8IaN4Kewt28RW5kDahEzBDwRkryOD6Gu38GQeNYIbv/AITy70i5kLL9mOmI6hRg7t24D2xivJPirBaeMPiv8OI9M1K4trTUYHMN7p8vlyIhwQUbsa9e8HeEP+EPsbi2/t3WNa8+QSeZq115zx8YwpwMCrj8Lfm/zIfxJeS/I6Oub+I//JLPFf8A2Bbz/wBEPXSVzfxH/wCSWeK/+wLef+iHqRnNfs+f8kJ8Pf8Abz/6Uy16TXm37Pn/ACQnw9/28/8ApTLXpNAHjukQvFr+la6bCCOxudbufK1lGzeXfmeYscUq44jycA7m4RPlXtc0Kzt4NM8C69bwour6nen7dcqo8y4EsUryK7dWAKggHpsGOldvb+CtEtdUS+ht5t0UzXEUDXUjQRStnc6RFtiscnkDjJxjNSWPhDRtO1P7dawSrIGkaJGuJGigaTlzHGW2oTk5KgdT6miOiX9bdPn1/IJat+f/AAdflf8A4Ji+PrTSNRjbTzpEOra/e2rxWUbRhmgX/nqWP+qVWIJbgkgAZOBXPavHfS+Lr+C+0mx8QQ+H9Ft5NmpS4RmYSGR1UowMjeWBuOMYxnk12jeBdFaaOfOppPHbpbedFq91G7xqWKhisg3YLNycnmpNS8F6Lq0kUl7Fcs6QC2ZkvJUM8PXy5SGzIuf72ep9Tlapaf1vb8x6X1/ra/5Grpt5FqOlWl7bqVhuYUljVhghWUEDH0NWaaiLFGscahEUBVVRgADtTqp2voSrpalXTP8AkE2n/XBP/QRVqqumf8gm0/64J/6CKtU5fExR2R5xoumL4O8QW66t4d0l7rU727NvrFoQ9wXcyTBJN0asAUBGQzdMVR+Ht68Ufh/U9W0Ox+1eIvNYaosm+6MpVpCHynCFVIADHaFUY9O7s/CemWWqpqI+2XFzFu8k3d7LOsG772xXYhcjjI5xx04qOx8FaJp18bq0t5kf955SG6kMdv5n3zEhbbGTk8qB14qVp/X9f10Ket/6/r+tTlfFQvNV+I8tn/Y9hq9tpmjrdx22oy7Yd7yOGYLsYF8RhQSMKC3rzRK6T4yg8R6ne2iCG30S2k04SoN1kjwtLvT+427HzD+4PSu3vfBWjahFaJcpd7rW3+yrKl7MkkkJxmOR1YM6nHO4mlv/AAXoepSxvPaugSBbZo7eeSFJYV+7G6oQHUZPBBHJHQmlb3eX+uv+aHf3ub+un+TL3h+4nu/DOmXF5n7RNZxPLnruKAn9a0KAAqgKMAcADtRVyd5NkRVkkVdM/wCQTaf9cE/9BFWSQqknoBk1W0z/AJBNp/1wT/0EVapS3Y47I8gi8TW+vfFfw/qk1xNApkurSzs3hkUxoY8CRgRjc7YPsoXODmp9F0+60PxB4Ut5tBks9WN3PDqWqbo8X6mGRmbcrFnDMqP8wG3AHFenXGmWl1qFnfXEW+5si5t33EbN67W4Bwcj1zVOz8M6dY6m+oJ9qmuWVlV7m7lm8pWOWWMOxCAkD7uOgHQCktP6/rfqN6p/1/VuhgfEnRv7Q0O5mt/Dtnqc/wBleM3crKJrReu+IMOWGSwAZeQOa5rULyTW/Et3cppNl4g03StCtrqBNUk2qyyB2Z1UowMjKgGTjGMdzXcz+CdJuYooppdTaFIRA0X9qXG2ZBniQb/n6nJPJHByOKk1TwZomrzRyXVtIhSD7MRbXEkCyQ9fKcIwDJ/snI5PqaWq2/rf/Men9eq/yNTTbyLUdKtL23UrDcwpLGrDBCsoIGPoas01EWKNY41CIoCqqjAAHanVTtfQlXS1Kumf8gm0/wCuCf8AoIq1VXTP+QTaf9cE/wDQRVqnL4mKOyPJ/C1/Il7D4i1jQbG4fUtbns11B5N13C3mSRRhQU+WMBQmA2eSccml8D38iPpOuaxoVjJNrt/PENTMm+7jkJk2ggp8se1CgAbgAccnHdw+DtFg1o6pHbyibz2uREbiQwrMww0oi3bA5BPIGeSepNJaeDdFstW/tC3t5VlEjzRxm5kMUUj53ukZbajHJyQB1PqczHRL+u39foVLVv8Arv8A8Ax/iTo39oaHczW/h2z1Of7K8Zu5WUTWi9d8QYcsMlgAy8gc1xvxG8VWmseG/wCzoLy4Swtba2u3neGQNeuxRo1BxjaAd7H12j1r0afwTpNzFFFNLqbQpCIGi/tS42zIM8SDf8/U5J5I4ORxWpfaRYajpDaXd26tZMqoYVJQbVIIA24IxgdKFp/XqD1/r0LNvNHc20U8J3RyoHQ4IyCMjg1JRRQBV0z/AJBNp/1wT/0EVaqrpn/IJtP+uCf+girVVL4mTHZBRRRUlHKeM4o77VvDOl3qLLYXmot9ohcZSXZBI6ow6EblBweu2q/hVrfR7PxXbofs2mabqMvkiMfLBGYY5HCDsAzOQB0rpdX0ay1yzW21BHKpIssbxStHJE46MrqQVI9Qe5Heq1t4Y0u0traCCOYR28kku03Ejec7ghzLk/vM7j9/PP0qbOz8/wDgf5D0uv67/wCZ534F02XTtd0D+0dLttPjv9Kmijnt33SakTtffcjA2vsBbGX5Z/mHQzSaLdw63rWmaVpNt4bvb/Q5YtPisJF8q5KMMyMyhdrrvVRleAxO49B2lj4G0PT3LQQ3TYga3hEt7NILeJuGWLcx8scD7uDgAdBU9h4T0zT5JpUN5PcTQm3NxdX000qxnqquzEoO/wAuDkA9QKt2b+/8b/5/8ASuvw/C3+Ry3hKNLP4gfZdN8OyeH7R9HDXFswjXfKsoCttjYjoXG48tj0Ar0Os3SNAsdFaZ7QTyT3G3zbi6uHnlcL90F3JOBk4HTk+prSob0X9dbiSs/wCu1gooopDCvEv2VP8Aklmpf9hqX/0RBXtteJfsqf8AJLNS/wCw1L/6IgoA9E+I53+B7u2Ut5t1JDbwxr0mkeVQsbcjCsflY5+6TXEPDJp9trmj3Vjb6QbzVNNWfT7B91sltNIsZKMAv39jq3yr9D1PquqaVZ61p0ljqUPnW8mCV3FSCCCGDAgqQQCCCCCKzYfBmixaffWckE1yuobftUt1cySyy7fu/vGYsNvbBGDyMGktHf8Arpp/X3A9jN8NWVtpHjzxDpulQR2un/ZrS4FvAgSOOVvNViFHAyqITj61kWGkr4U8VJcav4f0iaXVtVnFtrMBD3MTSl3RXDRggbRtyrn6YNdba+FdMs7VoYfte6S4S5lne8laWV0xt3SFtzD5QNpOMcYpIPCemQ6umpN9suJ4naSEXV7LNHAzZBKI7FVOCRwOAcDAp9f620B7NHA6Lp91ofiDwpbzaDJZ6sbueHUtU3R4v1MMjM25WLOGZUf5gNuAOK9YrJsfDWnWGqPqMf2ma6IZUe6u5ZvKVjllQOxCAkDpjoB0ArWo6A97lW0/4+b3/ruP/RaUmrW0t7o17a2zKk09vJHGzngMVIBOO2TS2n/Hze/9dx/6LSpriBLq1lglLhJUKMY3KNgjHDKQQfcHIoqK6t5BB2dzg/Cei6bpdw3hPV/Cei2s8mnJI8tmiTRX0aMEbzMxodwYg4II5znrVnwDoekpqWr+ItK0yzsIbuU2lotpbpEvkRMV3YUDJdwzZ9AvpXQaV4Z07R7ia4t/tM91Ogjkubu6knkKDOFDOxIHJOBjnnrUqaBp8Xh+PRLdJbexijWONIZ3RlVSCMODu7dc5Pene7u9/wDg/wBfiK2lun9fr+h5xq2n3ekaibifQZH1eTxFDLBrYMeGt5J1UR7t2/iNjGUxjgnpzRLp93o2r6e8+hSLrMniLLa2DHi4gklb5d27eR5R27CMDZnsM+h/8I1pza2uqS/aZrhH8yNJruV4onxt3JGW2KcZ5A7nHU0R+GtOj1r+1W+0zXKszxCe7kkjhZhhiiMxVCQSOB0JA4NKOlvL/gf5f8Actb+f/B/zNaqsf/IWuP8ArhF/6FJVqqsf/IWuP+uEX/oUlUtmS90Wq868K6SnhDXLDTtW8PaTHfaibgQ6zYsHmlfLSMsmY1ZcrnkFh8uPSvRetYuneE9M03Ulv4/tlxcxoyRSXl7LceSrdQnmMducDJHJxjNT1K6GH4K0uDR/GXiy0tpLiVQ9ozSXM7TSOxiJJLMST/Idqh+J2krc6Nc3kegWt262583Uyy/abJEO7fECMsy8sAGXkV139jWIn1CdI3jm1JVW5kSVlZgq7Rgg/KQD1XFZ154M0m/Ki7fUJIfKWGS3Ooz+VMqjADpvw3HXP3u+aWo1Y4XV799Q8V6/qs2iWOuadoen20sS38mNsTRmV2iQow3sO5x9xRnk49Vt50ubWKeLOyVA65GDgjIrG1TwbomsXv2m9tpN7RLDKsNxJEk8anKpIisA6gk8MD1I6Eit0AAAAYA6AVWliddCrJ/yFrf/AK4S/wDoUdWqqyf8ha3/AOuEv/oUdWqb2QluzyfRr+RNZvPEer6DY3ayeIX09b2aTddW4E3kxeWpQhUBxkBgTuZvqeFr+Rb6HxDrGg2M76lrc9muovJuu4G8ySKMKCnyxgKEwGzyTjk13n/CHaL/AG2dU+zy+c04uTF9ok8kzAY83yt2zfj+LGe/XmiHwdosGtHU47eUTee1yIzcSGFZmGGlEW7YHIJ5AzyT1JqY6Wv0/wCB/k9Spa3t1/4P+aMfxn4auNU12y1b+xNI121sbOeNrLUpNvzOyNuTMbrnCEc469a5PXlTxhKLjw5olpqMA8ORstvfERDTxLuMbQjBBkwp4G0fIvzivQrnwbpl3axW00+p+TGjRlF1S4USqxJIfD/N1PXtx04pL/wVoeoNGXt5rby7cWpFndSW4eEdI2EbDcoycA9MnHU1NtLf11/zKvrf+un+Re8P3UN74a026tp5LiGa0idJpRh5AVBDN7nqanu/+Pmy/wCu5/8ARb1Nb28NpaxW9tGsUMKBI40GAqgYAA9MVDd/8fNl/wBdz/6Letb3k2vMytaKXoWqKKKgsKKKKACiiigAooooAw/Gc0kHg+/aF2jLKsbOpwVVnVWIPbgnmqmmWFrpHjqez0q3jtbWXTUlkhhUKgdZCqtgcZIyM99o9K6K6tYL20ltbuNZYJkKSRsOGUjBFZ0HhrT7a2nhj+1E3GwSTPdytKQpyq+YW3AD0B7n1NZ8r5+b+uv+Z2U60VRdN31/W35WOK1OJn1rUdWFpC9nb6vB5mqM3+k24TYrxxrjlMjBO4cO/wArd11bxBb6l410a5mmlggs9TMEEDROC/7qQPKeO5wFHpk9+Oyn8LaVcX7XUsMuZJVmkhFw4hkkXGHaMHaTwOo7D0rQurG2vJbaS5j3vay+dCdxG19pXPHXhj19aiNOSt6p/l/X6nV9cpaaN6Nel1bz/TToeeza/BqvxA0O+mmlhiiu5ba2t2idTtMTgyMMdWbAA7KAeMmvSqr3FjbXV1a3E8e6W0cvC24jYxUqTgdeCRzVitIRcVqceIrQq8vIrWVvxb/UKKKKs5QooooAKKKKACub+I//ACSzxX/2Bbz/ANEPXSVzfxH/AOSWeK/+wLef+iHoA5r9nz/khPh7/t5/9KZa9Jrzb9nz/khPh7/t5/8ASmWvSaACiiigAooooAKKKKACvHdIheLX9K102EEdjc63c+VrKNm8u/M8xY4pVxxHk4B3NwifKvb2KsC38FaJa6ol9DbzbopmuIoGupGgilbO50iLbFY5PIHGTjGaXW4P4Wv66nEaFZ28GmeBdet4UXV9TvT9uuVUeZcCWKV5FdurAFQQD02DHSui8Z+GrjVNdstW/sTSNdtbGznjay1KTb8zsjbkzG65whHOOvWtmx8IaNp2p/brWCVZA0jRI1xI0UDScuY4y21CcnJUDqfU0y68Habd2dvazT6n5EEXk7E1O4XzU9Hw/wA/1PPbOKH5f8Npb+vUfX+u9zzb4h+L9P17wK+naf52naadJW9YeQy+ZlN0Nuu0YAHBbnGAF7nHr+n3MV5p1vcW7b4pI1ZGIIyMeh5qG60bT7zQn0ae1X+zpIPs5t0JRfLxjaNuCBj0q6oCqFHAAwKp21sT2/rsLRRRSGFFFFABRRRQAUUUUAVdP/49n/67zf8AoxqtVV0//j2f/rvN/wCjGq1VS+Jkx2QVz3jbQrjxH4dFhaw2k5+1QTPBesVimSORXKMQrcHbjoa6Gqep6ZDqtn9nnluYV3Bg9rcvA4I/2kIP4dDUMs461/4RlvCesJrfhLSLOLQJ5GurFLeOaASCJX3x/IoO5GXnaD2NbHgLw7H4c8KxRC0gtLm8dry6it4wiJLJyVAHACjCj2WrkXhPRotDm0n7Kz2lxJ5s4knd3mfIO53J3McqOp6DHTitC60+G8ntpZjMGtmZkEczIpJUqdwBAYYJ4OcHnrT9PL+v67C/4P8AwDi9F0zTLzxvBqHhTTYrTTbGKeG7voowgv5GIGwHrKFYMS5yN3AJ5xHo1hFo3xOhj/sO10GOewmitlsSrJe7XRi0mAu1lHQEH77fN2rotM8FaPo6Rx6edSjhjjMSQPq11JEqEYwEaQr06ccdqm0rwrpukXovITd3FysZiSa9vJblo0JBKqZGO0HAzjk4Gc4oWjXl/wAH/MHqmbNFFFABVXT/APj2f/rvN/6MarVVdP8A+PZ/+u83/oxqr7JPUtUUUVJRg+MPER8N6EbiGJpbmeQQW48tmRXb+J9oJCKASfpgckV5t4bsxqXhm+tLATa/b2XiVrnUbd12vfRFOSQ+Fb58PsJx8uPQV7PWU/hzT2s7u3hFxard3JupntrqSJzKcZYMrAjOBwOPaktG3/W6f6Deqt/WzX6nPeA/Na38S2tpZNpVtFqTJZ2zbf8AR90EbEAKSo+dmbaDwSRXI28V74Zm0Vbbw9Lpurw2F4moXhMZ+3OkBfflWLSZkCtuYAjdjqSK9QtvDunWdraW9ok0UdpObhNtxJl5DnLSHdmTO4k7s5PNN07wzpum3sl5ELme4kQxiS7upLgohOSi72O1ScZA64GegoaurLtb8LAnZ697/icboOmWWj6x4JuNJijjm1KwlF9LGAGuh5KyeZIf4jvwcnn5z616RWLo/hLSNCuvtGnQyq6xmKIS3EkqwRkglI1ZiEXIHC46AdAK2quTTd0SlZWCiiipGVbT/j5vf+u4/wDRaVaqraf8fN7/ANdx/wCi0q1VS3JjsFcx8SNRutL+Her3Wnl1uBEI1aM4Zd7BCQexAYnPaunqC+sbbU9Pnsr+FZ7a4jMcsTjh1IwRUNXRadnc4vQdO0mO4v8AwxrPhXRbRI7WG7ZYFWeGePLAGTcikurKeSDnOc9asfDfRbC102812w062sBrc3nxQ20CxKluvEIwoAyV+c+7mtmw8JaTp1peQRR3EovovJuJbi7llleMAgJvZiwABOACMZJ6nNXZNItH0+2sVEsNvatGYlhmePb5ZBUZUgkcDIPBHXNV1v8A1/W34k20t/X9b/gea6baW40Xwz4iSFBrd7rpW5ugo82VZJJEkjZupUKMbTwNg9K2bHwtoE/xN83S9D02yi0CIM0ltaRxs9zKOASoBO2PnHrID2ro7bwho9prH9pQQSiYSvMkbXEjQxyPne6RFtiscnJA7n1OdGz0200+a7ltIvLe8n8+dtxO99oXPJ44VRgccUo6f15JW9N36jlr/Xm3/wAAtUUUUAFVbT/j5vf+u4/9FpVqqtp/x83v/Xcf+i0qlsyXui1RRRUlBXlEdpA2h2fiUQp/bsnifY11tHmlTeGAxbuu0RcbenFer1iR+ENHj1o6okEvnecbgRm4kMImIwZRFu2ByP4sZ5J6nNC0kn/W6YPWLX9bNHM+OrOXV/F2m2VlpVlrk8FhcSyWGpPst1ViqrLna3z5BUDb0Lcr35LxF4kguvhTB4dS8vEiTRWe8u5oXDSsisogBGRkuh3HJAVcZO7Nen3XgzSbtYTIb5JoTJsuIr+ZJtsjbnQyBwxUn+EnAwMYxV8aFpq+HjoSWipprW5tjbqSB5ZGCMg55BPOc1Nvca/rr/n/AEik7ST/AK6f1/VziPEdpZ6l4f8ACmtRz3MhivtOSFPOdYhmZAWMfALdRkg4HSvR6pXWj2N7Z29rcwb4baWKWJd7Da0ZDIcg5OCB1696u1o3e/q399jOKsl6JfmFFFFSUebftB/8kJ8Q/wDbt/6UxV0vw4/5JZ4U/wCwLZ/+iErmv2g/+SE+If8At2/9KYq6X4cf8ks8Kf8AYFs//RCUAdJRRRQAUUUUAeJfsqf8ks1L/sNS/wDoiCvba8S/ZU/5JZqX/Yal/wDREFe20AQ3lna6hZy2moW0N1bTLtkhnjDo49Cp4IqAaNpg0f8AskadaDTfL8r7F5C+Ts/u7Mbce2Ku0UAZMPhXw9byWT2+g6ZE9hn7GyWcam2ycny8D5Mk54xWtRRQAVzfxH/5JZ4r/wCwLef+iHrpK5v4j/8AJLPFf/YFvP8A0Q9AHBfAu2gk+C+hNJBGzH7RksgJP+kSV6B9jtf+faH/AL9iuE+BH/JFNB/7eP8A0olr0KumLdkc7SuQfY7X/n2h/wC/Yo+x2v8Az7Q/9+xU9FO7FZEH2O1/59of+/Yo+x2v/PtD/wB+xU9FF2FkQfY7X/n2h/79ij7Ha/8APtD/AN+xU9ZHijWpfD+gSahb2ou5VlijWEybNxeRU64OPvZo5mHKjQ+x2v8Az7Q/9+xR9jtf+faH/v2K4y+8ZeIdPbWEn0ewZtFgW8uXS8fbJCwJATKZ34R+vHA9eJ/FHjs+HrhWT+z5oVSOSSA3LfaSrHBIQIQoAOQWPOCOKOZ9x8q7HWfY7X/n2h/79ij7Ha/8+0P/AH7FYEHiu4m8VP4ebT9t7FKZJD5h2C0xlZgcdSSF2+obnArS8Q6wdD0k3McH2meSWOCCHftEkkjhFBbBwMnk4PGaOZ2uHKr2Lv2O1/59of8Av2KPsdr/AM+0P/fsV59feJNR8PeLtRv/ABBbW4a30eLyktbhjHKz3BVcllBX5iATg8c+1WU+It39kuQun217dRXFrFGbWdxDL58mzG5kBDKRyMHjB74pKTaX9dbA4pX/AK6XO4+x2v8Az7Q/9+xR9jtf+faH/v2K4XxN4r8RWGj61aC3s7bVLO3iuY5oZ2aNoncrkbkzuBUjBGCDnPapLi98QQeO7s2dpZS3K6JDJMkly4iUiWXhTsySfUgdPwo57df6s/8AIORf18v8ztvsdr/z7Q/9+xR9jtf+faH/AL9isaDxPcXei6bqNhod3eR39slxiKaBfK3AHafMdcnntTtT+36x4XmaOS90GYBmbY0Ty7QDwGBdRn1HI9jRKTim30CMVJrzNf7Ha/8APtD/AN+xR9jtf+faH/v2K5eyeyuPhjot34i1C4ht1soJZ5VuniaVjGOGZSGbJPQHk461o+C0vk8MRf2l9o3NLK0C3bFplgMjGIOTzuCbc559eaptqTV9iUk0n3Nf7Ha/8+0P/fsUfY7X/n2h/wC/YrJ1/W77T9V0rTtLs4bifUWlUPPMUSLYm7JwCT9KxtO8a6tcSWMt/pNtb2lxqL6XIUui7rMpdS4G0ApuQjk57+1LmbdiuVJX/r+tDr/sdr/z7Q/9+xR9jtf+faH/AL9iuL0/xLdi4ttN0LTIjLeXeo5e7vHZYzDNtLEkE4YtnaOB0HFdN4a1h9d0OO8ntxbziSWGaJX3qrxuyNg4GRlTjjpQpNq4nFJl77Ha/wDPtD/37FH2O1/59of+/Yrn4PE9zc+NLjRlSxtktnAMdzOy3FwmwMZI124ZQTjqehzisyH4hv8A2tPaSJp10v2O4uYnsLppQphAJR2KAEkHqucEEYpc+l7j5NbWOz+x2v8Az7Q/9+xR9jtf+faH/v2K4+38WeJLq6022TRtPSXVrI3lszXjFYVULuWT5Mk/vFxt9T6cyWnjTUtXbRodI0u3E+pWMt07XNwQluY3VCvCkty3HSnzO9v66/5C5U1c6z7Ha/8APtD/AN+xR9jtf+faH/v2K4aPxN9s8R6RqF9EbQ2lrqaXkKPvVXhaINg4G4cEg4HBptj8TJ7qKSUaZHdb7GS8ggspXkkUoARHJlANxB6rnkEc8ZXPpe/9a/5D5PI7v7Ha/wDPtD/37FH2O1/59of+/YrN8MavNremG8ln02dGbCPp87SKOOQ2QMMD2/lWFrGux+HvGGt6lch5IbXRLeTyg2NzGaUAe2TgZpuTT1/rS4lFNaf1rY6/7Ha/8+0P/fsUfY7X/n2h/wC/YrkNO8eS3UOorcLpiSWluk6XAu3W2wzFSruyAqQfQHOR0rD1vxXqHiPwvdWttBZM0OrWlpcMk8ixTxyPGQASmcHdtYEdM4znFLmf9eth8q/r7z0v7Ha/8+0P/fsUfY7X/n2h/wC/YrHbUr3SkisrXw1cTRwxIoNpPbrEvA+VQ8itgdOVHSs3x+NQk8IrqFrqF5pfk+W8ltCUDOWkQbXcZOBkghTg+pFPmYuVHVfY7X/n2h/79ij7Ha/8+0P/AH7FcP46nupPEEVrbQ6pqKR6dLL9j0u5aB4ZNwCTOQy5HDADJOQcKe3W+HLlrzwxplxJdrevJaxs9wgwJW2jLY4xk+1EZNq/9df8huKTt/XT/Mt/Y7X/AJ9of+/Yo+x2v/PtD/37FT0UXYrIg+x2v/PtD/37FH2O1/59of8Av2KnoouwsiD7Ha/8+0P/AH7FH2O1/wCfaH/v2KnoouwsiD7Ha/8APtD/AN+xXj37M9vDL8NdQaWKNz/a8gyyg/8ALGGvaK8b/Zk/5JnqH/YXk/8ARMNS27opJWZ679jtf+faH/v2KPsdr/z7Q/8AfsVPRVXZNkQfY7X/AJ9of+/Yo+x2v/PtD/37FT0UXYWRB9jtf+faH/v2KPsdr/z7Q/8AfsVPRRdhZEH2O1/59of+/Yo+x2v/AD7Q/wDfsVPRRdhZEH2O1/59of8Av2KPsdr/AM+0P/fsVPRRdhZEH2O1/wCfaH/v2KPsdr/z7Q/9+xXHXvjbWLdb67t9GtprKy1MacQbsrLKzMqKwGzAG51zk+vpzcTxXewWmsx6nFptpe6XLEheS7ZLd1kUMp3lcg8kYxyQPXhc+l7/ANaf5j5dbHS/Y7X/AJ9of+/Yo+x2v/PtD/37Fcfa/EFzoM+rXlrCbSw1D7JfzwSMVSPYrCZQyglR5i5B6DJ5xXU6Ne3GpaTBe3Vr9kacF1hLZZUJ+Xd6MVwSOxOKak3sxOKW6J/sdr/z7Q/9+xR9jtf+faH/AL9iuB8Za/q+peDvEE2mWVuNMtmktTM1wyzMyNtd1ULjAbIwTk4J44FWbz4ji31ue1t7e3lt7S7SzlQyv9okYlQzIoQrhS3QnJwenGUpNtLuNxSO1+x2v/PtD/37FH2O1/59of8Av2K5G68Z6tDb6xqMek2x03Rrt4LhmuSJZUTBZ0XbjgHOCecEcdaxPEWsa9Pp/jSK5EDWlm9uLYQzHeu4RsAPlHUEkkngnHIo53a/zDlV7HpP2O1/59of+/Yo+x2v/PtD/wB+xWJp2vam2tX2l6tp8C3MFol5CLOfeJEYsuwlwuGBXr0Oe1WbDWr67vEhuPD97ZRsDmeWe3ZVwM8hJWb24FPmfcXKjS+x2v8Az7Q/9+xR9jtf+faH/v2K818NX96/iXSriaTUVjvLm6WTUJ7hmtdRX5jEkUZY7DgAglU4Q4LZ59QY4Un0FLmfLdjcUnYh+x2v/PtD/wB+xR9jtf8An2h/79iuKsvG3iC+g0SaPRbFF11WFrm8bMLKpcmT5PulVYjHOcDvkSp4o+3NolzeWGy8+13tu6x3ThI5IUkDHAwHB2HG4cZz1FDnZNt7BydLHYfY7X/n2h/79ij7Ha/8+0P/AH7FctoXi7VNQuNDbUtMtra21y2aW38q4MjxMED4cFQOVz0PGK2fE+tSaBoMt/FbfaGR0UhiQsYZgpdyASFUHJwDwKbk1uJRT2ND7Ha/8+0P/fsUfY7X/n2h/wC/YrmL3xZdWeg2V39r0B5bouUkF65ilUdPLCoWc+uOnvVK28eapq8Ecmi6RbHOkx6nJ9pumXG5nBjGEOT8hwePpSc7bv8Arf8AQajfZf1sdp9jtf8An2h/79ij7Ha/8+0P/fsVyNn44v5EhnvtLhhgvtKl1OyCXBZwsYU7JPlABIdTkZxyOetT6d4q1SabR21bTLa2tdbiJtzDcGSSJ/LMgVwVA5UNyDwRjnrQ5NJ+X/B/yYuVb/1/Wp0/2O1/59of+/Yo+x2v/PtD/wB+xXmuj+OX0jwroOm24tXuv7LS6le9mdFIJKqo2qxLEq3J4GO+a3rLxvPqmtWNnb29rYJc28Nwq6jM0cs4cZZYhtwxToec57Ac0+Z3sn/X9Ibil0Os+x2v/PtD/wB+xR9jtf8An2h/79isTx+7R/DzXGRirCzkIIOCOKyPEPxE/sjWb+ztbe3mXTQhuEkldZZiyhtsSqpBIUg8kZJx70ud3tcfJpc7L7Ha/wDPtD/37FH2O1/59of+/YrldV8cNpviS2sV/s6eCa6gtmiS5Y3KeaVUMyhNq4LDgnJHPtVLwrLqUepeJ9WvNKhvLtdQa3U21wDMVAT92DJsUIBz16k8eopNv+vL/MXKrX/r+tDt/sdr/wA+0P8A37FH2O1/59of+/Yqjp+pXmpNLDdaPeaauziWWaBsnpx5bsQe/IxXE3d8+jjX77wteXlxYWOlyLNPcXMlxG14G+UoXJyVG7dt46A8jg5mCimeifY7X/n2h/79ij7Ha/8APtD/AN+xXL6XavoPja1023vLy4tr3TJJpVurl5j5sbxjeC5OCwkOQMDgcV19O7te/wDV7CsuxB9jtf8An2h/79ij7Ha/8+0P/fsVPRRdhZEH2O1/59of+/Yo+x2v/PtD/wB+xU9FF2FkQfY7X/n2h/79ij7Ha/8APtD/AN+xU9FF2FkQfY7X/n2h/wC/Yo+x2v8Az7Q/9+xU9FF2FkQfY7X/AJ9of+/Yrn/H9pbr8NfEzLbxAjSLoghBx+5aunrnviB/yTPxP/2CLv8A9EtQ27DSVznPggi3nwZ0GW7UTybZk3yjcdqzyKoyewUAAdgAK737Ha/8+0P/AH7FcJ8CP+SKaD/28f8ApRLXoVJN2BpXIPsdr/z7Q/8AfsUfY7X/AJ9of+/YqeindisiD7Ha/wDPtD/37FH2O1/59of+/Yqeii7CyIPsdr/z7Q/9+xR9jtf+faH/AL9ip6KLsLIg+x2v/PtD/wB+xR9jtf8An2h/79ip6KLsLIg+x2v/AD7Q/wDfsUfY7X/n2h/79ip6KLsLIg+x2v8Az7Q/9+xR9jtf+faH/v2KnoouwsiD7Ha/8+0P/fsUfY7X/n2h/wC/Yqeii7CyIPsdr/z7Q/8AfsUfY7X/AJ9of+/Yqeii7CyIPsdr/wA+0P8A37FH2O1/59of+/YrK8Q63eaXd6VaabZxXM+pXDQKZpTGseI2fccAk/d6ViWfjTWHkikvtJtYrZNUGlXDR3TM3ml9gkQbQCmSvBIPJ9ORSbdv6/rVD5Ulf+v60Z2H2O1/59of+/Yo+x2v/PtD/wB+xXKxeNZX8ZQaMBps6XU00EZtbppHiZEZx5nyBRkIQVByD61c8OeKpvEF9La/2ebeSxUpqG58iG43YEa8fMMAtu44K+vCUm9mDjbdG99jtf8An2h/79ij7Ha/8+0P/fsVma3rN3Z6jYaXpNtDPf3wkdTcSFI4o48bmJAJPLKAB69RiuNsfFtzoNvqx1CG3TULzX3tkSSdjDGRAjFtwXO3CkgbckkDjk0c7vv/AFdL9Q5Va/8AXV/oei/Y7X/n2h/79ij7Ha/8+0P/AH7FcbaeO9Q1H+z7bT9Mt5bu7uZ7ZnadlhXykD+YpKbmUgjjGc8e9V9Q8V+IZpdOt7K2s7e7h1r+z76Nrhikh8oyLtbYTtZSCeAQRjnrT5ndL0/G3+aDlVr/ANaX/wAjuvsdr/z7Q/8AfsUfY7X/AJ9of+/YrgNP1/VtGbW7s2UE+mx680MzPcMJQHdEyi7cYUsOCRnnp367UNZvrO8aG38P3t7GoGJop7dVbj0eRW/SkpNpPv8A5XDlV2jR+x2v/PtD/wB+xR9jtf8An2h/79iuU8cjUG0Ww1GDULzTljurTzLOIoN5eeNSHcZJABIwpwfcUmrW8mveKdXspr28totN06KS3FrcvDtlkMh8w7SNxGxQAcjrxzSc2ld/1ZXGoJs6z7Ha/wDPtD/37FH2O1/59of+/Yqj4Xv5tV8JaTf3X+vurOKWTAxlmQE/rWZrXiPVrXXbvTdH061uDaaet88lxcNGGBZxsACnk7OvSqlJwdmyYx5ldI6H7Ha/8+0P/fsUfY7X/n2h/wC/YrkrLxfe34gXUtMigtdU0qW/tPKuWMgRQuUfgYYiRTlScc/Wqlj4u1RtNEOh6RbtDZaNbX7far1ySrox8sHaSWwn3ifrScmr3f8AWv8AkxqKdrf1t/mdx9jtf+faH/v2KPsdr/z7Q/8AfsU3Tr1NS0u1volKx3UKTKG6gMoI/nXM6R4wudTTUp5V0u1SySTfaz3bRzwMpIXzgVwikDO7kDtupuTi7MSSaujqPsdr/wA+0P8A37FH2O1/59of+/YriIviLcHT9WkW0s72ewe0CG0uG8qYXEhQYZkBBBB5wQeKkvvGXiHT21hJ9HsGbRYFvLl0vH2yQsCQEymd+EfrxwPXhc/mPk8js/sdr/z7Q/8AfsUfY7X/AJ9of+/YrmbjxPrM+rapaaJpdrNHpsMU7SXNyyebvQtsUBTg8dTx0/DHHjSCzvNX8QIjPDc6fpbW8Mj7RumaYKGODgcjJAPA70ObQ1BPb+v6ud99jtf+faH/AL9ij7Ha/wDPtD/37FcUvxEnGk3szWdtLLaXEMTXMUkn2VUkz+8Zim4BcENwe3IB46/SLqa90mC5uJLSV5BuEllKZImGeCrEc8U+ZsnlRN9jtf8An2h/79ij7Ha/8+0P/fsVwj+Kv+Edn1sHy3nu9fa3g+0SMscf+ixOSxAJwADwBySOnWr8XjmS48NG+/4ltrOl41ozXVy6QyEDO6M7Nz5GPlwD1545lTur37fjb/Mpws7f1/Wh1n2O1/59of8Av2KPsdr/AM+0P/fsV5zdaxfeMLjwhJ9gsns7q5ufPtpp32NJD5iE42cgbSy5Gc4yBjNdjJr2opdtCvhq/dFfaJhcWoVhn72DLnHfpn2qlJicUjV+x2v/AD7Q/wDfsUfY7X/n2h/79iuS8YQxjUIF0u9vj4huJYjawQ3cmyKNXG92jB2CPG7JYck4HOBWXqk91Jp+v+JFvbtLvS9T8m1jS4dYlijZFKGMHa2/LZJBPzD0FJSb/r0/zDlX9f15HoP2O1/59of+/Yo+x2v/AD7Q/wDfsVPRTuxWRB9jtf8An2h/79ij7Ha/8+0P/fsVPRRdhZEH2O1/59of+/Yo+x2v/PtD/wB+xU9FF2FkQfY7X/n2h/79ij7Ha/8APtD/AN+xU9FF2FkQfY7X/n2h/wC/Yo+x2v8Az7Q/9+xU9FF2FkQfY7X/AJ9of+/Yo+x2v/PtD/37FT0UXYWRB9jtf+faH/v2KPsdr/z7Q/8AfsVPRRdhZEH2O1/59of+/Yo+x2v/AD7Q/wDfsVPRRdhZEH2O1/59of8Av2KPsdr/AM+0P/fsVPRRdhZHnHx0toI/gvrrRwRqw+z4KoAR/pEdd78OP+SWeFP+wLZ/+iErh/jv/wAkU17/ALd//SiKu4+HH/JLPCn/AGBbP/0QlY1NWbQ2OkooorMsKKKKAPEv2VP+SWal/wBhqX/0RBXtteJfsqf8ks1L/sNS/wDoiCvbaACiiigAooooAK5v4j/8ks8V/wDYFvP/AEQ9dJXN/Ef/AJJZ4r/7At5/6IegDh/gR/yRTQf+3j/0olr0KvPfgR/yRTQf+3j/ANKJa9CroWxg9wooopiCiiigAqjrGkwa3pxsrp5EjMscuYyAco6uOoPGVGfar1FAGLfeF7LUG1kzS3C/2xaLaXGxlG1ArgFeOD85657cVnaj4BtdRa+Q6rqFvaagIzdW0JjAkZFVVbcULDhVyAcHH1z1dFFkO5zjeEba21E6zaSXEuqrNJP5ryqpnDLjyGO04jwFAAGRtB65yXFjqXiSzlsNe06LToflliuLO/8AMkjlRgyMoMYAIIzk56Ywc10dFK3QLnKyeA7W8mvLjVtU1C/ubu2S2aV2jTywj70ZAiAKwbnP55qt4i8M6ndaBHaf2tf6lM+oWkhlYRRtAiSqWZdiKMgZPOen4V2dFFtv663C/wDXysc1J4Kt7qx1SLU9QvL251OFYJbuTy1dEXJRUCqFGCSehyTzV+10COHUJL+e7uLm7ms0s5ZHCKGVWZg2FUAHLn26cVrUUWTC/wDX9ehhw+DtBXSbCwvdMtdRj0+3W3gkvreOVwqgDqV9u2K0INJsbPTXsLC0hsrVlYeVbRrGo3dSABjNXKKb1vfqJOxztz4Ot59L0ayg1G+tBo237NJF5TMSqbAWDxspOCecDB5FW7XTNRt9RtWm1e4vLaGKTf54jV5XYrtyI0VcKA2OM5ateijrcOlijd6TBeatYajK8gmsPM8pVI2neu0549PTFUU8J2KW9vCJbjbBqT6mpLLkys7OQePu5c8denNblFHW4dLGFYeE7HTtRt7yCW4aSB7p1DspBNxIJHzgdiOPbrmoorPUvD0Rs9A02K/tnlluGkur7ymDySM7KAIzwC3H+TXRUUrdhnO3HhdtXvra81m+uXSFxPHYAxmOGQoVIEgQOR8x6nn9KqWnw+tYFt1uNW1G6jtLOWxto5DEqxQyKFI+VBlgFHzHPSutoostgu73Mm38PWlteaZcpJMX0y0ezhBYYZG2ZLccn92vTHU8Vzh8GXFn4i0eLSL6+s7Sw064iF4hjZtzyxsFYMpU5G7+HsK7mim9Xf8ArW/+YlorI5+08GaZafZDunmNtFcRt5rA+eZyGlZ+OWJGeMDk8dMGneGbnTLM2kHiLU2t44PItkdYSbccYIPl5YgDA3Z465610FFFgOZt9I1Hw9JcXGlQrrN3qEgkvJ7u5W2OVUKuFSIr0Hpn3PaWXw1Dra3dzrkDQXF/ZrZzwQ3G9EVXZlZW2g7stnPsOOK6GilYdznJ/Cct7pj2mo6/qN23mRSwTOsKtA8bblYBYwCcgZ3A5x2pkXgi0CXRutQvrua8vLe9mmlZATJCVKgBUAC/IARj8q6ain/X9fcIy73wxoGp3TXWo6Hpt3cMAGlntI5HOOBkkZp+p6HZ6poTaQ6m3tCqKq24CbFQgqFGMAfKBjHStGigDE1Xw39v1T+0bLVLzS7toPs0slqIz5sYJIBDqwBBJwRg8mn6Boj6Gs1tHMTYxrFFZwbi3lxogBJz/EWLEn6VsUULQNwooooAKKKKACiiigArxv8AZk/5JnqH/YXk/wDRMNeyV43+zJ/yTPUP+wvJ/wCiYal7opbM9koooqiQooooAKKKKACiiigAooooAw5PCdjJY3dq0tx5d1qC6g5DLkSLIjgDj7uUHHXGeai1LwdaahdXV0t3dW11cXEFyssZQ+VJCu1SoZSCMZyDn8K6GilbS39f1oO5zMXgexETx3t7e36T332+5S4ZCtxL5aoA4CD5RsVgowMj0wKdbW2seH7WLTNG06PULG3XbDNeajskVeyYER4XoMknAGa6Sii1tgbvucnfeAoNQtr60fVdRtdP1GQz3FjA8ewSMQWKsULAFhkjOCe2CRV6PwwbbVprvT9XvrOC5nFxcWcYiMcjgAE5ZCy7toyARn2ya3qKdkthbnDWHgy4vZtbTVL2+t7C91SSZ7FDH5dzH8uCTtLKDjBAIzj651r/AMG2t/dao73t3HBqix/aLePZt3x7drglSQcKBjOPaujopJWSXYd7tszn0O0l1qfUpg0rz2gs5IXAMbRhmbkY5zuIPOMdqjs/C3h/TrpbnT9C020uEBCywWcaOuRg4IGRwSK1aKdkI5WHwStktuLXUrueHTt8mm2VwU8m3kKsFyVTewXcQMk4B74FdDYW0trpdvbXM73MscSpJM5+aRgMFj9TzVmii2lg63MOz8KWNjb6JDFLcFdE3fZyzLl8oU+fjnhj0xzUaeDtPjaAia5/cXVzdrll5effvB+XoPMOPwzmugopNJ7juzCTw1b2Nno/2MzTSaHA0dmkkoUS/uvLw5C+ncDr27UL/wAJBqcbwXcKaLwGS6s7tbh8g/d2vFjBGa3aKb1d2LZWOTh8A29pJDPYatf2t2pn824jEW6YTMHfKlCq8qMbQMVb0jwXp2iw+XazXTj+z10/MrqT5as7A/d+9lzz9OK6GilZWt/X9aju73OYv/CVvHosKWTXEs+naTPp9qjMv7xXRR83Ay37temByeKi8N+EXs7XSJ9V1C9upbC0VLe2uDHttmZArYKqCxAyoLE4GfXNdZRT736/8H/MXRLt/wAD/I5eHwRDYR2P9jarf6fNaWgs/Oj8p2miByA4dCuQSSCAOpqxqPhZtSlgN5qt5cW1u8Uy2jiIK8sRBVi4TeMkAnB9e3FdBRQM5y5ttW8RWF1pOuaVBZWN3C0Uk1tqHmSKCOwMQFTXPhkvrNxqGnavfaa13s+1R24iZZiowG+dGKtjAyMcAdxmt2ii2twvpY5iXwPby6g839qX6Wr6hHqRs0MYj89WVsk7NxUlB8ucfpjRh8NaYlvqFvcwLewahdNdTQ3aLIm8heACMYG0EZzWtRSSS/r0/wAkDbZkR+FdFtbW6i0vTbXS3uoWheext0hkCkdmA7dRnvVSx8IR2mkvpVxq19faY1qbX7HPHbqgQjHBjiRs49+9dFRRZBdnLjwlc28MklvrN3c37xx2sd3dFA0FuHBcLsQfMRnk8kgc8V1FFFMQUUUUAFFFFABRRRQAUUUUAFc98QP+SZ+J/wDsEXf/AKJauhrnviB/yTPxP/2CLv8A9EtQ9hrc574Ef8kU0H/t4/8ASiWvQq89+BH/ACRTQf8At4/9KJa9CpLYHuFFFFMQUUUUAFFFFABRRRQAUUUUAFFFFABRRRQAUUUUAUb7SYNQ1DTryZ5Fk0+ZpoghADFkZDu46YY9Mc1R/wCETsTbtD5txtbUxqZO5c+aHD46fdyOnXHetyijrf8Ar+tEO/8AX9epy1j4FgsbqykTV9RaHTpZZbK3Ji2QmRXVv4MtjzDjcTjjrzl1t4XXw0y3nhyGS6u2hENxHcXQjW6+Yt5sjbGJkyW5AGdx9sdPRStbYG29znJtIv8AXXtr2/DaJqNi7C3msbhZ8owAZW3xgEHA4x2BzUKeBLSG1ZYdS1Bbw351BL5nRpUmKbGIGzbtK5BUjHJxjjHU0U7ILnG6t4a1O41nw8Y9Vv5GtJLmSXUMRB4yyYUbdm0qemNp/PmrreCrY6bHCmoXiXiX39oG/wDkMrz4wWIK7MbTtxtwBjFdLRR1v/X9aBcwpPCVjLpd9YvNc+XfXovZW3LuDh1bA+XGMoO3rzVm98MaBqd011qOh6bd3DABpZ7SORzjgZJGa1KKLCM7UdDs9S0iPTWU29tFJC8aW4C7PKdXVQMYAygGMdPSqeseFo9Vv3u4dRvNPlnt/stz9lKfv4skhTuU4I3NhlwRuP4btFKyY7tGbpWnTafcXSmUCzxFFZ26E7YY0QD8yc/gFol0O2l1a71BnlE11ZrZuoI2hAWII46/Of04rSoptX3EtNjCj8JWMUenKstxjTtPk0+LLL80bhAS3H3v3Y5GB14pNP8ACNhp0M8UE1yyz6fDp7b2U4jiVlUjC/ew5yenTgVvUUNXvfr/AMH/ADYLS1un9foc/ANa0mK303TdItrixtY0ginm1ArIyKoGSoixnj1qre+A4NVknk1fVb69lkt2topGWJGhRnV+NiDccov3sjjpyc9VRQ9XdhtscwPBFvN9tfUdUv724vjamaWQxrj7PIZECqqAAZJzxz9eau33hey1BtZM0twv9sWi2lxsZRtQK4BXjg/Oeue3FbVFKytYd3e5xI8JXt14o12Qajf6dZXUNvADbmM/aEWMq33lJUjpkYPP0xqT+CNKlguYo2uLdZobaGPyXA+z/ZyxiZMjhgW75BwOOueioosCdtjGXRdRWweE+JNQa4aQOLkxQZUAY2hfL24PfjOe9UbKx1Xw1ajTdD0qC+tVZpTcXN/5Tu7sXclFiKj5mPAwPYV09FMRztx4PtrkSzR3V1aXsl9/aCXETIWgm8pYyFyuCpVcEMDnJ9sLc+FpbpbGWTXNQF/YySPHe7Id5DjDKV8vZjHT5cjHXrnoaKVlsO7erMDTvB9jpq6WIri7lOmTXE0TTOrF2nLF95288ucYx261PJ4R8Ny3TXMvh7SnnZ97StZRli2c5J25znvWxRTsgu2c+3hR11y91Sy17U7OW+ZGmjiS2ZflUKAC8LMBgdM9ST3ptz4NtrnUp5jfXaWl1cJdXNgpTyppU24YkruGdikgEA4+ueiooSsFyjpVtd21pINRuPPnknkkyDlUVnJVB7BcD8KvUUUCCiiigAooooAKKKKACiiigAooooAKKKKACiiigAooooA89+O//JFNe/7d/wD0oiruPhx/ySzwp/2BbP8A9EJXD/Hf/kimvf8Abv8A+lEVdx8OP+SWeFP+wLZ/+iErGe5rDY6SiiioLCiiigDxL9lT/klmpf8AYal/9EQV7bXiX7Kn/JLNS/7DUv8A6Igr22gAooooAKKKKACub+I//JLPFf8A2Bbz/wBEPXSVzfxH/wCSWeK/+wLef+iHoA4f4Ef8kU0H/t4/9KJa9Crz34Ef8kU0H/t4/wDSiWvQq6FsYPcKKKKYgooooAKwtf1u+0/VdK07S7OG4n1FpVDzzFEi2JuycAk/St2qN3pMF5q1hqMryCaw8zylUjad67Tnj09MUDRy+neNdWuJLGW/0m2t7S41F9LkKXRd1mUupcDaAU3IRyc9/aotP8S3YuLbTdC0yIy3l3qOXu7x2WMwzbSxJBOGLZ2jgdBxW+nhOxS3t4RLcbYNSfU1JZcmVnZyDx93Lnjr05pLDwnY6dqNveQS3DSQPdOodlIJuJBI+cDsRx7dc0lfr/Wi/W4O3T+t/wBLFjw1rD67ocd5Pbi3nEksM0SvvVXjdkbBwMjKnHHSs2DxPc3PjS40ZUsbZLZwDHczstxcJsDGSNduGUE46noc4qWKz1Lw9EbPQNNiv7Z5ZbhpLq+8pg8kjOygCM8Atx/k0XHhdtXvra81m+uXSFxPHYAxmOGQoVIEgQOR8x6nn9KNdw01Rjw/EN/7WntJE066X7HcXMT2F00oUwgEo7FACSD1XOCCMU+38WeJLq6022TRtPSXVrI3lszXjFYVULuWT5Mk/vFxt9T6c2rT4fWsC263GrajdR2lnLY20chiVYoZFCkfKgywCj5jnpWvb+HrS2vNMuUkmL6ZaPZwgsMMjbMluOT+7XpjqeKEn/Xz/wCADa/r5f8ABMCw8aaprc2n2+j6VbLNd6cb2R7q5YJCRJsKfKpLc9Dx6+1UpfFiTapo2uXkT20dvp+ptdQK+/a0LRq4B43cq2Dx+FWIvBVzZeJ7NNJ1C/sbS10toEu0MTszNNuKMGUg8HIO3jHXrnYj8E6SlvZwMJpIrW1uLYo7g+cs+DIznGSxIzkY6ml7zjdb6/ql+g/dUrdNPyVzDsPiNc3Ed0W02K6kSwe9iisJXkIK4/dPlB83zDBXOcNxxz0vhjV5tb0w3ks+mzozYR9PnaRRxyGyBhge38qjsPDt3YWj23/CR6nMgh8mAyLBugHZgfL+ZhjGWz9KrW+kaj4ekuLjSoV1m71CQSXk93crbHKqFXCpEV6D0z7ntXX+u/8AkT0E1PxPc23i6HRIEsbfzI0kWW/maP7TuYgpFhSGZQMkZzyOO9UH8a6qlne6q2k2w0qwv5LSYm5PnOqy+WZFXbjjrgnJwfbOle+HrnxHFEdbup7WEsjy6bA8ckW5H3KRIYw4zgZwR7Y75Wj+C7i4ivk1e9vorObVp7ptOzH5Uw84uhJ2lgpwpKhgD+Jyle+vn+a/S43a2nl+TIFvvs+pXwkia4eTxSsMI+0PGI2NrGQTt6jr8p45q/4U1zX5/DVze6pZLfzLfTxRpZzoGKrM64PmbFAXAA5yQM9a1X8KWL3LTmW43Nqa6mQGXHmiMRgdPu4Ucdc96Sy8J6fb2d5ZXYGpWFxcvcraXsMciQs7F2x8vI3MTznFKKajb+to/wCTKm03df1v/wAAltr651a1uoLzSL/Tl8sgMbiLe+R0UxSEqffj61ieDJiviHWLRV1CzgSOF4tP1KZ5JV+8GlVmZvkY4GAx5U5xmt2Pwzpdla3Eeh2lvo0s6bTcafbRRuMdD90g49CCKoHwvdxPJdR6vc3Oo3DQxy3k+xGSBJNzIiooAz83bPPXgVS3J6Gl4k1dtA8M6hqqQfaGs4GmEW7bvwM4z2qjpWu6lN4ifSdZsbe3ke0F5A1vOZBt3bWRsqPmBI5HBz7VqazpUGuaLd6ZdtIkN3EYnaIgMAfTIIz+FVL7TZINSXWdNg+1X8dr9kSCWfyoyhcMSTtY5+Wls/L/AIf9bB08/wDhv+CVfFnipfDgsYUEBub6Rkja4dljjCruZmKgk9gAByT261iD4h3E9tYeXbWVm91JNE11fTulrvjYKFR9nJfOVzjgHqa2p9Kv9fWCfU4/7FvrGXzLS4sboTsMqVYEPGBgg4IIPrwRTtQ8L3Gp6SNPuvEGoPDJG8V1mO3JuFY85zHhcDgbcce/NLUehiyazrR1fxbBqcVtLptjYLIsUNy6uMxucKQgI3Y5OcjjFNk8aalaWF/Jp2kQSWejWFvdTGa8bzHRot5VflOWAB5Y88evG4/g+1N1evFd3UMF/YrZXFupQqyqrKrAlSwYBj3weMil/wCEN0/+z9Us/OufL1S0S0mO5cqiRmMFfl4OD3zz2oaetv63/wCACtdX/rb/AIJVtPFOoLeXttq9nZWkkenrqEDfayIwhJG2RyvykEDLAEYPtXPaj481a78MeIDpf9ni802OCRbq2mdomSUsPl3JywKEdMEHOe1dZqvg6w1dp2uJrlGmsVsiY2UbVV94YZH3g2OvHtVdvBEFxa6umo6pf3s2rW8cE88hjUoIy5QoqoApBc9jnA98t36f1q/0sEbdf62/4I19e16fULiw0zTbCS50+GN7wy3TqhdwSI4yEyeBncQMZHB7VrHxrfa1qVnDoulxtby6dDqE0k8xVkV2ZTGqhTuf5eOQOvNX5vCcj3LXVvruoWt1PAsN5NCsObkLnDEFCFYAkZUDj6CreneGLDSroT6eZYdtjHYIgYFUjQsVIyM7vnPJJo1/r5/8AWlv68v+CZvhvxVea5pdxf8A2azlMaA/YbS4zcQv3jlEgUKw9yO/1rU07V729uvKudCvLFNpPnTTW7Ln0wkjH9Kq2XhG2jvLu71a5l1me6gW2kN5DFtaJSSFKoihuT1IP4VdsPDehaVc/aNL0XT7KfaV823tUjbB6jKgHFMRzNjPqGi674ta61O61NrXT4bqPz9oVGxMdqqoAUfKB6nHJNM0WO40vVvC8ov7y5bWbST7cJ7h5FkkEYkEgViQmDkYUAYYDsK6tNFtV1a/1Bt7yX8McE0bkFNqbsYGM87znn0qho3hKDSLq3ma/vL1bKE29lHclMW0ZxkDaoLHCqMsScD65UVZ/wBef56Dbv8A16flqdBRRRTEFFFFABRRRQAV43+zJ/yTPUP+wvJ/6Jhr2SvG/wBmT/kmeof9heT/ANEw1L3RS2Z7JRRRVEhRRRQAUUUUAFFFFABRRRQAUUUUAFFFFABRRRQBh+IdbvNLu9KtNNs4rmfUrhoFM0pjWPEbPuOASfu9KxLPxprDyRSX2k2sVsmqDSrho7pmbzS+wSINoBTJXgkHk+nPU32kwahqGnXkzyLJp8zTRBCAGLIyHdx0wx6Y5qj/AMIpY/Z2i8242tqY1QncufNDh8dPu5HTrjvSV+bXb/gr9Ljdrf15/wDAMKy8S3MX2Ox0TTI2lv8AUb+HN1eOVjMUjZckgnBwTtHTIA4rovDWsy61pck13bpb3NvcS2s8cb713xuVJUkAkHGRkd6hs/CdjZXlpcxS3Be1ubm5QMy4LTsS4PHQbjj9c0xbPUdBM0Wg6dFfxXVxLdSvdXvlFZHYsQAIzkelC037fjp/wQeu3f8ADX/gEDeJ7l/G0mhxpY2yxFCBdzMk10hUMzQrtwwXOOvUHOO+Y/xDeDW5LNk066jMVy8ZsrppCjQoX2udgXJAPQnBGOetbFx4bl1m7tLzWb24VIZo7ldOQxNFFKo4xJ5YcjPPUZ+nFUrf4d2kSWsU2ralPb2MM0FpAzRBYY5EKEcICxAPBYk8D3zL5uXTfUpct9dtCvb+LPEl1dabbJo2npLq1kby2ZrxisKqF3LJ8mSf3i42+p9OZLTxpqWrto0OkaXbifUrGW6drm4IS3MbqhXhSW5bjpW7b+HrS2vNMuUkmL6ZaPZwgsMMjbMluOT+7XpjqeK5w+DLiz8RaPFpF9fWdpYadcRC8Qxs255Y2CsGUqcjd/D2FW/i021/W36Er4dd9P0IJPE32zVtA1G9iNo1o+ox3kKPvVWhQhsHA3D5cjgdabY/Eye6iklGmR3W+xkvIILKV5JFKAERyZQDcQeq55BHPGeit/BmmQR2KFp5hZ/aCTKwJuGnBEjScck5J4x19OKNO8M3OmWZtIPEWptbxweRbI6wk244wQfLyxAGBuzx1z1qddf61/rYen9dv63J/DGrza3phvJZ9NnRmwj6fO0ijjkNkDDA9v5VR1PxPc23i6HRIEsbfzI0kWW/maP7TuYgpFhSGZQMkZzyOO9Lb6RqPh6S4uNKhXWbvUJBJeT3dytscqoVcKkRXoPTPuezr3w9c+I4ojrd1PawlkeXTYHjki3I+5SJDGHGcDOCPbHeuqJ6MzX8a6qlne6q2k2w0qwv5LSYm5PnOqy+WZFXbjjrgnJwfbNVb77PqV8JImuHk8UrDCPtDxiNjaxkE7eo6/KeOan0fwXcXEV8mr3t9FZzatPdNp2Y/KmHnF0JO0sFOFJUMAfxOd1/Cli9y05luNzamupkBlx5ojEYHT7uFHHXPepin7rfl+cW/wAmW2veXr+tv0MvwlrevXPhm7vdVs0vp472eKKO0mXewWd0x84RQFAAHPIHrxWzZahd6qs8F3o99pqGM4le4hJOeMKY5GIPfPFRWPhWxtbO9sbo/wBoafdXD3AtLyKOSOJncuwHy8jcSfmzipofDOkWENwNFsLXSJp4zGbmwto4pFHqDtwcHnkEe1PW2v8AWhPXTv8AqYHhKXyvFupWca6lY24tYnjsdTneWR23MGmRmZxt5UHDdRyBxntaxtL8Pmy1J9SvtRutTvmh8hZrhY18uPOSqqiqOTgknJ4FbNPohPdhRRRQAUUUUAFFFFABRRRQAUUUUAFFFFABRRRQAVz3xA/5Jn4n/wCwRd/+iWroa574gf8AJM/E/wD2CLv/ANEtQ9hrc574Ef8AJFNB/wC3j/0olr0KvPfgR/yRTQf+3j/0olr0Kktge4UUUUxBRRRQAUUUUAFFFFABRRRQAUUUUAFFFFABRRRQBy+teI9Wtddu9N0fTrW4Npp63zyXFw0YYFnGwAKeTs69KzD4yvLvTWbU9KjitNS0afUbVYbtvM2Iqko5AG1iJFOVPHP1rqZdDtpdWu9QZ5RNdWa2bqCNoQFiCOOvzn9OKoSeDNPks7K2aa62WWmy6bGQ65MUiopJ+X72Ixg9OvFQ1Lla/rr/AMAtNcy7f8N/wTEPjHVIbO+OlaRbva6PYQXUpuLxt8iNFvKL8pywAPLHnj147e2nW6tYriPOyVA659CM1jR+EbCOz1O3Wa52alaJaTEsuVRIzGCvy8HB755p3m65YyR2djo9rPZwqsaTy6gUdlAAyVER5/GtG/ef4fj/AMAzXwr+u3/BMzSPGFzqaalPKul2qWSSb7We7aOeBlJC+cCuEUgZ3cgdt1Z0PxGungvUjs7K9ube4s4o2tblxDKLiQoPmZAflKnkAg8fSta98BwarJPJq+q317LJbtbRSMsSNCjOr8bEG45RfvZHHTk5engi3e4mutQ1TUL26nltZZJZDGvNu7PGAqoABljn19jzUK+nyv8Afr+Bfu6/gZd14116w/tc3Wj2JXRGja8eO7bEsbgMPLBT7wUnO7AyBjrxdvvFOsrf67HpmlWs0GiFTK810UacGJZCqAKcHBPJOOnqcaV94UsdQi1pJpbhRrSIlxsZRsCrtGzjjj1zWL/wiN5qPiLxK9zqF/YWOoTRK0cBj23MQgRW5Kll5DLlSDj8CD3tl2/Ea5epUn8XQaXqmt62qmWKax0w28Uj7QWlaYLk4O0cgk4PA6Gnf8LGnXT7hntbRnguYoXvVlk+yIkisfMdim5QCpUjGMleQDxv3ng3TbwXfzzwG5ito1MLAfZzbszRMnHBBbvkcDjrmUaHqP2Foj4l1Bp2kD+eYbfO3GNm3y9uOc9M5744o1u7d/wFdWX9dDR0yeW60yCe4a2eSRdxa0kLxMOxViBkYrmYvGV1NqGsR+TYxLpazFrSWdlunVAdsmzbjY2OCCRg9c8Vbs7PVPDVlDpWg6Tb3llACVmuNQ8p2ZiWYlREQOSemB6AVBrHhOa+W5v7m/ur25itrgWds6xBYWljKlQyorMOcDcfrk80pt2bj2Y4JXSfkN07xVqk02jtq2mW1ta63ETbmG4MkkT+WZArgqByobkHgjHPWuWstZu7HwVYPp0edSj8LzXMdzLcuFUKy5+TBUtzkEjtjoTXV+G/CL2drpE+q6he3UthaKlvbXBj22zMgVsFVBYgZUFicDPrmrEHgbS4LOG1826eKHTJNLAZ1+aJyCScKPm+Xr09qqpF3fL5/k/80TBqyb8vzX6Elrq+rQeHtOnudJe/up4g0osp4wq8Agkysmc57Dg5qrr8msaz4WxZaZqFpcfbIfMt4ryOKZ4VdWfbIkuBlcj7wPWtGPwvp0uk2ljrcEOt/ZF2xy6hbROwHTptAHAA4HOKkOgW9rphs/D7LoSmTzN1hbxKCehypUqcgDtngc05ayb8xR0STIPCt3Z3Gn3ENnHqEElrcGK4t9RuHnmikwDgszvkEFSMMRg8UviTW7rRxpsdhZx3c+oXgtVWWUxqmUdtxIB4Gz0qKx8OTaZeQPbahNKr3El1qE0zDzLqQoEUEKoUKBjgAY2L71pajpMGp3FhLO8itYXIuYghABbYy4OR0w56Y7Ua6fL/AIId/n/wCp4d1m51VdQg1G3igvNPujbTCGQvG/yK4ZSQDyrjg9DmsrxR42Oiayul2iWhuBbfapGvJXRdpYqqLtViWJVuTwMd81pSWN5o1xe3OhWaX0uo3P2i4W5u/JEZEaINuEbIwg4PvzUEmhXmp3UWrPczaFqnlG3l+xSxzrJFuyAfMjwSCSQcAjJ61OrS/H7v8ytFf+uv+Rn2fji41TWLK0tba0sVubaG4RNSmaOWcOMssQC4Yp0POc9gOazrXXNVm8OahceI4IbhItdS1hFtdujL/pSoBlVX5VyMf3sc10t/4W/tO4tvt2r3s1pbyQzC1ZYsNJGQVYvs3jJAJwR+AOKj/wCENtTDe27312bW6v0vxD8gEUqyCU7TtzhmUZBJ9sVS+K/9br9Li6fd+TMmbxvrSxvdQaLayWg1V9LQG7KyO/mGNX+5gLuxkcnqRnHNxfFt5Fpmq/2hHptnfabdrau092yW7bkR1YNt3Z2uPlxkkYzWj/widj9hFr5txsGpf2lncufN83zcdPu7uMdcd+9Q33g21u7qe7hvbu1u5b5L9Zo9jeVKsQiGFZSCCg5Bzyc8cVKvbX+tv+CN2vp/W/8AwDmo/Guu6xc6J/ZUNkgfVZrG6BmcJMUhdwQTHkKRhuxyMdOa1rzxjqUVpqOr22m28mjaZO8M7PcETyCNtsjou3bhSGwCcnaenFWI/AtvBDH5Gq6gLuPUW1EXbmNnMrJsYYKbdpUnjHGeMcU+48E29xJdxDUr2LTb2Yz3OnIY/KlckFuSu9VYjJAYZ56ZNNX/AK76fhuJ2v8A15/jsU7jxjqqya9Pa6NFPY6M5iLCdjLO3lo42qEOFG/k8nA4BrR07X7y60AajHb2url5NsY0i6RlK46lpSgBByCM5/pbj0FLWPU/sF7c2s2o3H2h5k2MYn2qvyhlIxhBwQepqtZeDtLhs7qHU4k1c3lz9quGvoI2DybQoYIFCjhQOBnrnOaFf8F9/UNCxb3eoaxY3URs7vQ5toWKeVoJSCc/MoV3HGP4vXvXI219qFj8NdQVdRuprr+15bFbyZ90qq155W7PQEKeMAAY4FdvpuiaVowkGkaZZ2Alx5n2W3WLfjOM7QM4yfzqkfCtg2g3ukO07W97PLcOxcB0eSQyZUgcYY5HpgdaOv8AXdf8EOi9f0ZQ0OFtI8a6ho1vcXMtkbGC7jS5uHmMTl3RsM5JwdqnGeoPrXVVk6PoQ0u5ubu4vrjUL25VEkubgIG2JnaoCKoAG5j05JNa1PoLqFFFFABRRRQAUUUUAFFFFABRRRQAUUUUAFFFFABRRRQB578d/wDkimvf9u//AKURV3Hw4/5JZ4U/7Atn/wCiErh/jv8A8kU17/t3/wDSiKu4+HH/ACSzwp/2BbP/ANEJWM9zWGx0lFFFQWFFFFAHgmlfs5eI9BtWtdD+Kuqabbu5kaKztpIUZiACxC3AGcADPsKvf8KN8b/9Fo8Qf98z/wDyRXttFAHiX/CjfG//AEWjxB/3zP8A/JFH/CjfG/8A0WjxB/3zP/8AJFe20UAeJf8ACjfG/wD0WjxB/wB8z/8AyRR/wo3xv/0WjxB/3zP/APJFe20UAeJf8KN8b/8ARaPEH/fM/wD8kVFc/ATxjeWstrefGLXJ7eZDHLFLHMySKRgqwNxggg4INe5UUAeDWH7O3ibSrGOz0z4satZ2sedkFvbyRomSScKLgAZJJ+pqz/wofxl/0WTXf+/c3/yRXuFFO7A8P/4UP4y/6LJrv/fub/5Io/4UP4y/6LJrv/fub/5Ir3Cii7Cx4f8A8KH8Zf8ARZNd/wC/c3/yRR/wofxl/wBFk13/AL9zf/JFe4UUXYWPD/8AhQ/jL/osmu/9+5v/AJIo/wCFD+Mv+iya7/37m/8AkivcKKLsLHh//Ch/GX/RZNd/79zf/JFH/Ch/GX/RZNd/79zf/JFe4UUXYWPD/wDhQ/jL/osmu/8Afub/AOSKP+FD+Mv+iya7/wB+5v8A5Ir3Cii7Cx4f/wAKH8Zf9Fk13/v3N/8AJFH/AAofxl/0WTXf+/c3/wAkV7hRRdhY8P8A+FD+Mv8Aosmu/wDfub/5Io/4UP4y/wCiya7/AN+5v/kivcKKLsLHh/8Awofxl/0WTXf+/c3/AMkUf8KH8Zf9Fk13/v3N/wDJFe4UUXYWPD/+FD+Mv+iya7/37m/+SKP+FD+Mv+iya7/37m/+SK9woouwseH/APCh/GX/AEWTXf8Av3N/8kUf8KH8Zf8ARZNd/wC/c3/yRXuFFF2Fjw//AIUP4y/6LJrv/fub/wCSKP8AhQ/jL/osmu/9+5v/AJIr3Cii7Cx4f/wofxl/0WTXf+/c3/yRR/wofxl/0WTXf+/c3/yRXuFFF2Fjw/8A4UP4y/6LJrv/AH7m/wDkij/hQ/jL/osmu/8Afub/AOSK9woouwseH/8ACh/GX/RZNd/79zf/ACRR/wAKH8Zf9Fk13/v3N/8AJFe4UUXYWPD/APhQ/jL/AKLJrv8A37m/+SKP+FD+Mv8Aosmu/wDfub/5Ir3Cii7Cx4f/AMKH8Zf9Fk13/v3N/wDJFH/Ch/GX/RZNd/79zf8AyRXuFFF2Fjw//hQ/jL/osmu/9+5v/kij/hQ/jL/osmu/9+5v/kivcKKLsLHh/wDwofxl/wBFk13/AL9zf/JFH/Ch/GX/AEWTXf8Av3N/8kV7hRRdhY8P/wCFD+Mv+iya7/37m/8Akij/AIUP4y/6LJrv/fub/wCSK9woouwseH/8KH8Zf9Fk13/v3N/8kUf8KH8Zf9Fk13/v3N/8kV7hRRdhY8P/AOFD+Mv+iya7/wB+5v8A5Io/4UP4y/6LJrv/AH7m/wDkivcKKLsLHh//AAofxl/0WTXf+/c3/wAkVS0z9m7xBolq1to3xS1LT4GcyNFaWskSliANxCzgZwAM+wr32ilcDw//AIUP4y/6LJrv/fub/wCSKP8AhQ/jL/osmu/9+5v/AJIr3CindhY8P/4UP4y/6LJrv/fub/5Io/4UP4y/6LJrv/fub/5Ir3Cii7Cx4f8A8KH8Zf8ARZNd/wC/c3/yRR/wofxl/wBFk13/AL9zf/JFe4UUXYWPD/8AhQ/jL/osmu/9+5v/AJIo/wCFD+Mv+iya7/37m/8AkivcKKLsLHh//Ch/GX/RZNd/79zf/JFH/Ch/GX/RZNd/79zf/JFe4UUXYWPD/wDhQ/jL/osmu/8Afub/AOSKP+FD+Mv+iya7/wB+5v8A5Ir3Cii7Cx4f/wAKH8Zf9Fk13/v3N/8AJFH/AAofxl/0WTXf+/c3/wAkV7hRRdhY8P8A+FD+Mv8Aosmu/wDfub/5Io/4UP4y/wCiya7/AN+5v/kivcKKLsLHh/8Awofxl/0WTXf+/c3/AMkUf8KH8Zf9Fk13/v3N/wDJFe4UUXYWPD/+FD+Mv+iya7/37m/+SKP+FD+Mv+iya7/37m/+SK9woouwseH/APCh/GX/AEWTXf8Av3N/8kUf8KH8Zf8ARZNd/wC/c3/yRXuFFF2Fjw//AIUP4y/6LJrv/fub/wCSKP8AhQ/jL/osmu/9+5v/AJIr3Cii7Cx4f/wofxl/0WTXf+/c3/yRR/wofxl/0WTXf+/c3/yRXuFFF2Fjw/8A4UP4y/6LJrv/AH7m/wDkij/hQ/jL/osmu/8Afub/AOSK9woouwseH/8ACh/GX/RZNd/79zf/ACRR/wAKH8Zf9Fk13/v3N/8AJFe4UUXYWPD/APhQ/jL/AKLJrv8A37m/+SKP+FD+Mv8Aosmu/wDfub/5Ir3Cii7Cx4f/AMKH8Zf9Fk13/v3N/wDJFH/Ch/GX/RZNd/79zf8AyRXuFFF2Fjw//hQ/jL/osmu/9+5v/kij/hQ/jL/osmu/9+5v/kivcKKLsLHh/wDwofxl/wBFk13/AL9zf/JFH/Ch/GX/AEWTXf8Av3N/8kV7hRRdhY8P/wCFD+Mv+iya7/37m/8Akij/AIUP4y/6LJrv/fub/wCSK9woouwseH/8KH8Zf9Fk13/v3N/8kUf8KH8Zf9Fk13/v3N/8kV7hRRdhY8P/AOFD+Mv+iya7/wB+5v8A5Io/4UP4y/6LJrv/AH7m/wDkivcKKLsLHh//AAofxl/0WTXf+/c3/wAkUf8ACh/GX/RZNd/79zf/ACRXuFFF2Fjw/wD4UP4y/wCiya7/AN+5v/kij/hQ/jL/AKLJrv8A37m/+SK9woouwseH/wDCh/GX/RZNd/79zf8AyRUVx+z94su7WW2u/i9rM8EyGOWKSGVldSMFSDcYII4xXutFF2Fjwaw/Z28TaVYx2emfFjVrO1jzsgt7eSNEySThRcADJJP1NWf+FD+Mv+iya7/37m/+SK9woouwPD/+FD+Mv+iya7/37m/+SKP+FD+Mv+iya7/37m/+SK9woouwseH/APCh/GX/AEWTXf8Av3N/8kUf8KH8Zf8ARZNd/wC/c3/yRXuFFF2Fjw//AIUP4y/6LJrv/fub/wCSKP8AhQ/jL/osmu/9+5v/AJIr3Cii7Cx4f/wofxl/0WTXf+/c3/yRR/wofxl/0WTXf+/c3/yRXuFFF2Fjw/8A4UP4y/6LJrv/AH7m/wDkij/hQ/jL/osmu/8Afub/AOSK9woouwseH/8ACh/GX/RZNd/79zf/ACRR/wAKH8Zf9Fk13/v3N/8AJFe4UUXYWPD/APhQ/jL/AKLJrv8A37m/+SKP+FD+Mv8Aosmu/wDfub/5Ir3Cii7Cx4f/AMKH8Zf9Fk13/v3N/wDJFH/Ch/GX/RZNd/79zf8AyRXuFFF2Fjw//hQ/jL/osmu/9+5v/kij/hQ/jL/osmu/9+5v/kivcKKLsLHh/wDwofxl/wBFk13/AL9zf/JFH/Ch/GX/AEWTXf8Av3N/8kV7hRRdhY8P/wCFD+Mv+iya7/37m/8Akij/AIUP4y/6LJrv/fub/wCSK9woouwseH/8KH8Zf9Fk13/v3N/8kUf8KH8Zf9Fk13/v3N/8kV7hRRdhY8P/AOFD+Mv+iya7/wB+5v8A5Io/4UP4y/6LJrv/AH7m/wDkivcKKLsLHh//AAofxl/0WTXf+/c3/wAkUf8ACh/GX/RZNd/79zf/ACRXuFFF2Fjw/wD4UP4y/wCiya7/AN+5v/kij/hQ/jL/AKLJrv8A37m/+SK9woouwseH/wDCh/GX/RZNd/79zf8AyRR/wofxl/0WTXf+/c3/AMkV7hRRdhY8P/4UP4y/6LJrv/fub/5Io/4UP4y/6LJrv/fub/5Ir3Cii7Cx4f8A8KH8Zf8ARZNd/wC/c3/yRR/wofxl/wBFk13/AL9zf/JFe4UUXYWPD/8AhQ/jL/osmu/9+5v/AJIo/wCFD+Mv+iya7/37m/8AkivcKKLsLHh//Ch/GX/RZNd/79zf/JFH/Ch/GX/RZNd/79zf/JFe4UUXYWPD/wDhQ/jL/osmu/8Afub/AOSKP+FD+Mv+iya7/wB+5v8A5Ir3Cii7Cx4f/wAKH8Zf9Fk13/v3N/8AJFH/AAofxl/0WTXf+/c3/wAkV7hRRdhY8P8A+FD+Mv8Aosmu/wDfub/5Io/4UP4y/wCiya7/AN+5v/kivcKKLsLHh/8Awofxl/0WTXf+/c3/AMkUf8KH8Zf9Fk13/v3N/wDJFe4UUXYWPD/+FD+Mv+iya7/37m/+SKP+FD+Mv+iya7/37m/+SK9woouwseH/APCh/GX/AEWTXf8Av3N/8kUf8KH8Zf8ARZNd/wC/c3/yRXuFFF2Fjw//AIUP4y/6LJrv/fub/wCSKP8AhQ/jL/osmu/9+5v/AJIr3Cii7Cx4f/wofxl/0WTXf+/c3/yRR/wofxl/0WTXf+/c3/yRXuFFF2Fjw/8A4UP4y/6LJrv/AH7m/wDkij/hQ/jL/osmu/8Afub/AOSK9woouwseH/8ACh/GX/RZNd/79zf/ACRR/wAKH8Zf9Fk13/v3N/8AJFe4UUXYWPD/APhQ/jL/AKLJrv8A37m/+SKP+FD+Mv8Aosmu/wDfub/5Ir3Cii7Cx4f/AMKH8Zf9Fk13/v3N/wDJFH/Ch/GX/RZNd/79zf8AyRXuFFF2Fjwa/wD2dvE2q2MlnqfxY1a8tZMb4Li3kkR8EEZU3BBwQD9RXs/hzSP+Ef8ACulaN5/2j+zrKG087Zs8zy0CbtuTjOM4ya0qKQBRRRQAUUUUAFFFFABRRRQAUUUUAFFFFABRRRQAUUUUAFFFFABRRRQAUUUUAFFFFABRRRQAUUUUAFFFFABRRRQAUUUUAFFFFABRRRQAUUUUAFFFFABRRRQAUUUUAFFFFABRRRQAUUUUAFFFFABRRRQAUUUUAFFFFABRRRQAUUUUAFFFFABRRRQAUUUUAFFFFABRRRQAUUUUAFFFFABRRRQAUUUUAFFFFABRRRQAUUUUAFFFFABRRRQAUUUUAFFFFABRRRQAUUUUAFFFFABRRRQAUUUUAFFFFABRRRQAUUUUAFFFFABRRRQAUUUUAFFFFABRRRQAUUUUAFFFFABRRRQAUUUUAFFFFABRRRQAUUUUAFFFFABRRRQAUUUUAFFFFABRRRQAUUUUAFFFFABRRRQAUUUUAFFFFABRRRQAUUUUAFFFFABRRRQAUUUUAFFFFABRRRQAUUUUAFFFFABRRRQAUUUUAf/Z)"
      ],
      "metadata": {
        "id": "2cJLvhJXN4oZ"
      }
    },
    {
      "cell_type": "markdown",
      "source": [
        "\n",
        "**1. Logistic Regression**\n",
        "\n",
        "\n",
        "세 모델들 중 feature selection의 세가지 실험에서 평균적으로 가장 좋은 성능을 보였다. Feature selection을 하지 않았을 때 가장 좋은 성능을 보였다. F1 score와 AUC가 세 모델 중 가장 높은 값을 기록하였다. 또한 모델 기반 특성 선택을 통해 feature selection을 진행한 후 최적화된 모델은 가장 높은 f1 score을 보였고, 반복적 특성 선택을 통해 feature selection을 진행한 후 최적화된 모델 역시 가장 높은 f1 score를 보였다. 비선형 모델들(MLP, RF)와 비교하여 성능 차이가 크게 나지 않는 것을 보아 이 데이터는 linear의 특성을 보인다고 추측해볼 수 있다. 따라서 세 모델 중 linear model이 미세하게 더 높은 성능을 가지는 것으로 보인다. 그리고 AUC 기준으로 보았을 때, feature를 감소시킬수록 성능이 낮아지는 모습을 보인다. 즉, 데이터의 19개의 feature가 target class인 churn 여부와 모두 대체적으로 관련성이 있기 때문에 feature를 제거할수록 모델의 성능이 낮아지는 것으로 추론해볼 수 있다. 그리고 모델 기반 특성 선택에 비해 반복적 특성 선택의 성능이 낮아진 것에서 두 모델의 parameter 중 solver가 multiclass에 적합한 sag에서 lbfgs로 변화한 차이가 있는데, 이 차이도 성능 감소에 기여한 것으로 보인다.\n",
        "\n",
        "\n",
        "<br>\n",
        "<br>\n",
        "\n",
        "**2. MLP**\n",
        "\n",
        "\n",
        "세 모델들의 성능 차이가 크지는 않았지만 세 모델들 중 평균적으로 가장 좋지 않은 성능을 보였다. Feature selection을 진행한 후에는 오히려 성능이 전체적으로 감소하는 모습을 보였다. GridSearchCV를 통한 최적화 과정을 통해 동일한 parameter가 최적의 성능을 보였지만, feature selection(모델 기반)을 통해 제거한 feature가 class를 예측하는 데 상당한 연관성이 있기에 성능이 감소한 것으로 보인다. 그리고 선형 모델과 비선형 모델의 성능 차이가 크지 않은 것으로 보았을 때, 이 data는 선형의 특징을 갖는다. 따라서 선형의 data에 선형 모델인 linear regression이 더 나은 성능을, 그리고 단일 모델인 MLP에 비해 앙상블 기법으로 여러 개의 랜덤화된 모델의 투표로 예측의 안정성을 높인 랜덤 포레스트 모델이 더 나은 성능을 보이는 것으로 판단되어 상대적으로 MLP의 성능이 부각되지 않은 것으로 해석된다. 반면, 반복적 특성 선택에서 MLP는 나머지 두 모델과 다르게 AUC score가 증가하는 모습을 보였다. 모델 기반 특성 선택에서의 최적화 모델은 hidden layer size가 (150,) 였는데, 반복적 특성 선택에서는 최적화 결과 (70,)이 나왔다. Hidden layer size를 절반 이상으로 감소시킴으로써 모델이 더욱 단순해져 성능이 올라간 것으로 해석해볼 수 있다.\n",
        "\n",
        "<br>\n",
        "<br>\n",
        "\n",
        "**3. Random Forest**\n",
        "\n",
        "\n",
        "앙상블 기법으로 voting이 진행되고 알고리즘의 랜덤화를 적용시킨 모델로 가장 성능이 좋을 것이라고 예상한 모델이었다. feature selection 이후 가장 높은 성능 향상을 보였다. 랜덤 포레스트 모델은 feature의 수가 많을 경우 성능이 좋지 않은 한계가 있다. 따라서 feature selection을 하지 않은 실험에서는 세 모델 중 가장 좋지 않은 성능을 보였다. feature selection을 통해 feature의 수를 정리하였더니 성능 향상이 된 것으로 판단할 수 있다. 또한 feature selection 전의 최적화 모델보다 max_depth를 줄이고, min_samples_leaf를 늘림으로써 overfitting이 더욱 방지된 구조를 가지고, 또한 estimator의 개수가 10개에서 100개로 증가하면서 예측의 generalization 성능이 좋아진 것으로 유추해볼 수 있다. 따라서 feature selection 이후에 세 모델 중 AUC score가 가장 높았다. 또한, 반복적 특성 선택에서는 모델 기반 특성 선택에서보다 최적화 모델의 estimator가 100개에서 10개로 크게 감소하였는데, 이 때문에 voting의 신뢰성이 감소되어 성능이 낮아진 것으로 해석할 수 있다. \n",
        "\n",
        "\n"
      ],
      "metadata": {
        "id": "mBM010VIPyAB"
      }
    },
    {
      "cell_type": "code",
      "source": [
        ""
      ],
      "metadata": {
        "id": "IwzPNYsn7eba"
      },
      "execution_count": null,
      "outputs": []
    }
  ]
}